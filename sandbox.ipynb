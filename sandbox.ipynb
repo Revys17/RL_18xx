{
 "cells": [
  {
   "cell_type": "code",
   "execution_count": 13,
   "metadata": {},
   "outputs": [],
   "source": [
    "from rl18xx.game.gamemap import GameMap\n",
    "from rl18xx.game.action_helper import ActionHelper\n",
    "from rl18xx.game.engine.game.base import BaseGame\n"
   ]
  },
  {
   "cell_type": "code",
   "execution_count": 14,
   "metadata": {},
   "outputs": [],
   "source": [
    "game_map = GameMap()\n",
    "game = game_map.game_by_title(\"1830\")\n",
    "g = game({\"1\": \"Player 1\", \"2\": \"Player 2\", \"3\": \"Player 3\", \"4\": \"Player 4\"})\n",
    "action_helper = ActionHelper(g)"
   ]
  },
  {
   "cell_type": "code",
   "execution_count": 5,
   "metadata": {},
   "outputs": [
    {
     "data": {
      "text/plain": [
       "False"
      ]
     },
     "execution_count": 5,
     "metadata": {},
     "output_type": "execute_result"
    }
   ],
   "source": [
    "from rl18xx.game.engine.round import WaterfallAuction\n",
    "isinstance(g.round, WaterfallAuction)"
   ]
  },
  {
   "cell_type": "code",
   "execution_count": 5,
   "metadata": {},
   "outputs": [
    {
     "name": "stdout",
     "output_type": "stream",
     "text": [
      "placement_bid: Schuylkill Valley\n"
     ]
    },
    {
     "data": {
      "text/plain": [
       "<rl18xx.game.engine.game.title.g1830.Game at 0x7f237dc88a10>"
      ]
     },
     "execution_count": 5,
     "metadata": {},
     "output_type": "execute_result"
    }
   ],
   "source": [
    "g.process_action(action_helper.get_all_choices_limited()[0])"
   ]
  },
  {
   "cell_type": "code",
   "execution_count": 6,
   "metadata": {},
   "outputs": [
    {
     "data": {
      "text/plain": [
       "[{'type': 'bid',\n",
       "  'entity': '1',\n",
       "  'entity_type': 'player',\n",
       "  'id': 1,\n",
       "  'created_at': 1745516071,\n",
       "  'company': 'SV',\n",
       "  'price': 20}]"
      ]
     },
     "execution_count": 6,
     "metadata": {},
     "output_type": "execute_result"
    }
   ],
   "source": [
    "g.raw_actions"
   ]
  },
  {
   "cell_type": "code",
   "execution_count": 3,
   "metadata": {},
   "outputs": [],
   "source": [
    "g = BaseGame.load(\n",
    "    {\n",
    "        \"id\": \"hs_inzqxyla_1708318031\",\n",
    "        \"players\": [\n",
    "            {\n",
    "            \"name\": \"Alice\",\n",
    "            \"id\": \"1\"\n",
    "            },\n",
    "            {\n",
    "            \"name\": \"Bob\",\n",
    "            \"id\": \"2\"\n",
    "            },\n",
    "            {\n",
    "            \"name\": \"Charlie\",\n",
    "            \"id\": \"3\"\n",
    "            },\n",
    "            {\n",
    "            \"name\": \"David\",\n",
    "            \"id\": \"4\"\n",
    "            }\n",
    "        ],\n",
    "        \"title\": \"1830\",\n",
    "        \"description\": \"\",\n",
    "        \"min_players\": \"4\",\n",
    "        \"max_players\": \"4\",\n",
    "        \"settings\": {\n",
    "            \"optional_rules\": [],\n",
    "            \"seed\": \"\"\n",
    "        },\n",
    "        \"actions\": [{'type': 'bid', 'entity': '1', 'entity_type': 'player', 'id': 1, 'created_at': 1745524803, 'company': 'CS', 'price': 45}, {'type': 'bid', 'entity': '2', 'entity_type': 'player', 'id': 2, 'created_at': 1745524804, 'company': 'BO', 'price': 225}, {'type': 'bid', 'entity': '3', 'entity_type': 'player', 'id': 3, 'created_at': 1745524805, 'company': 'BO', 'price': 230}, {'type': 'bid', 'entity': '4', 'entity_type': 'player', 'id': 4, 'created_at': 1745524806, 'company': 'CS', 'price': 50}, {'type': 'bid', 'entity': '1', 'entity_type': 'player', 'id': 5, 'created_at': 1745524808, 'company': 'DH', 'price': 75}, {'type': 'pass', 'entity': '2', 'entity_type': 'player', 'id': 6, 'created_at': 1745524809}, {'type': 'bid', 'entity': '3', 'entity_type': 'player', 'id': 7, 'created_at': 1745524810, 'company': 'CA', 'price': 165}, {'type': 'bid', 'entity': '4', 'entity_type': 'player', 'id': 8, 'created_at': 1745524811, 'company': 'CA', 'price': 170}, {'type': 'bid', 'entity': '1', 'entity_type': 'player', 'id': 9, 'created_at': 1745524813, 'company': 'MH', 'price': 115}, {'type': 'pass', 'entity': '2', 'entity_type': 'player', 'id': 10, 'created_at': 1745524814}, {'type': 'bid', 'entity': '3', 'entity_type': 'player', 'id': 11, 'created_at': 1745524815, 'company': 'MH', 'price': 120}, {'type': 'bid', 'entity': '4', 'entity_type': 'player', 'id': 12, 'created_at': 1745524817, 'company': 'BO', 'price': 235}, {'type': 'bid', 'entity': '1', 'entity_type': 'player', 'id': 13, 'created_at': 1745524818, 'company': 'CS', 'price': 55}, {'type': 'pass', 'entity': '2', 'entity_type': 'player', 'id': 14, 'created_at': 1745524819}, {'type': 'bid', 'entity': '3', 'entity_type': 'player', 'id': 15, 'created_at': 1745524820, 'company': 'BO', 'price': 240}, {'type': 'bid', 'entity': '4', 'entity_type': 'player', 'id': 16, 'created_at': 1745524822, 'company': 'MH', 'price': 125}, {'type': 'pass', 'entity': '1', 'entity_type': 'player', 'id': 17, 'created_at': 1745524823}, {'type': 'bid', 'entity': '2', 'entity_type': 'player', 'id': 18, 'created_at': 1745524824, 'company': 'CS', 'price': 60}, {'type': 'bid', 'entity': '3', 'entity_type': 'player', 'id': 19, 'created_at': 1745524825, 'company': 'CS', 'price': 65}, {'type': 'bid', 'entity': '4', 'entity_type': 'player', 'id': 20, 'created_at': 1745524827, 'company': 'MH', 'price': 130}, {'type': 'bid', 'entity': '1', 'entity_type': 'player', 'id': 21, 'created_at': 1745524828, 'company': 'CS', 'price': 70}, {'type': 'bid', 'entity': '2', 'entity_type': 'player', 'id': 22, 'created_at': 1745524829, 'company': 'MH', 'price': 135}, {'type': 'bid', 'entity': '3', 'entity_type': 'player', 'id': 23, 'created_at': 1745524830, 'company': 'BO', 'price': 245}, {'type': 'bid', 'entity': '4', 'entity_type': 'player', 'id': 24, 'created_at': 1745524831, 'company': 'BO', 'price': 250}, {'type': 'bid', 'entity': '1', 'entity_type': 'player', 'id': 25, 'created_at': 1745524832, 'company': 'MH', 'price': 140}, {'type': 'bid', 'entity': '2', 'entity_type': 'player', 'id': 26, 'created_at': 1745524832, 'company': 'MH', 'price': 145}, {'type': 'pass', 'entity': '3', 'entity_type': 'player', 'id': 27, 'created_at': 1745524833}, {'type': 'pass', 'entity': '4', 'entity_type': 'player', 'id': 28, 'created_at': 1745524834}, {'type': 'bid', 'entity': '1', 'entity_type': 'player', 'id': 29, 'created_at': 1745524835, 'company': 'CS', 'price': 75}, {'type': 'bid', 'entity': '2', 'entity_type': 'player', 'id': 30, 'created_at': 1745524835, 'company': 'CS', 'price': 80}, {'type': 'pass', 'entity': '3', 'entity_type': 'player', 'id': 31, 'created_at': 1745524836}, {'type': 'pass', 'entity': '4', 'entity_type': 'player', 'id': 32, 'created_at': 1745524837}, {'type': 'bid', 'entity': '1', 'entity_type': 'player', 'id': 33, 'created_at': 1745524838, 'company': 'CS', 'price': 85}, {'type': 'bid', 'entity': '2', 'entity_type': 'player', 'id': 34, 'created_at': 1745524838, 'company': 'MH', 'price': 150}, {'type': 'pass', 'entity': '3', 'entity_type': 'player', 'id': 35, 'created_at': 1745524839}, {'type': 'pass', 'entity': '4', 'entity_type': 'player', 'id': 36, 'created_at': 1745524840}, {'type': 'bid', 'entity': '1', 'entity_type': 'player', 'id': 37, 'created_at': 1745524840, 'company': 'DH', 'price': 80}, {'type': 'bid', 'entity': '2', 'entity_type': 'player', 'id': 38, 'created_at': 1745524841, 'company': 'CS', 'price': 90}, {'type': 'pass', 'entity': '3', 'entity_type': 'player', 'id': 39, 'created_at': 1745524842}, {'type': 'pass', 'entity': '4', 'entity_type': 'player', 'id': 40, 'created_at': 1745524843}, {'type': 'bid', 'entity': '1', 'entity_type': 'player', 'id': 41, 'created_at': 1745524843, 'company': 'DH', 'price': 85}, {'type': 'bid', 'entity': '2', 'entity_type': 'player', 'id': 42, 'created_at': 1745524844, 'company': 'CS', 'price': 95}, {'type': 'pass', 'entity': '3', 'entity_type': 'player', 'id': 43, 'created_at': 1745524845}, {'type': 'pass', 'entity': '4', 'entity_type': 'player', 'id': 44, 'created_at': 1745524846}, {'type': 'bid', 'entity': '1', 'entity_type': 'player', 'id': 45, 'created_at': 1745524846, 'company': 'DH', 'price': 90}, {'type': 'bid', 'entity': '2', 'entity_type': 'player', 'id': 46, 'created_at': 1745524847, 'company': 'CS', 'price': 100}, {'type': 'pass', 'entity': '3', 'entity_type': 'player', 'id': 47, 'created_at': 1745524848}, {'type': 'pass', 'entity': '4', 'entity_type': 'player', 'id': 48, 'created_at': 1745524849}, {'type': 'bid', 'entity': '1', 'entity_type': 'player', 'id': 49, 'created_at': 1745524850, 'company': 'CS', 'price': 105}, {'type': 'bid', 'entity': '2', 'entity_type': 'player', 'id': 50, 'created_at': 1745524850, 'company': 'CS', 'price': 110}, {'type': 'pass', 'entity': '3', 'entity_type': 'player', 'id': 51, 'created_at': 1745524851}, {'type': 'pass', 'entity': '4', 'entity_type': 'player', 'id': 52, 'created_at': 1745524852}, {'type': 'bid', 'entity': '1', 'entity_type': 'player', 'id': 53, 'created_at': 1745524853, 'company': 'DH', 'price': 95}, {'type': 'bid', 'entity': '2', 'entity_type': 'player', 'id': 54, 'created_at': 1745524853, 'company': 'CS', 'price': 115}, {'type': 'pass', 'entity': '3', 'entity_type': 'player', 'id': 55, 'created_at': 1745524854}, {'type': 'pass', 'entity': '4', 'entity_type': 'player', 'id': 56, 'created_at': 1745524855}, {'type': 'bid', 'entity': '1', 'entity_type': 'player', 'id': 57, 'created_at': 1745524856, 'company': 'BO', 'price': 255}, {'type': 'bid', 'entity': '2', 'entity_type': 'player', 'id': 58, 'created_at': 1745524856, 'company': 'CS', 'price': 120}, {'type': 'pass', 'entity': '3', 'entity_type': 'player', 'id': 59, 'created_at': 1745524857}, {'type': 'pass', 'entity': '4', 'entity_type': 'player', 'id': 60, 'created_at': 1745524857}, {'type': 'bid', 'entity': '1', 'entity_type': 'player', 'id': 61, 'created_at': 1745524858, 'company': 'DH', 'price': 100}, {'type': 'bid', 'entity': '2', 'entity_type': 'player', 'id': 62, 'created_at': 1745524858, 'company': 'MH', 'price': 155}, {'type': 'pass', 'entity': '3', 'entity_type': 'player', 'id': 63, 'created_at': 1745524858}, {'type': 'pass', 'entity': '4', 'entity_type': 'player', 'id': 64, 'created_at': 1745524858}, {'type': 'pass', 'entity': '1', 'entity_type': 'player', 'id': 65, 'created_at': 1745524859}, {'type': 'bid', 'entity': '2', 'entity_type': 'player', 'id': 66, 'created_at': 1745524859, 'company': 'CS', 'price': 125}, {'type': 'pass', 'entity': '3', 'entity_type': 'player', 'id': 67, 'created_at': 1745524859}, {'type': 'pass', 'entity': '4', 'entity_type': 'player', 'id': 68, 'created_at': 1745524859}, {'type': 'pass', 'entity': '1', 'entity_type': 'player', 'id': 69, 'created_at': 1745524860}, {'type': 'bid', 'entity': '2', 'entity_type': 'player', 'id': 70, 'created_at': 1745524860, 'company': 'CS', 'price': 130}, {'type': 'pass', 'entity': '3', 'entity_type': 'player', 'id': 71, 'created_at': 1745524860}, {'type': 'pass', 'entity': '4', 'entity_type': 'player', 'id': 72, 'created_at': 1745524860}, {'type': 'pass', 'entity': '1', 'entity_type': 'player', 'id': 73, 'created_at': 1745524861}, {'type': 'bid', 'entity': '2', 'entity_type': 'player', 'id': 74, 'created_at': 1745524861, 'company': 'CS', 'price': 135}, {'type': 'pass', 'entity': '3', 'entity_type': 'player', 'id': 75, 'created_at': 1745524861}, {'type': 'pass', 'entity': '4', 'entity_type': 'player', 'id': 76, 'created_at': 1745524861}, {'type': 'pass', 'entity': '1', 'entity_type': 'player', 'id': 77, 'created_at': 1745524862}, {'type': 'bid', 'entity': '2', 'entity_type': 'player', 'id': 78, 'created_at': 1745524862, 'company': 'CS', 'price': 140}, {'type': 'pass', 'entity': '3', 'entity_type': 'player', 'id': 79, 'created_at': 1745524862}, {'type': 'pass', 'entity': '4', 'entity_type': 'player', 'id': 80, 'created_at': 1745524862}, {'type': 'pass', 'entity': '1', 'entity_type': 'player', 'id': 81, 'created_at': 1745524863}, {'type': 'bid', 'entity': '2', 'entity_type': 'player', 'id': 82, 'created_at': 1745524863, 'company': 'CS', 'price': 145}, {'type': 'pass', 'entity': '3', 'entity_type': 'player', 'id': 83, 'created_at': 1745524863}, {'type': 'pass', 'entity': '4', 'entity_type': 'player', 'id': 84, 'created_at': 1745524863}, {'type': 'pass', 'entity': '1', 'entity_type': 'player', 'id': 85, 'created_at': 1745524864}, {'type': 'bid', 'entity': '2', 'entity_type': 'player', 'id': 86, 'created_at': 1745524864, 'company': 'CS', 'price': 150}, {'type': 'pass', 'entity': '3', 'entity_type': 'player', 'id': 87, 'created_at': 1745524864}, {'type': 'pass', 'entity': '4', 'entity_type': 'player', 'id': 88, 'created_at': 1745524864}, {'type': 'pass', 'entity': '1', 'entity_type': 'player', 'id': 89, 'created_at': 1745524864}, {'type': 'bid', 'entity': '2', 'entity_type': 'player', 'id': 90, 'created_at': 1745524865, 'company': 'CS', 'price': 155}, {'type': 'pass', 'entity': '3', 'entity_type': 'player', 'id': 91, 'created_at': 1745524865}, {'type': 'pass', 'entity': '4', 'entity_type': 'player', 'id': 92, 'created_at': 1745524865}, {'type': 'pass', 'entity': '1', 'entity_type': 'player', 'id': 93, 'created_at': 1745524865}, {'type': 'bid', 'entity': '2', 'entity_type': 'player', 'id': 94, 'created_at': 1745524866, 'company': 'CS', 'price': 160}, {'type': 'pass', 'entity': '3', 'entity_type': 'player', 'id': 95, 'created_at': 1745524866}, {'type': 'pass', 'entity': '4', 'entity_type': 'player', 'id': 96, 'created_at': 1745524866}, {'type': 'pass', 'entity': '1', 'entity_type': 'player', 'id': 97, 'created_at': 1745524867}, {'type': 'bid', 'entity': '2', 'entity_type': 'player', 'id': 98, 'created_at': 1745524867, 'company': 'CS', 'price': 165}, {'type': 'pass', 'entity': '3', 'entity_type': 'player', 'id': 99, 'created_at': 1745524867}, {'type': 'pass', 'entity': '4', 'entity_type': 'player', 'id': 100, 'created_at': 1745524867}, {'type': 'pass', 'entity': '1', 'entity_type': 'player', 'id': 101, 'created_at': 1745524868}, {'type': 'bid', 'entity': '2', 'entity_type': 'player', 'id': 102, 'created_at': 1745524868, 'company': 'CS', 'price': 170}, {'type': 'pass', 'entity': '3', 'entity_type': 'player', 'id': 103, 'created_at': 1745524868}, {'type': 'pass', 'entity': '4', 'entity_type': 'player', 'id': 104, 'created_at': 1745524868}, {'type': 'pass', 'entity': '1', 'entity_type': 'player', 'id': 105, 'created_at': 1745524869}, {'type': 'bid', 'entity': '2', 'entity_type': 'player', 'id': 106, 'created_at': 1745524869, 'company': 'CS', 'price': 175}, {'type': 'pass', 'entity': '3', 'entity_type': 'player', 'id': 107, 'created_at': 1745524869}, {'type': 'pass', 'entity': '4', 'entity_type': 'player', 'id': 108, 'created_at': 1745524869}, {'type': 'pass', 'entity': '1', 'entity_type': 'player', 'id': 109, 'created_at': 1745524870}, {'type': 'bid', 'entity': '2', 'entity_type': 'player', 'id': 110, 'created_at': 1745524870, 'company': 'CS', 'price': 180}, {'type': 'pass', 'entity': '3', 'entity_type': 'player', 'id': 111, 'created_at': 1745524870}, {'type': 'pass', 'entity': '4', 'entity_type': 'player', 'id': 112, 'created_at': 1745524870}, {'type': 'pass', 'entity': '1', 'entity_type': 'player', 'id': 113, 'created_at': 1745524871}, {'type': 'bid', 'entity': '2', 'entity_type': 'player', 'id': 114, 'created_at': 1745524871, 'company': 'CS', 'price': 185}, {'type': 'pass', 'entity': '3', 'entity_type': 'player', 'id': 115, 'created_at': 1745524871}, {'type': 'pass', 'entity': '4', 'entity_type': 'player', 'id': 116, 'created_at': 1745524871}, {'type': 'pass', 'entity': '1', 'entity_type': 'player', 'id': 117, 'created_at': 1745524872}, {'type': 'bid', 'entity': '2', 'entity_type': 'player', 'id': 118, 'created_at': 1745524872, 'company': 'CS', 'price': 190}, {'type': 'pass', 'entity': '3', 'entity_type': 'player', 'id': 119, 'created_at': 1745524872}, {'type': 'pass', 'entity': '4', 'entity_type': 'player', 'id': 120, 'created_at': 1745524872}, {'type': 'pass', 'entity': '1', 'entity_type': 'player', 'id': 121, 'created_at': 1745524872}, {'type': 'bid', 'entity': '2', 'entity_type': 'player', 'id': 122, 'created_at': 1745524873, 'company': 'CS', 'price': 195}, {'type': 'pass', 'entity': '3', 'entity_type': 'player', 'id': 123, 'created_at': 1745524873}, {'type': 'pass', 'entity': '4', 'entity_type': 'player', 'id': 124, 'created_at': 1745524873}, {'type': 'pass', 'entity': '1', 'entity_type': 'player', 'id': 125, 'created_at': 1745524873}, {'type': 'pass', 'entity': '2', 'entity_type': 'player', 'id': 126, 'created_at': 1745524874}, {'type': 'pass', 'entity': '3', 'entity_type': 'player', 'id': 127, 'created_at': 1745524874}, {'type': 'pass', 'entity': '4', 'entity_type': 'player', 'id': 128, 'created_at': 1745524874}, {'type': 'pass', 'entity': '1', 'entity_type': 'player', 'id': 129, 'created_at': 1745524874}, {'type': 'bid', 'entity': '2', 'entity_type': 'player', 'id': 130, 'created_at': 1745524875, 'company': 'CS', 'price': 200}, {'type': 'pass', 'entity': '3', 'entity_type': 'player', 'id': 131, 'created_at': 1745524875}, {'type': 'pass', 'entity': '4', 'entity_type': 'player', 'id': 132, 'created_at': 1745524875}, {'type': 'pass', 'entity': '1', 'entity_type': 'player', 'id': 133, 'created_at': 1745524876}, {'type': 'bid', 'entity': '2', 'entity_type': 'player', 'id': 134, 'created_at': 1745524876, 'company': 'CS', 'price': 205}, {'type': 'pass', 'entity': '3', 'entity_type': 'player', 'id': 135, 'created_at': 1745524876}, {'type': 'pass', 'entity': '4', 'entity_type': 'player', 'id': 136, 'created_at': 1745524876}, {'type': 'pass', 'entity': '1', 'entity_type': 'player', 'id': 137, 'created_at': 1745524876}, {'type': 'bid', 'entity': '2', 'entity_type': 'player', 'id': 138, 'created_at': 1745524877, 'company': 'CS', 'price': 210}, {'type': 'pass', 'entity': '3', 'entity_type': 'player', 'id': 139, 'created_at': 1745524877}, {'type': 'pass', 'entity': '4', 'entity_type': 'player', 'id': 140, 'created_at': 1745524877}, {'type': 'pass', 'entity': '1', 'entity_type': 'player', 'id': 141, 'created_at': 1745524878}, {'type': 'bid', 'entity': '2', 'entity_type': 'player', 'id': 142, 'created_at': 1745524878, 'company': 'CS', 'price': 215}, {'type': 'pass', 'entity': '3', 'entity_type': 'player', 'id': 143, 'created_at': 1745524878}, {'type': 'pass', 'entity': '4', 'entity_type': 'player', 'id': 144, 'created_at': 1745524878}, {'type': 'pass', 'entity': '1', 'entity_type': 'player', 'id': 145, 'created_at': 1745524878}, {'type': 'bid', 'entity': '2', 'entity_type': 'player', 'id': 146, 'created_at': 1745524879, 'company': 'CS', 'price': 220}, {'type': 'pass', 'entity': '3', 'entity_type': 'player', 'id': 147, 'created_at': 1745524879}, {'type': 'pass', 'entity': '4', 'entity_type': 'player', 'id': 148, 'created_at': 1745524879}, {'type': 'pass', 'entity': '1', 'entity_type': 'player', 'id': 149, 'created_at': 1745524879}, {'type': 'pass', 'entity': '2', 'entity_type': 'player', 'id': 150, 'created_at': 1745524880}, {'type': 'pass', 'entity': '3', 'entity_type': 'player', 'id': 151, 'created_at': 1745524880}, {'type': 'pass', 'entity': '4', 'entity_type': 'player', 'id': 152, 'created_at': 1745524880}, {'type': 'pass', 'entity': '1', 'entity_type': 'player', 'id': 153, 'created_at': 1745524881}, {'type': 'pass', 'entity': '2', 'entity_type': 'player', 'id': 154, 'created_at': 1745524881}, {'type': 'bid', 'entity': '3', 'entity_type': 'player', 'id': 155, 'created_at': 1745524882, 'company': 'SV', 'price': 5}, {'type': 'pass', 'entity': '4', 'entity_type': 'player', 'id': 156, 'created_at': 1745524882}, {'type': 'pass', 'entity': '3', 'entity_type': 'player', 'id': 157, 'created_at': 1745524883}, {'type': 'pass', 'entity': '1', 'entity_type': 'player', 'id': 158, 'created_at': 1745524884}, {'type': 'bid', 'entity': '3', 'entity_type': 'player', 'id': 159, 'created_at': 1745524885, 'company': 'MH', 'price': 160}, {'type': 'bid', 'entity': '4', 'entity_type': 'player', 'id': 160, 'created_at': 1745524885, 'company': 'MH', 'price': 165}, {'type': 'bid', 'entity': '1', 'entity_type': 'player', 'id': 161, 'created_at': 1745524886, 'company': 'MH', 'price': 170}, {'type': 'pass', 'entity': '2', 'entity_type': 'player', 'id': 162, 'created_at': 1745524887}, {'type': 'bid', 'entity': '3', 'entity_type': 'player', 'id': 163, 'created_at': 1745524887, 'company': 'MH', 'price': 175}, {'type': 'bid', 'entity': '4', 'entity_type': 'player', 'id': 164, 'created_at': 1745524888, 'company': 'BO', 'price': 260}, {'type': 'pass', 'entity': '4', 'entity_type': 'player', 'id': 165, 'created_at': 1745524888}, {'type': 'bid', 'entity': '1', 'entity_type': 'player', 'id': 166, 'created_at': 1745524889, 'company': 'MH', 'price': 180}, {'type': 'bid', 'entity': '3', 'entity_type': 'player', 'id': 167, 'created_at': 1745524889, 'company': 'MH', 'price': 185}, {'type': 'pass', 'entity': '1', 'entity_type': 'player', 'id': 168, 'created_at': 1745524890}, {'type': 'pass', 'entity': '3', 'entity_type': 'player', 'id': 169, 'created_at': 1745524890}, {'type': 'bid', 'entity': '2', 'entity_type': 'player', 'id': 170, 'created_at': 1745524891, 'company': 'BO', 'price': 265}, {'type': 'bid', 'entity': '3', 'entity_type': 'player', 'id': 171, 'created_at': 1745524891, 'company': 'BO', 'price': 270}, {'type': 'bid', 'entity': '1', 'entity_type': 'player', 'id': 172, 'created_at': 1745524891, 'company': 'BO', 'price': 275}, {'type': 'bid', 'entity': '4', 'entity_type': 'player', 'id': 173, 'created_at': 1745524892, 'company': 'BO', 'price': 280}, {'type': 'bid', 'entity': '2', 'entity_type': 'player', 'id': 174, 'created_at': 1745524892, 'company': 'BO', 'price': 285}, {'type': 'bid', 'entity': '3', 'entity_type': 'player', 'id': 175, 'created_at': 1745524893, 'company': 'BO', 'price': 290}, {'type': 'bid', 'entity': '1', 'entity_type': 'player', 'id': 176, 'created_at': 1745524893, 'company': 'BO', 'price': 295}, {'type': 'bid', 'entity': '4', 'entity_type': 'player', 'id': 177, 'created_at': 1745524894, 'company': 'BO', 'price': 300}, {'type': 'bid', 'entity': '2', 'entity_type': 'player', 'id': 178, 'created_at': 1745524894, 'company': 'BO', 'price': 305}, {'type': 'bid', 'entity': '3', 'entity_type': 'player', 'id': 179, 'created_at': 1745524894, 'company': 'BO', 'price': 310}, {'type': 'bid', 'entity': '1', 'entity_type': 'player', 'id': 180, 'created_at': 1745524895, 'company': 'BO', 'price': 315}, {'type': 'bid', 'entity': '4', 'entity_type': 'player', 'id': 181, 'created_at': 1745524895, 'company': 'BO', 'price': 320}, {'type': 'bid', 'entity': '2', 'entity_type': 'player', 'id': 182, 'created_at': 1745524896, 'company': 'BO', 'price': 325}, {'type': 'bid', 'entity': '3', 'entity_type': 'player', 'id': 183, 'created_at': 1745524896, 'company': 'BO', 'price': 330}, {'type': 'bid', 'entity': '1', 'entity_type': 'player', 'id': 184, 'created_at': 1745524896, 'company': 'BO', 'price': 335}, {'type': 'bid', 'entity': '4', 'entity_type': 'player', 'id': 185, 'created_at': 1745524897, 'company': 'BO', 'price': 340}, {'type': 'bid', 'entity': '2', 'entity_type': 'player', 'id': 186, 'created_at': 1745524897, 'company': 'BO', 'price': 345}, {'type': 'bid', 'entity': '3', 'entity_type': 'player', 'id': 187, 'created_at': 1745524898, 'company': 'BO', 'price': 350}, {'type': 'bid', 'entity': '1', 'entity_type': 'player', 'id': 188, 'created_at': 1745524898, 'company': 'BO', 'price': 355}, {'type': 'bid', 'entity': '4', 'entity_type': 'player', 'id': 189, 'created_at': 1745524899, 'company': 'BO', 'price': 360}, {'type': 'bid', 'entity': '2', 'entity_type': 'player', 'id': 190, 'created_at': 1745524899, 'company': 'BO', 'price': 365}, {'type': 'bid', 'entity': '3', 'entity_type': 'player', 'id': 191, 'created_at': 1745524899, 'company': 'BO', 'price': 370}, {'type': 'bid', 'entity': '1', 'entity_type': 'player', 'id': 192, 'created_at': 1745524900, 'company': 'BO', 'price': 375}, {'type': 'bid', 'entity': '4', 'entity_type': 'player', 'id': 193, 'created_at': 1745524900, 'company': 'BO', 'price': 380}, {'type': 'pass', 'entity': '2', 'entity_type': 'player', 'id': 194, 'created_at': 1745524900}, {'type': 'bid', 'entity': '3', 'entity_type': 'player', 'id': 195, 'created_at': 1745524901, 'company': 'BO', 'price': 385}, {'type': 'pass', 'entity': '1', 'entity_type': 'player', 'id': 196, 'created_at': 1745524901}, {'type': 'bid', 'entity': '4', 'entity_type': 'player', 'id': 197, 'created_at': 1745524902, 'company': 'BO', 'price': 390}, {'type': 'bid', 'entity': '3', 'entity_type': 'player', 'id': 198, 'created_at': 1745524903, 'company': 'BO', 'price': 395}, {'type': 'bid', 'entity': '4', 'entity_type': 'player', 'id': 199, 'created_at': 1745524903, 'company': 'BO', 'price': 400}, {'type': 'bid', 'entity': '3', 'entity_type': 'player', 'id': 200, 'created_at': 1745524903, 'company': 'BO', 'price': 405}, {'type': 'bid', 'entity': '4', 'entity_type': 'player', 'id': 201, 'created_at': 1745524903, 'company': 'BO', 'price': 410}, {'type': 'pass', 'entity': '3', 'entity_type': 'player', 'id': 202, 'created_at': 1745524903}, {'type': 'par', 'entity': '4', 'entity_type': 'player', 'id': 203, 'created_at': 1745524903, 'corporation': 'B&O', 'share_price': '76,3,6'}, {'type': 'pass', 'entity': '1', 'entity_type': 'player', 'id': 204, 'created_at': 1745524903}, {'type': 'pass', 'entity': '2', 'entity_type': 'player', 'id': 205, 'created_at': 1745524903}]\n",
    "    })\n"
   ]
  },
  {
   "cell_type": "code",
   "execution_count": 4,
   "metadata": {},
   "outputs": [
    {
     "data": {
      "text/plain": [
       "[Type: Pass, id: 202, entity: Player - Charlie,\n",
       " Type: Par, id: 203, entity: Player - David, corporation: [<Corporation: B&O>], par price: [Share Price - coordinates: (3, 6), price: 76, types: ['par'], corporations: [<Corporation: B&O>]],\n",
       " Type: Pass, id: 204, entity: Player - Alice,\n",
       " Type: Pass, id: 205, entity: Player - Bob]"
      ]
     },
     "execution_count": 4,
     "metadata": {},
     "output_type": "execute_result"
    }
   ],
   "source": [
    "g.actions[-4:]"
   ]
  },
  {
   "cell_type": "code",
   "execution_count": 5,
   "metadata": {},
   "outputs": [
    {
     "data": {
      "text/plain": [
       "<rl18xx.game.engine.round.Stock at 0x7f24ebb99290>"
      ]
     },
     "execution_count": 5,
     "metadata": {},
     "output_type": "execute_result"
    }
   ],
   "source": [
    "g.round"
   ]
  },
  {
   "cell_type": "code",
   "execution_count": 6,
   "metadata": {},
   "outputs": [
    {
     "name": "stdout",
     "output_type": "stream",
     "text": [
      "[{'type': 'bid', 'entity': '1', 'entity_type': 'player', 'id': 1, 'created_at': 1745524803, 'company': 'CS', 'price': 45}, {'type': 'bid', 'entity': '2', 'entity_type': 'player', 'id': 2, 'created_at': 1745524804, 'company': 'BO', 'price': 225}, {'type': 'bid', 'entity': '3', 'entity_type': 'player', 'id': 3, 'created_at': 1745524805, 'company': 'BO', 'price': 230}, {'type': 'bid', 'entity': '4', 'entity_type': 'player', 'id': 4, 'created_at': 1745524806, 'company': 'CS', 'price': 50}, {'type': 'bid', 'entity': '1', 'entity_type': 'player', 'id': 5, 'created_at': 1745524808, 'company': 'DH', 'price': 75}, {'type': 'pass', 'entity': '2', 'entity_type': 'player', 'id': 6, 'created_at': 1745524809}, {'type': 'bid', 'entity': '3', 'entity_type': 'player', 'id': 7, 'created_at': 1745524810, 'company': 'CA', 'price': 165}, {'type': 'bid', 'entity': '4', 'entity_type': 'player', 'id': 8, 'created_at': 1745524811, 'company': 'CA', 'price': 170}, {'type': 'bid', 'entity': '1', 'entity_type': 'player', 'id': 9, 'created_at': 1745524813, 'company': 'MH', 'price': 115}, {'type': 'pass', 'entity': '2', 'entity_type': 'player', 'id': 10, 'created_at': 1745524814}, {'type': 'bid', 'entity': '3', 'entity_type': 'player', 'id': 11, 'created_at': 1745524815, 'company': 'MH', 'price': 120}, {'type': 'bid', 'entity': '4', 'entity_type': 'player', 'id': 12, 'created_at': 1745524817, 'company': 'BO', 'price': 235}, {'type': 'bid', 'entity': '1', 'entity_type': 'player', 'id': 13, 'created_at': 1745524818, 'company': 'CS', 'price': 55}, {'type': 'pass', 'entity': '2', 'entity_type': 'player', 'id': 14, 'created_at': 1745524819}, {'type': 'bid', 'entity': '3', 'entity_type': 'player', 'id': 15, 'created_at': 1745524820, 'company': 'BO', 'price': 240}, {'type': 'bid', 'entity': '4', 'entity_type': 'player', 'id': 16, 'created_at': 1745524822, 'company': 'MH', 'price': 125}, {'type': 'pass', 'entity': '1', 'entity_type': 'player', 'id': 17, 'created_at': 1745524823}, {'type': 'bid', 'entity': '2', 'entity_type': 'player', 'id': 18, 'created_at': 1745524824, 'company': 'CS', 'price': 60}, {'type': 'bid', 'entity': '3', 'entity_type': 'player', 'id': 19, 'created_at': 1745524825, 'company': 'CS', 'price': 65}, {'type': 'bid', 'entity': '4', 'entity_type': 'player', 'id': 20, 'created_at': 1745524827, 'company': 'MH', 'price': 130}, {'type': 'bid', 'entity': '1', 'entity_type': 'player', 'id': 21, 'created_at': 1745524828, 'company': 'CS', 'price': 70}, {'type': 'bid', 'entity': '2', 'entity_type': 'player', 'id': 22, 'created_at': 1745524829, 'company': 'MH', 'price': 135}, {'type': 'bid', 'entity': '3', 'entity_type': 'player', 'id': 23, 'created_at': 1745524830, 'company': 'BO', 'price': 245}, {'type': 'bid', 'entity': '4', 'entity_type': 'player', 'id': 24, 'created_at': 1745524831, 'company': 'BO', 'price': 250}, {'type': 'bid', 'entity': '1', 'entity_type': 'player', 'id': 25, 'created_at': 1745524832, 'company': 'MH', 'price': 140}, {'type': 'bid', 'entity': '2', 'entity_type': 'player', 'id': 26, 'created_at': 1745524832, 'company': 'MH', 'price': 145}, {'type': 'pass', 'entity': '3', 'entity_type': 'player', 'id': 27, 'created_at': 1745524833}, {'type': 'pass', 'entity': '4', 'entity_type': 'player', 'id': 28, 'created_at': 1745524834}, {'type': 'bid', 'entity': '1', 'entity_type': 'player', 'id': 29, 'created_at': 1745524835, 'company': 'CS', 'price': 75}, {'type': 'bid', 'entity': '2', 'entity_type': 'player', 'id': 30, 'created_at': 1745524835, 'company': 'CS', 'price': 80}, {'type': 'pass', 'entity': '3', 'entity_type': 'player', 'id': 31, 'created_at': 1745524836}, {'type': 'pass', 'entity': '4', 'entity_type': 'player', 'id': 32, 'created_at': 1745524837}, {'type': 'bid', 'entity': '1', 'entity_type': 'player', 'id': 33, 'created_at': 1745524838, 'company': 'CS', 'price': 85}, {'type': 'bid', 'entity': '2', 'entity_type': 'player', 'id': 34, 'created_at': 1745524838, 'company': 'MH', 'price': 150}, {'type': 'pass', 'entity': '3', 'entity_type': 'player', 'id': 35, 'created_at': 1745524839}, {'type': 'pass', 'entity': '4', 'entity_type': 'player', 'id': 36, 'created_at': 1745524840}, {'type': 'bid', 'entity': '1', 'entity_type': 'player', 'id': 37, 'created_at': 1745524840, 'company': 'DH', 'price': 80}, {'type': 'bid', 'entity': '2', 'entity_type': 'player', 'id': 38, 'created_at': 1745524841, 'company': 'CS', 'price': 90}, {'type': 'pass', 'entity': '3', 'entity_type': 'player', 'id': 39, 'created_at': 1745524842}, {'type': 'pass', 'entity': '4', 'entity_type': 'player', 'id': 40, 'created_at': 1745524843}, {'type': 'bid', 'entity': '1', 'entity_type': 'player', 'id': 41, 'created_at': 1745524843, 'company': 'DH', 'price': 85}, {'type': 'bid', 'entity': '2', 'entity_type': 'player', 'id': 42, 'created_at': 1745524844, 'company': 'CS', 'price': 95}, {'type': 'pass', 'entity': '3', 'entity_type': 'player', 'id': 43, 'created_at': 1745524845}, {'type': 'pass', 'entity': '4', 'entity_type': 'player', 'id': 44, 'created_at': 1745524846}, {'type': 'bid', 'entity': '1', 'entity_type': 'player', 'id': 45, 'created_at': 1745524846, 'company': 'DH', 'price': 90}, {'type': 'bid', 'entity': '2', 'entity_type': 'player', 'id': 46, 'created_at': 1745524847, 'company': 'CS', 'price': 100}, {'type': 'pass', 'entity': '3', 'entity_type': 'player', 'id': 47, 'created_at': 1745524848}, {'type': 'pass', 'entity': '4', 'entity_type': 'player', 'id': 48, 'created_at': 1745524849}, {'type': 'bid', 'entity': '1', 'entity_type': 'player', 'id': 49, 'created_at': 1745524850, 'company': 'CS', 'price': 105}, {'type': 'bid', 'entity': '2', 'entity_type': 'player', 'id': 50, 'created_at': 1745524850, 'company': 'CS', 'price': 110}, {'type': 'pass', 'entity': '3', 'entity_type': 'player', 'id': 51, 'created_at': 1745524851}, {'type': 'pass', 'entity': '4', 'entity_type': 'player', 'id': 52, 'created_at': 1745524852}, {'type': 'bid', 'entity': '1', 'entity_type': 'player', 'id': 53, 'created_at': 1745524853, 'company': 'DH', 'price': 95}, {'type': 'bid', 'entity': '2', 'entity_type': 'player', 'id': 54, 'created_at': 1745524853, 'company': 'CS', 'price': 115}, {'type': 'pass', 'entity': '3', 'entity_type': 'player', 'id': 55, 'created_at': 1745524854}, {'type': 'pass', 'entity': '4', 'entity_type': 'player', 'id': 56, 'created_at': 1745524855}, {'type': 'bid', 'entity': '1', 'entity_type': 'player', 'id': 57, 'created_at': 1745524856, 'company': 'BO', 'price': 255}, {'type': 'bid', 'entity': '2', 'entity_type': 'player', 'id': 58, 'created_at': 1745524856, 'company': 'CS', 'price': 120}, {'type': 'pass', 'entity': '3', 'entity_type': 'player', 'id': 59, 'created_at': 1745524857}, {'type': 'pass', 'entity': '4', 'entity_type': 'player', 'id': 60, 'created_at': 1745524857}, {'type': 'bid', 'entity': '1', 'entity_type': 'player', 'id': 61, 'created_at': 1745524858, 'company': 'DH', 'price': 100}, {'type': 'bid', 'entity': '2', 'entity_type': 'player', 'id': 62, 'created_at': 1745524858, 'company': 'MH', 'price': 155}, {'type': 'pass', 'entity': '3', 'entity_type': 'player', 'id': 63, 'created_at': 1745524858}, {'type': 'pass', 'entity': '4', 'entity_type': 'player', 'id': 64, 'created_at': 1745524858}, {'type': 'pass', 'entity': '1', 'entity_type': 'player', 'id': 65, 'created_at': 1745524859}, {'type': 'bid', 'entity': '2', 'entity_type': 'player', 'id': 66, 'created_at': 1745524859, 'company': 'CS', 'price': 125}, {'type': 'pass', 'entity': '3', 'entity_type': 'player', 'id': 67, 'created_at': 1745524859}, {'type': 'pass', 'entity': '4', 'entity_type': 'player', 'id': 68, 'created_at': 1745524859}, {'type': 'pass', 'entity': '1', 'entity_type': 'player', 'id': 69, 'created_at': 1745524860}, {'type': 'bid', 'entity': '2', 'entity_type': 'player', 'id': 70, 'created_at': 1745524860, 'company': 'CS', 'price': 130}, {'type': 'pass', 'entity': '3', 'entity_type': 'player', 'id': 71, 'created_at': 1745524860}, {'type': 'pass', 'entity': '4', 'entity_type': 'player', 'id': 72, 'created_at': 1745524860}, {'type': 'pass', 'entity': '1', 'entity_type': 'player', 'id': 73, 'created_at': 1745524861}, {'type': 'bid', 'entity': '2', 'entity_type': 'player', 'id': 74, 'created_at': 1745524861, 'company': 'CS', 'price': 135}, {'type': 'pass', 'entity': '3', 'entity_type': 'player', 'id': 75, 'created_at': 1745524861}, {'type': 'pass', 'entity': '4', 'entity_type': 'player', 'id': 76, 'created_at': 1745524861}, {'type': 'pass', 'entity': '1', 'entity_type': 'player', 'id': 77, 'created_at': 1745524862}, {'type': 'bid', 'entity': '2', 'entity_type': 'player', 'id': 78, 'created_at': 1745524862, 'company': 'CS', 'price': 140}, {'type': 'pass', 'entity': '3', 'entity_type': 'player', 'id': 79, 'created_at': 1745524862}, {'type': 'pass', 'entity': '4', 'entity_type': 'player', 'id': 80, 'created_at': 1745524862}, {'type': 'pass', 'entity': '1', 'entity_type': 'player', 'id': 81, 'created_at': 1745524863}, {'type': 'bid', 'entity': '2', 'entity_type': 'player', 'id': 82, 'created_at': 1745524863, 'company': 'CS', 'price': 145}, {'type': 'pass', 'entity': '3', 'entity_type': 'player', 'id': 83, 'created_at': 1745524863}, {'type': 'pass', 'entity': '4', 'entity_type': 'player', 'id': 84, 'created_at': 1745524863}, {'type': 'pass', 'entity': '1', 'entity_type': 'player', 'id': 85, 'created_at': 1745524864}, {'type': 'bid', 'entity': '2', 'entity_type': 'player', 'id': 86, 'created_at': 1745524864, 'company': 'CS', 'price': 150}, {'type': 'pass', 'entity': '3', 'entity_type': 'player', 'id': 87, 'created_at': 1745524864}, {'type': 'pass', 'entity': '4', 'entity_type': 'player', 'id': 88, 'created_at': 1745524864}, {'type': 'pass', 'entity': '1', 'entity_type': 'player', 'id': 89, 'created_at': 1745524864}, {'type': 'bid', 'entity': '2', 'entity_type': 'player', 'id': 90, 'created_at': 1745524865, 'company': 'CS', 'price': 155}, {'type': 'pass', 'entity': '3', 'entity_type': 'player', 'id': 91, 'created_at': 1745524865}, {'type': 'pass', 'entity': '4', 'entity_type': 'player', 'id': 92, 'created_at': 1745524865}, {'type': 'pass', 'entity': '1', 'entity_type': 'player', 'id': 93, 'created_at': 1745524865}, {'type': 'bid', 'entity': '2', 'entity_type': 'player', 'id': 94, 'created_at': 1745524866, 'company': 'CS', 'price': 160}, {'type': 'pass', 'entity': '3', 'entity_type': 'player', 'id': 95, 'created_at': 1745524866}, {'type': 'pass', 'entity': '4', 'entity_type': 'player', 'id': 96, 'created_at': 1745524866}, {'type': 'pass', 'entity': '1', 'entity_type': 'player', 'id': 97, 'created_at': 1745524867}, {'type': 'bid', 'entity': '2', 'entity_type': 'player', 'id': 98, 'created_at': 1745524867, 'company': 'CS', 'price': 165}, {'type': 'pass', 'entity': '3', 'entity_type': 'player', 'id': 99, 'created_at': 1745524867}, {'type': 'pass', 'entity': '4', 'entity_type': 'player', 'id': 100, 'created_at': 1745524867}, {'type': 'pass', 'entity': '1', 'entity_type': 'player', 'id': 101, 'created_at': 1745524868}, {'type': 'bid', 'entity': '2', 'entity_type': 'player', 'id': 102, 'created_at': 1745524868, 'company': 'CS', 'price': 170}, {'type': 'pass', 'entity': '3', 'entity_type': 'player', 'id': 103, 'created_at': 1745524868}, {'type': 'pass', 'entity': '4', 'entity_type': 'player', 'id': 104, 'created_at': 1745524868}, {'type': 'pass', 'entity': '1', 'entity_type': 'player', 'id': 105, 'created_at': 1745524869}, {'type': 'bid', 'entity': '2', 'entity_type': 'player', 'id': 106, 'created_at': 1745524869, 'company': 'CS', 'price': 175}, {'type': 'pass', 'entity': '3', 'entity_type': 'player', 'id': 107, 'created_at': 1745524869}, {'type': 'pass', 'entity': '4', 'entity_type': 'player', 'id': 108, 'created_at': 1745524869}, {'type': 'pass', 'entity': '1', 'entity_type': 'player', 'id': 109, 'created_at': 1745524870}, {'type': 'bid', 'entity': '2', 'entity_type': 'player', 'id': 110, 'created_at': 1745524870, 'company': 'CS', 'price': 180}, {'type': 'pass', 'entity': '3', 'entity_type': 'player', 'id': 111, 'created_at': 1745524870}, {'type': 'pass', 'entity': '4', 'entity_type': 'player', 'id': 112, 'created_at': 1745524870}, {'type': 'pass', 'entity': '1', 'entity_type': 'player', 'id': 113, 'created_at': 1745524871}, {'type': 'bid', 'entity': '2', 'entity_type': 'player', 'id': 114, 'created_at': 1745524871, 'company': 'CS', 'price': 185}, {'type': 'pass', 'entity': '3', 'entity_type': 'player', 'id': 115, 'created_at': 1745524871}, {'type': 'pass', 'entity': '4', 'entity_type': 'player', 'id': 116, 'created_at': 1745524871}, {'type': 'pass', 'entity': '1', 'entity_type': 'player', 'id': 117, 'created_at': 1745524872}, {'type': 'bid', 'entity': '2', 'entity_type': 'player', 'id': 118, 'created_at': 1745524872, 'company': 'CS', 'price': 190}, {'type': 'pass', 'entity': '3', 'entity_type': 'player', 'id': 119, 'created_at': 1745524872}, {'type': 'pass', 'entity': '4', 'entity_type': 'player', 'id': 120, 'created_at': 1745524872}, {'type': 'pass', 'entity': '1', 'entity_type': 'player', 'id': 121, 'created_at': 1745524872}, {'type': 'bid', 'entity': '2', 'entity_type': 'player', 'id': 122, 'created_at': 1745524873, 'company': 'CS', 'price': 195}, {'type': 'pass', 'entity': '3', 'entity_type': 'player', 'id': 123, 'created_at': 1745524873}, {'type': 'pass', 'entity': '4', 'entity_type': 'player', 'id': 124, 'created_at': 1745524873}, {'type': 'pass', 'entity': '1', 'entity_type': 'player', 'id': 125, 'created_at': 1745524873}, {'type': 'pass', 'entity': '2', 'entity_type': 'player', 'id': 126, 'created_at': 1745524874}, {'type': 'pass', 'entity': '3', 'entity_type': 'player', 'id': 127, 'created_at': 1745524874}, {'type': 'pass', 'entity': '4', 'entity_type': 'player', 'id': 128, 'created_at': 1745524874}, {'type': 'pass', 'entity': '1', 'entity_type': 'player', 'id': 129, 'created_at': 1745524874}, {'type': 'bid', 'entity': '2', 'entity_type': 'player', 'id': 130, 'created_at': 1745524875, 'company': 'CS', 'price': 200}, {'type': 'pass', 'entity': '3', 'entity_type': 'player', 'id': 131, 'created_at': 1745524875}, {'type': 'pass', 'entity': '4', 'entity_type': 'player', 'id': 132, 'created_at': 1745524875}, {'type': 'pass', 'entity': '1', 'entity_type': 'player', 'id': 133, 'created_at': 1745524876}, {'type': 'bid', 'entity': '2', 'entity_type': 'player', 'id': 134, 'created_at': 1745524876, 'company': 'CS', 'price': 205}, {'type': 'pass', 'entity': '3', 'entity_type': 'player', 'id': 135, 'created_at': 1745524876}, {'type': 'pass', 'entity': '4', 'entity_type': 'player', 'id': 136, 'created_at': 1745524876}, {'type': 'pass', 'entity': '1', 'entity_type': 'player', 'id': 137, 'created_at': 1745524876}, {'type': 'bid', 'entity': '2', 'entity_type': 'player', 'id': 138, 'created_at': 1745524877, 'company': 'CS', 'price': 210}, {'type': 'pass', 'entity': '3', 'entity_type': 'player', 'id': 139, 'created_at': 1745524877}, {'type': 'pass', 'entity': '4', 'entity_type': 'player', 'id': 140, 'created_at': 1745524877}, {'type': 'pass', 'entity': '1', 'entity_type': 'player', 'id': 141, 'created_at': 1745524878}, {'type': 'bid', 'entity': '2', 'entity_type': 'player', 'id': 142, 'created_at': 1745524878, 'company': 'CS', 'price': 215}, {'type': 'pass', 'entity': '3', 'entity_type': 'player', 'id': 143, 'created_at': 1745524878}, {'type': 'pass', 'entity': '4', 'entity_type': 'player', 'id': 144, 'created_at': 1745524878}, {'type': 'pass', 'entity': '1', 'entity_type': 'player', 'id': 145, 'created_at': 1745524878}, {'type': 'bid', 'entity': '2', 'entity_type': 'player', 'id': 146, 'created_at': 1745524879, 'company': 'CS', 'price': 220}, {'type': 'pass', 'entity': '3', 'entity_type': 'player', 'id': 147, 'created_at': 1745524879}, {'type': 'pass', 'entity': '4', 'entity_type': 'player', 'id': 148, 'created_at': 1745524879}, {'type': 'pass', 'entity': '1', 'entity_type': 'player', 'id': 149, 'created_at': 1745524879}, {'type': 'pass', 'entity': '2', 'entity_type': 'player', 'id': 150, 'created_at': 1745524880}, {'type': 'pass', 'entity': '3', 'entity_type': 'player', 'id': 151, 'created_at': 1745524880}, {'type': 'pass', 'entity': '4', 'entity_type': 'player', 'id': 152, 'created_at': 1745524880}, {'type': 'pass', 'entity': '1', 'entity_type': 'player', 'id': 153, 'created_at': 1745524881}, {'type': 'pass', 'entity': '2', 'entity_type': 'player', 'id': 154, 'created_at': 1745524881}, {'type': 'bid', 'entity': '3', 'entity_type': 'player', 'id': 155, 'created_at': 1745524882, 'company': 'SV', 'price': 5}, {'type': 'pass', 'entity': '4', 'entity_type': 'player', 'id': 156, 'created_at': 1745524882}, {'type': 'pass', 'entity': '3', 'entity_type': 'player', 'id': 157, 'created_at': 1745524883}, {'type': 'pass', 'entity': '1', 'entity_type': 'player', 'id': 158, 'created_at': 1745524884}, {'type': 'bid', 'entity': '3', 'entity_type': 'player', 'id': 159, 'created_at': 1745524885, 'company': 'MH', 'price': 160}, {'type': 'bid', 'entity': '4', 'entity_type': 'player', 'id': 160, 'created_at': 1745524885, 'company': 'MH', 'price': 165}, {'type': 'bid', 'entity': '1', 'entity_type': 'player', 'id': 161, 'created_at': 1745524886, 'company': 'MH', 'price': 170}, {'type': 'pass', 'entity': '2', 'entity_type': 'player', 'id': 162, 'created_at': 1745524887}, {'type': 'bid', 'entity': '3', 'entity_type': 'player', 'id': 163, 'created_at': 1745524887, 'company': 'MH', 'price': 175}, {'type': 'bid', 'entity': '4', 'entity_type': 'player', 'id': 164, 'created_at': 1745524888, 'company': 'BO', 'price': 260}, {'type': 'pass', 'entity': '4', 'entity_type': 'player', 'id': 165, 'created_at': 1745524888}, {'type': 'bid', 'entity': '1', 'entity_type': 'player', 'id': 166, 'created_at': 1745524889, 'company': 'MH', 'price': 180}, {'type': 'bid', 'entity': '3', 'entity_type': 'player', 'id': 167, 'created_at': 1745524889, 'company': 'MH', 'price': 185}, {'type': 'pass', 'entity': '1', 'entity_type': 'player', 'id': 168, 'created_at': 1745524890}, {'type': 'pass', 'entity': '3', 'entity_type': 'player', 'id': 169, 'created_at': 1745524890}, {'type': 'bid', 'entity': '2', 'entity_type': 'player', 'id': 170, 'created_at': 1745524891, 'company': 'BO', 'price': 265}, {'type': 'bid', 'entity': '3', 'entity_type': 'player', 'id': 171, 'created_at': 1745524891, 'company': 'BO', 'price': 270}, {'type': 'bid', 'entity': '1', 'entity_type': 'player', 'id': 172, 'created_at': 1745524891, 'company': 'BO', 'price': 275}, {'type': 'bid', 'entity': '4', 'entity_type': 'player', 'id': 173, 'created_at': 1745524892, 'company': 'BO', 'price': 280}, {'type': 'bid', 'entity': '2', 'entity_type': 'player', 'id': 174, 'created_at': 1745524892, 'company': 'BO', 'price': 285}, {'type': 'bid', 'entity': '3', 'entity_type': 'player', 'id': 175, 'created_at': 1745524893, 'company': 'BO', 'price': 290}, {'type': 'bid', 'entity': '1', 'entity_type': 'player', 'id': 176, 'created_at': 1745524893, 'company': 'BO', 'price': 295}, {'type': 'bid', 'entity': '4', 'entity_type': 'player', 'id': 177, 'created_at': 1745524894, 'company': 'BO', 'price': 300}, {'type': 'bid', 'entity': '2', 'entity_type': 'player', 'id': 178, 'created_at': 1745524894, 'company': 'BO', 'price': 305}, {'type': 'bid', 'entity': '3', 'entity_type': 'player', 'id': 179, 'created_at': 1745524894, 'company': 'BO', 'price': 310}, {'type': 'bid', 'entity': '1', 'entity_type': 'player', 'id': 180, 'created_at': 1745524895, 'company': 'BO', 'price': 315}, {'type': 'bid', 'entity': '4', 'entity_type': 'player', 'id': 181, 'created_at': 1745524895, 'company': 'BO', 'price': 320}, {'type': 'bid', 'entity': '2', 'entity_type': 'player', 'id': 182, 'created_at': 1745524896, 'company': 'BO', 'price': 325}, {'type': 'bid', 'entity': '3', 'entity_type': 'player', 'id': 183, 'created_at': 1745524896, 'company': 'BO', 'price': 330}, {'type': 'bid', 'entity': '1', 'entity_type': 'player', 'id': 184, 'created_at': 1745524896, 'company': 'BO', 'price': 335}, {'type': 'bid', 'entity': '4', 'entity_type': 'player', 'id': 185, 'created_at': 1745524897, 'company': 'BO', 'price': 340}, {'type': 'bid', 'entity': '2', 'entity_type': 'player', 'id': 186, 'created_at': 1745524897, 'company': 'BO', 'price': 345}, {'type': 'bid', 'entity': '3', 'entity_type': 'player', 'id': 187, 'created_at': 1745524898, 'company': 'BO', 'price': 350}, {'type': 'bid', 'entity': '1', 'entity_type': 'player', 'id': 188, 'created_at': 1745524898, 'company': 'BO', 'price': 355}, {'type': 'bid', 'entity': '4', 'entity_type': 'player', 'id': 189, 'created_at': 1745524899, 'company': 'BO', 'price': 360}, {'type': 'bid', 'entity': '2', 'entity_type': 'player', 'id': 190, 'created_at': 1745524899, 'company': 'BO', 'price': 365}, {'type': 'bid', 'entity': '3', 'entity_type': 'player', 'id': 191, 'created_at': 1745524899, 'company': 'BO', 'price': 370}, {'type': 'bid', 'entity': '1', 'entity_type': 'player', 'id': 192, 'created_at': 1745524900, 'company': 'BO', 'price': 375}, {'type': 'bid', 'entity': '4', 'entity_type': 'player', 'id': 193, 'created_at': 1745524900, 'company': 'BO', 'price': 380}, {'type': 'pass', 'entity': '2', 'entity_type': 'player', 'id': 194, 'created_at': 1745524900}, {'type': 'bid', 'entity': '3', 'entity_type': 'player', 'id': 195, 'created_at': 1745524901, 'company': 'BO', 'price': 385}, {'type': 'pass', 'entity': '1', 'entity_type': 'player', 'id': 196, 'created_at': 1745524901}, {'type': 'bid', 'entity': '4', 'entity_type': 'player', 'id': 197, 'created_at': 1745524902, 'company': 'BO', 'price': 390}, {'type': 'bid', 'entity': '3', 'entity_type': 'player', 'id': 198, 'created_at': 1745524903, 'company': 'BO', 'price': 395}, {'type': 'bid', 'entity': '4', 'entity_type': 'player', 'id': 199, 'created_at': 1745524903, 'company': 'BO', 'price': 400}, {'type': 'bid', 'entity': '3', 'entity_type': 'player', 'id': 200, 'created_at': 1745524903, 'company': 'BO', 'price': 405}, {'type': 'bid', 'entity': '4', 'entity_type': 'player', 'id': 201, 'created_at': 1745524903, 'company': 'BO', 'price': 410}, {'type': 'pass', 'entity': '3', 'entity_type': 'player', 'id': 202, 'created_at': 1745524903}, {'type': 'par', 'entity': '4', 'entity_type': 'player', 'id': 203, 'created_at': 1745524903, 'corporation': 'B&O', 'share_price': '76,3,6'}, {'type': 'pass', 'entity': '1', 'entity_type': 'player', 'id': 204, 'created_at': 1745524903}, {'type': 'pass', 'entity': '2', 'entity_type': 'player', 'id': 205, 'created_at': 1745524903}]\n",
      "['David: 20', 'Alice: 500', 'Bob: 380', 'Charlie: 410']\n",
      "410\n",
      "Type: BuyShares, id: None, entity: Player - Charlie, bundle: [<Share Bundle> - shares: [<Share: B&O 10%>], corporation: <Corporation: B&O>, owner: <Corporation: B&O>, percent: 10, price: 76]\n",
      "Type: BuyShares, id: None, entity: <Company: MH>, bundle: [<Share Bundle> - shares: [<Share: NYC 10%>], corporation: <Corporation: NYC>, owner: <Corporation: NYC>, percent: 10, price: 67]\n",
      "Type: Par, id: None, entity: Player - Charlie, corporation: [<Corporation: B&M>], par price: [Share Price - coordinates: (0, 6), price: 100, types: ['par'], corporations: []]\n",
      "Type: Par, id: None, entity: Player - Charlie, corporation: [<Corporation: B&M>], par price: [Share Price - coordinates: (1, 6), price: 90, types: ['par'], corporations: []]\n",
      "Type: Par, id: None, entity: Player - Charlie, corporation: [<Corporation: B&M>], par price: [Share Price - coordinates: (2, 6), price: 82, types: ['par'], corporations: []]\n",
      "Type: Par, id: None, entity: Player - Charlie, corporation: [<Corporation: B&M>], par price: [Share Price - coordinates: (3, 6), price: 76, types: ['par'], corporations: [<Corporation: B&O>]]\n",
      "Type: Par, id: None, entity: Player - Charlie, corporation: [<Corporation: B&M>], par price: [Share Price - coordinates: (4, 6), price: 71, types: ['par'], corporations: []]\n",
      "Type: Par, id: None, entity: Player - Charlie, corporation: [<Corporation: B&M>], par price: [Share Price - coordinates: (5, 6), price: 67, types: ['par'], corporations: []]\n",
      "Type: Par, id: None, entity: Player - Charlie, corporation: [<Corporation: C&O>], par price: [Share Price - coordinates: (0, 6), price: 100, types: ['par'], corporations: []]\n",
      "Type: Par, id: None, entity: Player - Charlie, corporation: [<Corporation: C&O>], par price: [Share Price - coordinates: (1, 6), price: 90, types: ['par'], corporations: []]\n",
      "Type: Par, id: None, entity: Player - Charlie, corporation: [<Corporation: C&O>], par price: [Share Price - coordinates: (2, 6), price: 82, types: ['par'], corporations: []]\n",
      "Type: Par, id: None, entity: Player - Charlie, corporation: [<Corporation: C&O>], par price: [Share Price - coordinates: (3, 6), price: 76, types: ['par'], corporations: [<Corporation: B&O>]]\n",
      "Type: Par, id: None, entity: Player - Charlie, corporation: [<Corporation: C&O>], par price: [Share Price - coordinates: (4, 6), price: 71, types: ['par'], corporations: []]\n",
      "Type: Par, id: None, entity: Player - Charlie, corporation: [<Corporation: C&O>], par price: [Share Price - coordinates: (5, 6), price: 67, types: ['par'], corporations: []]\n",
      "Type: Par, id: None, entity: Player - Charlie, corporation: [<Corporation: CPR>], par price: [Share Price - coordinates: (0, 6), price: 100, types: ['par'], corporations: []]\n",
      "Type: Par, id: None, entity: Player - Charlie, corporation: [<Corporation: CPR>], par price: [Share Price - coordinates: (1, 6), price: 90, types: ['par'], corporations: []]\n",
      "Type: Par, id: None, entity: Player - Charlie, corporation: [<Corporation: CPR>], par price: [Share Price - coordinates: (2, 6), price: 82, types: ['par'], corporations: []]\n",
      "Type: Par, id: None, entity: Player - Charlie, corporation: [<Corporation: CPR>], par price: [Share Price - coordinates: (3, 6), price: 76, types: ['par'], corporations: [<Corporation: B&O>]]\n",
      "Type: Par, id: None, entity: Player - Charlie, corporation: [<Corporation: CPR>], par price: [Share Price - coordinates: (4, 6), price: 71, types: ['par'], corporations: []]\n",
      "Type: Par, id: None, entity: Player - Charlie, corporation: [<Corporation: CPR>], par price: [Share Price - coordinates: (5, 6), price: 67, types: ['par'], corporations: []]\n",
      "Type: Par, id: None, entity: Player - Charlie, corporation: [<Corporation: ERIE>], par price: [Share Price - coordinates: (0, 6), price: 100, types: ['par'], corporations: []]\n",
      "Type: Par, id: None, entity: Player - Charlie, corporation: [<Corporation: ERIE>], par price: [Share Price - coordinates: (1, 6), price: 90, types: ['par'], corporations: []]\n",
      "Type: Par, id: None, entity: Player - Charlie, corporation: [<Corporation: ERIE>], par price: [Share Price - coordinates: (2, 6), price: 82, types: ['par'], corporations: []]\n",
      "Type: Par, id: None, entity: Player - Charlie, corporation: [<Corporation: ERIE>], par price: [Share Price - coordinates: (3, 6), price: 76, types: ['par'], corporations: [<Corporation: B&O>]]\n",
      "Type: Par, id: None, entity: Player - Charlie, corporation: [<Corporation: ERIE>], par price: [Share Price - coordinates: (4, 6), price: 71, types: ['par'], corporations: []]\n",
      "Type: Par, id: None, entity: Player - Charlie, corporation: [<Corporation: ERIE>], par price: [Share Price - coordinates: (5, 6), price: 67, types: ['par'], corporations: []]\n",
      "Type: Par, id: None, entity: Player - Charlie, corporation: [<Corporation: NYC>], par price: [Share Price - coordinates: (0, 6), price: 100, types: ['par'], corporations: []]\n",
      "Type: Par, id: None, entity: Player - Charlie, corporation: [<Corporation: NYC>], par price: [Share Price - coordinates: (1, 6), price: 90, types: ['par'], corporations: []]\n",
      "Type: Par, id: None, entity: Player - Charlie, corporation: [<Corporation: NYC>], par price: [Share Price - coordinates: (2, 6), price: 82, types: ['par'], corporations: []]\n",
      "Type: Par, id: None, entity: Player - Charlie, corporation: [<Corporation: NYC>], par price: [Share Price - coordinates: (3, 6), price: 76, types: ['par'], corporations: [<Corporation: B&O>]]\n",
      "Type: Par, id: None, entity: Player - Charlie, corporation: [<Corporation: NYC>], par price: [Share Price - coordinates: (4, 6), price: 71, types: ['par'], corporations: []]\n",
      "Type: Par, id: None, entity: Player - Charlie, corporation: [<Corporation: NYC>], par price: [Share Price - coordinates: (5, 6), price: 67, types: ['par'], corporations: []]\n",
      "Type: Par, id: None, entity: Player - Charlie, corporation: [<Corporation: NYNH>], par price: [Share Price - coordinates: (0, 6), price: 100, types: ['par'], corporations: []]\n",
      "Type: Par, id: None, entity: Player - Charlie, corporation: [<Corporation: NYNH>], par price: [Share Price - coordinates: (1, 6), price: 90, types: ['par'], corporations: []]\n",
      "Type: Par, id: None, entity: Player - Charlie, corporation: [<Corporation: NYNH>], par price: [Share Price - coordinates: (2, 6), price: 82, types: ['par'], corporations: []]\n",
      "Type: Par, id: None, entity: Player - Charlie, corporation: [<Corporation: NYNH>], par price: [Share Price - coordinates: (3, 6), price: 76, types: ['par'], corporations: [<Corporation: B&O>]]\n",
      "Type: Par, id: None, entity: Player - Charlie, corporation: [<Corporation: NYNH>], par price: [Share Price - coordinates: (4, 6), price: 71, types: ['par'], corporations: []]\n",
      "Type: Par, id: None, entity: Player - Charlie, corporation: [<Corporation: NYNH>], par price: [Share Price - coordinates: (5, 6), price: 67, types: ['par'], corporations: []]\n",
      "Type: Par, id: None, entity: Player - Charlie, corporation: [<Corporation: PRR>], par price: [Share Price - coordinates: (0, 6), price: 100, types: ['par'], corporations: []]\n",
      "Type: Par, id: None, entity: Player - Charlie, corporation: [<Corporation: PRR>], par price: [Share Price - coordinates: (1, 6), price: 90, types: ['par'], corporations: []]\n",
      "Type: Par, id: None, entity: Player - Charlie, corporation: [<Corporation: PRR>], par price: [Share Price - coordinates: (2, 6), price: 82, types: ['par'], corporations: []]\n",
      "Type: Par, id: None, entity: Player - Charlie, corporation: [<Corporation: PRR>], par price: [Share Price - coordinates: (3, 6), price: 76, types: ['par'], corporations: [<Corporation: B&O>]]\n",
      "Type: Par, id: None, entity: Player - Charlie, corporation: [<Corporation: PRR>], par price: [Share Price - coordinates: (4, 6), price: 71, types: ['par'], corporations: []]\n",
      "Type: Par, id: None, entity: Player - Charlie, corporation: [<Corporation: PRR>], par price: [Share Price - coordinates: (5, 6), price: 67, types: ['par'], corporations: []]\n",
      "Type: Pass, id: None, entity: Player - Charlie\n"
     ]
    }
   ],
   "source": [
    "action_helper = ActionHelper(g)\n",
    "print(g.raw_actions)\n",
    "print([f\"{player.name}: {player.cash}\" for player in g.players])\n",
    "print(g.buying_power(g.current_entity))\n",
    "for choice in action_helper.get_all_choices_limited():\n",
    "    print(choice)"
   ]
  },
  {
   "cell_type": "code",
   "execution_count": 6,
   "metadata": {},
   "outputs": [
    {
     "data": {
      "text/plain": [
       "<rl18xx.game.engine.game.title.g1830.Game at 0x7f4798122650>"
      ]
     },
     "execution_count": 6,
     "metadata": {},
     "output_type": "execute_result"
    }
   ],
   "source": [
    "g.process_action(action_helper.get_all_choices_limited()[-1])"
   ]
  },
  {
   "cell_type": "code",
   "execution_count": 13,
   "metadata": {},
   "outputs": [
    {
     "data": {
      "text/plain": [
       "<rl18xx.game.engine.round.Operating at 0x7f64dbd785d0>"
      ]
     },
     "execution_count": 13,
     "metadata": {},
     "output_type": "execute_result"
    }
   ],
   "source": [
    "g.round"
   ]
  },
  {
   "cell_type": "code",
   "execution_count": 3,
   "metadata": {},
   "outputs": [
    {
     "name": "stdout",
     "output_type": "stream",
     "text": [
      "{'1': 'Alice', '2': 'Bob', '3': 'Charlie', '4': 'David'}\n"
     ]
    }
   ],
   "source": [
    "g2 = g.clone(g.raw_actions)"
   ]
  },
  {
   "cell_type": "code",
   "execution_count": 6,
   "metadata": {},
   "outputs": [
    {
     "data": {
      "text/plain": [
       "<rl18xx.game.engine.game.title.g1830.Game at 0x7f64f450d490>"
      ]
     },
     "execution_count": 6,
     "metadata": {},
     "output_type": "execute_result"
    }
   ],
   "source": [
    "g2.process_action(action_helper.get_all_choices_limited()[0])"
   ]
  },
  {
   "cell_type": "code",
   "execution_count": 8,
   "metadata": {},
   "outputs": [
    {
     "data": {
      "text/plain": [
       "[<Train: 2-0, owner: The Depot>]"
      ]
     },
     "execution_count": 8,
     "metadata": {},
     "output_type": "execute_result"
    }
   ],
   "source": [
    "g.depot.depot_trains()"
   ]
  },
  {
   "cell_type": "code",
   "execution_count": 9,
   "metadata": {},
   "outputs": [
    {
     "data": {
      "text/plain": [
       "[]"
      ]
     },
     "execution_count": 9,
     "metadata": {},
     "output_type": "execute_result"
    }
   ],
   "source": [
    "sorted(\n",
    "    hex_coord for hex_type in g.HEXES.values() for hex_coords in hex_type.keys() for hex_coord in hex_coords\n",
    ")"
   ]
  },
  {
   "cell_type": "code",
   "execution_count": 16,
   "metadata": {},
   "outputs": [
    {
     "data": {
      "text/plain": [
       "{'red': {('F2',): 'offboard=revenue:yellow_40|brown_70;path=a:3,b:_0;path=a:4,b:_0;path=a:5,b:_0',\n",
       "  ('I1',): 'offboard=revenue:yellow_30|brown_60,hide:1,groups:Gulf;path=a:4,b:_0;border=edge:5',\n",
       "  ('J2',): 'offboard=revenue:yellow_30|brown_60;path=a:3,b:_0;path=a:4,b:_0;border=edge:2',\n",
       "  ('A9',): 'offboard=revenue:yellow_30|brown_50,hide:1,groups:Canada;path=a:5,b:_0;border=edge:4',\n",
       "  ('A11',): 'offboard=revenue:yellow_30|brown_50,groups:Canada;path=a:5,b:_0;path=a:0,b:_0;border=edge:1',\n",
       "  ('K13',): 'offboard=revenue:yellow_30|brown_40;path=a:2,b:_0;path=a:3,b:_0',\n",
       "  ('B24',): 'offboard=revenue:yellow_20|brown_30;path=a:1,b:_0;path=a:0,b:_0'},\n",
       " 'gray': {('D2',): 'city=revenue:20;path=a:5,b:_0;path=a:4,b:_0',\n",
       "  ('F6',): 'city=revenue:30;path=a:5,b:_0;path=a:0,b:_0',\n",
       "  ('E9',): 'path=a:2,b:3',\n",
       "  ('H12',): 'city=revenue:10,loc:2.5;path=a:1,b:_0;path=a:4,b:_0;path=a:1,b:4',\n",
       "  ('D14',): 'city=revenue:20;path=a:1,b:_0;path=a:4,b:_0;path=a:0,b:_0',\n",
       "  ('C15',): 'town=revenue:10;path=a:1,b:_0;path=a:3,b:_0',\n",
       "  ('K15',): 'city=revenue:20;path=a:2,b:_0',\n",
       "  ('A17',): 'path=a:0,b:5',\n",
       "  ('A19',): 'city=revenue:40;path=a:5,b:_0;path=a:0,b:_0',\n",
       "  ('I19', 'F24'): 'town=revenue:10;path=a:1,b:_0;path=a:2,b:_0',\n",
       "  ('D24',): 'path=a:1,b:0'},\n",
       " 'white': {('F4',\n",
       "   'J14',\n",
       "   'F22'): 'city=revenue:0;upgrade=cost:80,terrain:water',\n",
       "  ('E7',): 'town=revenue:0;border=edge:5,type:impassable',\n",
       "  ('F8',): 'border=edge:2,type:impassable',\n",
       "  ('C11',): 'border=edge:5,type:impassable',\n",
       "  ('C13',): 'border=edge:0,type:impassable',\n",
       "  ('D12',): 'border=edge:2,type:impassable;border=edge:3,type:impassable',\n",
       "  ('B16',): 'city=revenue:0;border=edge:5,type:impassable',\n",
       "  ('C17',): 'upgrade=cost:120,terrain:mountain;border=edge:2,type:impassable',\n",
       "  ('B20', 'D4', 'F10'): 'town',\n",
       "  ('I13',\n",
       "   'D18',\n",
       "   'B12',\n",
       "   'B14',\n",
       "   'B22',\n",
       "   'C7',\n",
       "   'C9',\n",
       "   'C23',\n",
       "   'D8',\n",
       "   'D16',\n",
       "   'D20',\n",
       "   'E3',\n",
       "   'E13',\n",
       "   'E15',\n",
       "   'F12',\n",
       "   'F14',\n",
       "   'F18',\n",
       "   'G3',\n",
       "   'G5',\n",
       "   'G9',\n",
       "   'G11',\n",
       "   'H2',\n",
       "   'H6',\n",
       "   'H8',\n",
       "   'H14',\n",
       "   'I3',\n",
       "   'I5',\n",
       "   'I7',\n",
       "   'I9',\n",
       "   'J4',\n",
       "   'J6',\n",
       "   'J8'): 'blank',\n",
       "  ('G15',\n",
       "   'C21',\n",
       "   'D22',\n",
       "   'E17',\n",
       "   'E21',\n",
       "   'G13',\n",
       "   'I11',\n",
       "   'J10',\n",
       "   'J12'): 'upgrade=cost:120,terrain:mountain',\n",
       "  ('E19', 'H4', 'B10', 'H10', 'H16'): 'city',\n",
       "  ('F16',): 'city=revenue:0;upgrade=cost:120,terrain:mountain',\n",
       "  ('G7', 'G17', 'F20'): 'town=revenue:0;town=revenue:0',\n",
       "  ('D6', 'I17', 'B18', 'C19'): 'upgrade=cost:80,terrain:water'},\n",
       " 'yellow': {('E5',\n",
       "   'D10'): 'city=revenue:0;city=revenue:0;label=OO;upgrade=cost:80,terrain:water',\n",
       "  ('E11', 'H18'): 'city=revenue:0;city=revenue:0;label=OO',\n",
       "  ('I15',): 'city=revenue:30;path=a:4,b:_0;path=a:0,b:_0;label=B',\n",
       "  ('G19',): 'city=revenue:40;city=revenue:40;path=a:3,b:_0;path=a:0,b:_1;label=NY;upgrade=cost:80,terrain:water',\n",
       "  ('E23',): 'city=revenue:30;path=a:3,b:_0;path=a:5,b:_0;label=B'}}"
      ]
     },
     "execution_count": 16,
     "metadata": {},
     "output_type": "execute_result"
    }
   ],
   "source": [
    "g.map.HEXES"
   ]
  },
  {
   "cell_type": "code",
   "execution_count": null,
   "metadata": {},
   "outputs": [],
   "source": []
  }
 ],
 "metadata": {
  "kernelspec": {
   "display_name": ".venv",
   "language": "python",
   "name": "python3"
  },
  "language_info": {
   "codemirror_mode": {
    "name": "ipython",
    "version": 3
   },
   "file_extension": ".py",
   "mimetype": "text/x-python",
   "name": "python",
   "nbconvert_exporter": "python",
   "pygments_lexer": "ipython3",
   "version": "3.11.12"
  }
 },
 "nbformat": 4,
 "nbformat_minor": 2
}
