{
 "cells": [
  {
   "cell_type": "code",
   "execution_count": 1,
   "metadata": {},
   "outputs": [],
   "source": [
    "from rl18xx.game.gamemap import GameMap\n",
    "from rl18xx.game.action_helper import ActionHelper\n",
    "from rl18xx.game.engine.game.base import BaseGame\n"
   ]
  },
  {
   "cell_type": "code",
   "execution_count": 2,
   "metadata": {},
   "outputs": [],
   "source": [
    "#game_map = GameMap()\n",
    "#game = game_map.game_by_title(\"1830\")\n",
    "#g = game({\"1\": \"Player 1\", \"2\": \"Player 2\", \"3\": \"Player 3\", \"4\": \"Player 4\"})\n",
    "#action_helper = ActionHelper(g)"
   ]
  },
  {
   "cell_type": "code",
   "execution_count": 3,
   "metadata": {},
   "outputs": [],
   "source": [
    "debug_game_actions = [{'type': 'pass', 'entity': '1', 'entity_type': 'player', 'id': 1, 'created_at': 1746650245}, {'type': 'bid', 'entity': '2', 'entity_type': 'player', 'id': 2, 'created_at': 1746650245, 'company': 'CS', 'price': 45}, {'type': 'bid', 'entity': '3', 'entity_type': 'player', 'id': 3, 'created_at': 1746650245, 'company': 'CS', 'price': 50}, {'type': 'bid', 'entity': '4', 'entity_type': 'player', 'id': 4, 'created_at': 1746650245, 'company': 'BO', 'price': 225}, {'type': 'bid', 'entity': '1', 'entity_type': 'player', 'id': 5, 'created_at': 1746650245, 'company': 'SV', 'price': 20}, {'type': 'pass', 'entity': '2', 'entity_type': 'player', 'id': 6, 'created_at': 1746650245}, {'type': 'bid', 'entity': '2', 'entity_type': 'player', 'id': 7, 'created_at': 1746650245, 'company': 'DH', 'price': 70}, {'type': 'bid', 'entity': '3', 'entity_type': 'player', 'id': 8, 'created_at': 1746650245, 'company': 'MH', 'price': 110}, {'type': 'bid', 'entity': '4', 'entity_type': 'player', 'id': 9, 'created_at': 1746650245, 'company': 'CA', 'price': 160}, {'type': 'par', 'entity': '4', 'entity_type': 'player', 'id': 10, 'created_at': 1746650245, 'corporation': 'B&O', 'share_price': '100,0,6'}, {'type': 'par', 'entity': '1', 'entity_type': 'player', 'id': 11, 'created_at': 1746650245, 'corporation': 'PRR', 'share_price': '67,5,6'}, {'type': 'pass', 'entity': '2', 'entity_type': 'player', 'id': 12, 'created_at': 1746650245}, {'type': 'par', 'entity': '3', 'entity_type': 'player', 'id': 13, 'created_at': 1746650245, 'corporation': 'NYC', 'share_price': '67,5,6'}, {'type': 'buy_shares', 'entity': '4', 'entity_type': 'player', 'id': 14, 'created_at': 1746650245, 'shares': ['PRR_2'], 'percent': 10, 'share_price': 67}, {'type': 'buy_shares', 'entity': '1', 'entity_type': 'player', 'id': 15, 'created_at': 1746650245, 'shares': ['PRR_3'], 'percent': 10, 'share_price': 67}, {'type': 'par', 'entity': '2', 'entity_type': 'player', 'id': 16, 'created_at': 1746650245, 'corporation': 'C&O', 'share_price': '67,5,6'}, {'type': 'buy_shares', 'entity': '3', 'entity_type': 'player', 'id': 17, 'created_at': 1746650245, 'shares': ['NYC_1'], 'percent': 10, 'share_price': 67}, {'type': 'buy_shares', 'entity': '4', 'entity_type': 'player', 'id': 18, 'created_at': 1746650245, 'shares': ['PRR_4'], 'percent': 10, 'share_price': 67}, {'type': 'buy_shares', 'entity': '1', 'entity_type': 'player', 'id': 19, 'created_at': 1746650245, 'shares': ['PRR_5'], 'percent': 10, 'share_price': 67}, {'type': 'buy_shares', 'entity': '2', 'entity_type': 'player', 'id': 20, 'created_at': 1746650245, 'shares': ['C&O_1'], 'percent': 10, 'share_price': 67}, {'type': 'buy_shares', 'entity': '3', 'entity_type': 'player', 'id': 21, 'created_at': 1746650245, 'shares': ['NYC_2'], 'percent': 10, 'share_price': 67}, {'type': 'buy_shares', 'entity': '4', 'entity_type': 'player', 'id': 22, 'created_at': 1746650245, 'shares': ['PRR_6'], 'percent': 10, 'share_price': 67}, {'type': 'buy_shares', 'entity': '1', 'entity_type': 'player', 'id': 23, 'created_at': 1746650245, 'shares': ['PRR_7'], 'percent': 10, 'share_price': 67}, {'type': 'buy_shares', 'entity': '2', 'entity_type': 'player', 'id': 24, 'created_at': 1746650245, 'shares': ['C&O_2'], 'percent': 10, 'share_price': 67}, {'type': 'buy_shares', 'entity': '3', 'entity_type': 'player', 'id': 25, 'created_at': 1746650245, 'shares': ['NYC_3'], 'percent': 10, 'share_price': 67}, {'type': 'buy_shares', 'entity': '1', 'entity_type': 'player', 'id': 26, 'created_at': 1746650245, 'shares': ['PRR_8'], 'percent': 10, 'share_price': 67}, {'type': 'buy_shares', 'entity': '2', 'entity_type': 'player', 'id': 27, 'created_at': 1746650245, 'shares': ['C&O_3'], 'percent': 10, 'share_price': 67}, {'type': 'buy_shares', 'entity': '3', 'entity_type': 'player', 'id': 28, 'created_at': 1746650245, 'shares': ['NYC_4'], 'percent': 10, 'share_price': 67}, {'type': 'buy_shares', 'entity': '1', 'entity_type': 'player', 'id': 29, 'created_at': 1746650245, 'shares': ['NYC_5'], 'percent': 10, 'share_price': 67}, {'type': 'buy_shares', 'entity': '2', 'entity_type': 'player', 'id': 30, 'created_at': 1746650245, 'shares': ['C&O_4'], 'percent': 10, 'share_price': 67}, {'type': 'buy_shares', 'entity': '1', 'entity_type': 'player', 'id': 31, 'created_at': 1746650245, 'shares': ['NYC_6'], 'percent': 10, 'share_price': 67}, {'type': 'buy_shares', 'entity': '2', 'entity_type': 'player', 'id': 32, 'created_at': 1746650245, 'shares': ['NYC_7'], 'percent': 10, 'share_price': 67}, {'type': 'lay_tile', 'entity': 'PRR', 'entity_type': 'corporation', 'id': 33, 'created_at': 1746650245, 'hex': 'H10', 'tile': '57-0', 'rotation': 1}, {'type': 'pass', 'entity': 'PRR', 'entity_type': 'corporation', 'id': 34, 'created_at': 1746650245}, {'type': 'buy_train', 'entity': 'PRR', 'entity_type': 'corporation', 'id': 35, 'created_at': 1746650245, 'train': '2-0', 'price': 80, 'slots': []}, {'type': 'buy_train', 'entity': 'PRR', 'entity_type': 'corporation', 'id': 36, 'created_at': 1746650245, 'train': '2-1', 'price': 80, 'slots': []}, {'type': 'pass', 'entity': 'PRR', 'entity_type': 'corporation', 'id': 37, 'created_at': 1746650245}, {'type': 'lay_tile', 'entity': 'NYC', 'entity_type': 'corporation', 'id': 38, 'created_at': 1746650245, 'hex': 'E19', 'tile': '57-1', 'rotation': 0}, {'type': 'buy_train', 'entity': 'NYC', 'entity_type': 'corporation', 'id': 39, 'created_at': 1746650245, 'train': '2-2', 'price': 80, 'slots': []}, {'type': 'pass', 'entity': 'NYC', 'entity_type': 'corporation', 'id': 40, 'created_at': 1746650245}, {'type': 'lay_tile', 'entity': 'C&O', 'entity_type': 'corporation', 'id': 41, 'created_at': 1746650245, 'hex': 'G5', 'tile': '8-0', 'rotation': 1}, {'type': 'buy_train', 'entity': 'C&O', 'entity_type': 'corporation', 'id': 42, 'created_at': 1746650245, 'train': '2-3', 'price': 80, 'slots': []}, {'type': 'pass', 'entity': 'C&O', 'entity_type': 'corporation', 'id': 43, 'created_at': 1746650245}, {'type': 'sell_shares', 'entity': '3', 'entity_type': 'player', 'id': 44, 'created_at': 1746650245, 'shares': ['NYC_1', 'NYC_2', 'NYC_3', 'NYC_4', 'NYC_0'], 'percent': 50}, {'type': 'par', 'entity': '3', 'entity_type': 'player', 'id': 45, 'created_at': 1746650245, 'corporation': 'NYNH', 'share_price': '71,4,6'}, {'type': 'buy_shares', 'entity': '4', 'entity_type': 'player', 'id': 46, 'created_at': 1746650245, 'shares': ['C&O_5'], 'percent': 10, 'share_price': 67}, {'type': 'pass', 'entity': '4', 'entity_type': 'player', 'id': 47, 'created_at': 1746650245}, {'type': 'buy_shares', 'entity': '1', 'entity_type': 'player', 'id': 48, 'created_at': 1746650245, 'shares': ['NYC_2'], 'percent': 10, 'share_price': 30}, {'type': 'pass', 'entity': '1', 'entity_type': 'player', 'id': 49, 'created_at': 1746650245}, {'type': 'buy_shares', 'entity': '2', 'entity_type': 'player', 'id': 50, 'created_at': 1746650245, 'shares': ['NYNH_1'], 'percent': 10, 'share_price': 71}, {'type': 'pass', 'entity': '2', 'entity_type': 'player', 'id': 51, 'created_at': 1746650245}, {'type': 'buy_shares', 'entity': '3', 'entity_type': 'player', 'id': 52, 'created_at': 1746650245, 'shares': ['NYNH_2'], 'percent': 10, 'share_price': 71}, {'type': 'pass', 'entity': '3', 'entity_type': 'player', 'id': 53, 'created_at': 1746650245}, {'type': 'pass', 'entity': '4', 'entity_type': 'player', 'id': 54, 'created_at': 1746650245}, {'type': 'pass', 'entity': '1', 'entity_type': 'player', 'id': 55, 'created_at': 1746650245}, {'type': 'pass', 'entity': '2', 'entity_type': 'player', 'id': 56, 'created_at': 1746650245}, {'type': 'buy_shares', 'entity': '3', 'entity_type': 'player', 'id': 57, 'created_at': 1746650245, 'shares': ['NYNH_3'], 'percent': 10, 'share_price': 71}, {'type': 'pass', 'entity': '3', 'entity_type': 'player', 'id': 58, 'created_at': 1746650245}, {'type': 'pass', 'entity': '4', 'entity_type': 'player', 'id': 59, 'created_at': 1746650245}, {'type': 'pass', 'entity': '1', 'entity_type': 'player', 'id': 60, 'created_at': 1746650245}, {'type': 'pass', 'entity': '2', 'entity_type': 'player', 'id': 61, 'created_at': 1746650245}, {'type': 'buy_shares', 'entity': '3', 'entity_type': 'player', 'id': 62, 'created_at': 1746650245, 'shares': ['NYNH_4'], 'percent': 10, 'share_price': 71}, {'type': 'pass', 'entity': '3', 'entity_type': 'player', 'id': 63, 'created_at': 1746650245}, {'type': 'pass', 'entity': '4', 'entity_type': 'player', 'id': 64, 'created_at': 1746650245}, {'type': 'pass', 'entity': '1', 'entity_type': 'player', 'id': 65, 'created_at': 1746650245}, {'type': 'pass', 'entity': '2', 'entity_type': 'player', 'id': 66, 'created_at': 1746650245}, {'type': 'pass', 'entity': '3', 'entity_type': 'player', 'id': 67, 'created_at': 1746650245}, {'type': 'lay_tile', 'entity': 'NYNH', 'entity_type': 'corporation', 'id': 68, 'created_at': 1746650245, 'hex': 'F20', 'tile': '1-0', 'rotation': 0}, {'type': 'buy_train', 'entity': 'NYNH', 'entity_type': 'corporation', 'id': 69, 'created_at': 1746650245, 'train': '2-4', 'price': 80, 'slots': []}, {'type': 'pass', 'entity': 'NYNH', 'entity_type': 'corporation', 'id': 70, 'created_at': 1746650245}, {'type': 'lay_tile', 'entity': 'PRR', 'entity_type': 'corporation', 'id': 71, 'created_at': 1746650245, 'hex': 'H8', 'tile': '9-0', 'rotation': 1}, {'type': 'pass', 'entity': 'PRR', 'entity_type': 'corporation', 'id': 72, 'created_at': 1746650245}, {'type': 'run_routes', 'entity': 'PRR', 'entity_type': 'corporation', 'id': 73, 'created_at': 1746650245, 'routes': [{'train': '2-0', 'connections': [['H12', 'H10']], 'hexes': ['H12', 'H10'], 'revenue': 30, 'revenue_str': 'H12-H10', 'subsidy': None, 'halts': None, 'abilities': [], 'nodes': ['H12-0', 'H10-0']}], 'extra_revenue': 0}, {'type': 'dividend', 'entity': 'PRR', 'entity_type': 'corporation', 'id': 74, 'created_at': 1746650245, 'kind': 'withhold'}, {'type': 'buy_train', 'entity': 'PRR', 'entity_type': 'corporation', 'id': 75, 'created_at': 1746650246, 'train': '2-2', 'price': 500, 'slots': []}]"
   ]
  },
  {
   "cell_type": "code",
   "execution_count": 4,
   "metadata": {},
   "outputs": [],
   "source": [
    "try:\n",
    "    g = BaseGame.load(\n",
    "        {\n",
    "            \"id\": \"hs_inzqxyla_1708318031\",\n",
    "            \"players\": [\n",
    "                {\n",
    "                \"name\": \"Alice\",\n",
    "                \"id\": \"1\"\n",
    "                },\n",
    "                {\n",
    "                \"name\": \"Bob\",\n",
    "                \"id\": \"2\"\n",
    "                },\n",
    "                {\n",
    "                \"name\": \"Charlie\",\n",
    "                \"id\": \"3\"\n",
    "                },\n",
    "                {\n",
    "                \"name\": \"David\",\n",
    "                \"id\": \"4\"\n",
    "                }\n",
    "            ],\n",
    "            \"title\": \"1830\",\n",
    "            \"description\": \"\",\n",
    "            \"min_players\": \"4\",\n",
    "            \"max_players\": \"4\",\n",
    "            \"settings\": {\n",
    "                \"optional_rules\": [],\n",
    "                \"seed\": \"\"\n",
    "            },\n",
    "            \"actions\": debug_game_actions\n",
    "        })\n",
    "except Exception as e:\n",
    "    import traceback\n",
    "    print(e)\n",
    "    print(traceback.format_exc())"
   ]
  },
  {
   "cell_type": "code",
   "execution_count": 16,
   "metadata": {},
   "outputs": [
    {
     "name": "stdout",
     "output_type": "stream",
     "text": [
      "<Entry message='-- Phase 2 (Operating Rounds: 1 | Train Limit: 4 | Available Tiles: Yellow)', action_id=0>\n",
      "<Entry message='adding share <Share: PRR 10%> for id PRR_1 to ability <rl18xx.game.engine.abilities.Shares object at 0x7f028c0ea490>', action_id=0>\n",
      "<Entry message='setting <rl18xx.game.engine.abilities.Shares object at 0x7f028c0ea490>'s shares to [<Share: PRR 10%>]', action_id=0>\n",
      "<Entry message='adding share <Share: B&O 20%> for id B&O_0 to ability <rl18xx.game.engine.abilities.Shares object at 0x7f02765c1510>', action_id=0>\n",
      "<Entry message='setting <rl18xx.game.engine.abilities.Shares object at 0x7f02765c1510>'s shares to [<Share: B&O 20%>]', action_id=0>\n",
      "<Entry message='Alice passes bidding', action_id=1>\n",
      "<Entry message='Bob bids $45 for Champlain & St.Lawrence', action_id=2>\n",
      "<Entry message='Charlie bids $50 for Champlain & St.Lawrence', action_id=3>\n",
      "<Entry message='David bids $225 for Baltimore & Ohio', action_id=4>\n",
      "<Entry message='Alice buys Schuylkill Valley for $20', action_id=5>\n",
      "<Entry message='Champlain & St.Lawrence goes up for auction', action_id=5>\n",
      "<Entry message='Bob passes on Champlain & St.Lawrence', action_id=6>\n",
      "<Entry message='Charlie wins the auction for Champlain & St.Lawrence with a bid of $50', action_id=6>\n",
      "<Entry message='Bob buys Delaware & Hudson for $70', action_id=7>\n",
      "<Entry message='Charlie buys Mohawk & Hudson for $110', action_id=8>\n",
      "<Entry message='David buys Camden & Amboy for $160', action_id=9>\n",
      "<Entry message='David receives a 10% share of PRR', action_id=9>\n",
      "<Entry message='David wins the auction for Baltimore & Ohio with the only bid of $225', action_id=9>\n",
      "<Entry message='David pars B&O at $100', action_id=10>\n",
      "<Entry message='David receives a 20% share of B&O', action_id=10>\n",
      "<Entry message='David becomes the president of B&O', action_id=10>\n",
      "<Entry message='Alice has priority deal', action_id=10>\n",
      "<Entry message='-- Stock Round 1 --', action_id=10>\n",
      "<Entry message='Alice pars PRR at $67', action_id=11>\n",
      "<Entry message='Alice buys a 20% share of PRR from the IPO for $134', action_id=11>\n",
      "<Entry message='Alice becomes the president of PRR', action_id=11>\n",
      "<Entry message='Bob passes', action_id=12>\n",
      "<Entry message='Charlie pars NYC at $67', action_id=13>\n",
      "<Entry message='Charlie buys a 20% share of NYC from the IPO for $134', action_id=13>\n",
      "<Entry message='Charlie becomes the president of NYC', action_id=13>\n",
      "<Entry message='David buys a 10% share of PRR from the IPO for $67', action_id=14>\n",
      "<Entry message='Alice buys a 10% share of PRR from the IPO for $67', action_id=15>\n",
      "<Entry message='Bob pars C&O at $67', action_id=16>\n",
      "<Entry message='Bob buys a 20% share of C&O from the IPO for $134', action_id=16>\n",
      "<Entry message='Bob becomes the president of C&O', action_id=16>\n",
      "<Entry message='Charlie buys a 10% share of NYC from the IPO for $67', action_id=17>\n",
      "<Entry message='David buys a 10% share of PRR from the IPO for $67', action_id=18>\n",
      "<Entry message='PRR floats', action_id=18>\n",
      "<Entry message='PRR receives $670', action_id=18>\n",
      "<Entry message='Alice buys a 10% share of PRR from the IPO for $67', action_id=19>\n",
      "<Entry message='Bob buys a 10% share of C&O from the IPO for $67', action_id=20>\n",
      "<Entry message='Charlie buys a 10% share of NYC from the IPO for $67', action_id=21>\n",
      "<Entry message='David buys a 10% share of PRR from the IPO for $67', action_id=22>\n",
      "<Entry message='Alice buys a 10% share of PRR from the IPO for $67', action_id=23>\n",
      "<Entry message='Bob buys a 10% share of C&O from the IPO for $67', action_id=24>\n",
      "<Entry message='Charlie buys a 10% share of NYC from the IPO for $67', action_id=25>\n",
      "<Entry message='David has no valid actions and passes', action_id=25>\n",
      "<Entry message='Alice buys a 10% share of PRR from the IPO for $67', action_id=26>\n",
      "<Entry message='Bob buys a 10% share of C&O from the IPO for $67', action_id=27>\n",
      "<Entry message='Charlie buys a 10% share of NYC from the IPO for $67', action_id=28>\n",
      "<Entry message='NYC floats', action_id=28>\n",
      "<Entry message='NYC receives $670', action_id=28>\n",
      "<Entry message='David has no valid actions and passes', action_id=28>\n",
      "<Entry message='Alice buys a 10% share of NYC from the IPO for $67', action_id=29>\n",
      "<Entry message='Bob buys a 10% share of C&O from the IPO for $67', action_id=30>\n",
      "<Entry message='C&O floats', action_id=30>\n",
      "<Entry message='C&O receives $670', action_id=30>\n",
      "<Entry message='Charlie has no valid actions and passes', action_id=30>\n",
      "<Entry message='David has no valid actions and passes', action_id=30>\n",
      "<Entry message='Alice buys a 10% share of NYC from the IPO for $67', action_id=31>\n",
      "<Entry message='Bob buys a 10% share of NYC from the IPO for $67', action_id=32>\n",
      "<Entry message='Charlie has no valid actions and passes', action_id=32>\n",
      "<Entry message='David has no valid actions and passes', action_id=32>\n",
      "<Entry message='Alice has no valid actions and passes', action_id=32>\n",
      "<Entry message='Bob has no valid actions and passes', action_id=32>\n",
      "<Entry message='PRR's share price moves up from $67 to $71', action_id=32>\n",
      "<Entry message='Charlie has priority deal', action_id=32>\n",
      "<Entry message='-- Operating Round 1.1 (of 1) --', action_id=32>\n",
      "<Entry message='Charlie collects $10 from Champlain & St.Lawrence', action_id=32>\n",
      "<Entry message='Charlie collects $20 from Mohawk & Hudson', action_id=32>\n",
      "<Entry message='David collects $25 from Camden & Amboy', action_id=32>\n",
      "<Entry message='David collects $30 from Baltimore & Ohio', action_id=32>\n",
      "<Entry message='Alice collects $5 from Schuylkill Valley', action_id=32>\n",
      "<Entry message='Bob collects $15 from Delaware & Hudson', action_id=32>\n",
      "<Entry message='Alice operates PRR', action_id=32>\n",
      "<Entry message='PRR places a token on H12', action_id=32>\n",
      "<Entry message='PRR lays tile #57 with rotation 1 on H10 (Pittsburgh)', action_id=33>\n",
      "<Entry message='PRR passes place a token', action_id=34>\n",
      "<Entry message='PRR skips run routes', action_id=34>\n",
      "<Entry message='PRR does not run', action_id=34>\n",
      "<Entry message='PRR's share price moves left from $71 to $67', action_id=34>\n",
      "<Entry message='PRR buys a 2 train for $80 from The Depot', action_id=35>\n",
      "<Entry message='PRR buys a 2 train for $80 from The Depot', action_id=36>\n",
      "<Entry message='PRR passes buy trains', action_id=37>\n",
      "<Entry message='PRR skips buy companies', action_id=37>\n",
      "<Entry message='Charlie operates NYC', action_id=37>\n",
      "<Entry message='NYC places a token on E19', action_id=37>\n",
      "<Entry message='NYC lays tile #57 with rotation 0 on E19 (Albany)', action_id=38>\n",
      "<Entry message='NYC skips place a token', action_id=38>\n",
      "<Entry message='NYC skips run routes', action_id=38>\n",
      "<Entry message='NYC does not run', action_id=38>\n",
      "<Entry message='NYC's share price moves left from $67 to $65', action_id=38>\n",
      "<Entry message='NYC buys a 2 train for $80 from The Depot', action_id=39>\n",
      "<Entry message='NYC passes buy trains', action_id=40>\n",
      "<Entry message='NYC skips buy companies', action_id=40>\n",
      "<Entry message='Bob operates C&O', action_id=40>\n",
      "<Entry message='C&O places a token on F6', action_id=40>\n",
      "<Entry message='C&O lays tile #8 with rotation 1 on G5', action_id=41>\n",
      "<Entry message='C&O skips place a token', action_id=41>\n",
      "<Entry message='C&O skips run routes', action_id=41>\n",
      "<Entry message='C&O does not run', action_id=41>\n",
      "<Entry message='C&O's share price moves left from $67 to $65', action_id=41>\n",
      "<Entry message='C&O buys a 2 train for $80 from The Depot', action_id=42>\n",
      "<Entry message='C&O passes buy trains', action_id=43>\n",
      "<Entry message='C&O skips buy companies', action_id=43>\n",
      "<Entry message='-- Stock Round 2 --', action_id=43>\n",
      "<Entry message='Charlie sells 5 shares of NYC and receives $325', action_id=44>\n",
      "<Entry message='Alice becomes the president of NYC', action_id=44>\n",
      "<Entry message='NYC's share price moves down from $65 to $30', action_id=44>\n",
      "<Entry message='Charlie pars NYNH at $71', action_id=45>\n",
      "<Entry message='Charlie buys a 20% share of NYNH from the IPO for $142', action_id=45>\n",
      "<Entry message='Charlie becomes the president of NYNH', action_id=45>\n",
      "<Entry message='David buys a 10% share of C&O from the IPO for $67', action_id=46>\n",
      "<Entry message='David declines to sell shares', action_id=47>\n",
      "<Entry message='Alice buys a 10% share of NYC from the market for $30', action_id=48>\n",
      "<Entry message='Alice declines to sell shares', action_id=49>\n",
      "<Entry message='Bob buys a 10% share of NYNH from the IPO for $71', action_id=50>\n",
      "<Entry message='Bob declines to sell shares', action_id=51>\n",
      "<Entry message='Charlie buys a 10% share of NYNH from the IPO for $71', action_id=52>\n",
      "<Entry message='Charlie declines to sell shares', action_id=53>\n",
      "<Entry message='David passes', action_id=54>\n",
      "<Entry message='Alice passes', action_id=55>\n",
      "<Entry message='Bob passes', action_id=56>\n",
      "<Entry message='Charlie buys a 10% share of NYNH from the IPO for $71', action_id=57>\n",
      "<Entry message='Charlie declines to sell shares', action_id=58>\n",
      "<Entry message='David passes', action_id=59>\n",
      "<Entry message='Alice passes', action_id=60>\n",
      "<Entry message='Bob passes', action_id=61>\n",
      "<Entry message='Charlie buys a 10% share of NYNH from the IPO for $71', action_id=62>\n",
      "<Entry message='NYNH floats', action_id=62>\n",
      "<Entry message='NYNH receives $710', action_id=62>\n",
      "<Entry message='Charlie declines to sell shares', action_id=63>\n",
      "<Entry message='David passes', action_id=64>\n",
      "<Entry message='Alice passes', action_id=65>\n",
      "<Entry message='Bob passes', action_id=66>\n",
      "<Entry message='Charlie passes', action_id=67>\n",
      "<Entry message='PRR's share price moves up from $67 to $71', action_id=67>\n",
      "<Entry message='David has priority deal', action_id=67>\n",
      "<Entry message='-- Operating Round 2.1 (of 1) --', action_id=67>\n",
      "<Entry message='David collects $25 from Camden & Amboy', action_id=67>\n",
      "<Entry message='David collects $30 from Baltimore & Ohio', action_id=67>\n",
      "<Entry message='Alice collects $5 from Schuylkill Valley', action_id=67>\n",
      "<Entry message='Bob collects $15 from Delaware & Hudson', action_id=67>\n",
      "<Entry message='Charlie collects $10 from Champlain & St.Lawrence', action_id=67>\n",
      "<Entry message='Charlie collects $20 from Mohawk & Hudson', action_id=67>\n",
      "<Entry message='Charlie operates NYNH', action_id=67>\n",
      "<Entry message='NYNH places a token on G19', action_id=67>\n",
      "<Entry message='NYNH lays tile #1 with rotation 0 on F20 (New Haven & Hartford)', action_id=68>\n",
      "<Entry message='NYNH skips place a token', action_id=68>\n",
      "<Entry message='NYNH skips run routes', action_id=68>\n",
      "<Entry message='NYNH does not run', action_id=68>\n",
      "<Entry message='NYNH's share price moves left from $71 to $67', action_id=68>\n",
      "<Entry message='NYNH buys a 2 train for $80 from The Depot', action_id=69>\n",
      "<Entry message='NYNH passes buy trains', action_id=70>\n",
      "<Entry message='NYNH skips buy companies', action_id=70>\n",
      "<Entry message='Alice operates PRR', action_id=70>\n",
      "<Entry message='PRR lays tile #9 with rotation 1 on H8', action_id=71>\n",
      "<Entry message='PRR passes place a token', action_id=72>\n",
      "<Entry message='PRR runs a 2 train for $30: H12-H10', action_id=73>\n",
      "<Entry message='PRR withholds $30', action_id=74>\n",
      "<Entry message='PRR's share price moves left from $71 to $66', action_id=74>\n",
      "<Entry message='PRR buys a 2 train for $500 from NYC', action_id=75>\n",
      "<Entry message='PRR passes buy trains', action_id=76>\n",
      "<Entry message='PRR skips buy companies', action_id=76>\n",
      "<Entry message='Bob operates C&O', action_id=76>\n"
     ]
    }
   ],
   "source": [
    "print(\"\\n\".join([str(message) for message in g.log]))"
   ]
  },
  {
   "cell_type": "code",
   "execution_count": 17,
   "metadata": {},
   "outputs": [
    {
     "name": "stdout",
     "output_type": "stream",
     "text": [
      "David\n",
      "    cash: 57\n",
      "    shares: {'PRR': 40, 'B&O': 20, 'C&O': 10}\n",
      "    companies: ['CA', 'BO']\n",
      "Alice\n",
      "    cash: 24\n",
      "    shares: {'PRR': 60, 'NYC': 30}\n",
      "    companies: ['SV']\n",
      "Bob\n",
      "    cash: 20\n",
      "    shares: {'C&O': 60, 'NYC': 10, 'NYNH': 10}\n",
      "    companies: ['DH']\n",
      "Charlie\n",
      "    cash: 68\n",
      "    shares: {'NYC': 10, 'NYNH': 50}\n",
      "    companies: ['CS', 'MH']\n",
      "\n",
      "PRR\n",
      "    cash: 40\n",
      "    companies: []\n",
      "    trains: ['2', '2', '2']\n",
      "    ipo price: 67\n",
      "    share price: 66\n",
      "    president: Player - Alice\n",
      "    num IPO shares available: 0\n",
      "    num market shares available: 0\n",
      "NYC\n",
      "    cash: 1090\n",
      "    companies: []\n",
      "    trains: []\n",
      "    ipo price: 67\n",
      "    share price: 30\n",
      "    president: Player - Alice\n",
      "    num IPO shares available: 1\n",
      "    num market shares available: 4\n",
      "CPR\n",
      "    cash: 0\n",
      "    companies: []\n",
      "    trains: []\n",
      "    ipo price: None\n",
      "    share price: None\n",
      "    president: None\n",
      "    num IPO shares available: 10\n",
      "    num market shares available: 0\n",
      "B&O\n",
      "    cash: 0\n",
      "    companies: []\n",
      "    trains: []\n",
      "    ipo price: 100\n",
      "    share price: 100\n",
      "    president: Player - David\n",
      "    num IPO shares available: 8\n",
      "    num market shares available: 0\n",
      "C&O\n",
      "    cash: 590\n",
      "    companies: []\n",
      "    trains: ['2']\n",
      "    ipo price: 67\n",
      "    share price: 65\n",
      "    president: Player - Bob\n",
      "    num IPO shares available: 3\n",
      "    num market shares available: 0\n",
      "ERIE\n",
      "    cash: 0\n",
      "    companies: []\n",
      "    trains: []\n",
      "    ipo price: None\n",
      "    share price: None\n",
      "    president: None\n",
      "    num IPO shares available: 10\n",
      "    num market shares available: 0\n",
      "NYNH\n",
      "    cash: 630\n",
      "    companies: []\n",
      "    trains: ['2']\n",
      "    ipo price: 71\n",
      "    share price: 67\n",
      "    president: Player - Charlie\n",
      "    num IPO shares available: 4\n",
      "    num market shares available: 0\n",
      "B&M\n",
      "    cash: 0\n",
      "    companies: []\n",
      "    trains: []\n",
      "    ipo price: None\n",
      "    share price: None\n",
      "    president: None\n",
      "    num IPO shares available: 10\n",
      "    num market shares available: 0\n"
     ]
    }
   ],
   "source": [
    "action_helper = ActionHelper(g)\n",
    "action_helper.print_enabled = True\n",
    "action_helper.print_summary()"
   ]
  },
  {
   "cell_type": "markdown",
   "metadata": {},
   "source": []
  },
  {
   "cell_type": "code",
   "execution_count": 18,
   "metadata": {},
   "outputs": [
    {
     "name": "stdout",
     "output_type": "stream",
     "text": [
      "0, Type: LayTile, id: None, entity: <Corporation: C&O>, hex: [<Hex: G3, tile: G3>], tile: [<Tile: 7, hex: None>, rotation: [3]\n",
      "1, Type: LayTile, id: None, entity: <Corporation: C&O>, hex: [<Hex: G3, tile: G3>], tile: [<Tile: 7, hex: None>, rotation: [4]\n",
      "2, Type: LayTile, id: None, entity: <Corporation: C&O>, hex: [<Hex: G3, tile: G3>], tile: [<Tile: 8, hex: None>, rotation: [2]\n",
      "3, Type: LayTile, id: None, entity: <Corporation: C&O>, hex: [<Hex: G3, tile: G3>], tile: [<Tile: 8, hex: None>, rotation: [4]\n",
      "4, Type: LayTile, id: None, entity: <Corporation: C&O>, hex: [<Hex: G7, tile: G7>], tile: [<Tile: 2, hex: None>, rotation: [0]\n",
      "5, Type: LayTile, id: None, entity: <Corporation: C&O>, hex: [<Hex: G7, tile: G7>], tile: [<Tile: 2, hex: None>, rotation: [1]\n",
      "6, Type: LayTile, id: None, entity: <Corporation: C&O>, hex: [<Hex: G7, tile: G7>], tile: [<Tile: 2, hex: None>, rotation: [2]\n",
      "7, Type: LayTile, id: None, entity: <Corporation: C&O>, hex: [<Hex: G7, tile: G7>], tile: [<Tile: 2, hex: None>, rotation: [5]\n",
      "8, Type: LayTile, id: None, entity: <Corporation: C&O>, hex: [<Hex: G7, tile: G7>], tile: [<Tile: 55, hex: None>, rotation: [1]\n",
      "9, Type: LayTile, id: None, entity: <Corporation: C&O>, hex: [<Hex: G7, tile: G7>], tile: [<Tile: 55, hex: None>, rotation: [2]\n",
      "10, Type: LayTile, id: None, entity: <Corporation: C&O>, hex: [<Hex: G7, tile: G7>], tile: [<Tile: 55, hex: None>, rotation: [4]\n",
      "11, Type: LayTile, id: None, entity: <Corporation: C&O>, hex: [<Hex: G7, tile: G7>], tile: [<Tile: 55, hex: None>, rotation: [5]\n",
      "12, Type: LayTile, id: None, entity: <Corporation: C&O>, hex: [<Hex: G7, tile: G7>], tile: [<Tile: 56, hex: None>, rotation: [0]\n",
      "13, Type: LayTile, id: None, entity: <Corporation: C&O>, hex: [<Hex: G7, tile: G7>], tile: [<Tile: 56, hex: None>, rotation: [1]\n",
      "14, Type: LayTile, id: None, entity: <Corporation: C&O>, hex: [<Hex: G7, tile: G7>], tile: [<Tile: 56, hex: None>, rotation: [2]\n",
      "15, Type: LayTile, id: None, entity: <Corporation: C&O>, hex: [<Hex: G7, tile: G7>], tile: [<Tile: 56, hex: None>, rotation: [5]\n",
      "16, Type: LayTile, id: None, entity: <Corporation: C&O>, hex: [<Hex: G7, tile: G7>], tile: [<Tile: 69, hex: None>, rotation: [0]\n",
      "17, Type: LayTile, id: None, entity: <Corporation: C&O>, hex: [<Hex: G7, tile: G7>], tile: [<Tile: 69, hex: None>, rotation: [2]\n",
      "18, Type: LayTile, id: None, entity: <Corporation: C&O>, hex: [<Hex: G7, tile: G7>], tile: [<Tile: 69, hex: None>, rotation: [4]\n",
      "19, Type: LayTile, id: None, entity: <Corporation: C&O>, hex: [<Hex: G7, tile: G7>], tile: [<Tile: 69, hex: None>, rotation: [5]\n",
      "20, Type: Pass, id: None, entity: <Corporation: C&O>\n"
     ]
    }
   ],
   "source": [
    "for i, choice in enumerate(action_helper.get_all_choices_limited()):\n",
    "    print(f\"{i}, {choice}\")"
   ]
  },
  {
   "cell_type": "code",
   "execution_count": 15,
   "metadata": {},
   "outputs": [
    {
     "data": {
      "text/plain": [
       "<rl18xx.game.engine.game.title.g1830.Game at 0x7f028c105dd0>"
      ]
     },
     "execution_count": 15,
     "metadata": {},
     "output_type": "execute_result"
    }
   ],
   "source": [
    "g.process_action(action_helper.get_all_choices_limited()[0])"
   ]
  },
  {
   "cell_type": "code",
   "execution_count": 9,
   "metadata": {},
   "outputs": [
    {
     "name": "stdout",
     "output_type": "stream",
     "text": [
      "[<class 'rl18xx.game.engine.actions.Bankrupt'>, <class 'rl18xx.game.engine.actions.Pass'>]\n"
     ]
    }
   ],
   "source": [
    "print(g.round.actions_for(g.current_entity))"
   ]
  },
  {
   "cell_type": "code",
   "execution_count": 10,
   "metadata": {},
   "outputs": [
    {
     "data": {
      "text/plain": [
       "True"
      ]
     },
     "execution_count": 10,
     "metadata": {},
     "output_type": "execute_result"
    }
   ],
   "source": [
    "g.round.active_step().can_entity_buy_train(g.current_entity)"
   ]
  },
  {
   "cell_type": "code",
   "execution_count": 11,
   "metadata": {},
   "outputs": [
    {
     "data": {
      "text/plain": [
       "<Corporation: PRR>"
      ]
     },
     "execution_count": 11,
     "metadata": {},
     "output_type": "execute_result"
    }
   ],
   "source": [
    "g.active_step().current_entity"
   ]
  },
  {
   "cell_type": "code",
   "execution_count": 12,
   "metadata": {},
   "outputs": [
    {
     "data": {
      "text/plain": [
       "True"
      ]
     },
     "execution_count": 12,
     "metadata": {},
     "output_type": "execute_result"
    }
   ],
   "source": [
    "g.current_entity == g.active_step().current_entity"
   ]
  },
  {
   "cell_type": "code",
   "execution_count": 13,
   "metadata": {},
   "outputs": [
    {
     "data": {
      "text/plain": [
       "False"
      ]
     },
     "execution_count": 13,
     "metadata": {},
     "output_type": "execute_result"
    }
   ],
   "source": [
    "g.round.active_step().can_buy_train(g.current_entity)"
   ]
  },
  {
   "cell_type": "code",
   "execution_count": null,
   "metadata": {},
   "outputs": [],
   "source": []
  }
 ],
 "metadata": {
  "kernelspec": {
   "display_name": ".venv",
   "language": "python",
   "name": "python3"
  },
  "language_info": {
   "codemirror_mode": {
    "name": "ipython",
    "version": 3
   },
   "file_extension": ".py",
   "mimetype": "text/x-python",
   "name": "python",
   "nbconvert_exporter": "python",
   "pygments_lexer": "ipython3",
   "version": "3.11.12"
  }
 },
 "nbformat": 4,
 "nbformat_minor": 2
}
