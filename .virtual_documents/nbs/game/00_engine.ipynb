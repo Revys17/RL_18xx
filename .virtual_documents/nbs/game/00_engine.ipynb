


# | default_exp game.engine


# | hide
get_ipython().run_line_magic("load_ext", " lab_black")


# | export
import importlib
import os








# | export
TITLE_DIR = "engine/game/titles"
TITLE_MODULE = "rl18xx.game.engine.game.title"


# | export


class Engine:
    def __init__(self):
        self.game_modules = self._import_game_modules()
        self.game_meta = self._collect_game_meta()
        self.games = self._load_games()

    def _import_game_modules(self):
        game_modules = {}
        for filename in os.listdir(TITLE_DIR):
            if filename.endswith(".ipynb"):
                module_name = filename[3:-6]
                module_path = f"{TITLE_MODULE}.{module_name}"
                game_modules[module_name] = importlib.import_module(module_path)
        return game_modules

    def _collect_game_meta(self):
        game_meta_by_title = {}
        for name, module in self.game_modules.items():
            if hasattr(module, "Meta"):
                meta = getattr(module, "Meta")
                game_meta_by_title[meta.title()] = meta
        return game_meta_by_title

    def _load_games(self):
        games = {}
        for title in self.game_meta:
            if hasattr(self.game_modules["g" + title], "Game"):
                games[title] = getattr(self.game_modules["g" + title], "Game")
        return games

    def meta_by_title(self, title):
        return self.game_meta.get(title)

    def game_by_title(self, title):
        return self.games.get(title)


engine = Engine()


game = engine.game_by_title("1830")





g = game({"1": "hi", "2": "my", "3": "dear", "4": "friend"})


import inspect

test = False

skipped = []
methods = []
non_methods = []
for item_name in dir(g):
    if item_name.startswith("init") or item_name.startswith("_") or item_name.isupper():
        skipped.append(item_name)
        continue

    item = getattr(g, item_name)
    if callable(item):
        if inspect.signature(item).parameters:
            skipped.append(item)
        else:
            # print(item_name)
            methods.append(item_name)
            if test:
                item()
    else:
        # print(f"name: {item_name}, value: {item}")
        non_methods.append(item_name)

# methods, non_methods


step = g.active_step()
step, g.active_players()


print(f"step: {g.active_step()}, player: {g.current_entity}")
choices = g.active_step().actions(g.current_entity)
print(f"choices: {choices}")








from rl18xx.game.engine.actions import Bid, BuyShares, Par, Pass, SellShares


def get_current_actions():
    return g.active_step().actions(g.current_entity)


def get_bid_actions():
    companies = g.active_step().companies
    bids = []
    bids.append(
        Bid(g.current_entity, g.active_step().min_bid(companies[0]), companies[0])
    )
    for company in companies[1:]:
        min_bid = g.active_step().min_bid(company)
        max_bid = g.active_step().max_bid(g.current_entity, company)
        bid_values = list(
            range(min_bid - (min_bid % 5), (max_bid + 1) - ((max_bid + 1) % 5), 5)
        )
        bids.append(
            [Bid(g.current_entity, bid_value, company) for bid_value in bid_values]
        )
    return bids


def get_par_actions():
    parable_corporations = [
        corp for corp in g.corporations if g.can_par(corp, g.current_entity)
    ]
    par_values = g.share_prices
    buying_power = g.buying_power(g.current_entity)
    return [
        Par(g.current_entity, corp, price)
        for corp in parable_corporations
        for price in par_values
        if 2 * price.price <= buying_power
    ]


def get_buy_shares_actions():
    buyable_shares = [
        item
        for sublist in g.active_step().buyable_shares(g.current_entity)
        for item in sublist
    ]
    unique_buyable_shares = list(set(buyable_shares))
    return [BuyShares(g.current_entity, share) for share in unique_buyable_shares]


def get_sell_shares_actions():
    return g.active_step().sellable_shares(g.current_entity)


def get_choices_for_action(action):
    if action == Pass:
        return [Pass(g.current_entity)]
    elif action == Bid:
        return get_bid_actions()
    elif action == Par:
        return get_par_actions()
    elif action == BuyShares:
        return get_buy_shares_actions()
    elif action == SellShares:
        return get_sell_shares_actions()


def get_all_choices():
    choices = [
        choices
        for action in get_current_actions()
        for choices in get_choices_for_action(action)
    ]
    return choices


# get_all_choices()








pass_ = choices[1](g.active_players()[0])
g.process_action(pass_)

second = g.round.active_step().companies[1]
bid = choices[0](
    g.active_players()[0], g.round.active_step().min_bid(second), company=second
)
g.process_action(bid)

bid = choices[0](
    g.active_players()[0], g.round.active_step().min_bid(second), company=second
)
g.process_action(bid)

later = g.round.active_step().companies[-1]
bid = choices[0](g.active_players()[0], 225, company=later)
g.process_action(bid)

first = g.round.active_step().companies[0]
bid = choices[0](
    g.active_players()[0], g.round.active_step().min_bid(first), company=first
)
g.process_action(bid)

pass_ = choices[1](g.active_players()[0])
g.process_action(pass_)

first = g.round.active_step().companies[0]
bid = choices[0](
    g.active_players()[0], g.round.active_step().min_bid(first), company=first
)
g.process_action(bid)

while g.round.active_step() == step:
    first = g.round.active_step().companies[0]
    bid = choices[0](
        g.active_players()[0], g.round.active_step().min_bid(first), company=first
    )
    g.process_action(bid)

par = g.round.active_step().actions(g.round.active_step().active_entities[0])[0](
    g.round.active_step().active_entities[0],
    g.round.companies_pending_par[0].abilities[3].shares[0].corporation(),
    g.round.active_step().get_par_prices(
        g.round.active_step().active_entities[0],
        g.round.companies_pending_par[0].abilities[3].shares[0].corporation,
    )[0],
)

g.process_action(par)





print(
    f"step: {g.active_step()}, player: {g.current_entity}, purchasing power: {g.buying_power(g.current_entity)}"
)
print(f"possible actions: {g.active_step().actions(g.current_entity)}")
get_all_choices()


g.process_action(get_all_choices()[6])
g.process_action(get_all_choices()[7])
g.process_action(get_all_choices()[8])
g.process_action(get_all_choices()[0])


g.actions





















