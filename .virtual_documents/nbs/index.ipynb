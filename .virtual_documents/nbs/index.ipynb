#| hide
from rl18xx.core import *


























from rl18xx.game.gamemap import GameMap

game_map = GameMap()
game = game_map.game_by_title("1830")
g = game({"1": "Player 1", "2": "Player 2", "3": "Player 3", "4": "Player 4"})





from rl18xx.game.actionfinder import ActionHelper
action_helper = ActionHelper(g)

action_helper.get_all_choices()[:10]





g.process_action(action_helper.get_all_choices()[0])
action_helper.get_all_choices()[:10]






