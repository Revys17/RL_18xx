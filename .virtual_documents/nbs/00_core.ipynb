


#| default_exp core


#| hide
from nbdev.showdoc import *


import rl18xx.game
#import rl18xx.agent


#| hide
import nbdev; nbdev.nbdev_export()






