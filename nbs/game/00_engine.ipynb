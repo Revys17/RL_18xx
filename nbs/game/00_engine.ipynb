{
 "cells": [
  {
   "cell_type": "markdown",
   "id": "fbdc7dfc-0d39-4c00-bc43-61fb3aed70ab",
   "metadata": {},
   "source": [
    "# Game Engine"
   ]
  },
  {
   "cell_type": "code",
   "execution_count": null,
   "id": "e27e9763-7bf3-4dfb-b343-4754208a5dfd",
   "metadata": {},
   "outputs": [],
   "source": [
    "# | default_exp game.engine"
   ]
  },
  {
   "cell_type": "code",
   "execution_count": null,
   "id": "b2d7b0ef-4e8f-4976-aa76-e6d34a86fb86",
   "metadata": {},
   "outputs": [],
   "source": [
    "# | hide\n",
    "%load_ext lab_black"
   ]
  },
  {
   "cell_type": "code",
   "execution_count": null,
   "id": "518d6541-3593-4ae8-bc07-4b5d7b6a18a8",
   "metadata": {},
   "outputs": [],
   "source": [
    "# | export\n",
    "import importlib\n",
    "import os"
   ]
  },
  {
   "cell_type": "markdown",
   "id": "4b7813dd-603c-4da4-9763-5c2d47f2e9cc",
   "metadata": {},
   "source": [
    "All games are located within the `games` subdirectory."
   ]
  },
  {
   "cell_type": "code",
   "execution_count": null,
   "id": "5d68245c-3b3a-494e-93d2-32af2e0c625c",
   "metadata": {},
   "outputs": [],
   "source": [
    "# | export\n",
    "TITLE_DIR = \"engine/game/titles\"\n",
    "TITLE_MODULE = \"rl18xx.game.engine.game.title\""
   ]
  },
  {
   "cell_type": "code",
   "execution_count": null,
   "id": "aeab3c29-80e0-4dc7-821a-ded7080a0b22",
   "metadata": {},
   "outputs": [],
   "source": [
    "# | export\n",
    "\n",
    "\n",
    "class Engine:\n",
    "    def __init__(self):\n",
    "        self.game_modules = self._import_game_modules()\n",
    "        self.game_meta = self._collect_game_meta()\n",
    "        self.games = self._load_games()\n",
    "\n",
    "    def _import_game_modules(self):\n",
    "        game_modules = {}\n",
    "        for filename in os.listdir(TITLE_DIR):\n",
    "            if filename.endswith(\".ipynb\"):\n",
    "                module_name = filename[3:-6]\n",
    "                module_path = f\"{TITLE_MODULE}.{module_name}\"\n",
    "                game_modules[module_name] = importlib.import_module(module_path)\n",
    "        return game_modules\n",
    "\n",
    "    def _collect_game_meta(self):\n",
    "        game_meta_by_title = {}\n",
    "        for name, module in self.game_modules.items():\n",
    "            if hasattr(module, \"Meta\"):\n",
    "                meta = getattr(module, \"Meta\")\n",
    "                game_meta_by_title[meta.title()] = meta\n",
    "        return game_meta_by_title\n",
    "\n",
    "    def _load_games(self):\n",
    "        games = {}\n",
    "        for title in self.game_meta:\n",
    "            if hasattr(self.game_modules[\"g\" + title], \"Game\"):\n",
    "                games[title] = getattr(self.game_modules[\"g\" + title], \"Game\")\n",
    "        return games\n",
    "\n",
    "    def meta_by_title(self, title):\n",
    "        return self.game_meta.get(title)\n",
    "\n",
    "    def game_by_title(self, title):\n",
    "        return self.games.get(title)"
   ]
  },
  {
   "cell_type": "code",
   "execution_count": null,
   "id": "8d9c570d-653b-4a9a-8a52-1e0a1847cb21",
   "metadata": {},
   "outputs": [],
   "source": [
    "engine = Engine()"
   ]
  },
  {
   "cell_type": "code",
   "execution_count": null,
   "id": "1a95829c-186b-4016-8e87-516654d5938c",
   "metadata": {},
   "outputs": [],
   "source": [
    "game = engine.game_by_title(\"1830\")"
   ]
  },
  {
   "cell_type": "code",
   "execution_count": null,
   "id": "564e4243-80a7-4ae1-85e8-8173b1d4c8ef",
   "metadata": {},
   "outputs": [
    {
     "name": "stdout",
     "output_type": "stream",
     "text": [
      "{2: 28, 3: 20, 4: 16, 5: 13, 6: 11}\n",
      "dict_items([(2, 28), (3, 20), (4, 16), (5, 13), (6, 11)])\n",
      "(2, 28)\n",
      "[]\n",
      "[]\n",
      "[]\n",
      "[]\n",
      "[<rl18xx.game.engine.abilities.Shares object>]\n",
      "adding share <Share: PRR 10%> for id PRR_1 to ability <rl18xx.game.engine.abilities.Shares object>\n",
      "setting <rl18xx.game.engine.abilities.Shares object>'s shares to [<rl18xx.game.engine.entities.Share object>]\n",
      "[<rl18xx.game.engine.abilities.Shares object>]\n",
      "adding share <Share: B&O 20%> for id B&O_0 to ability <rl18xx.game.engine.abilities.Shares object>\n",
      "setting <rl18xx.game.engine.abilities.Shares object>'s shares to [<rl18xx.game.engine.entities.Share object>]\n"
     ]
    }
   ],
   "source": [
    "g = game({\"1\": \"hi\", \"2\": \"my\", \"3\": \"dear\", \"4\": \"friend\"})"
   ]
  },
  {
   "cell_type": "code",
   "execution_count": null,
   "id": "516a4fa2-fe10-4de0-9102-5a5bb0420a69",
   "metadata": {},
   "outputs": [
    {
     "data": {
      "text/plain": [
       "[<rl18xx.game.engine.entities.Corporation>,\n",
       " <rl18xx.game.engine.entities.Corporation>,\n",
       " <rl18xx.game.engine.entities.Corporation>,\n",
       " <rl18xx.game.engine.entities.Corporation>,\n",
       " <rl18xx.game.engine.entities.Corporation>,\n",
       " <rl18xx.game.engine.entities.Corporation>,\n",
       " <rl18xx.game.engine.entities.Corporation>,\n",
       " <rl18xx.game.engine.entities.Corporation>]"
      ]
     },
     "execution_count": null,
     "metadata": {},
     "output_type": "execute_result"
    }
   ],
   "source": [
    "g.corporations"
   ]
  },
  {
   "cell_type": "code",
   "execution_count": null,
   "id": "b1a01d71-03ae-4146-b0ed-8587d92426c9",
   "metadata": {},
   "outputs": [],
   "source": [
    "import inspect\n",
    "\n",
    "test = False\n",
    "\n",
    "skipped = []\n",
    "methods = []\n",
    "non_methods = []\n",
    "for item_name in dir(g):\n",
    "    if item_name.startswith(\"init\") or item_name.startswith(\"_\") or item_name.isupper():\n",
    "        skipped.append(item_name)\n",
    "        continue\n",
    "\n",
    "    item = getattr(g, item_name)\n",
    "    if callable(item):\n",
    "        if inspect.signature(item).parameters:\n",
    "            skipped.append(item)\n",
    "        else:\n",
    "            # print(item_name)\n",
    "            methods.append(item_name)\n",
    "            if test:\n",
    "                item()\n",
    "    else:\n",
    "        # print(f\"name: {item_name}, value: {item}\")\n",
    "        non_methods.append(item_name)\n",
    "\n",
    "# methods, non_methods"
   ]
  },
  {
   "cell_type": "code",
   "execution_count": null,
   "id": "1fe3b091-8d6a-4b18-b038-bc5a607c371e",
   "metadata": {},
   "outputs": [
    {
     "data": {
      "text/plain": [
       "(<rl18xx.game.engine.round.WaterfallAuction>,\n",
       " [<Player - hi>])"
      ]
     },
     "execution_count": null,
     "metadata": {},
     "output_type": "execute_result"
    }
   ],
   "source": [
    "step = g.active_step()\n",
    "step, g.active_players()"
   ]
  },
  {
   "cell_type": "code",
   "execution_count": null,
   "id": "da631234-76fe-48b2-a95f-fee52ae104ea",
   "metadata": {},
   "outputs": [
    {
     "name": "stdout",
     "output_type": "stream",
     "text": [
      "step: <WaterfallAuction>, player: Player - hi\n",
      "choices: [<class 'rl18xx.game.engine.actions.Bid'>, <class 'rl18xx.game.engine.actions.Pass'>]\n"
     ]
    }
   ],
   "source": [
    "print(f\"step: {g.active_step()}, player: {g.active_players()[0]}\")\n",
    "choices = g.active_step().actions(g.active_players()[0])\n",
    "print(f\"choices: {choices}\")"
   ]
  },
  {
   "cell_type": "code",
   "execution_count": null,
   "id": "78cbbfaa-2366-4899-983d-46877f2fac95",
   "metadata": {},
   "outputs": [
    {
     "name": "stdout",
     "output_type": "stream",
     "text": [
      "hi passes bidding\n"
     ]
    },
    {
     "data": {
      "text/plain": [
       "<rl18xx.game.engine.game.title.g1830.Game>"
      ]
     },
     "execution_count": null,
     "metadata": {},
     "output_type": "execute_result"
    }
   ],
   "source": [
    "pass_ = choices[1](g.active_players()[0])\n",
    "g.process_action(pass_)"
   ]
  },
  {
   "cell_type": "code",
   "execution_count": null,
   "id": "7f82914d-94f2-4b86-b0b5-3fd0968a18bc",
   "metadata": {},
   "outputs": [
    {
     "name": "stdout",
     "output_type": "stream",
     "text": [
      "my bids $45 for Champlain & St.Lawrence\n",
      "dear bids $50 for Champlain & St.Lawrence\n"
     ]
    },
    {
     "data": {
      "text/plain": [
       "<rl18xx.game.engine.game.title.g1830.Game>"
      ]
     },
     "execution_count": null,
     "metadata": {},
     "output_type": "execute_result"
    }
   ],
   "source": [
    "second = g.round.active_step().companies[1]\n",
    "bid = choices[0](\n",
    "    g.active_players()[0], g.round.active_step().min_bid(second), company=second\n",
    ")\n",
    "g.process_action(bid)\n",
    "\n",
    "bid = choices[0](\n",
    "    g.active_players()[0], g.round.active_step().min_bid(second), company=second\n",
    ")\n",
    "g.process_action(bid)"
   ]
  },
  {
   "cell_type": "code",
   "execution_count": null,
   "id": "7bf6f6c6-632f-4293-9573-5488cd02b8f8",
   "metadata": {},
   "outputs": [
    {
     "name": "stdout",
     "output_type": "stream",
     "text": [
      "friend bids $225 for Baltimore & Ohio\n"
     ]
    },
    {
     "data": {
      "text/plain": [
       "<rl18xx.game.engine.game.title.g1830.Game>"
      ]
     },
     "execution_count": null,
     "metadata": {},
     "output_type": "execute_result"
    }
   ],
   "source": [
    "later = g.round.active_step().companies[-1]\n",
    "bid = choices[0](g.active_players()[0], 225, company=later)\n",
    "g.process_action(bid)"
   ]
  },
  {
   "cell_type": "code",
   "execution_count": null,
   "id": "c12bef4e-e58d-4c87-9a9d-814b1054eaa6",
   "metadata": {},
   "outputs": [
    {
     "name": "stdout",
     "output_type": "stream",
     "text": [
      "hi buys Schuylkill Valley for $20\n",
      "resolving bids\n",
      "company: <Company: CS>, auctioning: None, is_new_auction: True, bids: [Type: Bid, id: 2, entity: Player - my, Type: Bid, id: 3, entity: Player - dear]\n",
      "Champlain & St.Lawrence goes up for auction\n",
      "my passes on Champlain & St.Lawrence\n",
      "resolving bids\n",
      "company: <Company: CS>, auctioning: <Company: CS>, is_new_auction: False, bids: [Type: Bid, id: 3, entity: Player - dear]\n",
      "dear wins the auction for Champlain & St.Lawrence with a bid of $50\n",
      "company: <Company: DH>, auctioning: None, is_new_auction: True, bids: []\n"
     ]
    },
    {
     "data": {
      "text/plain": [
       "<rl18xx.game.engine.game.title.g1830.Game>"
      ]
     },
     "execution_count": null,
     "metadata": {},
     "output_type": "execute_result"
    }
   ],
   "source": [
    "first = g.round.active_step().companies[0]\n",
    "bid = choices[0](\n",
    "    g.active_players()[0], g.round.active_step().min_bid(first), company=first\n",
    ")\n",
    "g.process_action(bid)\n",
    "pass_ = choices[1](g.active_players()[0])\n",
    "g.process_action(pass_)"
   ]
  },
  {
   "cell_type": "code",
   "execution_count": null,
   "id": "2583da33-aa56-4b60-91b9-5c1063823af7",
   "metadata": {},
   "outputs": [
    {
     "name": "stdout",
     "output_type": "stream",
     "text": [
      "my buys Delaware & Hudson for $70\n",
      "resolving bids\n",
      "company: <Company: MH>, auctioning: None, is_new_auction: True, bids: []\n"
     ]
    },
    {
     "data": {
      "text/plain": [
       "<rl18xx.game.engine.game.title.g1830.Game>"
      ]
     },
     "execution_count": null,
     "metadata": {},
     "output_type": "execute_result"
    }
   ],
   "source": [
    "first = g.round.active_step().companies[0]\n",
    "bid = choices[0](\n",
    "    g.active_players()[0], g.round.active_step().min_bid(first), company=first\n",
    ")\n",
    "g.process_action(bid)"
   ]
  },
  {
   "cell_type": "code",
   "execution_count": null,
   "id": "99869e0b-34a5-4e5e-83f9-7ae993ceb74c",
   "metadata": {},
   "outputs": [
    {
     "data": {
      "text/plain": [
       "[<Entry message='-- Phase 2 (Operating Rounds: 1 | Train Limit: <bound method Phase.train_limit of <rl18xx.game.engine.core.Phase object>> | Available Tiles: Yellow)', action_id=0>,\n",
       " <Entry message='my passes on Champlain & St.Lawrence', action_id=6>]"
      ]
     },
     "execution_count": null,
     "metadata": {},
     "output_type": "execute_result"
    }
   ],
   "source": [
    "g.log"
   ]
  },
  {
   "cell_type": "code",
   "execution_count": null,
   "id": "375b7ccf-6559-4f3d-8eb7-2394e2e0327e",
   "metadata": {},
   "outputs": [
    {
     "name": "stdout",
     "output_type": "stream",
     "text": [
      "dear buys Mohawk & Hudson for $110\n",
      "resolving bids\n",
      "company: <Company: CA>, auctioning: None, is_new_auction: True, bids: []\n",
      "friend buys Camden & Amboy for $160\n",
      "<rl18xx.game.engine.abilities.Shares object>\n",
      "<bound method Share.corporation of <rl18xx.game.engine.entities.Share object>>\n",
      "resolving bids\n",
      "company: <Company: BO>, auctioning: None, is_new_auction: True, bids: [Type: Bid, id: 4, entity: Player - friend]\n",
      "friend wins the auction for Baltimore & Ohio with the only bid of $225\n",
      "<rl18xx.game.engine.abilities.Shares object>\n",
      "<bound method Share.corporation of <rl18xx.game.engine.entities.Share object>>\n"
     ]
    }
   ],
   "source": [
    "while g.round.active_step() == step:\n",
    "    first = g.round.active_step().companies[0]\n",
    "    bid = choices[0](\n",
    "        g.active_players()[0], g.round.active_step().min_bid(first), company=first\n",
    "    )\n",
    "    g.process_action(bid)"
   ]
  },
  {
   "cell_type": "code",
   "execution_count": null,
   "id": "b162c0da-db54-4e24-b4e6-70bacdccd37a",
   "metadata": {},
   "outputs": [
    {
     "data": {
      "text/plain": [
       "<bound method Share.corporation of <rl18xx.game.engine.entities.Share object>>"
      ]
     },
     "execution_count": null,
     "metadata": {},
     "output_type": "execute_result"
    }
   ],
   "source": [
    "dir(g.round.companies_pending_par[0])\n",
    "g.round.companies_pending_par[0].abilities[3].shares[0].corporation"
   ]
  },
  {
   "cell_type": "code",
   "execution_count": null,
   "id": "592a4905-7dc1-4def-af5d-90cc89cf164d",
   "metadata": {},
   "outputs": [
    {
     "data": {
      "text/plain": [
       "(<rl18xx.game.engine.round.CompanyPendingPar>,\n",
       " [rl18xx.game.engine.actions.Par])"
      ]
     },
     "execution_count": null,
     "metadata": {},
     "output_type": "execute_result"
    }
   ],
   "source": [
    "g.round.active_step(), g.round.active_step().actions(g.active_players()[0])"
   ]
  },
  {
   "cell_type": "code",
   "execution_count": null,
   "id": "2dc35738-3e5a-4836-a7af-1bf4de6191f3",
   "metadata": {},
   "outputs": [
    {
     "data": {
      "text/plain": [
       "(<Player - friend>, <Company: BO>, [100, 90, 82, 76, 71, 67])"
      ]
     },
     "execution_count": null,
     "metadata": {},
     "output_type": "execute_result"
    }
   ],
   "source": [
    "g.round.active_step().active_entities[0], g.round.active_step().companies_pending_par[\n",
    "    0\n",
    "], [\n",
    "    price.price\n",
    "    for price in g.round.active_step().get_par_prices(\n",
    "        g.round.active_step().active_entities[0],\n",
    "        g.round.companies_pending_par[0].abilities[3].shares[0].corporation,\n",
    "    )\n",
    "]"
   ]
  },
  {
   "cell_type": "code",
   "execution_count": null,
   "id": "ac2ae4af-3749-45a0-ae1b-1591407a5d9d",
   "metadata": {},
   "outputs": [],
   "source": [
    "par = g.round.active_step().actions(g.round.active_step().active_entities[0])[0](\n",
    "    g.round.active_step().active_entities[0],\n",
    "    g.round.companies_pending_par[0].abilities[3].shares[0].corporation(),\n",
    "    g.round.active_step().get_par_prices(\n",
    "        g.round.active_step().active_entities[0],\n",
    "        g.round.companies_pending_par[0].abilities[3].shares[0].corporation,\n",
    "    )[0],\n",
    ")"
   ]
  },
  {
   "cell_type": "code",
   "execution_count": null,
   "id": "c8242c1e-fb73-48d2-80e5-07e6f25fa686",
   "metadata": {},
   "outputs": [
    {
     "name": "stdout",
     "output_type": "stream",
     "text": [
      "> \u001b[0;32m/home/revys/workspace/RL_18xx/rl18xx/game/engine/round.py\u001b[0m(5986)\u001b[0;36msetup\u001b[0;34m()\u001b[0m\n",
      "\u001b[0;32m   5984 \u001b[0;31m    \u001b[0;32mdef\u001b[0m \u001b[0msetup\u001b[0m\u001b[0;34m(\u001b[0m\u001b[0mself\u001b[0m\u001b[0;34m)\u001b[0m\u001b[0;34m:\u001b[0m\u001b[0;34m\u001b[0m\u001b[0;34m\u001b[0m\u001b[0m\n",
      "\u001b[0m\u001b[0;32m   5985 \u001b[0;31m        \u001b[0mset_trace\u001b[0m\u001b[0;34m(\u001b[0m\u001b[0;34m)\u001b[0m\u001b[0;34m\u001b[0m\u001b[0;34m\u001b[0m\u001b[0m\n",
      "\u001b[0m\u001b[0;32m-> 5986 \u001b[0;31m        \u001b[0mself\u001b[0m\u001b[0;34m.\u001b[0m\u001b[0mskip_steps\u001b[0m\u001b[0;34m(\u001b[0m\u001b[0;34m)\u001b[0m\u001b[0;34m\u001b[0m\u001b[0;34m\u001b[0m\u001b[0m\n",
      "\u001b[0m\u001b[0;32m   5987 \u001b[0;31m        \u001b[0;32mif\u001b[0m \u001b[0;32mnot\u001b[0m \u001b[0mself\u001b[0m\u001b[0;34m.\u001b[0m\u001b[0mactive_step\u001b[0m\u001b[0;34m(\u001b[0m\u001b[0;34m)\u001b[0m\u001b[0;34m:\u001b[0m\u001b[0;34m\u001b[0m\u001b[0;34m\u001b[0m\u001b[0m\n",
      "\u001b[0m\u001b[0;32m   5988 \u001b[0;31m            \u001b[0mself\u001b[0m\u001b[0;34m.\u001b[0m\u001b[0mnext_entity\u001b[0m\u001b[0;34m(\u001b[0m\u001b[0;34m)\u001b[0m\u001b[0;34m\u001b[0m\u001b[0;34m\u001b[0m\u001b[0m\n",
      "\u001b[0m\n"
     ]
    },
    {
     "name": "stdin",
     "output_type": "stream",
     "text": [
      "ipdb>  n\n"
     ]
    },
    {
     "name": "stdout",
     "output_type": "stream",
     "text": [
      "> \u001b[0;32m/home/revys/workspace/RL_18xx/rl18xx/game/engine/round.py\u001b[0m(5987)\u001b[0;36msetup\u001b[0;34m()\u001b[0m\n",
      "\u001b[0;32m   5985 \u001b[0;31m        \u001b[0mset_trace\u001b[0m\u001b[0;34m(\u001b[0m\u001b[0;34m)\u001b[0m\u001b[0;34m\u001b[0m\u001b[0;34m\u001b[0m\u001b[0m\n",
      "\u001b[0m\u001b[0;32m   5986 \u001b[0;31m        \u001b[0mself\u001b[0m\u001b[0;34m.\u001b[0m\u001b[0mskip_steps\u001b[0m\u001b[0;34m(\u001b[0m\u001b[0;34m)\u001b[0m\u001b[0;34m\u001b[0m\u001b[0;34m\u001b[0m\u001b[0m\n",
      "\u001b[0m\u001b[0;32m-> 5987 \u001b[0;31m        \u001b[0;32mif\u001b[0m \u001b[0;32mnot\u001b[0m \u001b[0mself\u001b[0m\u001b[0;34m.\u001b[0m\u001b[0mactive_step\u001b[0m\u001b[0;34m(\u001b[0m\u001b[0;34m)\u001b[0m\u001b[0;34m:\u001b[0m\u001b[0;34m\u001b[0m\u001b[0;34m\u001b[0m\u001b[0m\n",
      "\u001b[0m\u001b[0;32m   5988 \u001b[0;31m            \u001b[0mself\u001b[0m\u001b[0;34m.\u001b[0m\u001b[0mnext_entity\u001b[0m\u001b[0;34m(\u001b[0m\u001b[0;34m)\u001b[0m\u001b[0;34m\u001b[0m\u001b[0;34m\u001b[0m\u001b[0m\n",
      "\u001b[0m\u001b[0;32m   5989 \u001b[0;31m\u001b[0;34m\u001b[0m\u001b[0m\n",
      "\u001b[0m\n"
     ]
    },
    {
     "name": "stdin",
     "output_type": "stream",
     "text": [
      "ipdb>  n\n"
     ]
    },
    {
     "name": "stdout",
     "output_type": "stream",
     "text": [
      "> \u001b[0;32m/home/revys/workspace/RL_18xx/rl18xx/game/engine/round.py\u001b[0m(1705)\u001b[0;36mcan_buy_shares\u001b[0;34m()\u001b[0m\n",
      "\u001b[0;32m   1703 \u001b[0;31m\u001b[0;34m\u001b[0m\u001b[0m\n",
      "\u001b[0m\u001b[0;32m   1704 \u001b[0;31m        \u001b[0mset_trace\u001b[0m\u001b[0;34m(\u001b[0m\u001b[0;34m)\u001b[0m\u001b[0;34m\u001b[0m\u001b[0;34m\u001b[0m\u001b[0m\n",
      "\u001b[0m\u001b[0;32m-> 1705 \u001b[0;31m        \u001b[0msample_share\u001b[0m \u001b[0;34m=\u001b[0m \u001b[0mshares\u001b[0m\u001b[0;34m[\u001b[0m\u001b[0;36m0\u001b[0m\u001b[0;34m]\u001b[0m\u001b[0;34m\u001b[0m\u001b[0;34m\u001b[0m\u001b[0m\n",
      "\u001b[0m\u001b[0;32m   1706 \u001b[0;31m        \u001b[0mcorporation\u001b[0m \u001b[0;34m=\u001b[0m \u001b[0msample_share\u001b[0m\u001b[0;34m.\u001b[0m\u001b[0mcorporation\u001b[0m\u001b[0;34m(\u001b[0m\u001b[0;34m)\u001b[0m\u001b[0;34m\u001b[0m\u001b[0;34m\u001b[0m\u001b[0m\n",
      "\u001b[0m\u001b[0;32m   1707 \u001b[0;31m        \u001b[0mowner\u001b[0m \u001b[0;34m=\u001b[0m \u001b[0msample_share\u001b[0m\u001b[0;34m.\u001b[0m\u001b[0mowner\u001b[0m\u001b[0;34m\u001b[0m\u001b[0;34m\u001b[0m\u001b[0m\n",
      "\u001b[0m\n"
     ]
    },
    {
     "name": "stdin",
     "output_type": "stream",
     "text": [
      "ipdb>  n\n"
     ]
    },
    {
     "name": "stdout",
     "output_type": "stream",
     "text": [
      "> \u001b[0;32m/home/revys/workspace/RL_18xx/rl18xx/game/engine/round.py\u001b[0m(1706)\u001b[0;36mcan_buy_shares\u001b[0;34m()\u001b[0m\n",
      "\u001b[0;32m   1704 \u001b[0;31m        \u001b[0mset_trace\u001b[0m\u001b[0;34m(\u001b[0m\u001b[0;34m)\u001b[0m\u001b[0;34m\u001b[0m\u001b[0;34m\u001b[0m\u001b[0m\n",
      "\u001b[0m\u001b[0;32m   1705 \u001b[0;31m        \u001b[0msample_share\u001b[0m \u001b[0;34m=\u001b[0m \u001b[0mshares\u001b[0m\u001b[0;34m[\u001b[0m\u001b[0;36m0\u001b[0m\u001b[0;34m]\u001b[0m\u001b[0;34m\u001b[0m\u001b[0;34m\u001b[0m\u001b[0m\n",
      "\u001b[0m\u001b[0;32m-> 1706 \u001b[0;31m        \u001b[0mcorporation\u001b[0m \u001b[0;34m=\u001b[0m \u001b[0msample_share\u001b[0m\u001b[0;34m.\u001b[0m\u001b[0mcorporation\u001b[0m\u001b[0;34m(\u001b[0m\u001b[0;34m)\u001b[0m\u001b[0;34m\u001b[0m\u001b[0;34m\u001b[0m\u001b[0m\n",
      "\u001b[0m\u001b[0;32m   1707 \u001b[0;31m        \u001b[0mowner\u001b[0m \u001b[0;34m=\u001b[0m \u001b[0msample_share\u001b[0m\u001b[0;34m.\u001b[0m\u001b[0mowner\u001b[0m\u001b[0;34m\u001b[0m\u001b[0;34m\u001b[0m\u001b[0m\n",
      "\u001b[0m\u001b[0;32m   1708 \u001b[0;31m        if self.round.players_sold.get(entity, {}).get(corporation, None) or (\n",
      "\u001b[0m\n"
     ]
    },
    {
     "name": "stdin",
     "output_type": "stream",
     "text": [
      "ipdb>  n\n"
     ]
    },
    {
     "name": "stdout",
     "output_type": "stream",
     "text": [
      "> \u001b[0;32m/home/revys/workspace/RL_18xx/rl18xx/game/engine/round.py\u001b[0m(1707)\u001b[0;36mcan_buy_shares\u001b[0;34m()\u001b[0m\n",
      "\u001b[0;32m   1705 \u001b[0;31m        \u001b[0msample_share\u001b[0m \u001b[0;34m=\u001b[0m \u001b[0mshares\u001b[0m\u001b[0;34m[\u001b[0m\u001b[0;36m0\u001b[0m\u001b[0;34m]\u001b[0m\u001b[0;34m\u001b[0m\u001b[0;34m\u001b[0m\u001b[0m\n",
      "\u001b[0m\u001b[0;32m   1706 \u001b[0;31m        \u001b[0mcorporation\u001b[0m \u001b[0;34m=\u001b[0m \u001b[0msample_share\u001b[0m\u001b[0;34m.\u001b[0m\u001b[0mcorporation\u001b[0m\u001b[0;34m(\u001b[0m\u001b[0;34m)\u001b[0m\u001b[0;34m\u001b[0m\u001b[0;34m\u001b[0m\u001b[0m\n",
      "\u001b[0m\u001b[0;32m-> 1707 \u001b[0;31m        \u001b[0mowner\u001b[0m \u001b[0;34m=\u001b[0m \u001b[0msample_share\u001b[0m\u001b[0;34m.\u001b[0m\u001b[0mowner\u001b[0m\u001b[0;34m\u001b[0m\u001b[0;34m\u001b[0m\u001b[0m\n",
      "\u001b[0m\u001b[0;32m   1708 \u001b[0;31m        if self.round.players_sold.get(entity, {}).get(corporation, None) or (\n",
      "\u001b[0m\u001b[0;32m   1709 \u001b[0;31m            \u001b[0mself\u001b[0m\u001b[0;34m.\u001b[0m\u001b[0mbought\u001b[0m\u001b[0;34m(\u001b[0m\u001b[0;34m)\u001b[0m \u001b[0;32mand\u001b[0m \u001b[0;32mnot\u001b[0m \u001b[0mself\u001b[0m\u001b[0;34m.\u001b[0m\u001b[0mcan_buy_multiple\u001b[0m\u001b[0;34m(\u001b[0m\u001b[0mentity\u001b[0m\u001b[0;34m,\u001b[0m \u001b[0mcorporation\u001b[0m\u001b[0;34m,\u001b[0m \u001b[0mowner\u001b[0m\u001b[0;34m)\u001b[0m\u001b[0;34m\u001b[0m\u001b[0;34m\u001b[0m\u001b[0m\n",
      "\u001b[0m\n"
     ]
    },
    {
     "name": "stdin",
     "output_type": "stream",
     "text": [
      "ipdb>  n\n"
     ]
    },
    {
     "name": "stdout",
     "output_type": "stream",
     "text": [
      "> \u001b[0;32m/home/revys/workspace/RL_18xx/rl18xx/game/engine/round.py\u001b[0m(1708)\u001b[0;36mcan_buy_shares\u001b[0;34m()\u001b[0m\n",
      "\u001b[0;32m   1706 \u001b[0;31m        \u001b[0mcorporation\u001b[0m \u001b[0;34m=\u001b[0m \u001b[0msample_share\u001b[0m\u001b[0;34m.\u001b[0m\u001b[0mcorporation\u001b[0m\u001b[0;34m(\u001b[0m\u001b[0;34m)\u001b[0m\u001b[0;34m\u001b[0m\u001b[0;34m\u001b[0m\u001b[0m\n",
      "\u001b[0m\u001b[0;32m   1707 \u001b[0;31m        \u001b[0mowner\u001b[0m \u001b[0;34m=\u001b[0m \u001b[0msample_share\u001b[0m\u001b[0;34m.\u001b[0m\u001b[0mowner\u001b[0m\u001b[0;34m\u001b[0m\u001b[0;34m\u001b[0m\u001b[0m\n",
      "\u001b[0m\u001b[0;32m-> 1708 \u001b[0;31m        if self.round.players_sold.get(entity, {}).get(corporation, None) or (\n",
      "\u001b[0m\u001b[0;32m   1709 \u001b[0;31m            \u001b[0mself\u001b[0m\u001b[0;34m.\u001b[0m\u001b[0mbought\u001b[0m\u001b[0;34m(\u001b[0m\u001b[0;34m)\u001b[0m \u001b[0;32mand\u001b[0m \u001b[0;32mnot\u001b[0m \u001b[0mself\u001b[0m\u001b[0;34m.\u001b[0m\u001b[0mcan_buy_multiple\u001b[0m\u001b[0;34m(\u001b[0m\u001b[0mentity\u001b[0m\u001b[0;34m,\u001b[0m \u001b[0mcorporation\u001b[0m\u001b[0;34m,\u001b[0m \u001b[0mowner\u001b[0m\u001b[0;34m)\u001b[0m\u001b[0;34m\u001b[0m\u001b[0;34m\u001b[0m\u001b[0m\n",
      "\u001b[0m\u001b[0;32m   1710 \u001b[0;31m        ):\n",
      "\u001b[0m\n"
     ]
    },
    {
     "name": "stdin",
     "output_type": "stream",
     "text": [
      "ipdb>  corporation\n"
     ]
    },
    {
     "name": "stdout",
     "output_type": "stream",
     "text": [
      "<rl18xx.game.engine.entities.Corporation object>\n"
     ]
    },
    {
     "name": "stdin",
     "output_type": "stream",
     "text": [
      "ipdb>  owner\n"
     ]
    },
    {
     "name": "stdout",
     "output_type": "stream",
     "text": [
      "<rl18xx.game.engine.entities.Corporation object>\n"
     ]
    },
    {
     "name": "stdin",
     "output_type": "stream",
     "text": [
      "ipdb>  n\n"
     ]
    },
    {
     "name": "stdout",
     "output_type": "stream",
     "text": [
      "> \u001b[0;32m/home/revys/workspace/RL_18xx/rl18xx/game/engine/round.py\u001b[0m(1709)\u001b[0;36mcan_buy_shares\u001b[0;34m()\u001b[0m\n",
      "\u001b[0;32m   1707 \u001b[0;31m        \u001b[0mowner\u001b[0m \u001b[0;34m=\u001b[0m \u001b[0msample_share\u001b[0m\u001b[0;34m.\u001b[0m\u001b[0mowner\u001b[0m\u001b[0;34m\u001b[0m\u001b[0;34m\u001b[0m\u001b[0m\n",
      "\u001b[0m\u001b[0;32m   1708 \u001b[0;31m        if self.round.players_sold.get(entity, {}).get(corporation, None) or (\n",
      "\u001b[0m\u001b[0;32m-> 1709 \u001b[0;31m            \u001b[0mself\u001b[0m\u001b[0;34m.\u001b[0m\u001b[0mbought\u001b[0m\u001b[0;34m(\u001b[0m\u001b[0;34m)\u001b[0m \u001b[0;32mand\u001b[0m \u001b[0;32mnot\u001b[0m \u001b[0mself\u001b[0m\u001b[0;34m.\u001b[0m\u001b[0mcan_buy_multiple\u001b[0m\u001b[0;34m(\u001b[0m\u001b[0mentity\u001b[0m\u001b[0;34m,\u001b[0m \u001b[0mcorporation\u001b[0m\u001b[0;34m,\u001b[0m \u001b[0mowner\u001b[0m\u001b[0;34m)\u001b[0m\u001b[0;34m\u001b[0m\u001b[0;34m\u001b[0m\u001b[0m\n",
      "\u001b[0m\u001b[0;32m   1710 \u001b[0;31m        ):\n",
      "\u001b[0m\u001b[0;32m   1711 \u001b[0;31m            \u001b[0;32mreturn\u001b[0m \u001b[0;32mFalse\u001b[0m\u001b[0;34m\u001b[0m\u001b[0;34m\u001b[0m\u001b[0m\n",
      "\u001b[0m\n"
     ]
    },
    {
     "name": "stdin",
     "output_type": "stream",
     "text": [
      "ipdb>  n\n"
     ]
    },
    {
     "name": "stdout",
     "output_type": "stream",
     "text": [
      "> \u001b[0;32m/home/revys/workspace/RL_18xx/rl18xx/game/engine/round.py\u001b[0m(1708)\u001b[0;36mcan_buy_shares\u001b[0;34m()\u001b[0m\n",
      "\u001b[0;32m   1706 \u001b[0;31m        \u001b[0mcorporation\u001b[0m \u001b[0;34m=\u001b[0m \u001b[0msample_share\u001b[0m\u001b[0;34m.\u001b[0m\u001b[0mcorporation\u001b[0m\u001b[0;34m(\u001b[0m\u001b[0;34m)\u001b[0m\u001b[0;34m\u001b[0m\u001b[0;34m\u001b[0m\u001b[0m\n",
      "\u001b[0m\u001b[0;32m   1707 \u001b[0;31m        \u001b[0mowner\u001b[0m \u001b[0;34m=\u001b[0m \u001b[0msample_share\u001b[0m\u001b[0;34m.\u001b[0m\u001b[0mowner\u001b[0m\u001b[0;34m\u001b[0m\u001b[0;34m\u001b[0m\u001b[0m\n",
      "\u001b[0m\u001b[0;32m-> 1708 \u001b[0;31m        if self.round.players_sold.get(entity, {}).get(corporation, None) or (\n",
      "\u001b[0m\u001b[0;32m   1709 \u001b[0;31m            \u001b[0mself\u001b[0m\u001b[0;34m.\u001b[0m\u001b[0mbought\u001b[0m\u001b[0;34m(\u001b[0m\u001b[0;34m)\u001b[0m \u001b[0;32mand\u001b[0m \u001b[0;32mnot\u001b[0m \u001b[0mself\u001b[0m\u001b[0;34m.\u001b[0m\u001b[0mcan_buy_multiple\u001b[0m\u001b[0;34m(\u001b[0m\u001b[0mentity\u001b[0m\u001b[0;34m,\u001b[0m \u001b[0mcorporation\u001b[0m\u001b[0;34m,\u001b[0m \u001b[0mowner\u001b[0m\u001b[0;34m)\u001b[0m\u001b[0;34m\u001b[0m\u001b[0;34m\u001b[0m\u001b[0m\n",
      "\u001b[0m\u001b[0;32m   1710 \u001b[0;31m        ):\n",
      "\u001b[0m\n"
     ]
    },
    {
     "name": "stdin",
     "output_type": "stream",
     "text": [
      "ipdb>  n\n"
     ]
    },
    {
     "name": "stdout",
     "output_type": "stream",
     "text": [
      "> \u001b[0;32m/home/revys/workspace/RL_18xx/rl18xx/game/engine/round.py\u001b[0m(1713)\u001b[0;36mcan_buy_shares\u001b[0;34m()\u001b[0m\n",
      "\u001b[0;32m   1711 \u001b[0;31m            \u001b[0;32mreturn\u001b[0m \u001b[0;32mFalse\u001b[0m\u001b[0;34m\u001b[0m\u001b[0;34m\u001b[0m\u001b[0m\n",
      "\u001b[0m\u001b[0;32m   1712 \u001b[0;31m\u001b[0;34m\u001b[0m\u001b[0m\n",
      "\u001b[0m\u001b[0;32m-> 1713 \u001b[0;31m        \u001b[0mmin_share\u001b[0m \u001b[0;34m=\u001b[0m \u001b[0;32mNone\u001b[0m\u001b[0;34m\u001b[0m\u001b[0;34m\u001b[0m\u001b[0m\n",
      "\u001b[0m\u001b[0;32m   1714 \u001b[0;31m        \u001b[0;32mfor\u001b[0m \u001b[0mshare\u001b[0m \u001b[0;32min\u001b[0m \u001b[0mshares\u001b[0m\u001b[0;34m:\u001b[0m\u001b[0;34m\u001b[0m\u001b[0;34m\u001b[0m\u001b[0m\n",
      "\u001b[0m\u001b[0;32m   1715 \u001b[0;31m            \u001b[0;32mif\u001b[0m \u001b[0;32mnot\u001b[0m \u001b[0mshare\u001b[0m\u001b[0;34m.\u001b[0m\u001b[0mbuyable\u001b[0m\u001b[0;34m:\u001b[0m\u001b[0;34m\u001b[0m\u001b[0;34m\u001b[0m\u001b[0m\n",
      "\u001b[0m\n"
     ]
    },
    {
     "name": "stdin",
     "output_type": "stream",
     "text": [
      "ipdb>  n\n"
     ]
    },
    {
     "name": "stdout",
     "output_type": "stream",
     "text": [
      "> \u001b[0;32m/home/revys/workspace/RL_18xx/rl18xx/game/engine/round.py\u001b[0m(1714)\u001b[0;36mcan_buy_shares\u001b[0;34m()\u001b[0m\n",
      "\u001b[0;32m   1712 \u001b[0;31m\u001b[0;34m\u001b[0m\u001b[0m\n",
      "\u001b[0m\u001b[0;32m   1713 \u001b[0;31m        \u001b[0mmin_share\u001b[0m \u001b[0;34m=\u001b[0m \u001b[0;32mNone\u001b[0m\u001b[0;34m\u001b[0m\u001b[0;34m\u001b[0m\u001b[0m\n",
      "\u001b[0m\u001b[0;32m-> 1714 \u001b[0;31m        \u001b[0;32mfor\u001b[0m \u001b[0mshare\u001b[0m \u001b[0;32min\u001b[0m \u001b[0mshares\u001b[0m\u001b[0;34m:\u001b[0m\u001b[0;34m\u001b[0m\u001b[0;34m\u001b[0m\u001b[0m\n",
      "\u001b[0m\u001b[0;32m   1715 \u001b[0;31m            \u001b[0;32mif\u001b[0m \u001b[0;32mnot\u001b[0m \u001b[0mshare\u001b[0m\u001b[0;34m.\u001b[0m\u001b[0mbuyable\u001b[0m\u001b[0;34m:\u001b[0m\u001b[0;34m\u001b[0m\u001b[0;34m\u001b[0m\u001b[0m\n",
      "\u001b[0m\u001b[0;32m   1716 \u001b[0;31m                \u001b[0;32mcontinue\u001b[0m\u001b[0;34m\u001b[0m\u001b[0;34m\u001b[0m\u001b[0m\n",
      "\u001b[0m\n"
     ]
    },
    {
     "name": "stdin",
     "output_type": "stream",
     "text": [
      "ipdb>  n\n"
     ]
    },
    {
     "name": "stdout",
     "output_type": "stream",
     "text": [
      "> \u001b[0;32m/home/revys/workspace/RL_18xx/rl18xx/game/engine/round.py\u001b[0m(1715)\u001b[0;36mcan_buy_shares\u001b[0;34m()\u001b[0m\n",
      "\u001b[0;32m   1713 \u001b[0;31m        \u001b[0mmin_share\u001b[0m \u001b[0;34m=\u001b[0m \u001b[0;32mNone\u001b[0m\u001b[0;34m\u001b[0m\u001b[0;34m\u001b[0m\u001b[0m\n",
      "\u001b[0m\u001b[0;32m   1714 \u001b[0;31m        \u001b[0;32mfor\u001b[0m \u001b[0mshare\u001b[0m \u001b[0;32min\u001b[0m \u001b[0mshares\u001b[0m\u001b[0;34m:\u001b[0m\u001b[0;34m\u001b[0m\u001b[0;34m\u001b[0m\u001b[0m\n",
      "\u001b[0m\u001b[0;32m-> 1715 \u001b[0;31m            \u001b[0;32mif\u001b[0m \u001b[0;32mnot\u001b[0m \u001b[0mshare\u001b[0m\u001b[0;34m.\u001b[0m\u001b[0mbuyable\u001b[0m\u001b[0;34m:\u001b[0m\u001b[0;34m\u001b[0m\u001b[0;34m\u001b[0m\u001b[0m\n",
      "\u001b[0m\u001b[0;32m   1716 \u001b[0;31m                \u001b[0;32mcontinue\u001b[0m\u001b[0;34m\u001b[0m\u001b[0;34m\u001b[0m\u001b[0m\n",
      "\u001b[0m\u001b[0;32m   1717 \u001b[0;31m            \u001b[0;32mif\u001b[0m \u001b[0;32mnot\u001b[0m \u001b[0mmin_share\u001b[0m \u001b[0;32mor\u001b[0m \u001b[0mshare\u001b[0m\u001b[0;34m.\u001b[0m\u001b[0mpercent\u001b[0m \u001b[0;34m<\u001b[0m \u001b[0mmin_share\u001b[0m\u001b[0;34m.\u001b[0m\u001b[0mpercent\u001b[0m\u001b[0;34m:\u001b[0m\u001b[0;34m\u001b[0m\u001b[0;34m\u001b[0m\u001b[0m\n",
      "\u001b[0m\n"
     ]
    },
    {
     "name": "stdin",
     "output_type": "stream",
     "text": [
      "ipdb>  n\n"
     ]
    },
    {
     "name": "stdout",
     "output_type": "stream",
     "text": [
      "> \u001b[0;32m/home/revys/workspace/RL_18xx/rl18xx/game/engine/round.py\u001b[0m(1717)\u001b[0;36mcan_buy_shares\u001b[0;34m()\u001b[0m\n",
      "\u001b[0;32m   1715 \u001b[0;31m            \u001b[0;32mif\u001b[0m \u001b[0;32mnot\u001b[0m \u001b[0mshare\u001b[0m\u001b[0;34m.\u001b[0m\u001b[0mbuyable\u001b[0m\u001b[0;34m:\u001b[0m\u001b[0;34m\u001b[0m\u001b[0;34m\u001b[0m\u001b[0m\n",
      "\u001b[0m\u001b[0;32m   1716 \u001b[0;31m                \u001b[0;32mcontinue\u001b[0m\u001b[0;34m\u001b[0m\u001b[0;34m\u001b[0m\u001b[0m\n",
      "\u001b[0m\u001b[0;32m-> 1717 \u001b[0;31m            \u001b[0;32mif\u001b[0m \u001b[0;32mnot\u001b[0m \u001b[0mmin_share\u001b[0m \u001b[0;32mor\u001b[0m \u001b[0mshare\u001b[0m\u001b[0;34m.\u001b[0m\u001b[0mpercent\u001b[0m \u001b[0;34m<\u001b[0m \u001b[0mmin_share\u001b[0m\u001b[0;34m.\u001b[0m\u001b[0mpercent\u001b[0m\u001b[0;34m:\u001b[0m\u001b[0;34m\u001b[0m\u001b[0;34m\u001b[0m\u001b[0m\n",
      "\u001b[0m\u001b[0;32m   1718 \u001b[0;31m                \u001b[0mmin_share\u001b[0m \u001b[0;34m=\u001b[0m \u001b[0mshare\u001b[0m\u001b[0;34m\u001b[0m\u001b[0;34m\u001b[0m\u001b[0m\n",
      "\u001b[0m\u001b[0;32m   1719 \u001b[0;31m\u001b[0;34m\u001b[0m\u001b[0m\n",
      "\u001b[0m\n"
     ]
    },
    {
     "name": "stdin",
     "output_type": "stream",
     "text": [
      "ipdb>  n\n"
     ]
    },
    {
     "name": "stdout",
     "output_type": "stream",
     "text": [
      "> \u001b[0;32m/home/revys/workspace/RL_18xx/rl18xx/game/engine/round.py\u001b[0m(1718)\u001b[0;36mcan_buy_shares\u001b[0;34m()\u001b[0m\n",
      "\u001b[0;32m   1716 \u001b[0;31m                \u001b[0;32mcontinue\u001b[0m\u001b[0;34m\u001b[0m\u001b[0;34m\u001b[0m\u001b[0m\n",
      "\u001b[0m\u001b[0;32m   1717 \u001b[0;31m            \u001b[0;32mif\u001b[0m \u001b[0;32mnot\u001b[0m \u001b[0mmin_share\u001b[0m \u001b[0;32mor\u001b[0m \u001b[0mshare\u001b[0m\u001b[0;34m.\u001b[0m\u001b[0mpercent\u001b[0m \u001b[0;34m<\u001b[0m \u001b[0mmin_share\u001b[0m\u001b[0;34m.\u001b[0m\u001b[0mpercent\u001b[0m\u001b[0;34m:\u001b[0m\u001b[0;34m\u001b[0m\u001b[0;34m\u001b[0m\u001b[0m\n",
      "\u001b[0m\u001b[0;32m-> 1718 \u001b[0;31m                \u001b[0mmin_share\u001b[0m \u001b[0;34m=\u001b[0m \u001b[0mshare\u001b[0m\u001b[0;34m\u001b[0m\u001b[0;34m\u001b[0m\u001b[0m\n",
      "\u001b[0m\u001b[0;32m   1719 \u001b[0;31m\u001b[0;34m\u001b[0m\u001b[0m\n",
      "\u001b[0m\u001b[0;32m   1720 \u001b[0;31m        \u001b[0mbundle\u001b[0m \u001b[0;34m=\u001b[0m \u001b[0mmin_share\u001b[0m\u001b[0;34m.\u001b[0m\u001b[0mto_bundle\u001b[0m\u001b[0;34m(\u001b[0m\u001b[0;34m)\u001b[0m\u001b[0;34m\u001b[0m\u001b[0;34m\u001b[0m\u001b[0m\n",
      "\u001b[0m\n"
     ]
    },
    {
     "name": "stdin",
     "output_type": "stream",
     "text": [
      "ipdb>  n\n"
     ]
    },
    {
     "name": "stdout",
     "output_type": "stream",
     "text": [
      "> \u001b[0;32m/home/revys/workspace/RL_18xx/rl18xx/game/engine/round.py\u001b[0m(1714)\u001b[0;36mcan_buy_shares\u001b[0;34m()\u001b[0m\n",
      "\u001b[0;32m   1712 \u001b[0;31m\u001b[0;34m\u001b[0m\u001b[0m\n",
      "\u001b[0m\u001b[0;32m   1713 \u001b[0;31m        \u001b[0mmin_share\u001b[0m \u001b[0;34m=\u001b[0m \u001b[0;32mNone\u001b[0m\u001b[0;34m\u001b[0m\u001b[0;34m\u001b[0m\u001b[0m\n",
      "\u001b[0m\u001b[0;32m-> 1714 \u001b[0;31m        \u001b[0;32mfor\u001b[0m \u001b[0mshare\u001b[0m \u001b[0;32min\u001b[0m \u001b[0mshares\u001b[0m\u001b[0;34m:\u001b[0m\u001b[0;34m\u001b[0m\u001b[0;34m\u001b[0m\u001b[0m\n",
      "\u001b[0m\u001b[0;32m   1715 \u001b[0;31m            \u001b[0;32mif\u001b[0m \u001b[0;32mnot\u001b[0m \u001b[0mshare\u001b[0m\u001b[0;34m.\u001b[0m\u001b[0mbuyable\u001b[0m\u001b[0;34m:\u001b[0m\u001b[0;34m\u001b[0m\u001b[0;34m\u001b[0m\u001b[0m\n",
      "\u001b[0m\u001b[0;32m   1716 \u001b[0;31m                \u001b[0;32mcontinue\u001b[0m\u001b[0;34m\u001b[0m\u001b[0;34m\u001b[0m\u001b[0m\n",
      "\u001b[0m\n"
     ]
    },
    {
     "name": "stdin",
     "output_type": "stream",
     "text": [
      "ipdb>  n\n"
     ]
    },
    {
     "name": "stdout",
     "output_type": "stream",
     "text": [
      "> \u001b[0;32m/home/revys/workspace/RL_18xx/rl18xx/game/engine/round.py\u001b[0m(1715)\u001b[0;36mcan_buy_shares\u001b[0;34m()\u001b[0m\n",
      "\u001b[0;32m   1713 \u001b[0;31m        \u001b[0mmin_share\u001b[0m \u001b[0;34m=\u001b[0m \u001b[0;32mNone\u001b[0m\u001b[0;34m\u001b[0m\u001b[0;34m\u001b[0m\u001b[0m\n",
      "\u001b[0m\u001b[0;32m   1714 \u001b[0;31m        \u001b[0;32mfor\u001b[0m \u001b[0mshare\u001b[0m \u001b[0;32min\u001b[0m \u001b[0mshares\u001b[0m\u001b[0;34m:\u001b[0m\u001b[0;34m\u001b[0m\u001b[0;34m\u001b[0m\u001b[0m\n",
      "\u001b[0m\u001b[0;32m-> 1715 \u001b[0;31m            \u001b[0;32mif\u001b[0m \u001b[0;32mnot\u001b[0m \u001b[0mshare\u001b[0m\u001b[0;34m.\u001b[0m\u001b[0mbuyable\u001b[0m\u001b[0;34m:\u001b[0m\u001b[0;34m\u001b[0m\u001b[0;34m\u001b[0m\u001b[0m\n",
      "\u001b[0m\u001b[0;32m   1716 \u001b[0;31m                \u001b[0;32mcontinue\u001b[0m\u001b[0;34m\u001b[0m\u001b[0;34m\u001b[0m\u001b[0m\n",
      "\u001b[0m\u001b[0;32m   1717 \u001b[0;31m            \u001b[0;32mif\u001b[0m \u001b[0;32mnot\u001b[0m \u001b[0mmin_share\u001b[0m \u001b[0;32mor\u001b[0m \u001b[0mshare\u001b[0m\u001b[0;34m.\u001b[0m\u001b[0mpercent\u001b[0m \u001b[0;34m<\u001b[0m \u001b[0mmin_share\u001b[0m\u001b[0;34m.\u001b[0m\u001b[0mpercent\u001b[0m\u001b[0;34m:\u001b[0m\u001b[0;34m\u001b[0m\u001b[0;34m\u001b[0m\u001b[0m\n",
      "\u001b[0m\n"
     ]
    },
    {
     "name": "stdin",
     "output_type": "stream",
     "text": [
      "ipdb>  n\n"
     ]
    },
    {
     "name": "stdout",
     "output_type": "stream",
     "text": [
      "> \u001b[0;32m/home/revys/workspace/RL_18xx/rl18xx/game/engine/round.py\u001b[0m(1717)\u001b[0;36mcan_buy_shares\u001b[0;34m()\u001b[0m\n",
      "\u001b[0;32m   1715 \u001b[0;31m            \u001b[0;32mif\u001b[0m \u001b[0;32mnot\u001b[0m \u001b[0mshare\u001b[0m\u001b[0;34m.\u001b[0m\u001b[0mbuyable\u001b[0m\u001b[0;34m:\u001b[0m\u001b[0;34m\u001b[0m\u001b[0;34m\u001b[0m\u001b[0m\n",
      "\u001b[0m\u001b[0;32m   1716 \u001b[0;31m                \u001b[0;32mcontinue\u001b[0m\u001b[0;34m\u001b[0m\u001b[0;34m\u001b[0m\u001b[0m\n",
      "\u001b[0m\u001b[0;32m-> 1717 \u001b[0;31m            \u001b[0;32mif\u001b[0m \u001b[0;32mnot\u001b[0m \u001b[0mmin_share\u001b[0m \u001b[0;32mor\u001b[0m \u001b[0mshare\u001b[0m\u001b[0;34m.\u001b[0m\u001b[0mpercent\u001b[0m \u001b[0;34m<\u001b[0m \u001b[0mmin_share\u001b[0m\u001b[0;34m.\u001b[0m\u001b[0mpercent\u001b[0m\u001b[0;34m:\u001b[0m\u001b[0;34m\u001b[0m\u001b[0;34m\u001b[0m\u001b[0m\n",
      "\u001b[0m\u001b[0;32m   1718 \u001b[0;31m                \u001b[0mmin_share\u001b[0m \u001b[0;34m=\u001b[0m \u001b[0mshare\u001b[0m\u001b[0;34m\u001b[0m\u001b[0;34m\u001b[0m\u001b[0m\n",
      "\u001b[0m\u001b[0;32m   1719 \u001b[0;31m\u001b[0;34m\u001b[0m\u001b[0m\n",
      "\u001b[0m\n"
     ]
    },
    {
     "name": "stdin",
     "output_type": "stream",
     "text": [
      "ipdb>  n\n"
     ]
    },
    {
     "name": "stdout",
     "output_type": "stream",
     "text": [
      "> \u001b[0;32m/home/revys/workspace/RL_18xx/rl18xx/game/engine/round.py\u001b[0m(1714)\u001b[0;36mcan_buy_shares\u001b[0;34m()\u001b[0m\n",
      "\u001b[0;32m   1712 \u001b[0;31m\u001b[0;34m\u001b[0m\u001b[0m\n",
      "\u001b[0m\u001b[0;32m   1713 \u001b[0;31m        \u001b[0mmin_share\u001b[0m \u001b[0;34m=\u001b[0m \u001b[0;32mNone\u001b[0m\u001b[0;34m\u001b[0m\u001b[0;34m\u001b[0m\u001b[0m\n",
      "\u001b[0m\u001b[0;32m-> 1714 \u001b[0;31m        \u001b[0;32mfor\u001b[0m \u001b[0mshare\u001b[0m \u001b[0;32min\u001b[0m \u001b[0mshares\u001b[0m\u001b[0;34m:\u001b[0m\u001b[0;34m\u001b[0m\u001b[0;34m\u001b[0m\u001b[0m\n",
      "\u001b[0m\u001b[0;32m   1715 \u001b[0;31m            \u001b[0;32mif\u001b[0m \u001b[0;32mnot\u001b[0m \u001b[0mshare\u001b[0m\u001b[0;34m.\u001b[0m\u001b[0mbuyable\u001b[0m\u001b[0;34m:\u001b[0m\u001b[0;34m\u001b[0m\u001b[0;34m\u001b[0m\u001b[0m\n",
      "\u001b[0m\u001b[0;32m   1716 \u001b[0;31m                \u001b[0;32mcontinue\u001b[0m\u001b[0;34m\u001b[0m\u001b[0;34m\u001b[0m\u001b[0m\n",
      "\u001b[0m\n"
     ]
    },
    {
     "name": "stdin",
     "output_type": "stream",
     "text": [
      "ipdb>  n\n"
     ]
    },
    {
     "name": "stdout",
     "output_type": "stream",
     "text": [
      "> \u001b[0;32m/home/revys/workspace/RL_18xx/rl18xx/game/engine/round.py\u001b[0m(1715)\u001b[0;36mcan_buy_shares\u001b[0;34m()\u001b[0m\n",
      "\u001b[0;32m   1713 \u001b[0;31m        \u001b[0mmin_share\u001b[0m \u001b[0;34m=\u001b[0m \u001b[0;32mNone\u001b[0m\u001b[0;34m\u001b[0m\u001b[0;34m\u001b[0m\u001b[0m\n",
      "\u001b[0m\u001b[0;32m   1714 \u001b[0;31m        \u001b[0;32mfor\u001b[0m \u001b[0mshare\u001b[0m \u001b[0;32min\u001b[0m \u001b[0mshares\u001b[0m\u001b[0;34m:\u001b[0m\u001b[0;34m\u001b[0m\u001b[0;34m\u001b[0m\u001b[0m\n",
      "\u001b[0m\u001b[0;32m-> 1715 \u001b[0;31m            \u001b[0;32mif\u001b[0m \u001b[0;32mnot\u001b[0m \u001b[0mshare\u001b[0m\u001b[0;34m.\u001b[0m\u001b[0mbuyable\u001b[0m\u001b[0;34m:\u001b[0m\u001b[0;34m\u001b[0m\u001b[0;34m\u001b[0m\u001b[0m\n",
      "\u001b[0m\u001b[0;32m   1716 \u001b[0;31m                \u001b[0;32mcontinue\u001b[0m\u001b[0;34m\u001b[0m\u001b[0;34m\u001b[0m\u001b[0m\n",
      "\u001b[0m\u001b[0;32m   1717 \u001b[0;31m            \u001b[0;32mif\u001b[0m \u001b[0;32mnot\u001b[0m \u001b[0mmin_share\u001b[0m \u001b[0;32mor\u001b[0m \u001b[0mshare\u001b[0m\u001b[0;34m.\u001b[0m\u001b[0mpercent\u001b[0m \u001b[0;34m<\u001b[0m \u001b[0mmin_share\u001b[0m\u001b[0;34m.\u001b[0m\u001b[0mpercent\u001b[0m\u001b[0;34m:\u001b[0m\u001b[0;34m\u001b[0m\u001b[0;34m\u001b[0m\u001b[0m\n",
      "\u001b[0m\n"
     ]
    },
    {
     "name": "stdin",
     "output_type": "stream",
     "text": [
      "ipdb>  n\n"
     ]
    },
    {
     "name": "stdout",
     "output_type": "stream",
     "text": [
      "> \u001b[0;32m/home/revys/workspace/RL_18xx/rl18xx/game/engine/round.py\u001b[0m(1717)\u001b[0;36mcan_buy_shares\u001b[0;34m()\u001b[0m\n",
      "\u001b[0;32m   1715 \u001b[0;31m            \u001b[0;32mif\u001b[0m \u001b[0;32mnot\u001b[0m \u001b[0mshare\u001b[0m\u001b[0;34m.\u001b[0m\u001b[0mbuyable\u001b[0m\u001b[0;34m:\u001b[0m\u001b[0;34m\u001b[0m\u001b[0;34m\u001b[0m\u001b[0m\n",
      "\u001b[0m\u001b[0;32m   1716 \u001b[0;31m                \u001b[0;32mcontinue\u001b[0m\u001b[0;34m\u001b[0m\u001b[0;34m\u001b[0m\u001b[0m\n",
      "\u001b[0m\u001b[0;32m-> 1717 \u001b[0;31m            \u001b[0;32mif\u001b[0m \u001b[0;32mnot\u001b[0m \u001b[0mmin_share\u001b[0m \u001b[0;32mor\u001b[0m \u001b[0mshare\u001b[0m\u001b[0;34m.\u001b[0m\u001b[0mpercent\u001b[0m \u001b[0;34m<\u001b[0m \u001b[0mmin_share\u001b[0m\u001b[0;34m.\u001b[0m\u001b[0mpercent\u001b[0m\u001b[0;34m:\u001b[0m\u001b[0;34m\u001b[0m\u001b[0;34m\u001b[0m\u001b[0m\n",
      "\u001b[0m\u001b[0;32m   1718 \u001b[0;31m                \u001b[0mmin_share\u001b[0m \u001b[0;34m=\u001b[0m \u001b[0mshare\u001b[0m\u001b[0;34m\u001b[0m\u001b[0;34m\u001b[0m\u001b[0m\n",
      "\u001b[0m\u001b[0;32m   1719 \u001b[0;31m\u001b[0;34m\u001b[0m\u001b[0m\n",
      "\u001b[0m\n"
     ]
    },
    {
     "name": "stdin",
     "output_type": "stream",
     "text": [
      "ipdb>  n\n"
     ]
    },
    {
     "name": "stdout",
     "output_type": "stream",
     "text": [
      "> \u001b[0;32m/home/revys/workspace/RL_18xx/rl18xx/game/engine/round.py\u001b[0m(1714)\u001b[0;36mcan_buy_shares\u001b[0;34m()\u001b[0m\n",
      "\u001b[0;32m   1712 \u001b[0;31m\u001b[0;34m\u001b[0m\u001b[0m\n",
      "\u001b[0m\u001b[0;32m   1713 \u001b[0;31m        \u001b[0mmin_share\u001b[0m \u001b[0;34m=\u001b[0m \u001b[0;32mNone\u001b[0m\u001b[0;34m\u001b[0m\u001b[0;34m\u001b[0m\u001b[0m\n",
      "\u001b[0m\u001b[0;32m-> 1714 \u001b[0;31m        \u001b[0;32mfor\u001b[0m \u001b[0mshare\u001b[0m \u001b[0;32min\u001b[0m \u001b[0mshares\u001b[0m\u001b[0;34m:\u001b[0m\u001b[0;34m\u001b[0m\u001b[0;34m\u001b[0m\u001b[0m\n",
      "\u001b[0m\u001b[0;32m   1715 \u001b[0;31m            \u001b[0;32mif\u001b[0m \u001b[0;32mnot\u001b[0m \u001b[0mshare\u001b[0m\u001b[0;34m.\u001b[0m\u001b[0mbuyable\u001b[0m\u001b[0;34m:\u001b[0m\u001b[0;34m\u001b[0m\u001b[0;34m\u001b[0m\u001b[0m\n",
      "\u001b[0m\u001b[0;32m   1716 \u001b[0;31m                \u001b[0;32mcontinue\u001b[0m\u001b[0;34m\u001b[0m\u001b[0;34m\u001b[0m\u001b[0m\n",
      "\u001b[0m\n"
     ]
    },
    {
     "name": "stdin",
     "output_type": "stream",
     "text": [
      "ipdb>  n\n"
     ]
    },
    {
     "name": "stdout",
     "output_type": "stream",
     "text": [
      "> \u001b[0;32m/home/revys/workspace/RL_18xx/rl18xx/game/engine/round.py\u001b[0m(1715)\u001b[0;36mcan_buy_shares\u001b[0;34m()\u001b[0m\n",
      "\u001b[0;32m   1713 \u001b[0;31m        \u001b[0mmin_share\u001b[0m \u001b[0;34m=\u001b[0m \u001b[0;32mNone\u001b[0m\u001b[0;34m\u001b[0m\u001b[0;34m\u001b[0m\u001b[0m\n",
      "\u001b[0m\u001b[0;32m   1714 \u001b[0;31m        \u001b[0;32mfor\u001b[0m \u001b[0mshare\u001b[0m \u001b[0;32min\u001b[0m \u001b[0mshares\u001b[0m\u001b[0;34m:\u001b[0m\u001b[0;34m\u001b[0m\u001b[0;34m\u001b[0m\u001b[0m\n",
      "\u001b[0m\u001b[0;32m-> 1715 \u001b[0;31m            \u001b[0;32mif\u001b[0m \u001b[0;32mnot\u001b[0m \u001b[0mshare\u001b[0m\u001b[0;34m.\u001b[0m\u001b[0mbuyable\u001b[0m\u001b[0;34m:\u001b[0m\u001b[0;34m\u001b[0m\u001b[0;34m\u001b[0m\u001b[0m\n",
      "\u001b[0m\u001b[0;32m   1716 \u001b[0;31m                \u001b[0;32mcontinue\u001b[0m\u001b[0;34m\u001b[0m\u001b[0;34m\u001b[0m\u001b[0m\n",
      "\u001b[0m\u001b[0;32m   1717 \u001b[0;31m            \u001b[0;32mif\u001b[0m \u001b[0;32mnot\u001b[0m \u001b[0mmin_share\u001b[0m \u001b[0;32mor\u001b[0m \u001b[0mshare\u001b[0m\u001b[0;34m.\u001b[0m\u001b[0mpercent\u001b[0m \u001b[0;34m<\u001b[0m \u001b[0mmin_share\u001b[0m\u001b[0;34m.\u001b[0m\u001b[0mpercent\u001b[0m\u001b[0;34m:\u001b[0m\u001b[0;34m\u001b[0m\u001b[0;34m\u001b[0m\u001b[0m\n",
      "\u001b[0m\n"
     ]
    },
    {
     "name": "stdin",
     "output_type": "stream",
     "text": [
      "ipdb>  n\n"
     ]
    },
    {
     "name": "stdout",
     "output_type": "stream",
     "text": [
      "> \u001b[0;32m/home/revys/workspace/RL_18xx/rl18xx/game/engine/round.py\u001b[0m(1717)\u001b[0;36mcan_buy_shares\u001b[0;34m()\u001b[0m\n",
      "\u001b[0;32m   1715 \u001b[0;31m            \u001b[0;32mif\u001b[0m \u001b[0;32mnot\u001b[0m \u001b[0mshare\u001b[0m\u001b[0;34m.\u001b[0m\u001b[0mbuyable\u001b[0m\u001b[0;34m:\u001b[0m\u001b[0;34m\u001b[0m\u001b[0;34m\u001b[0m\u001b[0m\n",
      "\u001b[0m\u001b[0;32m   1716 \u001b[0;31m                \u001b[0;32mcontinue\u001b[0m\u001b[0;34m\u001b[0m\u001b[0;34m\u001b[0m\u001b[0m\n",
      "\u001b[0m\u001b[0;32m-> 1717 \u001b[0;31m            \u001b[0;32mif\u001b[0m \u001b[0;32mnot\u001b[0m \u001b[0mmin_share\u001b[0m \u001b[0;32mor\u001b[0m \u001b[0mshare\u001b[0m\u001b[0;34m.\u001b[0m\u001b[0mpercent\u001b[0m \u001b[0;34m<\u001b[0m \u001b[0mmin_share\u001b[0m\u001b[0;34m.\u001b[0m\u001b[0mpercent\u001b[0m\u001b[0;34m:\u001b[0m\u001b[0;34m\u001b[0m\u001b[0;34m\u001b[0m\u001b[0m\n",
      "\u001b[0m\u001b[0;32m   1718 \u001b[0;31m                \u001b[0mmin_share\u001b[0m \u001b[0;34m=\u001b[0m \u001b[0mshare\u001b[0m\u001b[0;34m\u001b[0m\u001b[0;34m\u001b[0m\u001b[0m\n",
      "\u001b[0m\u001b[0;32m   1719 \u001b[0;31m\u001b[0;34m\u001b[0m\u001b[0m\n",
      "\u001b[0m\n"
     ]
    },
    {
     "name": "stdin",
     "output_type": "stream",
     "text": [
      "ipdb>  n\n"
     ]
    },
    {
     "name": "stdout",
     "output_type": "stream",
     "text": [
      "> \u001b[0;32m/home/revys/workspace/RL_18xx/rl18xx/game/engine/round.py\u001b[0m(1714)\u001b[0;36mcan_buy_shares\u001b[0;34m()\u001b[0m\n",
      "\u001b[0;32m   1712 \u001b[0;31m\u001b[0;34m\u001b[0m\u001b[0m\n",
      "\u001b[0m\u001b[0;32m   1713 \u001b[0;31m        \u001b[0mmin_share\u001b[0m \u001b[0;34m=\u001b[0m \u001b[0;32mNone\u001b[0m\u001b[0;34m\u001b[0m\u001b[0;34m\u001b[0m\u001b[0m\n",
      "\u001b[0m\u001b[0;32m-> 1714 \u001b[0;31m        \u001b[0;32mfor\u001b[0m \u001b[0mshare\u001b[0m \u001b[0;32min\u001b[0m \u001b[0mshares\u001b[0m\u001b[0;34m:\u001b[0m\u001b[0;34m\u001b[0m\u001b[0;34m\u001b[0m\u001b[0m\n",
      "\u001b[0m\u001b[0;32m   1715 \u001b[0;31m            \u001b[0;32mif\u001b[0m \u001b[0;32mnot\u001b[0m \u001b[0mshare\u001b[0m\u001b[0;34m.\u001b[0m\u001b[0mbuyable\u001b[0m\u001b[0;34m:\u001b[0m\u001b[0;34m\u001b[0m\u001b[0;34m\u001b[0m\u001b[0m\n",
      "\u001b[0m\u001b[0;32m   1716 \u001b[0;31m                \u001b[0;32mcontinue\u001b[0m\u001b[0;34m\u001b[0m\u001b[0;34m\u001b[0m\u001b[0m\n",
      "\u001b[0m\n"
     ]
    },
    {
     "name": "stdin",
     "output_type": "stream",
     "text": [
      "ipdb>  n\n"
     ]
    },
    {
     "name": "stdout",
     "output_type": "stream",
     "text": [
      "> \u001b[0;32m/home/revys/workspace/RL_18xx/rl18xx/game/engine/round.py\u001b[0m(1715)\u001b[0;36mcan_buy_shares\u001b[0;34m()\u001b[0m\n",
      "\u001b[0;32m   1713 \u001b[0;31m        \u001b[0mmin_share\u001b[0m \u001b[0;34m=\u001b[0m \u001b[0;32mNone\u001b[0m\u001b[0;34m\u001b[0m\u001b[0;34m\u001b[0m\u001b[0m\n",
      "\u001b[0m\u001b[0;32m   1714 \u001b[0;31m        \u001b[0;32mfor\u001b[0m \u001b[0mshare\u001b[0m \u001b[0;32min\u001b[0m \u001b[0mshares\u001b[0m\u001b[0;34m:\u001b[0m\u001b[0;34m\u001b[0m\u001b[0;34m\u001b[0m\u001b[0m\n",
      "\u001b[0m\u001b[0;32m-> 1715 \u001b[0;31m            \u001b[0;32mif\u001b[0m \u001b[0;32mnot\u001b[0m \u001b[0mshare\u001b[0m\u001b[0;34m.\u001b[0m\u001b[0mbuyable\u001b[0m\u001b[0;34m:\u001b[0m\u001b[0;34m\u001b[0m\u001b[0;34m\u001b[0m\u001b[0m\n",
      "\u001b[0m\u001b[0;32m   1716 \u001b[0;31m                \u001b[0;32mcontinue\u001b[0m\u001b[0;34m\u001b[0m\u001b[0;34m\u001b[0m\u001b[0m\n",
      "\u001b[0m\u001b[0;32m   1717 \u001b[0;31m            \u001b[0;32mif\u001b[0m \u001b[0;32mnot\u001b[0m \u001b[0mmin_share\u001b[0m \u001b[0;32mor\u001b[0m \u001b[0mshare\u001b[0m\u001b[0;34m.\u001b[0m\u001b[0mpercent\u001b[0m \u001b[0;34m<\u001b[0m \u001b[0mmin_share\u001b[0m\u001b[0;34m.\u001b[0m\u001b[0mpercent\u001b[0m\u001b[0;34m:\u001b[0m\u001b[0;34m\u001b[0m\u001b[0;34m\u001b[0m\u001b[0m\n",
      "\u001b[0m\n"
     ]
    },
    {
     "name": "stdin",
     "output_type": "stream",
     "text": [
      "ipdb>  n\n"
     ]
    },
    {
     "name": "stdout",
     "output_type": "stream",
     "text": [
      "> \u001b[0;32m/home/revys/workspace/RL_18xx/rl18xx/game/engine/round.py\u001b[0m(1717)\u001b[0;36mcan_buy_shares\u001b[0;34m()\u001b[0m\n",
      "\u001b[0;32m   1715 \u001b[0;31m            \u001b[0;32mif\u001b[0m \u001b[0;32mnot\u001b[0m \u001b[0mshare\u001b[0m\u001b[0;34m.\u001b[0m\u001b[0mbuyable\u001b[0m\u001b[0;34m:\u001b[0m\u001b[0;34m\u001b[0m\u001b[0;34m\u001b[0m\u001b[0m\n",
      "\u001b[0m\u001b[0;32m   1716 \u001b[0;31m                \u001b[0;32mcontinue\u001b[0m\u001b[0;34m\u001b[0m\u001b[0;34m\u001b[0m\u001b[0m\n",
      "\u001b[0m\u001b[0;32m-> 1717 \u001b[0;31m            \u001b[0;32mif\u001b[0m \u001b[0;32mnot\u001b[0m \u001b[0mmin_share\u001b[0m \u001b[0;32mor\u001b[0m \u001b[0mshare\u001b[0m\u001b[0;34m.\u001b[0m\u001b[0mpercent\u001b[0m \u001b[0;34m<\u001b[0m \u001b[0mmin_share\u001b[0m\u001b[0;34m.\u001b[0m\u001b[0mpercent\u001b[0m\u001b[0;34m:\u001b[0m\u001b[0;34m\u001b[0m\u001b[0;34m\u001b[0m\u001b[0m\n",
      "\u001b[0m\u001b[0;32m   1718 \u001b[0;31m                \u001b[0mmin_share\u001b[0m \u001b[0;34m=\u001b[0m \u001b[0mshare\u001b[0m\u001b[0;34m\u001b[0m\u001b[0;34m\u001b[0m\u001b[0m\n",
      "\u001b[0m\u001b[0;32m   1719 \u001b[0;31m\u001b[0;34m\u001b[0m\u001b[0m\n",
      "\u001b[0m\n"
     ]
    },
    {
     "name": "stdin",
     "output_type": "stream",
     "text": [
      "ipdb>  n\n"
     ]
    },
    {
     "name": "stdout",
     "output_type": "stream",
     "text": [
      "> \u001b[0;32m/home/revys/workspace/RL_18xx/rl18xx/game/engine/round.py\u001b[0m(1714)\u001b[0;36mcan_buy_shares\u001b[0;34m()\u001b[0m\n",
      "\u001b[0;32m   1712 \u001b[0;31m\u001b[0;34m\u001b[0m\u001b[0m\n",
      "\u001b[0m\u001b[0;32m   1713 \u001b[0;31m        \u001b[0mmin_share\u001b[0m \u001b[0;34m=\u001b[0m \u001b[0;32mNone\u001b[0m\u001b[0;34m\u001b[0m\u001b[0;34m\u001b[0m\u001b[0m\n",
      "\u001b[0m\u001b[0;32m-> 1714 \u001b[0;31m        \u001b[0;32mfor\u001b[0m \u001b[0mshare\u001b[0m \u001b[0;32min\u001b[0m \u001b[0mshares\u001b[0m\u001b[0;34m:\u001b[0m\u001b[0;34m\u001b[0m\u001b[0;34m\u001b[0m\u001b[0m\n",
      "\u001b[0m\u001b[0;32m   1715 \u001b[0;31m            \u001b[0;32mif\u001b[0m \u001b[0;32mnot\u001b[0m \u001b[0mshare\u001b[0m\u001b[0;34m.\u001b[0m\u001b[0mbuyable\u001b[0m\u001b[0;34m:\u001b[0m\u001b[0;34m\u001b[0m\u001b[0;34m\u001b[0m\u001b[0m\n",
      "\u001b[0m\u001b[0;32m   1716 \u001b[0;31m                \u001b[0;32mcontinue\u001b[0m\u001b[0;34m\u001b[0m\u001b[0;34m\u001b[0m\u001b[0m\n",
      "\u001b[0m\n"
     ]
    },
    {
     "name": "stdin",
     "output_type": "stream",
     "text": [
      "ipdb>  n\n"
     ]
    },
    {
     "name": "stdout",
     "output_type": "stream",
     "text": [
      "> \u001b[0;32m/home/revys/workspace/RL_18xx/rl18xx/game/engine/round.py\u001b[0m(1715)\u001b[0;36mcan_buy_shares\u001b[0;34m()\u001b[0m\n",
      "\u001b[0;32m   1713 \u001b[0;31m        \u001b[0mmin_share\u001b[0m \u001b[0;34m=\u001b[0m \u001b[0;32mNone\u001b[0m\u001b[0;34m\u001b[0m\u001b[0;34m\u001b[0m\u001b[0m\n",
      "\u001b[0m\u001b[0;32m   1714 \u001b[0;31m        \u001b[0;32mfor\u001b[0m \u001b[0mshare\u001b[0m \u001b[0;32min\u001b[0m \u001b[0mshares\u001b[0m\u001b[0;34m:\u001b[0m\u001b[0;34m\u001b[0m\u001b[0;34m\u001b[0m\u001b[0m\n",
      "\u001b[0m\u001b[0;32m-> 1715 \u001b[0;31m            \u001b[0;32mif\u001b[0m \u001b[0;32mnot\u001b[0m \u001b[0mshare\u001b[0m\u001b[0;34m.\u001b[0m\u001b[0mbuyable\u001b[0m\u001b[0;34m:\u001b[0m\u001b[0;34m\u001b[0m\u001b[0;34m\u001b[0m\u001b[0m\n",
      "\u001b[0m\u001b[0;32m   1716 \u001b[0;31m                \u001b[0;32mcontinue\u001b[0m\u001b[0;34m\u001b[0m\u001b[0;34m\u001b[0m\u001b[0m\n",
      "\u001b[0m\u001b[0;32m   1717 \u001b[0;31m            \u001b[0;32mif\u001b[0m \u001b[0;32mnot\u001b[0m \u001b[0mmin_share\u001b[0m \u001b[0;32mor\u001b[0m \u001b[0mshare\u001b[0m\u001b[0;34m.\u001b[0m\u001b[0mpercent\u001b[0m \u001b[0;34m<\u001b[0m \u001b[0mmin_share\u001b[0m\u001b[0;34m.\u001b[0m\u001b[0mpercent\u001b[0m\u001b[0;34m:\u001b[0m\u001b[0;34m\u001b[0m\u001b[0;34m\u001b[0m\u001b[0m\n",
      "\u001b[0m\n"
     ]
    },
    {
     "name": "stdin",
     "output_type": "stream",
     "text": [
      "ipdb>  n\n"
     ]
    },
    {
     "name": "stdout",
     "output_type": "stream",
     "text": [
      "> \u001b[0;32m/home/revys/workspace/RL_18xx/rl18xx/game/engine/round.py\u001b[0m(1717)\u001b[0;36mcan_buy_shares\u001b[0;34m()\u001b[0m\n",
      "\u001b[0;32m   1715 \u001b[0;31m            \u001b[0;32mif\u001b[0m \u001b[0;32mnot\u001b[0m \u001b[0mshare\u001b[0m\u001b[0;34m.\u001b[0m\u001b[0mbuyable\u001b[0m\u001b[0;34m:\u001b[0m\u001b[0;34m\u001b[0m\u001b[0;34m\u001b[0m\u001b[0m\n",
      "\u001b[0m\u001b[0;32m   1716 \u001b[0;31m                \u001b[0;32mcontinue\u001b[0m\u001b[0;34m\u001b[0m\u001b[0;34m\u001b[0m\u001b[0m\n",
      "\u001b[0m\u001b[0;32m-> 1717 \u001b[0;31m            \u001b[0;32mif\u001b[0m \u001b[0;32mnot\u001b[0m \u001b[0mmin_share\u001b[0m \u001b[0;32mor\u001b[0m \u001b[0mshare\u001b[0m\u001b[0;34m.\u001b[0m\u001b[0mpercent\u001b[0m \u001b[0;34m<\u001b[0m \u001b[0mmin_share\u001b[0m\u001b[0;34m.\u001b[0m\u001b[0mpercent\u001b[0m\u001b[0;34m:\u001b[0m\u001b[0;34m\u001b[0m\u001b[0;34m\u001b[0m\u001b[0m\n",
      "\u001b[0m\u001b[0;32m   1718 \u001b[0;31m                \u001b[0mmin_share\u001b[0m \u001b[0;34m=\u001b[0m \u001b[0mshare\u001b[0m\u001b[0;34m\u001b[0m\u001b[0;34m\u001b[0m\u001b[0m\n",
      "\u001b[0m\u001b[0;32m   1719 \u001b[0;31m\u001b[0;34m\u001b[0m\u001b[0m\n",
      "\u001b[0m\n"
     ]
    },
    {
     "name": "stdin",
     "output_type": "stream",
     "text": [
      "ipdb>  n\n"
     ]
    },
    {
     "name": "stdout",
     "output_type": "stream",
     "text": [
      "> \u001b[0;32m/home/revys/workspace/RL_18xx/rl18xx/game/engine/round.py\u001b[0m(1714)\u001b[0;36mcan_buy_shares\u001b[0;34m()\u001b[0m\n",
      "\u001b[0;32m   1712 \u001b[0;31m\u001b[0;34m\u001b[0m\u001b[0m\n",
      "\u001b[0m\u001b[0;32m   1713 \u001b[0;31m        \u001b[0mmin_share\u001b[0m \u001b[0;34m=\u001b[0m \u001b[0;32mNone\u001b[0m\u001b[0;34m\u001b[0m\u001b[0;34m\u001b[0m\u001b[0m\n",
      "\u001b[0m\u001b[0;32m-> 1714 \u001b[0;31m        \u001b[0;32mfor\u001b[0m \u001b[0mshare\u001b[0m \u001b[0;32min\u001b[0m \u001b[0mshares\u001b[0m\u001b[0;34m:\u001b[0m\u001b[0;34m\u001b[0m\u001b[0;34m\u001b[0m\u001b[0m\n",
      "\u001b[0m\u001b[0;32m   1715 \u001b[0;31m            \u001b[0;32mif\u001b[0m \u001b[0;32mnot\u001b[0m \u001b[0mshare\u001b[0m\u001b[0;34m.\u001b[0m\u001b[0mbuyable\u001b[0m\u001b[0;34m:\u001b[0m\u001b[0;34m\u001b[0m\u001b[0;34m\u001b[0m\u001b[0m\n",
      "\u001b[0m\u001b[0;32m   1716 \u001b[0;31m                \u001b[0;32mcontinue\u001b[0m\u001b[0;34m\u001b[0m\u001b[0;34m\u001b[0m\u001b[0m\n",
      "\u001b[0m\n"
     ]
    },
    {
     "name": "stdin",
     "output_type": "stream",
     "text": [
      "ipdb>  n\n"
     ]
    },
    {
     "name": "stdout",
     "output_type": "stream",
     "text": [
      "> \u001b[0;32m/home/revys/workspace/RL_18xx/rl18xx/game/engine/round.py\u001b[0m(1715)\u001b[0;36mcan_buy_shares\u001b[0;34m()\u001b[0m\n",
      "\u001b[0;32m   1713 \u001b[0;31m        \u001b[0mmin_share\u001b[0m \u001b[0;34m=\u001b[0m \u001b[0;32mNone\u001b[0m\u001b[0;34m\u001b[0m\u001b[0;34m\u001b[0m\u001b[0m\n",
      "\u001b[0m\u001b[0;32m   1714 \u001b[0;31m        \u001b[0;32mfor\u001b[0m \u001b[0mshare\u001b[0m \u001b[0;32min\u001b[0m \u001b[0mshares\u001b[0m\u001b[0;34m:\u001b[0m\u001b[0;34m\u001b[0m\u001b[0;34m\u001b[0m\u001b[0m\n",
      "\u001b[0m\u001b[0;32m-> 1715 \u001b[0;31m            \u001b[0;32mif\u001b[0m \u001b[0;32mnot\u001b[0m \u001b[0mshare\u001b[0m\u001b[0;34m.\u001b[0m\u001b[0mbuyable\u001b[0m\u001b[0;34m:\u001b[0m\u001b[0;34m\u001b[0m\u001b[0;34m\u001b[0m\u001b[0m\n",
      "\u001b[0m\u001b[0;32m   1716 \u001b[0;31m                \u001b[0;32mcontinue\u001b[0m\u001b[0;34m\u001b[0m\u001b[0;34m\u001b[0m\u001b[0m\n",
      "\u001b[0m\u001b[0;32m   1717 \u001b[0;31m            \u001b[0;32mif\u001b[0m \u001b[0;32mnot\u001b[0m \u001b[0mmin_share\u001b[0m \u001b[0;32mor\u001b[0m \u001b[0mshare\u001b[0m\u001b[0;34m.\u001b[0m\u001b[0mpercent\u001b[0m \u001b[0;34m<\u001b[0m \u001b[0mmin_share\u001b[0m\u001b[0;34m.\u001b[0m\u001b[0mpercent\u001b[0m\u001b[0;34m:\u001b[0m\u001b[0;34m\u001b[0m\u001b[0;34m\u001b[0m\u001b[0m\n",
      "\u001b[0m\n"
     ]
    },
    {
     "name": "stdin",
     "output_type": "stream",
     "text": [
      "ipdb>  n\n"
     ]
    },
    {
     "name": "stdout",
     "output_type": "stream",
     "text": [
      "> \u001b[0;32m/home/revys/workspace/RL_18xx/rl18xx/game/engine/round.py\u001b[0m(1717)\u001b[0;36mcan_buy_shares\u001b[0;34m()\u001b[0m\n",
      "\u001b[0;32m   1715 \u001b[0;31m            \u001b[0;32mif\u001b[0m \u001b[0;32mnot\u001b[0m \u001b[0mshare\u001b[0m\u001b[0;34m.\u001b[0m\u001b[0mbuyable\u001b[0m\u001b[0;34m:\u001b[0m\u001b[0;34m\u001b[0m\u001b[0;34m\u001b[0m\u001b[0m\n",
      "\u001b[0m\u001b[0;32m   1716 \u001b[0;31m                \u001b[0;32mcontinue\u001b[0m\u001b[0;34m\u001b[0m\u001b[0;34m\u001b[0m\u001b[0m\n",
      "\u001b[0m\u001b[0;32m-> 1717 \u001b[0;31m            \u001b[0;32mif\u001b[0m \u001b[0;32mnot\u001b[0m \u001b[0mmin_share\u001b[0m \u001b[0;32mor\u001b[0m \u001b[0mshare\u001b[0m\u001b[0;34m.\u001b[0m\u001b[0mpercent\u001b[0m \u001b[0;34m<\u001b[0m \u001b[0mmin_share\u001b[0m\u001b[0;34m.\u001b[0m\u001b[0mpercent\u001b[0m\u001b[0;34m:\u001b[0m\u001b[0;34m\u001b[0m\u001b[0;34m\u001b[0m\u001b[0m\n",
      "\u001b[0m\u001b[0;32m   1718 \u001b[0;31m                \u001b[0mmin_share\u001b[0m \u001b[0;34m=\u001b[0m \u001b[0mshare\u001b[0m\u001b[0;34m\u001b[0m\u001b[0;34m\u001b[0m\u001b[0m\n",
      "\u001b[0m\u001b[0;32m   1719 \u001b[0;31m\u001b[0;34m\u001b[0m\u001b[0m\n",
      "\u001b[0m\n"
     ]
    },
    {
     "name": "stdin",
     "output_type": "stream",
     "text": [
      "ipdb>  n\n"
     ]
    },
    {
     "name": "stdout",
     "output_type": "stream",
     "text": [
      "> \u001b[0;32m/home/revys/workspace/RL_18xx/rl18xx/game/engine/round.py\u001b[0m(1714)\u001b[0;36mcan_buy_shares\u001b[0;34m()\u001b[0m\n",
      "\u001b[0;32m   1712 \u001b[0;31m\u001b[0;34m\u001b[0m\u001b[0m\n",
      "\u001b[0m\u001b[0;32m   1713 \u001b[0;31m        \u001b[0mmin_share\u001b[0m \u001b[0;34m=\u001b[0m \u001b[0;32mNone\u001b[0m\u001b[0;34m\u001b[0m\u001b[0;34m\u001b[0m\u001b[0m\n",
      "\u001b[0m\u001b[0;32m-> 1714 \u001b[0;31m        \u001b[0;32mfor\u001b[0m \u001b[0mshare\u001b[0m \u001b[0;32min\u001b[0m \u001b[0mshares\u001b[0m\u001b[0;34m:\u001b[0m\u001b[0;34m\u001b[0m\u001b[0;34m\u001b[0m\u001b[0m\n",
      "\u001b[0m\u001b[0;32m   1715 \u001b[0;31m            \u001b[0;32mif\u001b[0m \u001b[0;32mnot\u001b[0m \u001b[0mshare\u001b[0m\u001b[0;34m.\u001b[0m\u001b[0mbuyable\u001b[0m\u001b[0;34m:\u001b[0m\u001b[0;34m\u001b[0m\u001b[0;34m\u001b[0m\u001b[0m\n",
      "\u001b[0m\u001b[0;32m   1716 \u001b[0;31m                \u001b[0;32mcontinue\u001b[0m\u001b[0;34m\u001b[0m\u001b[0;34m\u001b[0m\u001b[0m\n",
      "\u001b[0m\n"
     ]
    },
    {
     "name": "stdin",
     "output_type": "stream",
     "text": [
      "ipdb>  n\n"
     ]
    },
    {
     "name": "stdout",
     "output_type": "stream",
     "text": [
      "> \u001b[0;32m/home/revys/workspace/RL_18xx/rl18xx/game/engine/round.py\u001b[0m(1715)\u001b[0;36mcan_buy_shares\u001b[0;34m()\u001b[0m\n",
      "\u001b[0;32m   1713 \u001b[0;31m        \u001b[0mmin_share\u001b[0m \u001b[0;34m=\u001b[0m \u001b[0;32mNone\u001b[0m\u001b[0;34m\u001b[0m\u001b[0;34m\u001b[0m\u001b[0m\n",
      "\u001b[0m\u001b[0;32m   1714 \u001b[0;31m        \u001b[0;32mfor\u001b[0m \u001b[0mshare\u001b[0m \u001b[0;32min\u001b[0m \u001b[0mshares\u001b[0m\u001b[0;34m:\u001b[0m\u001b[0;34m\u001b[0m\u001b[0;34m\u001b[0m\u001b[0m\n",
      "\u001b[0m\u001b[0;32m-> 1715 \u001b[0;31m            \u001b[0;32mif\u001b[0m \u001b[0;32mnot\u001b[0m \u001b[0mshare\u001b[0m\u001b[0;34m.\u001b[0m\u001b[0mbuyable\u001b[0m\u001b[0;34m:\u001b[0m\u001b[0;34m\u001b[0m\u001b[0;34m\u001b[0m\u001b[0m\n",
      "\u001b[0m\u001b[0;32m   1716 \u001b[0;31m                \u001b[0;32mcontinue\u001b[0m\u001b[0;34m\u001b[0m\u001b[0;34m\u001b[0m\u001b[0m\n",
      "\u001b[0m\u001b[0;32m   1717 \u001b[0;31m            \u001b[0;32mif\u001b[0m \u001b[0;32mnot\u001b[0m \u001b[0mmin_share\u001b[0m \u001b[0;32mor\u001b[0m \u001b[0mshare\u001b[0m\u001b[0;34m.\u001b[0m\u001b[0mpercent\u001b[0m \u001b[0;34m<\u001b[0m \u001b[0mmin_share\u001b[0m\u001b[0;34m.\u001b[0m\u001b[0mpercent\u001b[0m\u001b[0;34m:\u001b[0m\u001b[0;34m\u001b[0m\u001b[0;34m\u001b[0m\u001b[0m\n",
      "\u001b[0m\n"
     ]
    },
    {
     "name": "stdin",
     "output_type": "stream",
     "text": [
      "ipdb>  n\n"
     ]
    },
    {
     "name": "stdout",
     "output_type": "stream",
     "text": [
      "> \u001b[0;32m/home/revys/workspace/RL_18xx/rl18xx/game/engine/round.py\u001b[0m(1717)\u001b[0;36mcan_buy_shares\u001b[0;34m()\u001b[0m\n",
      "\u001b[0;32m   1715 \u001b[0;31m            \u001b[0;32mif\u001b[0m \u001b[0;32mnot\u001b[0m \u001b[0mshare\u001b[0m\u001b[0;34m.\u001b[0m\u001b[0mbuyable\u001b[0m\u001b[0;34m:\u001b[0m\u001b[0;34m\u001b[0m\u001b[0;34m\u001b[0m\u001b[0m\n",
      "\u001b[0m\u001b[0;32m   1716 \u001b[0;31m                \u001b[0;32mcontinue\u001b[0m\u001b[0;34m\u001b[0m\u001b[0;34m\u001b[0m\u001b[0m\n",
      "\u001b[0m\u001b[0;32m-> 1717 \u001b[0;31m            \u001b[0;32mif\u001b[0m \u001b[0;32mnot\u001b[0m \u001b[0mmin_share\u001b[0m \u001b[0;32mor\u001b[0m \u001b[0mshare\u001b[0m\u001b[0;34m.\u001b[0m\u001b[0mpercent\u001b[0m \u001b[0;34m<\u001b[0m \u001b[0mmin_share\u001b[0m\u001b[0;34m.\u001b[0m\u001b[0mpercent\u001b[0m\u001b[0;34m:\u001b[0m\u001b[0;34m\u001b[0m\u001b[0;34m\u001b[0m\u001b[0m\n",
      "\u001b[0m\u001b[0;32m   1718 \u001b[0;31m                \u001b[0mmin_share\u001b[0m \u001b[0;34m=\u001b[0m \u001b[0mshare\u001b[0m\u001b[0;34m\u001b[0m\u001b[0;34m\u001b[0m\u001b[0m\n",
      "\u001b[0m\u001b[0;32m   1719 \u001b[0;31m\u001b[0;34m\u001b[0m\u001b[0m\n",
      "\u001b[0m\n"
     ]
    },
    {
     "name": "stdin",
     "output_type": "stream",
     "text": [
      "ipdb>  n\n"
     ]
    },
    {
     "name": "stdout",
     "output_type": "stream",
     "text": [
      "> \u001b[0;32m/home/revys/workspace/RL_18xx/rl18xx/game/engine/round.py\u001b[0m(1714)\u001b[0;36mcan_buy_shares\u001b[0;34m()\u001b[0m\n",
      "\u001b[0;32m   1712 \u001b[0;31m\u001b[0;34m\u001b[0m\u001b[0m\n",
      "\u001b[0m\u001b[0;32m   1713 \u001b[0;31m        \u001b[0mmin_share\u001b[0m \u001b[0;34m=\u001b[0m \u001b[0;32mNone\u001b[0m\u001b[0;34m\u001b[0m\u001b[0;34m\u001b[0m\u001b[0m\n",
      "\u001b[0m\u001b[0;32m-> 1714 \u001b[0;31m        \u001b[0;32mfor\u001b[0m \u001b[0mshare\u001b[0m \u001b[0;32min\u001b[0m \u001b[0mshares\u001b[0m\u001b[0;34m:\u001b[0m\u001b[0;34m\u001b[0m\u001b[0;34m\u001b[0m\u001b[0m\n",
      "\u001b[0m\u001b[0;32m   1715 \u001b[0;31m            \u001b[0;32mif\u001b[0m \u001b[0;32mnot\u001b[0m \u001b[0mshare\u001b[0m\u001b[0;34m.\u001b[0m\u001b[0mbuyable\u001b[0m\u001b[0;34m:\u001b[0m\u001b[0;34m\u001b[0m\u001b[0;34m\u001b[0m\u001b[0m\n",
      "\u001b[0m\u001b[0;32m   1716 \u001b[0;31m                \u001b[0;32mcontinue\u001b[0m\u001b[0;34m\u001b[0m\u001b[0;34m\u001b[0m\u001b[0m\n",
      "\u001b[0m\n"
     ]
    },
    {
     "name": "stdin",
     "output_type": "stream",
     "text": [
      "ipdb>  n\n"
     ]
    },
    {
     "name": "stdout",
     "output_type": "stream",
     "text": [
      "> \u001b[0;32m/home/revys/workspace/RL_18xx/rl18xx/game/engine/round.py\u001b[0m(1720)\u001b[0;36mcan_buy_shares\u001b[0;34m()\u001b[0m\n",
      "\u001b[0;32m   1718 \u001b[0;31m                \u001b[0mmin_share\u001b[0m \u001b[0;34m=\u001b[0m \u001b[0mshare\u001b[0m\u001b[0;34m\u001b[0m\u001b[0;34m\u001b[0m\u001b[0m\n",
      "\u001b[0m\u001b[0;32m   1719 \u001b[0;31m\u001b[0;34m\u001b[0m\u001b[0m\n",
      "\u001b[0m\u001b[0;32m-> 1720 \u001b[0;31m        \u001b[0mbundle\u001b[0m \u001b[0;34m=\u001b[0m \u001b[0mmin_share\u001b[0m\u001b[0;34m.\u001b[0m\u001b[0mto_bundle\u001b[0m\u001b[0;34m(\u001b[0m\u001b[0;34m)\u001b[0m\u001b[0;34m\u001b[0m\u001b[0;34m\u001b[0m\u001b[0m\n",
      "\u001b[0m\u001b[0;32m   1721 \u001b[0;31m        \u001b[0;32mif\u001b[0m \u001b[0;32mnot\u001b[0m \u001b[0mbundle\u001b[0m\u001b[0;34m:\u001b[0m\u001b[0;34m\u001b[0m\u001b[0;34m\u001b[0m\u001b[0m\n",
      "\u001b[0m\u001b[0;32m   1722 \u001b[0;31m            \u001b[0;32mreturn\u001b[0m \u001b[0;32mFalse\u001b[0m\u001b[0;34m\u001b[0m\u001b[0;34m\u001b[0m\u001b[0m\n",
      "\u001b[0m\n"
     ]
    },
    {
     "name": "stdin",
     "output_type": "stream",
     "text": [
      "ipdb>  min_share\n"
     ]
    },
    {
     "name": "stdout",
     "output_type": "stream",
     "text": [
      "<rl18xx.game.engine.entities.Share object>\n"
     ]
    },
    {
     "name": "stdin",
     "output_type": "stream",
     "text": [
      "ipdb>  n\n"
     ]
    },
    {
     "name": "stdout",
     "output_type": "stream",
     "text": [
      "> \u001b[0;32m/home/revys/workspace/RL_18xx/rl18xx/game/engine/round.py\u001b[0m(1721)\u001b[0;36mcan_buy_shares\u001b[0;34m()\u001b[0m\n",
      "\u001b[0;32m   1719 \u001b[0;31m\u001b[0;34m\u001b[0m\u001b[0m\n",
      "\u001b[0m\u001b[0;32m   1720 \u001b[0;31m        \u001b[0mbundle\u001b[0m \u001b[0;34m=\u001b[0m \u001b[0mmin_share\u001b[0m\u001b[0;34m.\u001b[0m\u001b[0mto_bundle\u001b[0m\u001b[0;34m(\u001b[0m\u001b[0;34m)\u001b[0m\u001b[0;34m\u001b[0m\u001b[0;34m\u001b[0m\u001b[0m\n",
      "\u001b[0m\u001b[0;32m-> 1721 \u001b[0;31m        \u001b[0;32mif\u001b[0m \u001b[0;32mnot\u001b[0m \u001b[0mbundle\u001b[0m\u001b[0;34m:\u001b[0m\u001b[0;34m\u001b[0m\u001b[0;34m\u001b[0m\u001b[0m\n",
      "\u001b[0m\u001b[0;32m   1722 \u001b[0;31m            \u001b[0;32mreturn\u001b[0m \u001b[0;32mFalse\u001b[0m\u001b[0;34m\u001b[0m\u001b[0;34m\u001b[0m\u001b[0m\n",
      "\u001b[0m\u001b[0;32m   1723 \u001b[0;31m\u001b[0;34m\u001b[0m\u001b[0m\n",
      "\u001b[0m\n"
     ]
    },
    {
     "name": "stdin",
     "output_type": "stream",
     "text": [
      "ipdb>  bundle\n"
     ]
    },
    {
     "name": "stdout",
     "output_type": "stream",
     "text": [
      "<rl18xx.game.engine.entities.ShareBundle object>\n"
     ]
    },
    {
     "name": "stdin",
     "output_type": "stream",
     "text": [
      "ipdb>  n\n"
     ]
    },
    {
     "name": "stdout",
     "output_type": "stream",
     "text": [
      "> \u001b[0;32m/home/revys/workspace/RL_18xx/rl18xx/game/engine/round.py\u001b[0m(1724)\u001b[0;36mcan_buy_shares\u001b[0;34m()\u001b[0m\n",
      "\u001b[0;32m   1722 \u001b[0;31m            \u001b[0;32mreturn\u001b[0m \u001b[0;32mFalse\u001b[0m\u001b[0;34m\u001b[0m\u001b[0;34m\u001b[0m\u001b[0m\n",
      "\u001b[0m\u001b[0;32m   1723 \u001b[0;31m\u001b[0;34m\u001b[0m\u001b[0m\n",
      "\u001b[0m\u001b[0;32m-> 1724 \u001b[0;31m        return self.available_cash(entity) >= self.modify_purchase_price(\n",
      "\u001b[0m\u001b[0;32m   1725 \u001b[0;31m            \u001b[0mbundle\u001b[0m\u001b[0;34m\u001b[0m\u001b[0;34m\u001b[0m\u001b[0m\n",
      "\u001b[0m\u001b[0;32m   1726 \u001b[0;31m        ) and self.can_gain(entity, bundle)\n",
      "\u001b[0m\n"
     ]
    },
    {
     "name": "stdin",
     "output_type": "stream",
     "text": [
      "ipdb>  self.available_cash(entity)\n"
     ]
    },
    {
     "name": "stdout",
     "output_type": "stream",
     "text": [
      "580\n"
     ]
    },
    {
     "name": "stdin",
     "output_type": "stream",
     "text": [
      "ipdb>  self.modify_purchase_price(bundle)\n"
     ]
    },
    {
     "name": "stdout",
     "output_type": "stream",
     "text": [
      "100\n"
     ]
    },
    {
     "name": "stdin",
     "output_type": "stream",
     "text": [
      "ipdb>  self.can_gain(entity, bundle)\n"
     ]
    },
    {
     "name": "stdout",
     "output_type": "stream",
     "text": [
      "False\n"
     ]
    }
   ],
   "source": [
    "g.process_action(par)"
   ]
  },
  {
   "cell_type": "code",
   "execution_count": null,
   "id": "fb6b2c88-4c9f-4576-90e5-cbf67bd536d9",
   "metadata": {},
   "outputs": [],
   "source": [
    "g.log"
   ]
  },
  {
   "cell_type": "code",
   "execution_count": null,
   "id": "146618d7-ace4-45be-9989-827f509937c0",
   "metadata": {},
   "outputs": [],
   "source": [
    "print(f\"step: {g.active_step()}, player: {g.active_players()[0]}\")\n",
    "choices = g.active_step().actions(g.active_players()[0])\n",
    "print(f\"choices: {choices}\")"
   ]
  },
  {
   "cell_type": "code",
   "execution_count": null,
   "id": "664cfa28-b0e5-41fc-8458-5bd67ced3bb7",
   "metadata": {},
   "outputs": [],
   "source": []
  }
 ],
 "metadata": {
  "kernelspec": {
   "display_name": "python3",
   "language": "python",
   "name": "python3"
  }
 },
 "nbformat": 4,
 "nbformat_minor": 5
}
