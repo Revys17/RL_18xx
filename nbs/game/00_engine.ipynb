{
 "cells": [
  {
   "cell_type": "markdown",
   "id": "fbdc7dfc-0d39-4c00-bc43-61fb3aed70ab",
   "metadata": {},
   "source": [
    "# Game Engine"
   ]
  },
  {
   "cell_type": "code",
   "execution_count": null,
   "id": "e27e9763-7bf3-4dfb-b343-4754208a5dfd",
   "metadata": {},
   "outputs": [],
   "source": [
    "# | default_exp game.engine"
   ]
  },
  {
   "cell_type": "code",
   "execution_count": null,
   "id": "b2d7b0ef-4e8f-4976-aa76-e6d34a86fb86",
   "metadata": {},
   "outputs": [],
   "source": [
    "# | hide\n",
    "%load_ext lab_black"
   ]
  },
  {
   "cell_type": "code",
   "execution_count": null,
   "id": "518d6541-3593-4ae8-bc07-4b5d7b6a18a8",
   "metadata": {},
   "outputs": [],
   "source": [
    "# | export\n",
    "import importlib\n",
    "import os"
   ]
  },
  {
   "cell_type": "markdown",
   "id": "4b7813dd-603c-4da4-9763-5c2d47f2e9cc",
   "metadata": {},
   "source": [
    "All games are located within the `games` subdirectory."
   ]
  },
  {
   "cell_type": "markdown",
   "id": "69de062e-2279-483d-b514-97f9f4544ec3",
   "metadata": {},
   "source": [
    "## Engine"
   ]
  },
  {
   "cell_type": "code",
   "execution_count": null,
   "id": "5d68245c-3b3a-494e-93d2-32af2e0c625c",
   "metadata": {},
   "outputs": [],
   "source": [
    "# | export\n",
    "TITLE_DIR = \"engine/game/titles\"\n",
    "TITLE_MODULE = \"rl18xx.game.engine.game.title\""
   ]
  },
  {
   "cell_type": "code",
   "execution_count": null,
   "id": "aeab3c29-80e0-4dc7-821a-ded7080a0b22",
   "metadata": {},
   "outputs": [],
   "source": [
    "# | export\n",
    "\n",
    "\n",
    "class Engine:\n",
    "    def __init__(self):\n",
    "        self.game_modules = self._import_game_modules()\n",
    "        self.game_meta = self._collect_game_meta()\n",
    "        self.games = self._load_games()\n",
    "\n",
    "    def _import_game_modules(self):\n",
    "        game_modules = {}\n",
    "        for filename in os.listdir(TITLE_DIR):\n",
    "            if filename.endswith(\".ipynb\"):\n",
    "                module_name = filename[3:-6]\n",
    "                module_path = f\"{TITLE_MODULE}.{module_name}\"\n",
    "                game_modules[module_name] = importlib.import_module(module_path)\n",
    "        return game_modules\n",
    "\n",
    "    def _collect_game_meta(self):\n",
    "        game_meta_by_title = {}\n",
    "        for name, module in self.game_modules.items():\n",
    "            if hasattr(module, \"Meta\"):\n",
    "                meta = getattr(module, \"Meta\")\n",
    "                game_meta_by_title[meta.title()] = meta\n",
    "        return game_meta_by_title\n",
    "\n",
    "    def _load_games(self):\n",
    "        games = {}\n",
    "        for title in self.game_meta:\n",
    "            if hasattr(self.game_modules[\"g\" + title], \"Game\"):\n",
    "                games[title] = getattr(self.game_modules[\"g\" + title], \"Game\")\n",
    "        return games\n",
    "\n",
    "    def meta_by_title(self, title):\n",
    "        return self.game_meta.get(title)\n",
    "\n",
    "    def game_by_title(self, title):\n",
    "        return self.games.get(title)"
   ]
  },
  {
   "cell_type": "code",
   "execution_count": null,
   "id": "8d9c570d-653b-4a9a-8a52-1e0a1847cb21",
   "metadata": {},
   "outputs": [],
   "source": [
    "engine = Engine()"
   ]
  },
  {
   "cell_type": "code",
   "execution_count": null,
   "id": "1a95829c-186b-4016-8e87-516654d5938c",
   "metadata": {},
   "outputs": [],
   "source": [
    "game = engine.game_by_title(\"1830\")"
   ]
  },
  {
   "cell_type": "markdown",
   "id": "c35f37fb-8ee1-48a7-88e4-f80e31e88412",
   "metadata": {},
   "source": [
    "## Game Instantiation and basic tests"
   ]
  },
  {
   "cell_type": "code",
   "execution_count": null,
   "id": "564e4243-80a7-4ae1-85e8-8173b1d4c8ef",
   "metadata": {},
   "outputs": [],
   "source": [
    "g = game({\"1\": \"hi\", \"2\": \"my\", \"3\": \"dear\", \"4\": \"friend\"})"
   ]
  },
  {
   "cell_type": "code",
   "execution_count": null,
   "id": "b1a01d71-03ae-4146-b0ed-8587d92426c9",
   "metadata": {},
   "outputs": [],
   "source": [
    "import inspect\n",
    "\n",
    "test = False\n",
    "\n",
    "skipped = []\n",
    "methods = []\n",
    "non_methods = []\n",
    "for item_name in dir(g):\n",
    "    if item_name.startswith(\"init\") or item_name.startswith(\"_\") or item_name.isupper():\n",
    "        skipped.append(item_name)\n",
    "        continue\n",
    "\n",
    "    item = getattr(g, item_name)\n",
    "    if callable(item):\n",
    "        if inspect.signature(item).parameters:\n",
    "            skipped.append(item)\n",
    "        else:\n",
    "            # print(item_name)\n",
    "            methods.append(item_name)\n",
    "            if test:\n",
    "                item()\n",
    "    else:\n",
    "        # print(f\"name: {item_name}, value: {item}\")\n",
    "        non_methods.append(item_name)\n",
    "\n",
    "# methods, non_methods"
   ]
  },
  {
   "cell_type": "markdown",
   "id": "0f49b2b5-b03c-4858-89ad-56fb8955b209",
   "metadata": {},
   "source": [
    "## Actions Helper"
   ]
  },
  {
   "cell_type": "code",
   "execution_count": null,
   "id": "033c0a43-18e6-4fc1-be59-7611be43bae4",
   "metadata": {},
   "outputs": [],
   "source": [
    "from rl18xx.game.engine.actions import (\n",
    "    Bid,\n",
    "    BuyShares,\n",
    "    LayTile,\n",
    "    Par,\n",
    "    Pass,\n",
    "    PlaceToken,\n",
    "    SellShares,\n",
    ")\n",
    "\n",
    "\n",
    "def get_current_actions():\n",
    "    return g.active_step().actions(g.current_entity)\n",
    "\n",
    "\n",
    "def get_bid_actions():\n",
    "    companies = g.active_step().companies\n",
    "    bids = []\n",
    "    bids.append(\n",
    "        Bid(g.current_entity, g.active_step().min_bid(companies[0]), companies[0])\n",
    "    )\n",
    "    for company in companies[1:]:\n",
    "        min_bid = g.active_step().min_bid(company)\n",
    "        max_bid = g.active_step().max_bid(g.current_entity, company)\n",
    "        bid_values = list(\n",
    "            range(min_bid - (min_bid % 5), (max_bid + 1) - ((max_bid + 1) % 5), 5)\n",
    "        )\n",
    "        bids.append(\n",
    "            [Bid(g.current_entity, bid_value, company) for bid_value in bid_values]\n",
    "        )\n",
    "    return bids\n",
    "\n",
    "\n",
    "def get_par_actions():\n",
    "    parable_corporations = sorted(\n",
    "        [corp for corp in g.corporations if g.can_par(corp, g.current_entity)],\n",
    "        key=lambda corporation: corporation.name,\n",
    "    )\n",
    "    par_values = g.share_prices\n",
    "    buying_power = g.buying_power(g.current_entity)\n",
    "    return [\n",
    "        Par(g.current_entity, corp, price)\n",
    "        for corp in parable_corporations\n",
    "        for price in par_values\n",
    "        if 2 * price.price <= buying_power\n",
    "    ]\n",
    "\n",
    "\n",
    "def get_buy_shares_actions():\n",
    "    buyable_shares = [\n",
    "        item\n",
    "        for sublist in g.active_step().buyable_shares(g.current_entity)\n",
    "        for item in sublist\n",
    "    ]\n",
    "    unique_buyable_shares = sorted(\n",
    "        list(set(buyable_shares)), key=lambda share: share.corporation()\n",
    "    )\n",
    "    return [BuyShares(g.current_entity, share) for share in unique_buyable_shares]\n",
    "\n",
    "\n",
    "def get_sell_shares_actions():\n",
    "    return g.active_step().sellable_shares(g.current_entity)\n",
    "\n",
    "\n",
    "def get_place_token_actions():\n",
    "    hexes = []\n",
    "    if hasattr(g.active_step(), \"pending_token\") and g.active_step().pending_token:\n",
    "        hexes = g.active_step().pending_token.get(\"hexes\")\n",
    "    else:\n",
    "        for hex in g.hexes:\n",
    "            can_place = g.active_step().available_hex(g.current_entity, hex)\n",
    "            if can_place:\n",
    "                hexes.append(hex)\n",
    "    return [\n",
    "        PlaceToken(g.current_entity, city, 0)\n",
    "        for hex in hexes\n",
    "        for city in hex._tile.cities\n",
    "    ]\n",
    "\n",
    "\n",
    "def get_choices_for_action(action):\n",
    "    if action == Pass:\n",
    "        return [Pass(g.current_entity)]\n",
    "    elif action == Bid:\n",
    "        return get_bid_actions()\n",
    "    elif action == Par:\n",
    "        return get_par_actions()\n",
    "    elif action == BuyShares:\n",
    "        return get_buy_shares_actions()\n",
    "    elif action == SellShares:\n",
    "        return get_sell_shares_actions()\n",
    "    elif action == PlaceToken:\n",
    "        return get_place_token_actions()\n",
    "    elif action == LayTile:\n",
    "        return []\n",
    "    else:\n",
    "        return []\n",
    "\n",
    "\n",
    "def get_all_choices():\n",
    "    choices = [\n",
    "        choices\n",
    "        for action in get_current_actions()\n",
    "        for choices in get_choices_for_action(action)\n",
    "    ]\n",
    "    return choices\n",
    "\n",
    "\n",
    "# get_all_choices()"
   ]
  },
  {
   "cell_type": "code",
   "execution_count": null,
   "id": "78cbbfaa-2366-4899-983d-46877f2fac95",
   "metadata": {},
   "outputs": [
    {
     "name": "stdout",
     "output_type": "stream",
     "text": [
      "step: <WaterfallAuction>, player: Player - hi\n",
      "choices: [<class 'rl18xx.game.engine.actions.Bid'>, <class 'rl18xx.game.engine.actions.Pass'>]\n"
     ]
    }
   ],
   "source": [
    "step = g.active_step()\n",
    "step, g.active_players()\n",
    "print(f\"step: {g.active_step()}, player: {g.current_entity}\")\n",
    "choices = g.active_step().actions(g.current_entity)\n",
    "print(f\"choices: {choices}\")"
   ]
  },
  {
   "cell_type": "markdown",
   "id": "53bf6dfa-0087-4288-b9ba-b34700a4b4a5",
   "metadata": {},
   "source": [
    "## Waterfall auction"
   ]
  },
  {
   "cell_type": "code",
   "execution_count": null,
   "id": "4f3552aa-0d25-4e14-8c46-654fe312e819",
   "metadata": {},
   "outputs": [],
   "source": [
    "# get_all_choices()"
   ]
  },
  {
   "cell_type": "code",
   "execution_count": null,
   "id": "7f82914d-94f2-4b86-b0b5-3fd0968a18bc",
   "metadata": {},
   "outputs": [
    {
     "data": {
      "text/plain": [
       "<rl18xx.game.engine.game.title.g1830.Game>"
      ]
     },
     "execution_count": null,
     "metadata": {},
     "output_type": "execute_result"
    }
   ],
   "source": [
    "pass_ = choices[1](g.active_players()[0])\n",
    "g.process_action(pass_)\n",
    "\n",
    "second = g.round.active_step().companies[1]\n",
    "bid = choices[0](\n",
    "    g.active_players()[0], g.round.active_step().min_bid(second), company=second\n",
    ")\n",
    "g.process_action(bid)\n",
    "\n",
    "bid = choices[0](\n",
    "    g.active_players()[0], g.round.active_step().min_bid(second), company=second\n",
    ")\n",
    "g.process_action(bid)\n",
    "\n",
    "later = g.round.active_step().companies[-1]\n",
    "bid = choices[0](g.active_players()[0], 225, company=later)\n",
    "g.process_action(bid)\n",
    "\n",
    "first = g.round.active_step().companies[0]\n",
    "bid = choices[0](\n",
    "    g.active_players()[0], g.round.active_step().min_bid(first), company=first\n",
    ")\n",
    "g.process_action(bid)\n",
    "\n",
    "pass_ = choices[1](g.active_players()[0])\n",
    "g.process_action(pass_)\n",
    "\n",
    "first = g.round.active_step().companies[0]\n",
    "bid = choices[0](\n",
    "    g.active_players()[0], g.round.active_step().min_bid(first), company=first\n",
    ")\n",
    "g.process_action(bid)\n",
    "\n",
    "while g.round.active_step() == step:\n",
    "    first = g.round.active_step().companies[0]\n",
    "    bid = choices[0](\n",
    "        g.active_players()[0], g.round.active_step().min_bid(first), company=first\n",
    "    )\n",
    "    g.process_action(bid)\n",
    "\n",
    "par = g.round.active_step().actions(g.round.active_step().active_entities[0])[0](\n",
    "    g.round.active_step().active_entities[0],\n",
    "    g.round.companies_pending_par[0].abilities[3].shares[0].corporation(),\n",
    "    g.round.active_step().get_par_prices(\n",
    "        g.round.active_step().active_entities[0],\n",
    "        g.round.companies_pending_par[0].abilities[3].shares[0].corporation,\n",
    "    )[0],\n",
    ")\n",
    "\n",
    "g.process_action(par)"
   ]
  },
  {
   "cell_type": "markdown",
   "id": "cdbf0b30-a1e7-449d-8c2d-bf356e59aaaa",
   "metadata": {},
   "source": [
    "## Stock Round 1"
   ]
  },
  {
   "cell_type": "code",
   "execution_count": null,
   "id": "227c6ff3-3047-484b-bbd5-7ed453497f22",
   "metadata": {},
   "outputs": [
    {
     "name": "stdout",
     "output_type": "stream",
     "text": [
      "> \u001b[0;32m/home/revys/workspace/RL_18xx/rl18xx/game/engine/game/base.py\u001b[0m(807)\u001b[0;36macting_for_entity\u001b[0;34m()\u001b[0m\n",
      "\u001b[0;32m    805 \u001b[0;31m    \u001b[0;32mdef\u001b[0m \u001b[0macting_for_entity\u001b[0m\u001b[0;34m(\u001b[0m\u001b[0mself\u001b[0m\u001b[0;34m,\u001b[0m \u001b[0mentity\u001b[0m\u001b[0;34m)\u001b[0m\u001b[0;34m:\u001b[0m\u001b[0;34m\u001b[0m\u001b[0;34m\u001b[0m\u001b[0m\n",
      "\u001b[0m\u001b[0;32m    806 \u001b[0;31m        \u001b[0mset_trace\u001b[0m\u001b[0;34m(\u001b[0m\u001b[0;34m)\u001b[0m\u001b[0;34m\u001b[0m\u001b[0;34m\u001b[0m\u001b[0m\n",
      "\u001b[0m\u001b[0;32m--> 807 \u001b[0;31m        \u001b[0;32mreturn\u001b[0m \u001b[0mentity\u001b[0m\u001b[0;34m.\u001b[0m\u001b[0mowner\u001b[0m \u001b[0;32mif\u001b[0m \u001b[0mentity\u001b[0m \u001b[0;32melse\u001b[0m \u001b[0;32mNone\u001b[0m\u001b[0;34m\u001b[0m\u001b[0;34m\u001b[0m\u001b[0m\n",
      "\u001b[0m\u001b[0;32m    808 \u001b[0;31m\u001b[0;34m\u001b[0m\u001b[0m\n",
      "\u001b[0m\u001b[0;32m    809 \u001b[0;31m    \u001b[0;32mdef\u001b[0m \u001b[0macting_for_player\u001b[0m\u001b[0;34m(\u001b[0m\u001b[0mself\u001b[0m\u001b[0;34m,\u001b[0m \u001b[0mplayer\u001b[0m\u001b[0;34m)\u001b[0m\u001b[0;34m:\u001b[0m\u001b[0;34m\u001b[0m\u001b[0;34m\u001b[0m\u001b[0m\n",
      "\u001b[0m\n"
     ]
    },
    {
     "name": "stdin",
     "output_type": "stream",
     "text": [
      "ipdb>  c\n"
     ]
    },
    {
     "data": {
      "text/plain": [
       "<rl18xx.game.engine.game.title.g1830.Game>"
      ]
     },
     "execution_count": null,
     "metadata": {},
     "output_type": "execute_result"
    }
   ],
   "source": [
    "g.process_action(get_all_choices()[-2])\n",
    "g.process_action(get_all_choices()[-1])\n",
    "g.process_action(get_all_choices()[-8])\n",
    "g.process_action(get_all_choices()[1])\n",
    "g.process_action(get_all_choices()[1])\n",
    "g.process_action(get_all_choices()[14])\n",
    "g.process_action(get_all_choices()[2])\n",
    "g.process_action(get_all_choices()[1])\n",
    "g.process_action(get_all_choices()[1])\n",
    "g.process_action(get_all_choices()[3])\n",
    "g.process_action(get_all_choices()[2])\n",
    "g.process_action(get_all_choices()[0])\n",
    "g.process_action(get_all_choices()[1])\n",
    "g.process_action(get_all_choices()[3])\n",
    "g.process_action(get_all_choices()[2])\n",
    "g.process_action(get_all_choices()[1])\n",
    "g.process_action(get_all_choices()[2])\n",
    "g.process_action(get_all_choices()[1])\n",
    "g.process_action(get_all_choices()[1])\n",
    "g.process_action(get_all_choices()[2])\n",
    "g.process_action(get_all_choices()[1])\n",
    "g.process_action(get_all_choices()[1])"
   ]
  },
  {
   "cell_type": "markdown",
   "id": "6e4ebfdc-a737-47d4-b32d-0a9b5c1bdda0",
   "metadata": {},
   "source": [
    "## Operating Round 1"
   ]
  },
  {
   "cell_type": "code",
   "execution_count": null,
   "id": "db84f83a-42ea-4fb4-9e22-3078ce6728e4",
   "metadata": {},
   "outputs": [
    {
     "name": "stdout",
     "output_type": "stream",
     "text": [
      "step: <Track>, player: <Corporation: PRR>, purchasing power: 670.0\n",
      "possible actions: [<class 'rl18xx.game.engine.actions.LayTile'>, <class 'rl18xx.game.engine.actions.Pass'>]\n"
     ]
    },
    {
     "data": {
      "text/plain": [
       "[Type: Pass, id: None, entity: <Corporation: PRR>]"
      ]
     },
     "execution_count": null,
     "metadata": {},
     "output_type": "execute_result"
    }
   ],
   "source": [
    "print(\n",
    "    f\"step: {g.active_step()}, player: {g.current_entity}, purchasing power: {g.buying_power(g.current_entity)}\"\n",
    ")\n",
    "print(f\"possible actions: {g.active_step().actions(g.current_entity)}\")\n",
    "get_all_choices()"
   ]
  },
  {
   "cell_type": "code",
   "execution_count": null,
   "id": "95b22f8c-2833-4a99-86ee-b4a8742176b9",
   "metadata": {},
   "outputs": [],
   "source": [
    "g.log"
   ]
  },
  {
   "cell_type": "code",
   "execution_count": null,
   "id": "122c6e55-8f96-4ec6-8def-e0d8bddd3cc0",
   "metadata": {},
   "outputs": [],
   "source": [
    "g.process_action(get_all_choices()[0])"
   ]
  },
  {
   "cell_type": "code",
   "execution_count": null,
   "id": "98f80aa9-7a32-4463-ae65-457475422bb0",
   "metadata": {},
   "outputs": [],
   "source": [
    "g.active_step()"
   ]
  },
  {
   "cell_type": "code",
   "execution_count": null,
   "id": "e9baca7c-8f0e-469d-b51a-135dc30b3781",
   "metadata": {},
   "outputs": [
    {
     "data": {
      "text/plain": [
       "set()"
      ]
     },
     "execution_count": null,
     "metadata": {},
     "output_type": "execute_result"
    }
   ],
   "source": [
    "g.active_step().hex_neighbors(g.current_entity, g.current_entity.tokens[0].hex)"
   ]
  },
  {
   "cell_type": "code",
   "execution_count": null,
   "id": "19214a81-9bab-4464-b0df-7d27985c75f8",
   "metadata": {},
   "outputs": [
    {
     "data": {
      "text/plain": [
       "{}"
      ]
     },
     "execution_count": null,
     "metadata": {},
     "output_type": "execute_result"
    }
   ],
   "source": [
    "plays = {}\n",
    "for hex in g.hexes:\n",
    "    tiles = g.active_step().available_hex(g.current_entity, hex)\n",
    "    if tiles:\n",
    "        plays[hex] = tiles\n",
    "plays"
   ]
  },
  {
   "cell_type": "code",
   "execution_count": null,
   "id": "1a65a6d8-e44b-4c9f-a8e3-0fa79d009d9c",
   "metadata": {},
   "outputs": [],
   "source": [
    "g.actions"
   ]
  },
  {
   "cell_type": "code",
   "execution_count": null,
   "id": "836eb4c7-50da-4950-8058-2b5c225404a4",
   "metadata": {},
   "outputs": [],
   "source": [
    "g.log"
   ]
  },
  {
   "cell_type": "code",
   "execution_count": null,
   "id": "f8770213-2e0b-40aa-81f6-a5295dcb23e6",
   "metadata": {},
   "outputs": [],
   "source": []
  }
 ],
 "metadata": {
  "kernelspec": {
   "display_name": "python3",
   "language": "python",
   "name": "python3"
  }
 },
 "nbformat": 4,
 "nbformat_minor": 5
}
