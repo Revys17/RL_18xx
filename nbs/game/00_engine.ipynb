{
 "cells": [
  {
   "cell_type": "markdown",
   "id": "fbdc7dfc-0d39-4c00-bc43-61fb3aed70ab",
   "metadata": {},
   "source": [
    "# Game Engine"
   ]
  },
  {
   "cell_type": "code",
   "execution_count": null,
   "id": "e27e9763-7bf3-4dfb-b343-4754208a5dfd",
   "metadata": {},
   "outputs": [],
   "source": [
    "# | default_exp game.engine"
   ]
  },
  {
   "cell_type": "code",
   "execution_count": null,
   "id": "b2d7b0ef-4e8f-4976-aa76-e6d34a86fb86",
   "metadata": {},
   "outputs": [],
   "source": [
    "# | hide\n",
    "%load_ext lab_black"
   ]
  },
  {
   "cell_type": "code",
   "execution_count": null,
   "id": "518d6541-3593-4ae8-bc07-4b5d7b6a18a8",
   "metadata": {},
   "outputs": [],
   "source": [
    "# | export\n",
    "import importlib\n",
    "import os"
   ]
  },
  {
   "cell_type": "markdown",
   "id": "4b7813dd-603c-4da4-9763-5c2d47f2e9cc",
   "metadata": {},
   "source": [
    "All games are located within the `games` subdirectory."
   ]
  },
  {
   "cell_type": "code",
   "execution_count": null,
   "id": "5d68245c-3b3a-494e-93d2-32af2e0c625c",
   "metadata": {},
   "outputs": [],
   "source": [
    "# | export\n",
    "TITLE_DIR = \"engine/game/titles\"\n",
    "TITLE_MODULE = \"rl18xx.game.engine.game.title\""
   ]
  },
  {
   "cell_type": "code",
   "execution_count": null,
   "id": "aeab3c29-80e0-4dc7-821a-ded7080a0b22",
   "metadata": {},
   "outputs": [],
   "source": [
    "# | export\n",
    "\n",
    "\n",
    "class Engine:\n",
    "    def __init__(self):\n",
    "        self.game_modules = self._import_game_modules()\n",
    "        self.game_meta = self._collect_game_meta()\n",
    "        self.games = self._load_games()\n",
    "\n",
    "    def _import_game_modules(self):\n",
    "        game_modules = {}\n",
    "        for filename in os.listdir(TITLE_DIR):\n",
    "            if filename.endswith(\".ipynb\"):\n",
    "                module_name = filename[3:-6]\n",
    "                module_path = f\"{TITLE_MODULE}.{module_name}\"\n",
    "                game_modules[module_name] = importlib.import_module(module_path)\n",
    "        return game_modules\n",
    "\n",
    "    def _collect_game_meta(self):\n",
    "        game_meta_by_title = {}\n",
    "        for name, module in self.game_modules.items():\n",
    "            if hasattr(module, \"Meta\"):\n",
    "                meta = getattr(module, \"Meta\")\n",
    "                game_meta_by_title[meta.title()] = meta\n",
    "        return game_meta_by_title\n",
    "\n",
    "    def _load_games(self):\n",
    "        games = {}\n",
    "        for title in self.game_meta:\n",
    "            if hasattr(self.game_modules[\"g\" + title], \"Game\"):\n",
    "                games[title] = getattr(self.game_modules[\"g\" + title], \"Game\")\n",
    "        return games\n",
    "\n",
    "    def meta_by_title(self, title):\n",
    "        return self.game_meta.get(title)\n",
    "\n",
    "    def game_by_title(self, title):\n",
    "        return self.games.get(title)"
   ]
  },
  {
   "cell_type": "code",
   "execution_count": null,
   "id": "8d9c570d-653b-4a9a-8a52-1e0a1847cb21",
   "metadata": {},
   "outputs": [],
   "source": [
    "engine = Engine()"
   ]
  },
  {
   "cell_type": "code",
   "execution_count": null,
   "id": "1a95829c-186b-4016-8e87-516654d5938c",
   "metadata": {},
   "outputs": [],
   "source": [
    "game = engine.game_by_title(\"1830\")"
   ]
  },
  {
   "cell_type": "code",
   "execution_count": null,
   "id": "564e4243-80a7-4ae1-85e8-8173b1d4c8ef",
   "metadata": {},
   "outputs": [],
   "source": [
    "g = game({\"1\": \"hi\", \"2\": \"friend\"})"
   ]
  },
  {
   "cell_type": "code",
   "execution_count": null,
   "id": "b1a01d71-03ae-4146-b0ed-8587d92426c9",
   "metadata": {},
   "outputs": [
    {
     "name": "stdout",
     "output_type": "stream",
     "text": [
      "name: actions, value: []\n",
      "name: all_tiles, value: [<Tile: 1, hex: None>, <Tile: 2, hex: None>, <Tile: 3, hex: None>, <Tile: 3, hex: None>, <Tile: 4, hex: None>, <Tile: 4, hex: None>, <Tile: 7, hex: None>, <Tile: 7, hex: None>, <Tile: 7, hex: None>, <Tile: 7, hex: None>, <Tile: 8, hex: None>, <Tile: 8, hex: None>, <Tile: 8, hex: None>, <Tile: 8, hex: None>, <Tile: 8, hex: None>, <Tile: 8, hex: None>, <Tile: 8, hex: None>, <Tile: 8, hex: None>, <Tile: 9, hex: None>, <Tile: 9, hex: None>, <Tile: 9, hex: None>, <Tile: 9, hex: None>, <Tile: 9, hex: None>, <Tile: 9, hex: None>, <Tile: 9, hex: None>, <Tile: 14, hex: None>, <Tile: 14, hex: None>, <Tile: 14, hex: None>, <Tile: 15, hex: None>, <Tile: 15, hex: None>, <Tile: 16, hex: None>, <Tile: 18, hex: None>, <Tile: 19, hex: None>, <Tile: 20, hex: None>, <Tile: 23, hex: None>, <Tile: 23, hex: None>, <Tile: 23, hex: None>, <Tile: 24, hex: None>, <Tile: 24, hex: None>, <Tile: 24, hex: None>, <Tile: 25, hex: None>, <Tile: 26, hex: None>, <Tile: 27, hex: None>, <Tile: 28, hex: None>, <Tile: 29, hex: None>, <Tile: 39, hex: None>, <Tile: 40, hex: None>, <Tile: 41, hex: None>, <Tile: 41, hex: None>, <Tile: 42, hex: None>, <Tile: 42, hex: None>, <Tile: 43, hex: None>, <Tile: 43, hex: None>, <Tile: 44, hex: None>, <Tile: 45, hex: None>, <Tile: 45, hex: None>, <Tile: 46, hex: None>, <Tile: 46, hex: None>, <Tile: 47, hex: None>, <Tile: 53, hex: None>, <Tile: 53, hex: None>, <Tile: 54, hex: None>, <Tile: 55, hex: None>, <Tile: 56, hex: None>, <Tile: 57, hex: None>, <Tile: 57, hex: None>, <Tile: 57, hex: None>, <Tile: 57, hex: None>, <Tile: 58, hex: None>, <Tile: 58, hex: None>, <Tile: 59, hex: None>, <Tile: 59, hex: None>, <Tile: 61, hex: None>, <Tile: 61, hex: None>, <Tile: 62, hex: None>, <Tile: 63, hex: None>, <Tile: 63, hex: None>, <Tile: 63, hex: None>, <Tile: 64, hex: None>, <Tile: 65, hex: None>, <Tile: 66, hex: None>, <Tile: 67, hex: None>, <Tile: 68, hex: None>, <Tile: 69, hex: None>, <Tile: 70, hex: None>]\n",
      "name: bank, value: <Bank>\n",
      "name: cities, value: []\n",
      "name: closing_queue, value: {}\n",
      "name: companies, value: [<Company: SV>, <Company: CS>, <Company: DH>, <Company: MH>, <Company: CA>, <Company: BO>]\n",
      "name: corporations, value: []\n",
      "name: corporations_are_closing, value: False\n",
      "name: current_entity, value: None\n",
      "name: depot, value: <rl18xx.game.engine.entities.Depot object>\n",
      "name: exception, value: None\n",
      "name: filtered_actions, value: []\n",
      "name: final_turn, value: None\n",
      "name: finished, value: False\n",
      "name: game_companies, value: [{'name': 'Schuylkill Valley', 'sym': 'SV', 'value': 20, 'revenue': 5, 'desc': 'No special abilities. Blocks G15 while owned by a player.', 'abilities': [{'type': 'blocks_hexes', 'owner_type': 'player', 'hexes': ['G15']}], 'color': None}, {'name': 'Champlain & St.Lawrence', 'sym': 'CS', 'value': 40, 'revenue': 10, 'desc': \"A corporation owning the CS may lay a tile on the CS's hex even if this hex is not connected to the corporation's track. This free tile placement is in addition to the corporation's normal tile placement. Blocks B20 while owned by a player.\", 'abilities': [{'type': 'blocks_hexes', 'owner_type': 'player', 'hexes': ['B20']}, {'type': 'tile_lay', 'owner_type': 'corporation', 'hexes': ['B20'], 'tiles': ['3', '4', '58'], 'when': 'owning_corp_or_turn', 'count': 1}], 'color': None}, {'name': 'Delaware & Hudson', 'sym': 'DH', 'value': 70, 'revenue': 15, 'desc': \"A corporation owning the DH may place a tile and station token in the DH hex F16 for only the $120 cost of the mountain. The station does not have to be connected to the remainder of the corporation's route. The tile laid is the owning corporation's one tile placement for the turn. The hex must be empty to use this ability. Blocks F16 while owned by a player.\", 'abilities': [{'type': 'blocks_hexes', 'owner_type': 'player', 'hexes': ['F16']}, {'type': 'teleport', 'owner_type': 'corporation', 'tiles': ['57'], 'hexes': ['F16']}], 'color': None}, {'name': 'Mohawk & Hudson', 'sym': 'MH', 'value': 110, 'revenue': 20, 'desc': \"A player owning the MH may exchange it for a 10% share of the NYC if they do not already hold 60% of the NYC and there is NYC stock available in the Bank or the Pool. The exchange may be made during the player's turn of a stock round or between the turns of other players or corporations in either stock or operating rounds. This action closes the MH. Blocks D18 while owned by a player.\", 'abilities': [{'type': 'blocks_hexes', 'owner_type': 'player', 'hexes': ['D18']}, {'type': 'exchange', 'corporations': ['NYC'], 'owner_type': 'player', 'when': 'any', 'from_': ['ipo', 'market']}], 'color': None}, {'name': 'Camden & Amboy', 'sym': 'CA', 'value': 160, 'revenue': 25, 'desc': 'The initial purchaser of the CA immediately receives a 10% share of PRR stock without further payment. This action does not close the CA. The PRR corporation will not be running at this point, but the stock may be retained or sold subject to the ordinary rules of the game. Blocks H18 while owned by a player.', 'abilities': [{'type': 'blocks_hexes', 'owner_type': 'player', 'hexes': ['H18']}, {'type': 'shares', 'shares': 'PRR_1'}], 'color': None}, {'name': 'Baltimore & Ohio', 'sym': 'BO', 'value': 220, 'revenue': 30, 'desc': \"The owner of the BO private company immediately receives the President's certificate of the B&O without further payment. The BO private company may not be sold to any corporation, and does not exchange hands if the owning player loses the Presidency of the B&O. When the B&O purchases its first train the private company is closed. Blocks I13 & I15 while owned by a player.\", 'abilities': [{'type': 'blocks_hexes', 'owner_type': 'player', 'hexes': ['I13', 'I15']}, {'type': 'close', 'when': 'bought_train', 'corporation': 'B&O'}, {'type': 'no_buy'}, {'type': 'shares', 'shares': 'B&O_0'}], 'color': None}]\n",
      "name: game_corporations, value: []\n",
      "name: game_end_check_values, value: {'bankrupt': 'immediate', 'bank': 'full_or'}\n",
      "name: game_market, value: [['60y', '67', '71', '76', '82', '90', '100p', '112', '126', '142', '160', '180', '200', '225', '250', '275', '300', '325', '350'], ['53y', '60y', '66', '70', '76', '82', '90p', '100', '112', '126', '142', '160', '180', '200', '220', '240', '260', '280', '300'], ['46y', '55y', '60y', '65', '70', '76', '82p', '90', '100', '111', '125', '140', '155', '170', '185', '200'], ['39o', '48y', '54y', '60y', '66', '71', '76p', '82', '90', '100', '110', '120', '130'], ['32o', '41o', '48y', '55y', '62', '67', '71p', '76', '82', '90', '100'], ['25b', '34o', '42o', '50y', '58y', '65', '67p', '71', '75', '80'], ['18b', '27b', '36o', '45o', '54y', '63', '67', '69', '70'], ['10b', '20b', '30b', '40o', '50y', '60y', '67', '68'], ['', '10b', '20b', '30b', '40o', '50y', '60y'], ['', '', '10b', '20b', '30b', '40o', '50y'], ['', '', '', '10b', '20b', '30b', '40o']]\n",
      "name: game_minors, value: []\n",
      "name: game_phases, value: [{'name': '2', 'train_limit': 4, 'tiles': ['yellow'], 'operating_rounds': 1}, {'name': '3', 'on': '3', 'train_limit': 4, 'tiles': ['yellow', 'green'], 'operating_rounds': 2, 'status': ['can_buy_companies']}, {'name': '4', 'on': '4', 'train_limit': 3, 'tiles': ['yellow', 'green'], 'operating_rounds': 2, 'status': ['can_buy_companies']}, {'name': '5', 'on': '5', 'train_limit': 2, 'tiles': ['yellow', 'green', 'brown'], 'operating_rounds': 3}, {'name': '6', 'on': '6', 'train_limit': 2, 'tiles': ['yellow', 'green', 'brown'], 'operating_rounds': 3}, {'name': 'D', 'on': 'D', 'train_limit': 2, 'tiles': ['yellow', 'green', 'brown'], 'operating_rounds': 3}]\n",
      "name: game_trains, value: [{'name': '2', 'distance': 2, 'price': 80, 'rusts_on': '4', 'num': 6}, {'name': '3', 'distance': 3, 'price': 180, 'rusts_on': '6', 'num': 5}, {'name': '4', 'distance': 4, 'price': 300, 'rusts_on': 'D', 'num': 4}, {'name': '5', 'distance': 5, 'price': 450, 'num': 3, 'events': [{'type': 'close_companies'}]}, {'name': '6', 'distance': 6, 'price': 630}, {'name': 'D', 'distance': 999, 'price': 1100, 'num': 20, 'available_on': '6', 'discount': {'4': 300, '5': 300, '6': 300}}]\n",
      "name: graph, value: <rl18xx.game.engine.graph.Graph object>\n",
      "name: hexes, value: []\n",
      "name: id, value: 0\n",
      "name: last_turn_start_action_id, value: 0\n",
      "name: layout, value: None\n",
      "name: loading, value: False\n",
      "name: loans, value: []\n",
      "name: log, value: [<Entry message='-- Phase 2 (Operating Rounds: 1 | Train Limit: 4 | Available Tiles: Yellow)', action_id=<bound method BaseGame.current_action_id of <rl18xx.game.engine.game.title.g1830.Game object>>>, <Entry message='-- Event: Private companies close --', action_id=<bound method BaseGame.current_action_id of <rl18xx.game.engine.game.title.g1830.Game object>>>, <Entry message='-- Stock Round 1 --', action_id=<bound method BaseGame.current_action_id of <rl18xx.game.engine.game.title.g1830.Game object>>>, <Entry message='hi has priority deal', action_id=<bound method BaseGame.current_action_id of <rl18xx.game.engine.game.title.g1830.Game object>>>, <Entry message='-- Stock Round 1 --', action_id=<bound method BaseGame.current_action_id of <rl18xx.game.engine.game.title.g1830.Game object>>>, <Entry message='hi has priority deal', action_id=<bound method BaseGame.current_action_id of <rl18xx.game.engine.game.title.g1830.Game object>>>, <Entry message='-- Stock Round 1 --', action_id=<bound method BaseGame.current_action_id of <rl18xx.game.engine.game.title.g1830.Game object>>>, <Entry message='-- Event: Private companies close --', action_id=<bound method BaseGame.current_action_id of <rl18xx.game.engine.game.title.g1830.Game object>>>, <Entry message='-- Stock Round 1 --', action_id=<bound method BaseGame.current_action_id of <rl18xx.game.engine.game.title.g1830.Game object>>>, <Entry message='hi has priority deal', action_id=<bound method BaseGame.current_action_id of <rl18xx.game.engine.game.title.g1830.Game object>>>, <Entry message='-- Stock Round 1 --', action_id=<bound method BaseGame.current_action_id of <rl18xx.game.engine.game.title.g1830.Game object>>>, <Entry message='hi has priority deal', action_id=<bound method BaseGame.current_action_id of <rl18xx.game.engine.game.title.g1830.Game object>>>, <Entry message='-- Stock Round 1 --', action_id=<bound method BaseGame.current_action_id of <rl18xx.game.engine.game.title.g1830.Game object>>>, <Entry message='-- Event: Private companies close --', action_id=<bound method BaseGame.current_action_id of <rl18xx.game.engine.game.title.g1830.Game object>>>, <Entry message='-- Stock Round 1 --', action_id=<bound method BaseGame.current_action_id of <rl18xx.game.engine.game.title.g1830.Game object>>>, <Entry message='hi has priority deal', action_id=<bound method BaseGame.current_action_id of <rl18xx.game.engine.game.title.g1830.Game object>>>, <Entry message='-- Stock Round 1 --', action_id=<bound method BaseGame.current_action_id of <rl18xx.game.engine.game.title.g1830.Game object>>>, <Entry message='hi has priority deal', action_id=<bound method BaseGame.current_action_id of <rl18xx.game.engine.game.title.g1830.Game object>>>, <Entry message='-- Stock Round 1 --', action_id=<bound method BaseGame.current_action_id of <rl18xx.game.engine.game.title.g1830.Game object>>>, <Entry message='-- Event: Private companies close --', action_id=<bound method BaseGame.current_action_id of <rl18xx.game.engine.game.title.g1830.Game object>>>, <Entry message='-- Stock Round 1 --', action_id=<bound method BaseGame.current_action_id of <rl18xx.game.engine.game.title.g1830.Game object>>>, <Entry message='hi has priority deal', action_id=<bound method BaseGame.current_action_id of <rl18xx.game.engine.game.title.g1830.Game object>>>, <Entry message='-- Stock Round 1 --', action_id=<bound method BaseGame.current_action_id of <rl18xx.game.engine.game.title.g1830.Game object>>>, <Entry message='hi has priority deal', action_id=<bound method BaseGame.current_action_id of <rl18xx.game.engine.game.title.g1830.Game object>>>, <Entry message='-- Stock Round 1 --', action_id=<bound method BaseGame.current_action_id of <rl18xx.game.engine.game.title.g1830.Game object>>>, <Entry message='-- Event: Private companies close --', action_id=<bound method BaseGame.current_action_id of <rl18xx.game.engine.game.title.g1830.Game object>>>, <Entry message='-- Stock Round 1 --', action_id=<bound method BaseGame.current_action_id of <rl18xx.game.engine.game.title.g1830.Game object>>>, <Entry message='hi has priority deal', action_id=<bound method BaseGame.current_action_id of <rl18xx.game.engine.game.title.g1830.Game object>>>, <Entry message='-- Stock Round 1 --', action_id=<bound method BaseGame.current_action_id of <rl18xx.game.engine.game.title.g1830.Game object>>>, <Entry message='hi has priority deal', action_id=<bound method BaseGame.current_action_id of <rl18xx.game.engine.game.title.g1830.Game object>>>, <Entry message='-- Stock Round 1 --', action_id=<bound method BaseGame.current_action_id of <rl18xx.game.engine.game.title.g1830.Game object>>>, <Entry message='-- Event: Private companies close --', action_id=<bound method BaseGame.current_action_id of <rl18xx.game.engine.game.title.g1830.Game object>>>]\n",
      "name: minors, value: []\n",
      "name: names, value: {'1': 'hi', '2': 'friend'}\n",
      "name: operating_rounds, value: 1\n",
      "name: optional_rules, value: []\n",
      "name: phase, value: <rl18xx.game.engine.core.Phase object>\n",
      "name: players, value: [<Player - hi>, <Player - friend>]\n",
      "name: programmed_actions, value: {}\n",
      "name: queued_log, value: []\n",
      "name: rand, value: 229283573\n",
      "name: raw_actions, value: []\n",
      "name: raw_all_actions, value: []\n",
      "name: removals, value: []\n",
      "name: round, value: <rl18xx.game.engine.round.Auction object>\n",
      "name: round_counter, value: 17\n",
      "name: round_history, value: [<bound method BaseGame.current_action_id of <rl18xx.game.engine.game.title.g1830.Game object>>, <bound method BaseGame.current_action_id of <rl18xx.game.engine.game.title.g1830.Game object>>, <bound method BaseGame.current_action_id of <rl18xx.game.engine.game.title.g1830.Game object>>, <bound method BaseGame.current_action_id of <rl18xx.game.engine.game.title.g1830.Game object>>, <bound method BaseGame.current_action_id of <rl18xx.game.engine.game.title.g1830.Game object>>, <bound method BaseGame.current_action_id of <rl18xx.game.engine.game.title.g1830.Game object>>, <bound method BaseGame.current_action_id of <rl18xx.game.engine.game.title.g1830.Game object>>, <bound method BaseGame.current_action_id of <rl18xx.game.engine.game.title.g1830.Game object>>, <bound method BaseGame.current_action_id of <rl18xx.game.engine.game.title.g1830.Game object>>, <bound method BaseGame.current_action_id of <rl18xx.game.engine.game.title.g1830.Game object>>, <bound method BaseGame.current_action_id of <rl18xx.game.engine.game.title.g1830.Game object>>]\n",
      "name: seed, value: 0\n",
      "name: share_pool, value: <rl18xx.game.engine.entities.SharePool object>\n",
      "name: share_prices, value: [<rl18xx.game.engine.core.SharePrice object>, <rl18xx.game.engine.core.SharePrice object>, <rl18xx.game.engine.core.SharePrice object>, <rl18xx.game.engine.core.SharePrice object>, <rl18xx.game.engine.core.SharePrice object>, <rl18xx.game.engine.core.SharePrice object>, <rl18xx.game.engine.core.SharePrice object>, <rl18xx.game.engine.core.SharePrice object>, <rl18xx.game.engine.core.SharePrice object>, <rl18xx.game.engine.core.SharePrice object>, <rl18xx.game.engine.core.SharePrice object>, <rl18xx.game.engine.core.SharePrice object>, <rl18xx.game.engine.core.SharePrice object>, <rl18xx.game.engine.core.SharePrice object>, <rl18xx.game.engine.core.SharePrice object>, <rl18xx.game.engine.core.SharePrice object>, <rl18xx.game.engine.core.SharePrice object>, <rl18xx.game.engine.core.SharePrice object>, <rl18xx.game.engine.core.SharePrice object>, <rl18xx.game.engine.core.SharePrice object>, <rl18xx.game.engine.core.SharePrice object>, <rl18xx.game.engine.core.SharePrice object>, <rl18xx.game.engine.core.SharePrice object>, <rl18xx.game.engine.core.SharePrice object>, <rl18xx.game.engine.core.SharePrice object>, <rl18xx.game.engine.core.SharePrice object>, <rl18xx.game.engine.core.SharePrice object>, <rl18xx.game.engine.core.SharePrice object>, <rl18xx.game.engine.core.SharePrice object>, <rl18xx.game.engine.core.SharePrice object>, <rl18xx.game.engine.core.SharePrice object>, <rl18xx.game.engine.core.SharePrice object>, <rl18xx.game.engine.core.SharePrice object>, <rl18xx.game.engine.core.SharePrice object>, <rl18xx.game.engine.core.SharePrice object>, <rl18xx.game.engine.core.SharePrice object>, <rl18xx.game.engine.core.SharePrice object>, <rl18xx.game.engine.core.SharePrice object>, <rl18xx.game.engine.core.SharePrice object>, <rl18xx.game.engine.core.SharePrice object>, <rl18xx.game.engine.core.SharePrice object>, <rl18xx.game.engine.core.SharePrice object>, <rl18xx.game.engine.core.SharePrice object>, <rl18xx.game.engine.core.SharePrice object>, <rl18xx.game.engine.core.SharePrice object>, <rl18xx.game.engine.core.SharePrice object>, <rl18xx.game.engine.core.SharePrice object>, <rl18xx.game.engine.core.SharePrice object>, <rl18xx.game.engine.core.SharePrice object>, <rl18xx.game.engine.core.SharePrice object>, <rl18xx.game.engine.core.SharePrice object>, <rl18xx.game.engine.core.SharePrice object>, <rl18xx.game.engine.core.SharePrice object>, <rl18xx.game.engine.core.SharePrice object>, <rl18xx.game.engine.core.SharePrice object>, <rl18xx.game.engine.core.SharePrice object>, <rl18xx.game.engine.core.SharePrice object>, <rl18xx.game.engine.core.SharePrice object>, <rl18xx.game.engine.core.SharePrice object>, <rl18xx.game.engine.core.SharePrice object>, <rl18xx.game.engine.core.SharePrice object>, <rl18xx.game.engine.core.SharePrice object>, <rl18xx.game.engine.core.SharePrice object>, <rl18xx.game.engine.core.SharePrice object>, <rl18xx.game.engine.core.SharePrice object>, <rl18xx.game.engine.core.SharePrice object>, <rl18xx.game.engine.core.SharePrice object>, <rl18xx.game.engine.core.SharePrice object>, <rl18xx.game.engine.core.SharePrice object>, <rl18xx.game.engine.core.SharePrice object>, <rl18xx.game.engine.core.SharePrice object>, <rl18xx.game.engine.core.SharePrice object>, <rl18xx.game.engine.core.SharePrice object>, <rl18xx.game.engine.core.SharePrice object>, <rl18xx.game.engine.core.SharePrice object>, <rl18xx.game.engine.core.SharePrice object>, <rl18xx.game.engine.core.SharePrice object>, <rl18xx.game.engine.core.SharePrice object>, <rl18xx.game.engine.core.SharePrice object>, <rl18xx.game.engine.core.SharePrice object>, <rl18xx.game.engine.core.SharePrice object>, <rl18xx.game.engine.core.SharePrice object>, <rl18xx.game.engine.core.SharePrice object>, <rl18xx.game.engine.core.SharePrice object>, <rl18xx.game.engine.core.SharePrice object>, <rl18xx.game.engine.core.SharePrice object>, <rl18xx.game.engine.core.SharePrice object>, <rl18xx.game.engine.core.SharePrice object>, <rl18xx.game.engine.core.SharePrice object>, <rl18xx.game.engine.core.SharePrice object>, <rl18xx.game.engine.core.SharePrice object>, <rl18xx.game.engine.core.SharePrice object>, <rl18xx.game.engine.core.SharePrice object>, <rl18xx.game.engine.core.SharePrice object>, <rl18xx.game.engine.core.SharePrice object>, <rl18xx.game.engine.core.SharePrice object>, <rl18xx.game.engine.core.SharePrice object>, <rl18xx.game.engine.core.SharePrice object>, <rl18xx.game.engine.core.SharePrice object>, <rl18xx.game.engine.core.SharePrice object>, <rl18xx.game.engine.core.SharePrice object>, <rl18xx.game.engine.core.SharePrice object>, <rl18xx.game.engine.core.SharePrice object>, <rl18xx.game.engine.core.SharePrice object>, <rl18xx.game.engine.core.SharePrice object>, <rl18xx.game.engine.core.SharePrice object>, <rl18xx.game.engine.core.SharePrice object>, <rl18xx.game.engine.core.SharePrice object>, <rl18xx.game.engine.core.SharePrice object>, <rl18xx.game.engine.core.SharePrice object>, <rl18xx.game.engine.core.SharePrice object>, <rl18xx.game.engine.core.SharePrice object>, <rl18xx.game.engine.core.SharePrice object>, <rl18xx.game.engine.core.SharePrice object>, <rl18xx.game.engine.core.SharePrice object>, <rl18xx.game.engine.core.SharePrice object>, <rl18xx.game.engine.core.SharePrice object>, <rl18xx.game.engine.core.SharePrice object>, <rl18xx.game.engine.core.SharePrice object>, <rl18xx.game.engine.core.SharePrice object>]\n",
      "name: shares, value: []\n",
      "name: stock_market, value: <rl18xx.game.engine.core.StockMarket object>\n",
      "name: strict, value: False\n",
      "name: tile_groups, value: []\n",
      "name: tiles, value: [<Tile: 1, hex: None>, <Tile: 2, hex: None>, <Tile: 3, hex: None>, <Tile: 3, hex: None>, <Tile: 4, hex: None>, <Tile: 4, hex: None>, <Tile: 7, hex: None>, <Tile: 7, hex: None>, <Tile: 7, hex: None>, <Tile: 7, hex: None>, <Tile: 8, hex: None>, <Tile: 8, hex: None>, <Tile: 8, hex: None>, <Tile: 8, hex: None>, <Tile: 8, hex: None>, <Tile: 8, hex: None>, <Tile: 8, hex: None>, <Tile: 8, hex: None>, <Tile: 9, hex: None>, <Tile: 9, hex: None>, <Tile: 9, hex: None>, <Tile: 9, hex: None>, <Tile: 9, hex: None>, <Tile: 9, hex: None>, <Tile: 9, hex: None>, <Tile: 14, hex: None>, <Tile: 14, hex: None>, <Tile: 14, hex: None>, <Tile: 15, hex: None>, <Tile: 15, hex: None>, <Tile: 16, hex: None>, <Tile: 18, hex: None>, <Tile: 19, hex: None>, <Tile: 20, hex: None>, <Tile: 23, hex: None>, <Tile: 23, hex: None>, <Tile: 23, hex: None>, <Tile: 24, hex: None>, <Tile: 24, hex: None>, <Tile: 24, hex: None>, <Tile: 25, hex: None>, <Tile: 26, hex: None>, <Tile: 27, hex: None>, <Tile: 28, hex: None>, <Tile: 29, hex: None>, <Tile: 39, hex: None>, <Tile: 40, hex: None>, <Tile: 41, hex: None>, <Tile: 41, hex: None>, <Tile: 42, hex: None>, <Tile: 42, hex: None>, <Tile: 43, hex: None>, <Tile: 43, hex: None>, <Tile: 44, hex: None>, <Tile: 45, hex: None>, <Tile: 45, hex: None>, <Tile: 46, hex: None>, <Tile: 46, hex: None>, <Tile: 47, hex: None>, <Tile: 53, hex: None>, <Tile: 53, hex: None>, <Tile: 54, hex: None>, <Tile: 55, hex: None>, <Tile: 56, hex: None>, <Tile: 57, hex: None>, <Tile: 57, hex: None>, <Tile: 57, hex: None>, <Tile: 57, hex: None>, <Tile: 58, hex: None>, <Tile: 58, hex: None>, <Tile: 59, hex: None>, <Tile: 59, hex: None>, <Tile: 61, hex: None>, <Tile: 61, hex: None>, <Tile: 62, hex: None>, <Tile: 63, hex: None>, <Tile: 63, hex: None>, <Tile: 63, hex: None>, <Tile: 64, hex: None>, <Tile: 65, hex: None>, <Tile: 66, hex: None>, <Tile: 67, hex: None>, <Tile: 68, hex: None>, <Tile: 69, hex: None>, <Tile: 70, hex: None>]\n",
      "name: title, value: 1830\n",
      "name: total_loans, value: 0\n",
      "name: trains, value: [<rl18xx.game.engine.entities.Train object>, <rl18xx.game.engine.entities.Train object>, <rl18xx.game.engine.entities.Train object>, <rl18xx.game.engine.entities.Train object>, <rl18xx.game.engine.entities.Train object>, <rl18xx.game.engine.entities.Train object>, <rl18xx.game.engine.entities.Train object>, <rl18xx.game.engine.entities.Train object>, <rl18xx.game.engine.entities.Train object>, <rl18xx.game.engine.entities.Train object>, <rl18xx.game.engine.entities.Train object>, <rl18xx.game.engine.entities.Train object>, <rl18xx.game.engine.entities.Train object>, <rl18xx.game.engine.entities.Train object>, <rl18xx.game.engine.entities.Train object>, <rl18xx.game.engine.entities.Train object>, <rl18xx.game.engine.entities.Train object>, <rl18xx.game.engine.entities.Train object>, <rl18xx.game.engine.entities.Train object>, <rl18xx.game.engine.entities.Train object>, <rl18xx.game.engine.entities.Train object>, <rl18xx.game.engine.entities.Train object>, <rl18xx.game.engine.entities.Train object>, <rl18xx.game.engine.entities.Train object>, <rl18xx.game.engine.entities.Train object>, <rl18xx.game.engine.entities.Train object>, <rl18xx.game.engine.entities.Train object>, <rl18xx.game.engine.entities.Train object>, <rl18xx.game.engine.entities.Train object>, <rl18xx.game.engine.entities.Train object>, <rl18xx.game.engine.entities.Train object>, <rl18xx.game.engine.entities.Train object>, <rl18xx.game.engine.entities.Train object>, <rl18xx.game.engine.entities.Train object>, <rl18xx.game.engine.entities.Train object>, <rl18xx.game.engine.entities.Train object>, <rl18xx.game.engine.entities.Train object>, <rl18xx.game.engine.entities.Train object>, <rl18xx.game.engine.entities.Train object>, <rl18xx.game.engine.entities.Train object>]\n",
      "name: turn, value: 1\n",
      "name: undo_possible, value: False\n",
      "name: user, value: None\n"
     ]
    },
    {
     "data": {
      "text/plain": [
       "['actions',\n",
       " 'all_tiles',\n",
       " 'bank',\n",
       " 'cities',\n",
       " 'closing_queue',\n",
       " 'companies',\n",
       " 'corporations',\n",
       " 'corporations_are_closing',\n",
       " 'current_entity',\n",
       " 'depot',\n",
       " 'exception',\n",
       " 'filtered_actions',\n",
       " 'final_turn',\n",
       " 'finished',\n",
       " 'game_companies',\n",
       " 'game_corporations',\n",
       " 'game_end_check_values',\n",
       " 'game_market',\n",
       " 'game_minors',\n",
       " 'game_phases',\n",
       " 'game_trains',\n",
       " 'graph',\n",
       " 'hexes',\n",
       " 'id',\n",
       " 'last_turn_start_action_id',\n",
       " 'layout',\n",
       " 'loading',\n",
       " 'loans',\n",
       " 'log',\n",
       " 'minors',\n",
       " 'names',\n",
       " 'operating_rounds',\n",
       " 'optional_rules',\n",
       " 'phase',\n",
       " 'players',\n",
       " 'programmed_actions',\n",
       " 'queued_log',\n",
       " 'rand',\n",
       " 'raw_actions',\n",
       " 'raw_all_actions',\n",
       " 'removals',\n",
       " 'round',\n",
       " 'round_counter',\n",
       " 'round_history',\n",
       " 'seed',\n",
       " 'share_pool',\n",
       " 'share_prices',\n",
       " 'shares',\n",
       " 'stock_market',\n",
       " 'strict',\n",
       " 'tile_groups',\n",
       " 'tiles',\n",
       " 'title',\n",
       " 'total_loans',\n",
       " 'trains',\n",
       " 'turn',\n",
       " 'undo_possible',\n",
       " 'user']"
      ]
     },
     "execution_count": null,
     "metadata": {},
     "output_type": "execute_result"
    }
   ],
   "source": [
    "import inspect\n",
    "\n",
    "skipped = []\n",
    "methods = []\n",
    "non_methods = []\n",
    "for item_name in dir(g):\n",
    "    if item_name.startswith(\"init\") or item_name.startswith(\"_\") or item_name.isupper():\n",
    "        skipped.append(item_name)\n",
    "        continue\n",
    "\n",
    "    item = getattr(g, item_name)\n",
    "    if callable(item):\n",
    "        if inspect.signature(item).parameters:\n",
    "            skipped.append(item)\n",
    "        else:\n",
    "            # print(item_name)\n",
    "            methods.append(item_name)\n",
    "            item()\n",
    "    else:\n",
    "        print(f\"name: {item_name}, value: {item}\")\n",
    "        non_methods.append(item_name)\n",
    "\n",
    "non_methods"
   ]
  },
  {
   "cell_type": "code",
   "execution_count": null,
   "id": "1fe3b091-8d6a-4b18-b038-bc5a607c371e",
   "metadata": {},
   "outputs": [],
   "source": []
  }
 ],
 "metadata": {
  "kernelspec": {
   "display_name": "python3",
   "language": "python",
   "name": "python3"
  }
 },
 "nbformat": 4,
 "nbformat_minor": 5
}
