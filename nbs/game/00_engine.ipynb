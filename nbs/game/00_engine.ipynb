{
 "cells": [
  {
   "cell_type": "markdown",
   "id": "fbdc7dfc-0d39-4c00-bc43-61fb3aed70ab",
   "metadata": {},
   "source": [
    "# Game Engine"
   ]
  },
  {
   "cell_type": "code",
   "execution_count": null,
   "id": "e27e9763-7bf3-4dfb-b343-4754208a5dfd",
   "metadata": {},
   "outputs": [],
   "source": [
    "# | default_exp game.engine"
   ]
  },
  {
   "cell_type": "code",
   "execution_count": null,
   "id": "b2d7b0ef-4e8f-4976-aa76-e6d34a86fb86",
   "metadata": {},
   "outputs": [],
   "source": [
    "# | hide\n",
    "%load_ext lab_black"
   ]
  },
  {
   "cell_type": "code",
   "execution_count": null,
   "id": "518d6541-3593-4ae8-bc07-4b5d7b6a18a8",
   "metadata": {},
   "outputs": [],
   "source": [
    "# | export\n",
    "import importlib\n",
    "import os"
   ]
  },
  {
   "cell_type": "markdown",
   "id": "4b7813dd-603c-4da4-9763-5c2d47f2e9cc",
   "metadata": {},
   "source": [
    "All games are located within the `games` subdirectory."
   ]
  },
  {
   "cell_type": "markdown",
   "id": "69de062e-2279-483d-b514-97f9f4544ec3",
   "metadata": {},
   "source": [
    "## Engine"
   ]
  },
  {
   "cell_type": "code",
   "execution_count": null,
   "id": "5d68245c-3b3a-494e-93d2-32af2e0c625c",
   "metadata": {},
   "outputs": [],
   "source": [
    "# | export\n",
    "TITLE_DIR = \"engine/game/titles\"\n",
    "TITLE_MODULE = \"rl18xx.game.engine.game.title\""
   ]
  },
  {
   "cell_type": "code",
   "execution_count": null,
   "id": "aeab3c29-80e0-4dc7-821a-ded7080a0b22",
   "metadata": {},
   "outputs": [],
   "source": [
    "# | export\n",
    "\n",
    "\n",
    "class Engine:\n",
    "    def __init__(self):\n",
    "        self.game_modules = self._import_game_modules()\n",
    "        self.game_meta = self._collect_game_meta()\n",
    "        self.games = self._load_games()\n",
    "\n",
    "    def _import_game_modules(self):\n",
    "        game_modules = {}\n",
    "        for filename in os.listdir(TITLE_DIR):\n",
    "            if filename.endswith(\".ipynb\"):\n",
    "                module_name = filename[3:-6]\n",
    "                module_path = f\"{TITLE_MODULE}.{module_name}\"\n",
    "                game_modules[module_name] = importlib.import_module(module_path)\n",
    "        return game_modules\n",
    "\n",
    "    def _collect_game_meta(self):\n",
    "        game_meta_by_title = {}\n",
    "        for name, module in self.game_modules.items():\n",
    "            if hasattr(module, \"Meta\"):\n",
    "                meta = getattr(module, \"Meta\")\n",
    "                game_meta_by_title[meta.title()] = meta\n",
    "        return game_meta_by_title\n",
    "\n",
    "    def _load_games(self):\n",
    "        games = {}\n",
    "        for title in self.game_meta:\n",
    "            if hasattr(self.game_modules[\"g\" + title], \"Game\"):\n",
    "                games[title] = getattr(self.game_modules[\"g\" + title], \"Game\")\n",
    "        return games\n",
    "\n",
    "    def meta_by_title(self, title):\n",
    "        return self.game_meta.get(title)\n",
    "\n",
    "    def game_by_title(self, title):\n",
    "        return self.games.get(title)"
   ]
  },
  {
   "cell_type": "code",
   "execution_count": null,
   "id": "8d9c570d-653b-4a9a-8a52-1e0a1847cb21",
   "metadata": {},
   "outputs": [],
   "source": [
    "engine = Engine()"
   ]
  },
  {
   "cell_type": "code",
   "execution_count": null,
   "id": "1a95829c-186b-4016-8e87-516654d5938c",
   "metadata": {},
   "outputs": [],
   "source": [
    "game = engine.game_by_title(\"1830\")"
   ]
  },
  {
   "cell_type": "markdown",
   "id": "c35f37fb-8ee1-48a7-88e4-f80e31e88412",
   "metadata": {},
   "source": [
    "## Game Instantiation and basic tests"
   ]
  },
  {
   "cell_type": "code",
   "execution_count": null,
   "id": "564e4243-80a7-4ae1-85e8-8173b1d4c8ef",
   "metadata": {},
   "outputs": [],
   "source": [
    "g = game({\"1\": \"Player 1\", \"2\": \"Player 2\", \"3\": \"Player 3\", \"4\": \"Player 4\"})"
   ]
  },
  {
   "cell_type": "code",
   "execution_count": null,
   "id": "b1a01d71-03ae-4146-b0ed-8587d92426c9",
   "metadata": {},
   "outputs": [],
   "source": [
    "import inspect\n",
    "\n",
    "test = False\n",
    "\n",
    "skipped = []\n",
    "methods = []\n",
    "non_methods = []\n",
    "for item_name in dir(g):\n",
    "    if item_name.startswith(\"init\") or item_name.startswith(\"_\") or item_name.isupper():\n",
    "        skipped.append(item_name)\n",
    "        continue\n",
    "\n",
    "    item = getattr(g, item_name)\n",
    "    if callable(item):\n",
    "        if inspect.signature(item).parameters:\n",
    "            skipped.append(item)\n",
    "        else:\n",
    "            # print(item_name)\n",
    "            methods.append(item_name)\n",
    "            if test:\n",
    "                item()\n",
    "    else:\n",
    "        # print(f\"name: {item_name}, value: {item}\")\n",
    "        non_methods.append(item_name)\n",
    "\n",
    "# methods, non_methods"
   ]
  },
  {
   "cell_type": "markdown",
   "id": "0f49b2b5-b03c-4858-89ad-56fb8955b209",
   "metadata": {},
   "source": [
    "## Actions Helper"
   ]
  },
  {
   "cell_type": "code",
   "execution_count": null,
   "id": "033c0a43-18e6-4fc1-be59-7611be43bae4",
   "metadata": {},
   "outputs": [],
   "source": [
    "from rl18xx.game.engine.entities import Company\n",
    "from rl18xx.game.engine.actions import (\n",
    "    Bid,\n",
    "    BuyCompany,\n",
    "    BuyShares,\n",
    "    BuyTrain,\n",
    "    Dividend,\n",
    "    LayTile,\n",
    "    Par,\n",
    "    Pass,\n",
    "    PlaceToken,\n",
    "    RunRoutes,\n",
    "    SellShares,\n",
    ")\n",
    "\n",
    "from rl18xx.game.engine.abilities import Shares as SharesAbility\n",
    "from rl18xx.game.engine.autorouter import AutoRouter\n",
    "from rl18xx.game.engine.graph import Route\n",
    "from rl18xx.game.engine.round import (\n",
    "    BuyTrain as BuyTrainStep,\n",
    "    Exchange as ExchangeStep,\n",
    "    SpecialTrack as SpecialTrackStep,\n",
    "    SpecialToken as SpecialTokenStep,\n",
    ")\n",
    "\n",
    "from collections import defaultdict\n",
    "\n",
    "router = AutoRouter(g)\n",
    "\n",
    "\n",
    "enabled = False\n",
    "\n",
    "\n",
    "def print_summary():\n",
    "    if enabled:\n",
    "        for player in g.players:\n",
    "            shares2 = {\n",
    "                corporation: sum(share.percent for share in shares)\n",
    "                for corporation, shares in player.shares_by_corporation.items()\n",
    "            }\n",
    "            print(player.name)\n",
    "            print(f\"    cash: {player.cash}\")\n",
    "            print(f\"    shares: {shares2}\")\n",
    "            print(f\"    companies: {player.companies}\")\n",
    "\n",
    "    print(\"\")\n",
    "    for corp in g.corporations:\n",
    "        print(corp.name)\n",
    "        print(f\"    cash: {corp.cash}\")\n",
    "        print(f\"    companies: {corp.companies}\")\n",
    "        print(f\"    trains: {corp.trains}\")\n",
    "        print(f\"    share price: {corp.share_price}\")\n",
    "\n",
    "\n",
    "def sort_actions(actions, instances=False):\n",
    "    if instances:\n",
    "        return sorted(\n",
    "            actions,\n",
    "            key=lambda x: x.__class__.__name__\n",
    "            if x.__class__.__name__ != \"Pass\"\n",
    "            else \"zzzzzzzzzzzzzzzzzzzzzzzzzzzzzz\",\n",
    "        )\n",
    "\n",
    "    return sorted(\n",
    "        actions,\n",
    "        key=lambda x: x.__name__\n",
    "        if x.__name__ != \"Pass\"\n",
    "        else \"zzzzzzzzzzzzzzzzzzzzzzzzzzzzzz\",\n",
    "    )\n",
    "\n",
    "\n",
    "def get_current_actions():\n",
    "    if isinstance(g.current_entity, Company):\n",
    "        if Pass in g.round.actions_for(g.current_entity):\n",
    "            return [Pass]\n",
    "        return []\n",
    "    return sort_actions(g.round.actions_for(g.current_entity))\n",
    "\n",
    "\n",
    "def get_company_actions():\n",
    "    company_actions = {}\n",
    "    if isinstance(g.current_entity, Company):\n",
    "        company_actions[g.current_entity] = sort_actions(\n",
    "            g.round.actions_for(g.current_entity)\n",
    "        )\n",
    "    elif hasattr(g.current_entity, \"companies\"):\n",
    "        for company in g.current_entity.companies:\n",
    "            company_actions[company] = sort_actions(g.round.actions_for(company))\n",
    "\n",
    "    return company_actions\n",
    "\n",
    "\n",
    "def get_corp_for_company(company):\n",
    "    for ability in company.abilities:\n",
    "        if isinstance(ability, SharesAbility):\n",
    "            return ability.shares[0].corporation()\n",
    "    return None\n",
    "\n",
    "\n",
    "def get_bid_actions():\n",
    "    companies = g.active_step().companies\n",
    "    bids = []\n",
    "    bids.append(\n",
    "        [Bid(g.current_entity, g.active_step().min_bid(companies[0]), companies[0])]\n",
    "    )\n",
    "    for company in companies[1:]:\n",
    "        min_bid = g.active_step().min_bid(company)\n",
    "        max_bid = g.active_step().max_bid(g.current_entity, company)\n",
    "        bid_values = list(\n",
    "            range(min_bid - (min_bid % 5), (max_bid + 1) - ((max_bid + 1) % 5), 5)\n",
    "        )\n",
    "        bids.append(\n",
    "            [Bid(g.current_entity, bid_value, company) for bid_value in bid_values]\n",
    "        )\n",
    "    return sorted([item for sublist in bids for item in sublist])\n",
    "\n",
    "\n",
    "def get_par_actions():\n",
    "    parable_corporations = []\n",
    "    if hasattr(g.active_step(), \"companies_pending_par\"):\n",
    "        par_values = g.share_prices\n",
    "        return [\n",
    "            Par(g.current_entity, get_corp_for_company(company), price)\n",
    "            for company in g.active_step().companies_pending_par\n",
    "            for price in par_values\n",
    "        ]\n",
    "    else:\n",
    "        parable_corporations = sorted(\n",
    "            [corp for corp in g.corporations if g.can_par(corp, g.current_entity)],\n",
    "            key=lambda corporation: corporation.name,\n",
    "        )\n",
    "        par_values = g.share_prices\n",
    "        buying_power = g.buying_power(g.current_entity)\n",
    "        return sorted(\n",
    "            [\n",
    "                Par(g.current_entity, corp, price)\n",
    "                for corp in parable_corporations\n",
    "                for price in par_values\n",
    "                if 2 * price.price <= buying_power\n",
    "            ]\n",
    "        )\n",
    "\n",
    "\n",
    "def get_buy_shares_actions():\n",
    "    buyable_shares = [\n",
    "        item\n",
    "        for sublist in g.active_step().buyable_shares(g.current_entity)\n",
    "        for item in sublist\n",
    "    ]\n",
    "    unique_buyable_shares = sorted(\n",
    "        list(set(buyable_shares)),\n",
    "        key=lambda share: (share.corporation(), share.owner.__class__.__name__),\n",
    "    )\n",
    "    return sorted(\n",
    "        [\n",
    "            BuyShares(g.current_entity, share, share.price)\n",
    "            for share in unique_buyable_shares\n",
    "        ]\n",
    "    )\n",
    "\n",
    "\n",
    "def get_company_buy_shares_actions(company):\n",
    "    exchange_step = [step for step in g.round.steps if isinstance(step, ExchangeStep)][\n",
    "        0\n",
    "    ]\n",
    "    shares = exchange_step.exchangeable_shares(company)\n",
    "    return sorted([BuyShares(company, share, share.price) for share in shares])\n",
    "\n",
    "\n",
    "def get_sell_shares_actions():\n",
    "    if isinstance(g.active_step(), BuyTrainStep):\n",
    "        if (\n",
    "            g.current_entity.is_corporation()\n",
    "            and not g.current_entity.trains\n",
    "            and g.current_entity.cash < g.active_step().needed_cash(g.current_entity)\n",
    "        ):\n",
    "            return [\n",
    "                SellShares(bundle.owner, bundle)\n",
    "                for bundle in g.active_step().sellable_shares(g.current_entity)\n",
    "            ]\n",
    "        else:\n",
    "            return []\n",
    "    else:\n",
    "        return sorted(\n",
    "            [\n",
    "                SellShares(g.current_entity, bundle)\n",
    "                for bundle in g.active_step().sellable_shares(g.current_entity)\n",
    "            ]\n",
    "        )\n",
    "\n",
    "\n",
    "def get_place_token_actions():\n",
    "    if hasattr(g.active_step(), \"pending_token\") and g.active_step().pending_token:\n",
    "        hexes = g.active_step().pending_token.get(\"hexes\")\n",
    "        return sorted(\n",
    "            [\n",
    "                PlaceToken(g.current_entity, city, city.get_slot(g.current_entity))\n",
    "                for hex in hexes\n",
    "                for city in hex._tile.cities\n",
    "            ]\n",
    "        )\n",
    "\n",
    "    return sorted(\n",
    "        [\n",
    "            PlaceToken(g.current_entity, city, city.get_slot(g.current_entity))\n",
    "            for city in g.graph.connected_nodes(g.current_entity)\n",
    "            if city.tokenable(g.current_entity)\n",
    "        ]\n",
    "    )\n",
    "\n",
    "\n",
    "def get_company_place_token_actions(company):\n",
    "    special_token_step = [\n",
    "        step for step in g.round.steps if isinstance(step, SpecialTokenStep)\n",
    "    ][0]\n",
    "    ability = special_token_step.ability(company)\n",
    "\n",
    "    actions = []\n",
    "    for hex in ability.hexes:\n",
    "        actions.extend(\n",
    "            [\n",
    "                PlaceToken(company, city, city.get_slot(g.current_entity))\n",
    "                for city in g.hex_by_id(hex).tile.cities\n",
    "            ]\n",
    "        )\n",
    "    return actions\n",
    "\n",
    "\n",
    "def get_lay_tile_actions():\n",
    "    moves = defaultdict(dict)\n",
    "    for hex in g.graph.connected_hexes(g.current_entity):\n",
    "        layable_tiles = []\n",
    "        layable_tiles.extend(\n",
    "            [\n",
    "                tile\n",
    "                for tile in g.active_step().upgradeable_tiles(g.current_entity, hex)\n",
    "                if g.upgrade_cost(hex.tile, hex, g.current_entity, g.current_entity)\n",
    "                <= g.buying_power(g.current_entity)\n",
    "            ]\n",
    "        )\n",
    "\n",
    "        for tile in layable_tiles:\n",
    "            rotations = g.active_step().legal_tile_rotations(\n",
    "                g.current_entity, hex, tile\n",
    "            )\n",
    "            moves[hex][tile] = rotations\n",
    "    return sorted(\n",
    "        [\n",
    "            LayTile(g.current_entity, tile, hex, rotation)\n",
    "            for hex in moves\n",
    "            for tile in moves[hex]\n",
    "            for rotation in moves[hex][tile]\n",
    "        ]\n",
    "    )\n",
    "\n",
    "\n",
    "def get_company_lay_tile_actions(company):\n",
    "    special_track_step = [\n",
    "        step for step in g.round.steps if isinstance(step, SpecialTrackStep)\n",
    "    ][0]\n",
    "    abilities = special_track_step.abilities(company)\n",
    "\n",
    "    actions = []\n",
    "    for ability in abilities:\n",
    "        hexes = [g.hex_by_id(hex) for hex in ability.hexes]\n",
    "        for hex in hexes:\n",
    "            tiles = special_track_step.potential_tiles(company, hex)\n",
    "            for tile in tiles:\n",
    "                rotations = special_track_step.legal_tile_rotations(company, hex, tile)\n",
    "                actions.extend(\n",
    "                    [LayTile(company, tile, hex, rotation) for rotation in rotations]\n",
    "                )\n",
    "\n",
    "    return actions\n",
    "\n",
    "\n",
    "def get_unique_trains(trains):\n",
    "    unique_trains = {}\n",
    "    for train in trains:\n",
    "        key = (train.name, train.owner)\n",
    "        if key not in unique_trains:\n",
    "            unique_trains[key] = train\n",
    "    return unique_trains.values()\n",
    "\n",
    "\n",
    "def get_buy_train_actions():\n",
    "    trains = get_unique_trains(g.depot.available(g.current_entity))\n",
    "    actions = []\n",
    "    for train in trains:\n",
    "        min_price = train.min_price()\n",
    "        if min_price > g.buying_power(g.current_entity):\n",
    "            if g.active_step().must_buy_train(g.current_entity):\n",
    "                if min_price > g.buying_power(g.current_entity) + g.buying_power(\n",
    "                    g.current_entity.owner\n",
    "                ):\n",
    "                    continue\n",
    "            else:\n",
    "                continue\n",
    "        max_price = train.price if train.from_depot() else g.current_entity.cash\n",
    "        price_values = list(range(min_price, int(max_price) + 1))\n",
    "        actions.append(\n",
    "            [BuyTrain(g.current_entity, train, price) for price in price_values]\n",
    "        )\n",
    "    actions.append(get_exchange_train_actions())\n",
    "    return sorted([item for sublist in actions for item in sublist])\n",
    "\n",
    "\n",
    "def get_exchange_train_actions():\n",
    "    discounted_trains = g.discountable_trains_for(g.current_entity)\n",
    "    if not discounted_trains:\n",
    "        return []\n",
    "\n",
    "    unique_trains = get_unique_trains([discount[1] for discount in discounted_trains])\n",
    "    unique_discounts = [\n",
    "        discount for discount in discounted_trains if discount[1] in unique_trains\n",
    "    ]\n",
    "    return [\n",
    "        BuyTrain(g.current_entity, discount[1], discount[3], exchange=discount[0])\n",
    "        for discount in unique_discounts\n",
    "    ]\n",
    "\n",
    "\n",
    "def auto_route_action():\n",
    "    best_routes = router.compute(g.current_entity, route_timeout=10000)\n",
    "    return [\n",
    "        RunRoutes(\n",
    "            g.current_entity, [route for route in best_routes if route is not None]\n",
    "        )\n",
    "    ]\n",
    "\n",
    "\n",
    "def get_dividend_actions():\n",
    "    options = g.active_step().dividend_options(g.current_entity)\n",
    "    actions = []\n",
    "    for option in options.keys():\n",
    "        actions.append(Dividend(g.current_entity, option))\n",
    "    return sorted(actions)\n",
    "\n",
    "\n",
    "def get_buy_company_actions():\n",
    "    # Only buy from president\n",
    "    companies = g.current_entity.owner.companies\n",
    "    actions = []\n",
    "    for company in companies:\n",
    "        if not g.abilities(company, \"no_buy\"):\n",
    "            actions.extend(\n",
    "                [\n",
    "                    BuyCompany(g.current_entity, company, price)\n",
    "                    for price in range(company.min_price, company.max_price + 1)\n",
    "                ]\n",
    "            )\n",
    "    return actions\n",
    "\n",
    "\n",
    "def get_choices_for_action(action):\n",
    "    if action == Pass:\n",
    "        return [Pass(g.current_entity)]\n",
    "    elif action == Bid:\n",
    "        return get_bid_actions()\n",
    "    elif action == Par:\n",
    "        return get_par_actions()\n",
    "    elif action == BuyShares:\n",
    "        return get_buy_shares_actions()\n",
    "    elif action == SellShares:\n",
    "        return get_sell_shares_actions()\n",
    "    elif action == PlaceToken:\n",
    "        return get_place_token_actions()\n",
    "    elif action == LayTile:\n",
    "        return get_lay_tile_actions()\n",
    "    elif action == BuyTrain:\n",
    "        return get_buy_train_actions()\n",
    "    elif action == RunRoutes:\n",
    "        return auto_route_action()\n",
    "    elif action == Dividend:\n",
    "        return get_dividend_actions()\n",
    "    elif action == BuyCompany:\n",
    "        return get_buy_company_actions()\n",
    "    else:\n",
    "        return []\n",
    "\n",
    "\n",
    "def get_company_choices():\n",
    "    company_actions = get_company_actions()\n",
    "    if not company_actions.values():\n",
    "        return []\n",
    "\n",
    "    choices = []\n",
    "    for company, actions in company_actions.items():\n",
    "        for action in actions:\n",
    "            if action == BuyShares:\n",
    "                choices.extend(get_company_buy_shares_actions(company))\n",
    "            elif action == LayTile:\n",
    "                choices.extend(get_company_lay_tile_actions(company))\n",
    "            elif action == PlaceToken:\n",
    "                choices.extend(get_company_place_token_actions(company))\n",
    "    return choices\n",
    "\n",
    "\n",
    "def get_all_choices():\n",
    "    choices = [\n",
    "        choices\n",
    "        for action in get_current_actions()\n",
    "        for choices in get_choices_for_action(action)\n",
    "    ]\n",
    "    choices.extend(get_company_choices())\n",
    "    return sort_actions(choices, instances=True)\n",
    "\n",
    "\n",
    "def get_all_choices_with_index():\n",
    "    return {index: value for index, value in enumerate(get_all_choices())}"
   ]
  },
  {
   "cell_type": "code",
   "execution_count": null,
   "id": "41304bb8-5e48-4d68-a8c7-14fafaf5f0a9",
   "metadata": {},
   "outputs": [],
   "source": [
    "# get_all_choices()\n",
    "# get_company_choices()"
   ]
  },
  {
   "cell_type": "markdown",
   "id": "53bf6dfa-0087-4288-b9ba-b34700a4b4a5",
   "metadata": {},
   "source": [
    "## Waterfall auction"
   ]
  },
  {
   "cell_type": "code",
   "execution_count": null,
   "id": "4a4ec9e8-96b6-48a3-99be-60075ea05a9e",
   "metadata": {},
   "outputs": [
    {
     "data": {
      "text/plain": [
       "<rl18xx.game.engine.game.title.g1830.Game>"
      ]
     },
     "execution_count": null,
     "metadata": {},
     "output_type": "execute_result"
    }
   ],
   "source": [
    "g.process_action(get_all_choices()[-1])  # pass\n",
    "g.process_action(get_all_choices()[1])  # bid 45 on CS\n",
    "g.process_action(get_all_choices()[1])  # bid 50 on CS\n",
    "g.process_action(get_all_choices()[-76])  # bid 225 on BO\n",
    "g.process_action(get_all_choices()[0])  # buy SV\n",
    "g.process_action(get_all_choices()[-1])  # pass\n",
    "g.process_action(get_all_choices()[0])  # buy DH\n",
    "g.process_action(get_all_choices()[0])  # buy MH\n",
    "g.process_action(get_all_choices()[0])  # buy CA\n",
    "g.process_action(get_all_choices()[0])  # Par B&O at 100"
   ]
  },
  {
   "cell_type": "code",
   "execution_count": null,
   "id": "2962b953-d9ca-44cb-93e4-d1247bd4a1e7",
   "metadata": {},
   "outputs": [
    {
     "name": "stdout",
     "output_type": "stream",
     "text": [
      "\n",
      "PRR\n",
      "    cash: 0\n",
      "    companies: []\n",
      "    trains: []\n",
      "    share price: None\n",
      "NYC\n",
      "    cash: 0\n",
      "    companies: []\n",
      "    trains: []\n",
      "    share price: None\n",
      "CPR\n",
      "    cash: 0\n",
      "    companies: []\n",
      "    trains: []\n",
      "    share price: None\n",
      "B&O\n",
      "    cash: 0\n",
      "    companies: []\n",
      "    trains: []\n",
      "    share price: Share Price - coordinates: (0, 6), price: 100, types: ['par'], corporations: [<Corporation: B&O>]\n",
      "C&O\n",
      "    cash: 0\n",
      "    companies: []\n",
      "    trains: []\n",
      "    share price: None\n",
      "ERIE\n",
      "    cash: 0\n",
      "    companies: []\n",
      "    trains: []\n",
      "    share price: None\n",
      "NYNH\n",
      "    cash: 0\n",
      "    companies: []\n",
      "    trains: []\n",
      "    share price: None\n",
      "B&M\n",
      "    cash: 0\n",
      "    companies: []\n",
      "    trains: []\n",
      "    share price: None\n"
     ]
    }
   ],
   "source": [
    "print_summary()"
   ]
  },
  {
   "cell_type": "markdown",
   "id": "cdbf0b30-a1e7-449d-8c2d-bf356e59aaaa",
   "metadata": {},
   "source": [
    "## Stock Round 1"
   ]
  },
  {
   "cell_type": "code",
   "execution_count": null,
   "id": "227c6ff3-3047-484b-bbd5-7ed453497f22",
   "metadata": {},
   "outputs": [
    {
     "data": {
      "text/plain": [
       "<rl18xx.game.engine.game.title.g1830.Game>"
      ]
     },
     "execution_count": null,
     "metadata": {},
     "output_type": "execute_result"
    }
   ],
   "source": [
    "g.process_action(get_all_choices()[-2])  # Par PRR\n",
    "g.process_action(get_all_choices()[-1])  # Pass\n",
    "g.process_action(get_all_choices()[-8])  # Par NYC\n",
    "g.process_action(get_all_choices()[1])  # Buy PRR\n",
    "g.process_action(get_all_choices()[1])  # Buy PRR\n",
    "g.process_action(get_all_choices()[14])  # Par C&O\n",
    "g.process_action(get_all_choices()[2])  # Buy NYC\n",
    "g.process_action(get_all_choices()[1])  # Buy PRR\n",
    "g.process_action(get_all_choices()[1])  # Buy PRR\n",
    "g.process_action(get_all_choices()[3])  # Buy C&O\n",
    "g.process_action(get_all_choices()[2])  # Buy NYC\n",
    "g.process_action(get_all_choices()[0])  # Buy PRR\n",
    "g.process_action(get_all_choices()[1])  # Buy PRR\n",
    "g.process_action(get_all_choices()[3])  # Buy C&O\n",
    "g.process_action(get_all_choices()[2])  # Buy NYC\n",
    "g.process_action(get_all_choices()[1])  # Buy PRR\n",
    "g.process_action(get_all_choices()[2])  # Buy C&O\n",
    "g.process_action(get_all_choices()[1])  # Buy NYC\n",
    "g.process_action(get_all_choices()[1])  # Buy NYC\n",
    "g.process_action(get_all_choices()[2])  # Buy C&O\n",
    "g.process_action(get_all_choices()[1])  # Buy NYC\n",
    "g.process_action(get_all_choices()[1])  # Buy NYC\n",
    "# Player 1: 60% PRR, 20% NYC\n",
    "# Player 2: 60% C&O, 10% NYC\n",
    "# Player 3: 60% NYC\n",
    "# Player 4: 40% PRR, 20% B&O"
   ]
  },
  {
   "cell_type": "code",
   "execution_count": null,
   "id": "511d1e45-a137-41a4-94f6-fe24f32262b8",
   "metadata": {},
   "outputs": [
    {
     "name": "stdout",
     "output_type": "stream",
     "text": [
      "\n",
      "PRR\n",
      "    cash: 670.0\n",
      "    companies: []\n",
      "    trains: []\n",
      "    share price: Share Price - coordinates: (4, 6), price: 71, types: ['par'], corporations: [<Corporation: PRR>]\n",
      "NYC\n",
      "    cash: 670.0\n",
      "    companies: []\n",
      "    trains: []\n",
      "    share price: Share Price - coordinates: (5, 6), price: 67, types: ['par'], corporations: [<Corporation: NYC>, <Corporation: C&O>]\n",
      "CPR\n",
      "    cash: 0\n",
      "    companies: []\n",
      "    trains: []\n",
      "    share price: None\n",
      "B&O\n",
      "    cash: 0\n",
      "    companies: []\n",
      "    trains: []\n",
      "    share price: Share Price - coordinates: (0, 6), price: 100, types: ['par'], corporations: [<Corporation: B&O>]\n",
      "C&O\n",
      "    cash: 670.0\n",
      "    companies: []\n",
      "    trains: []\n",
      "    share price: Share Price - coordinates: (5, 6), price: 67, types: ['par'], corporations: [<Corporation: NYC>, <Corporation: C&O>]\n",
      "ERIE\n",
      "    cash: 0\n",
      "    companies: []\n",
      "    trains: []\n",
      "    share price: None\n",
      "NYNH\n",
      "    cash: 0\n",
      "    companies: []\n",
      "    trains: []\n",
      "    share price: None\n",
      "B&M\n",
      "    cash: 0\n",
      "    companies: []\n",
      "    trains: []\n",
      "    share price: None\n"
     ]
    }
   ],
   "source": [
    "print_summary()"
   ]
  },
  {
   "cell_type": "markdown",
   "id": "6e4ebfdc-a737-47d4-b32d-0a9b5c1bdda0",
   "metadata": {},
   "source": [
    "## Operating Round 1"
   ]
  },
  {
   "cell_type": "code",
   "execution_count": null,
   "id": "fcc5dc17-94e7-46ad-ba02-8f140f0e7156",
   "metadata": {},
   "outputs": [
    {
     "name": "stdout",
     "output_type": "stream",
     "text": [
      "> \u001b[0;32m/home/revys/workspace/RL_18xx/rl18xx/game/engine/graph.py\u001b[0m(16)\u001b[0;36mcopy_dict\u001b[0;34m()\u001b[0m\n",
      "\u001b[0;32m     14 \u001b[0;31m\u001b[0;32mdef\u001b[0m \u001b[0mcopy_dict\u001b[0m\u001b[0;34m(\u001b[0m\u001b[0mdict\u001b[0m\u001b[0;34m)\u001b[0m\u001b[0;34m:\u001b[0m\u001b[0;34m\u001b[0m\u001b[0;34m\u001b[0m\u001b[0m\n",
      "\u001b[0m\u001b[0;32m     15 \u001b[0;31m    \u001b[0mset_trace\u001b[0m\u001b[0;34m(\u001b[0m\u001b[0;34m)\u001b[0m\u001b[0;34m\u001b[0m\u001b[0;34m\u001b[0m\u001b[0m\n",
      "\u001b[0m\u001b[0;32m---> 16 \u001b[0;31m    \u001b[0;32mreturn\u001b[0m \u001b[0;34m{\u001b[0m\u001b[0mkey\u001b[0m\u001b[0;34m:\u001b[0m \u001b[0mvalue\u001b[0m \u001b[0;32mfor\u001b[0m \u001b[0mkey\u001b[0m\u001b[0;34m,\u001b[0m \u001b[0mvalue\u001b[0m \u001b[0;32min\u001b[0m \u001b[0mdict\u001b[0m\u001b[0;34m.\u001b[0m\u001b[0mitems\u001b[0m\u001b[0;34m(\u001b[0m\u001b[0;34m)\u001b[0m\u001b[0;34m}\u001b[0m\u001b[0;34m\u001b[0m\u001b[0;34m\u001b[0m\u001b[0m\n",
      "\u001b[0m\u001b[0;32m     17 \u001b[0;31m\u001b[0;34m\u001b[0m\u001b[0m\n",
      "\u001b[0m\u001b[0;32m     18 \u001b[0;31m\u001b[0;31m# %% ../../../nbs/game/engine/05_graph.ipynb 8\u001b[0m\u001b[0;34m\u001b[0m\u001b[0;34m\u001b[0m\u001b[0m\n",
      "\u001b[0m\n"
     ]
    },
    {
     "name": "stdin",
     "output_type": "stream",
     "text": [
      "ipdb>  a\n"
     ]
    },
    {
     "name": "stdout",
     "output_type": "stream",
     "text": [
      "dict = {}\n"
     ]
    },
    {
     "name": "stdin",
     "output_type": "stream",
     "text": [
      "ipdb>  c\n"
     ]
    },
    {
     "name": "stdout",
     "output_type": "stream",
     "text": [
      "> \u001b[0;32m/home/revys/workspace/RL_18xx/rl18xx/game/engine/graph.py\u001b[0m(16)\u001b[0;36mcopy_dict\u001b[0;34m()\u001b[0m\n",
      "\u001b[0;32m     14 \u001b[0;31m\u001b[0;32mdef\u001b[0m \u001b[0mcopy_dict\u001b[0m\u001b[0;34m(\u001b[0m\u001b[0mdict\u001b[0m\u001b[0;34m)\u001b[0m\u001b[0;34m:\u001b[0m\u001b[0;34m\u001b[0m\u001b[0;34m\u001b[0m\u001b[0m\n",
      "\u001b[0m\u001b[0;32m     15 \u001b[0;31m    \u001b[0mset_trace\u001b[0m\u001b[0;34m(\u001b[0m\u001b[0;34m)\u001b[0m\u001b[0;34m\u001b[0m\u001b[0;34m\u001b[0m\u001b[0m\n",
      "\u001b[0m\u001b[0;32m---> 16 \u001b[0;31m    \u001b[0;32mreturn\u001b[0m \u001b[0;34m{\u001b[0m\u001b[0mkey\u001b[0m\u001b[0;34m:\u001b[0m \u001b[0mvalue\u001b[0m \u001b[0;32mfor\u001b[0m \u001b[0mkey\u001b[0m\u001b[0;34m,\u001b[0m \u001b[0mvalue\u001b[0m \u001b[0;32min\u001b[0m \u001b[0mdict\u001b[0m\u001b[0;34m.\u001b[0m\u001b[0mitems\u001b[0m\u001b[0;34m(\u001b[0m\u001b[0;34m)\u001b[0m\u001b[0;34m}\u001b[0m\u001b[0;34m\u001b[0m\u001b[0;34m\u001b[0m\u001b[0m\n",
      "\u001b[0m\u001b[0;32m     17 \u001b[0;31m\u001b[0;34m\u001b[0m\u001b[0m\n",
      "\u001b[0m\u001b[0;32m     18 \u001b[0;31m\u001b[0;31m# %% ../../../nbs/game/engine/05_graph.ipynb 8\u001b[0m\u001b[0;34m\u001b[0m\u001b[0;34m\u001b[0m\u001b[0m\n",
      "\u001b[0m\n"
     ]
    },
    {
     "name": "stdin",
     "output_type": "stream",
     "text": [
      "ipdb>  a\n"
     ]
    },
    {
     "name": "stdout",
     "output_type": "stream",
     "text": [
      "dict = {}\n"
     ]
    },
    {
     "name": "stdin",
     "output_type": "stream",
     "text": [
      "ipdb>  c\n"
     ]
    },
    {
     "name": "stdout",
     "output_type": "stream",
     "text": [
      "> \u001b[0;32m/home/revys/workspace/RL_18xx/rl18xx/game/engine/graph.py\u001b[0m(16)\u001b[0;36mcopy_dict\u001b[0;34m()\u001b[0m\n",
      "\u001b[0;32m     14 \u001b[0;31m\u001b[0;32mdef\u001b[0m \u001b[0mcopy_dict\u001b[0m\u001b[0;34m(\u001b[0m\u001b[0mdict\u001b[0m\u001b[0;34m)\u001b[0m\u001b[0;34m:\u001b[0m\u001b[0;34m\u001b[0m\u001b[0;34m\u001b[0m\u001b[0m\n",
      "\u001b[0m\u001b[0;32m     15 \u001b[0;31m    \u001b[0mset_trace\u001b[0m\u001b[0;34m(\u001b[0m\u001b[0;34m)\u001b[0m\u001b[0;34m\u001b[0m\u001b[0;34m\u001b[0m\u001b[0m\n",
      "\u001b[0m\u001b[0;32m---> 16 \u001b[0;31m    \u001b[0;32mreturn\u001b[0m \u001b[0;34m{\u001b[0m\u001b[0mkey\u001b[0m\u001b[0;34m:\u001b[0m \u001b[0mvalue\u001b[0m \u001b[0;32mfor\u001b[0m \u001b[0mkey\u001b[0m\u001b[0;34m,\u001b[0m \u001b[0mvalue\u001b[0m \u001b[0;32min\u001b[0m \u001b[0mdict\u001b[0m\u001b[0;34m.\u001b[0m\u001b[0mitems\u001b[0m\u001b[0;34m(\u001b[0m\u001b[0;34m)\u001b[0m\u001b[0;34m}\u001b[0m\u001b[0;34m\u001b[0m\u001b[0;34m\u001b[0m\u001b[0m\n",
      "\u001b[0m\u001b[0;32m     17 \u001b[0;31m\u001b[0;34m\u001b[0m\u001b[0m\n",
      "\u001b[0m\u001b[0;32m     18 \u001b[0;31m\u001b[0;31m# %% ../../../nbs/game/engine/05_graph.ipynb 8\u001b[0m\u001b[0;34m\u001b[0m\u001b[0;34m\u001b[0m\u001b[0m\n",
      "\u001b[0m\n"
     ]
    },
    {
     "name": "stdin",
     "output_type": "stream",
     "text": [
      "ipdb>  a\n"
     ]
    },
    {
     "name": "stdout",
     "output_type": "stream",
     "text": [
      "dict = {}\n"
     ]
    },
    {
     "name": "stdin",
     "output_type": "stream",
     "text": [
      "ipdb>  c\n"
     ]
    },
    {
     "name": "stdout",
     "output_type": "stream",
     "text": [
      "> \u001b[0;32m/home/revys/workspace/RL_18xx/rl18xx/game/engine/graph.py\u001b[0m(16)\u001b[0;36mcopy_dict\u001b[0;34m()\u001b[0m\n",
      "\u001b[0;32m     14 \u001b[0;31m\u001b[0;32mdef\u001b[0m \u001b[0mcopy_dict\u001b[0m\u001b[0;34m(\u001b[0m\u001b[0mdict\u001b[0m\u001b[0;34m)\u001b[0m\u001b[0;34m:\u001b[0m\u001b[0;34m\u001b[0m\u001b[0;34m\u001b[0m\u001b[0m\n",
      "\u001b[0m\u001b[0;32m     15 \u001b[0;31m    \u001b[0mset_trace\u001b[0m\u001b[0;34m(\u001b[0m\u001b[0;34m)\u001b[0m\u001b[0;34m\u001b[0m\u001b[0;34m\u001b[0m\u001b[0m\n",
      "\u001b[0m\u001b[0;32m---> 16 \u001b[0;31m    \u001b[0;32mreturn\u001b[0m \u001b[0;34m{\u001b[0m\u001b[0mkey\u001b[0m\u001b[0;34m:\u001b[0m \u001b[0mvalue\u001b[0m \u001b[0;32mfor\u001b[0m \u001b[0mkey\u001b[0m\u001b[0;34m,\u001b[0m \u001b[0mvalue\u001b[0m \u001b[0;32min\u001b[0m \u001b[0mdict\u001b[0m\u001b[0;34m.\u001b[0m\u001b[0mitems\u001b[0m\u001b[0;34m(\u001b[0m\u001b[0;34m)\u001b[0m\u001b[0;34m}\u001b[0m\u001b[0;34m\u001b[0m\u001b[0;34m\u001b[0m\u001b[0m\n",
      "\u001b[0m\u001b[0;32m     17 \u001b[0;31m\u001b[0;34m\u001b[0m\u001b[0m\n",
      "\u001b[0m\u001b[0;32m     18 \u001b[0;31m\u001b[0;31m# %% ../../../nbs/game/engine/05_graph.ipynb 8\u001b[0m\u001b[0;34m\u001b[0m\u001b[0;34m\u001b[0m\u001b[0m\n",
      "\u001b[0m\n"
     ]
    },
    {
     "name": "stdin",
     "output_type": "stream",
     "text": [
      "ipdb>  a\n"
     ]
    },
    {
     "name": "stdout",
     "output_type": "stream",
     "text": [
      "dict = {}\n"
     ]
    },
    {
     "name": "stdin",
     "output_type": "stream",
     "text": [
      "ipdb>  c\n"
     ]
    },
    {
     "name": "stdout",
     "output_type": "stream",
     "text": [
      "> \u001b[0;32m/home/revys/workspace/RL_18xx/rl18xx/game/engine/graph.py\u001b[0m(16)\u001b[0;36mcopy_dict\u001b[0;34m()\u001b[0m\n",
      "\u001b[0;32m     14 \u001b[0;31m\u001b[0;32mdef\u001b[0m \u001b[0mcopy_dict\u001b[0m\u001b[0;34m(\u001b[0m\u001b[0mdict\u001b[0m\u001b[0;34m)\u001b[0m\u001b[0;34m:\u001b[0m\u001b[0;34m\u001b[0m\u001b[0;34m\u001b[0m\u001b[0m\n",
      "\u001b[0m\u001b[0;32m     15 \u001b[0;31m    \u001b[0mset_trace\u001b[0m\u001b[0;34m(\u001b[0m\u001b[0;34m)\u001b[0m\u001b[0;34m\u001b[0m\u001b[0;34m\u001b[0m\u001b[0m\n",
      "\u001b[0m\u001b[0;32m---> 16 \u001b[0;31m    \u001b[0;32mreturn\u001b[0m \u001b[0;34m{\u001b[0m\u001b[0mkey\u001b[0m\u001b[0;34m:\u001b[0m \u001b[0mvalue\u001b[0m \u001b[0;32mfor\u001b[0m \u001b[0mkey\u001b[0m\u001b[0;34m,\u001b[0m \u001b[0mvalue\u001b[0m \u001b[0;32min\u001b[0m \u001b[0mdict\u001b[0m\u001b[0;34m.\u001b[0m\u001b[0mitems\u001b[0m\u001b[0;34m(\u001b[0m\u001b[0;34m)\u001b[0m\u001b[0;34m}\u001b[0m\u001b[0;34m\u001b[0m\u001b[0;34m\u001b[0m\u001b[0m\n",
      "\u001b[0m\u001b[0;32m     17 \u001b[0;31m\u001b[0;34m\u001b[0m\u001b[0m\n",
      "\u001b[0m\u001b[0;32m     18 \u001b[0;31m\u001b[0;31m# %% ../../../nbs/game/engine/05_graph.ipynb 8\u001b[0m\u001b[0;34m\u001b[0m\u001b[0;34m\u001b[0m\u001b[0m\n",
      "\u001b[0m\n"
     ]
    },
    {
     "name": "stdin",
     "output_type": "stream",
     "text": [
      "ipdb>  a\n"
     ]
    },
    {
     "name": "stdout",
     "output_type": "stream",
     "text": [
      "dict = {}\n"
     ]
    },
    {
     "name": "stdin",
     "output_type": "stream",
     "text": [
      "ipdb>  c\n"
     ]
    },
    {
     "name": "stdout",
     "output_type": "stream",
     "text": [
      "> \u001b[0;32m/home/revys/workspace/RL_18xx/rl18xx/game/engine/graph.py\u001b[0m(16)\u001b[0;36mcopy_dict\u001b[0;34m()\u001b[0m\n",
      "\u001b[0;32m     14 \u001b[0;31m\u001b[0;32mdef\u001b[0m \u001b[0mcopy_dict\u001b[0m\u001b[0;34m(\u001b[0m\u001b[0mdict\u001b[0m\u001b[0;34m)\u001b[0m\u001b[0;34m:\u001b[0m\u001b[0;34m\u001b[0m\u001b[0;34m\u001b[0m\u001b[0m\n",
      "\u001b[0m\u001b[0;32m     15 \u001b[0;31m    \u001b[0mset_trace\u001b[0m\u001b[0;34m(\u001b[0m\u001b[0;34m)\u001b[0m\u001b[0;34m\u001b[0m\u001b[0;34m\u001b[0m\u001b[0m\n",
      "\u001b[0m\u001b[0;32m---> 16 \u001b[0;31m    \u001b[0;32mreturn\u001b[0m \u001b[0;34m{\u001b[0m\u001b[0mkey\u001b[0m\u001b[0;34m:\u001b[0m \u001b[0mvalue\u001b[0m \u001b[0;32mfor\u001b[0m \u001b[0mkey\u001b[0m\u001b[0;34m,\u001b[0m \u001b[0mvalue\u001b[0m \u001b[0;32min\u001b[0m \u001b[0mdict\u001b[0m\u001b[0;34m.\u001b[0m\u001b[0mitems\u001b[0m\u001b[0;34m(\u001b[0m\u001b[0;34m)\u001b[0m\u001b[0;34m}\u001b[0m\u001b[0;34m\u001b[0m\u001b[0;34m\u001b[0m\u001b[0m\n",
      "\u001b[0m\u001b[0;32m     17 \u001b[0;31m\u001b[0;34m\u001b[0m\u001b[0m\n",
      "\u001b[0m\u001b[0;32m     18 \u001b[0;31m\u001b[0;31m# %% ../../../nbs/game/engine/05_graph.ipynb 8\u001b[0m\u001b[0;34m\u001b[0m\u001b[0;34m\u001b[0m\u001b[0m\n",
      "\u001b[0m\n"
     ]
    },
    {
     "name": "stdin",
     "output_type": "stream",
     "text": [
      "ipdb>  a\n"
     ]
    },
    {
     "name": "stdout",
     "output_type": "stream",
     "text": [
      "dict = {<City: hex: H12>, paths: [<Path: hex: H12, exit: [1], track: broad>, <Path: hex: H12, exit: [4], track: broad>], exits: [1, 4], lanes: [1, 0], revenue: {'yellow': 10, 'green': 10, 'brown': 10, 'gray': 10, 'diesel': 10}, groups: [''], loc: 2.5, slots: 1, tokens: [Token - corporation: <Corporation: PRR>, used: True, type: normal, hex: <Hex: H12, tile: H12>, city: <City: hex: H12>, paths: [<Path: hex: H12, exit: [1], track: broad>, <Path: hex: H12, exit: [4], track: broad>], exits: [1, 4], lanes: [1, 0], revenue: {'yellow': 10, 'green': 10, 'brown': 10, 'gray': 10, 'diesel': 10}, groups: [''], loc: 2.5, slots: 1, tokens: [...], reservations: [None]], reservations: [None]: True}\n"
     ]
    },
    {
     "name": "stdin",
     "output_type": "stream",
     "text": [
      "ipdb>  c\n"
     ]
    },
    {
     "name": "stdout",
     "output_type": "stream",
     "text": [
      "> \u001b[0;32m/home/revys/workspace/RL_18xx/rl18xx/game/engine/graph.py\u001b[0m(16)\u001b[0;36mcopy_dict\u001b[0;34m()\u001b[0m\n",
      "\u001b[0;32m     14 \u001b[0;31m\u001b[0;32mdef\u001b[0m \u001b[0mcopy_dict\u001b[0m\u001b[0;34m(\u001b[0m\u001b[0mdict\u001b[0m\u001b[0;34m)\u001b[0m\u001b[0;34m:\u001b[0m\u001b[0;34m\u001b[0m\u001b[0;34m\u001b[0m\u001b[0m\n",
      "\u001b[0m\u001b[0;32m     15 \u001b[0;31m    \u001b[0mset_trace\u001b[0m\u001b[0;34m(\u001b[0m\u001b[0;34m)\u001b[0m\u001b[0;34m\u001b[0m\u001b[0;34m\u001b[0m\u001b[0m\n",
      "\u001b[0m\u001b[0;32m---> 16 \u001b[0;31m    \u001b[0;32mreturn\u001b[0m \u001b[0;34m{\u001b[0m\u001b[0mkey\u001b[0m\u001b[0;34m:\u001b[0m \u001b[0mvalue\u001b[0m \u001b[0;32mfor\u001b[0m \u001b[0mkey\u001b[0m\u001b[0;34m,\u001b[0m \u001b[0mvalue\u001b[0m \u001b[0;32min\u001b[0m \u001b[0mdict\u001b[0m\u001b[0;34m.\u001b[0m\u001b[0mitems\u001b[0m\u001b[0;34m(\u001b[0m\u001b[0;34m)\u001b[0m\u001b[0;34m}\u001b[0m\u001b[0;34m\u001b[0m\u001b[0;34m\u001b[0m\u001b[0m\n",
      "\u001b[0m\u001b[0;32m     17 \u001b[0;31m\u001b[0;34m\u001b[0m\u001b[0m\n",
      "\u001b[0m\u001b[0;32m     18 \u001b[0;31m\u001b[0;31m# %% ../../../nbs/game/engine/05_graph.ipynb 8\u001b[0m\u001b[0;34m\u001b[0m\u001b[0;34m\u001b[0m\u001b[0m\n",
      "\u001b[0m\n"
     ]
    },
    {
     "name": "stdin",
     "output_type": "stream",
     "text": [
      "ipdb>  a\n"
     ]
    },
    {
     "name": "stdout",
     "output_type": "stream",
     "text": [
      "dict = {<City: hex: H12>, paths: [<Path: hex: H12, exit: [1], track: broad>, <Path: hex: H12, exit: [4], track: broad>], exits: [1, 4], lanes: [1, 0], revenue: {'yellow': 10, 'green': 10, 'brown': 10, 'gray': 10, 'diesel': 10}, groups: [''], loc: 2.5, slots: 1, tokens: [Token - corporation: <Corporation: PRR>, used: True, type: normal, hex: <Hex: H12, tile: H12>, city: <City: hex: H12>, paths: [<Path: hex: H12, exit: [1], track: broad>, <Path: hex: H12, exit: [4], track: broad>], exits: [1, 4], lanes: [1, 0], revenue: {'yellow': 10, 'green': 10, 'brown': 10, 'gray': 10, 'diesel': 10}, groups: [''], loc: 2.5, slots: 1, tokens: [...], reservations: [None]], reservations: [None]: True}\n"
     ]
    },
    {
     "name": "stdin",
     "output_type": "stream",
     "text": [
      "ipdb>  c\n"
     ]
    },
    {
     "name": "stdout",
     "output_type": "stream",
     "text": [
      "> \u001b[0;32m/home/revys/workspace/RL_18xx/rl18xx/game/engine/graph.py\u001b[0m(16)\u001b[0;36mcopy_dict\u001b[0;34m()\u001b[0m\n",
      "\u001b[0;32m     14 \u001b[0;31m\u001b[0;32mdef\u001b[0m \u001b[0mcopy_dict\u001b[0m\u001b[0;34m(\u001b[0m\u001b[0mdict\u001b[0m\u001b[0;34m)\u001b[0m\u001b[0;34m:\u001b[0m\u001b[0;34m\u001b[0m\u001b[0;34m\u001b[0m\u001b[0m\n",
      "\u001b[0m\u001b[0;32m     15 \u001b[0;31m    \u001b[0mset_trace\u001b[0m\u001b[0;34m(\u001b[0m\u001b[0;34m)\u001b[0m\u001b[0;34m\u001b[0m\u001b[0;34m\u001b[0m\u001b[0m\n",
      "\u001b[0m\u001b[0;32m---> 16 \u001b[0;31m    \u001b[0;32mreturn\u001b[0m \u001b[0;34m{\u001b[0m\u001b[0mkey\u001b[0m\u001b[0;34m:\u001b[0m \u001b[0mvalue\u001b[0m \u001b[0;32mfor\u001b[0m \u001b[0mkey\u001b[0m\u001b[0;34m,\u001b[0m \u001b[0mvalue\u001b[0m \u001b[0;32min\u001b[0m \u001b[0mdict\u001b[0m\u001b[0;34m.\u001b[0m\u001b[0mitems\u001b[0m\u001b[0;34m(\u001b[0m\u001b[0;34m)\u001b[0m\u001b[0;34m}\u001b[0m\u001b[0;34m\u001b[0m\u001b[0;34m\u001b[0m\u001b[0m\n",
      "\u001b[0m\u001b[0;32m     17 \u001b[0;31m\u001b[0;34m\u001b[0m\u001b[0m\n",
      "\u001b[0m\u001b[0;32m     18 \u001b[0;31m\u001b[0;31m# %% ../../../nbs/game/engine/05_graph.ipynb 8\u001b[0m\u001b[0;34m\u001b[0m\u001b[0;34m\u001b[0m\u001b[0m\n",
      "\u001b[0m\n"
     ]
    },
    {
     "name": "stdin",
     "output_type": "stream",
     "text": [
      "ipdb>  a\n"
     ]
    },
    {
     "name": "stdout",
     "output_type": "stream",
     "text": [
      "dict = {<Path: hex: H12, exit: [1], track: broad>: True, <Path: hex: H10, exit: [4], track: broad>: True}\n"
     ]
    },
    {
     "name": "stdin",
     "output_type": "stream",
     "text": [
      "ipdb>  c\n"
     ]
    },
    {
     "name": "stdout",
     "output_type": "stream",
     "text": [
      "> \u001b[0;32m/home/revys/workspace/RL_18xx/rl18xx/game/engine/graph.py\u001b[0m(16)\u001b[0;36mcopy_dict\u001b[0;34m()\u001b[0m\n",
      "\u001b[0;32m     14 \u001b[0;31m\u001b[0;32mdef\u001b[0m \u001b[0mcopy_dict\u001b[0m\u001b[0;34m(\u001b[0m\u001b[0mdict\u001b[0m\u001b[0;34m)\u001b[0m\u001b[0;34m:\u001b[0m\u001b[0;34m\u001b[0m\u001b[0;34m\u001b[0m\u001b[0m\n",
      "\u001b[0m\u001b[0;32m     15 \u001b[0;31m    \u001b[0mset_trace\u001b[0m\u001b[0;34m(\u001b[0m\u001b[0;34m)\u001b[0m\u001b[0;34m\u001b[0m\u001b[0;34m\u001b[0m\u001b[0m\n",
      "\u001b[0m\u001b[0;32m---> 16 \u001b[0;31m    \u001b[0;32mreturn\u001b[0m \u001b[0;34m{\u001b[0m\u001b[0mkey\u001b[0m\u001b[0;34m:\u001b[0m \u001b[0mvalue\u001b[0m \u001b[0;32mfor\u001b[0m \u001b[0mkey\u001b[0m\u001b[0;34m,\u001b[0m \u001b[0mvalue\u001b[0m \u001b[0;32min\u001b[0m \u001b[0mdict\u001b[0m\u001b[0;34m.\u001b[0m\u001b[0mitems\u001b[0m\u001b[0;34m(\u001b[0m\u001b[0;34m)\u001b[0m\u001b[0;34m}\u001b[0m\u001b[0;34m\u001b[0m\u001b[0;34m\u001b[0m\u001b[0m\n",
      "\u001b[0m\u001b[0;32m     17 \u001b[0;31m\u001b[0;34m\u001b[0m\u001b[0m\n",
      "\u001b[0m\u001b[0;32m     18 \u001b[0;31m\u001b[0;31m# %% ../../../nbs/game/engine/05_graph.ipynb 8\u001b[0m\u001b[0;34m\u001b[0m\u001b[0;34m\u001b[0m\u001b[0m\n",
      "\u001b[0m\n"
     ]
    },
    {
     "name": "stdin",
     "output_type": "stream",
     "text": [
      "ipdb>  a\n"
     ]
    },
    {
     "name": "stdout",
     "output_type": "stream",
     "text": [
      "dict = {<Path: hex: H12, exit: [1], track: broad>: True, <Path: hex: H10, exit: [4], track: broad>: True}\n"
     ]
    },
    {
     "name": "stdin",
     "output_type": "stream",
     "text": [
      "ipdb>  c\n"
     ]
    },
    {
     "name": "stdout",
     "output_type": "stream",
     "text": [
      "> \u001b[0;32m/home/revys/workspace/RL_18xx/rl18xx/game/engine/graph.py\u001b[0m(16)\u001b[0;36mcopy_dict\u001b[0;34m()\u001b[0m\n",
      "\u001b[0;32m     14 \u001b[0;31m\u001b[0;32mdef\u001b[0m \u001b[0mcopy_dict\u001b[0m\u001b[0;34m(\u001b[0m\u001b[0mdict\u001b[0m\u001b[0;34m)\u001b[0m\u001b[0;34m:\u001b[0m\u001b[0;34m\u001b[0m\u001b[0;34m\u001b[0m\u001b[0m\n",
      "\u001b[0m\u001b[0;32m     15 \u001b[0;31m    \u001b[0mset_trace\u001b[0m\u001b[0;34m(\u001b[0m\u001b[0;34m)\u001b[0m\u001b[0;34m\u001b[0m\u001b[0;34m\u001b[0m\u001b[0m\n",
      "\u001b[0m\u001b[0;32m---> 16 \u001b[0;31m    \u001b[0;32mreturn\u001b[0m \u001b[0;34m{\u001b[0m\u001b[0mkey\u001b[0m\u001b[0;34m:\u001b[0m \u001b[0mvalue\u001b[0m \u001b[0;32mfor\u001b[0m \u001b[0mkey\u001b[0m\u001b[0;34m,\u001b[0m \u001b[0mvalue\u001b[0m \u001b[0;32min\u001b[0m \u001b[0mdict\u001b[0m\u001b[0;34m.\u001b[0m\u001b[0mitems\u001b[0m\u001b[0;34m(\u001b[0m\u001b[0;34m)\u001b[0m\u001b[0;34m}\u001b[0m\u001b[0;34m\u001b[0m\u001b[0;34m\u001b[0m\u001b[0m\n",
      "\u001b[0m\u001b[0;32m     17 \u001b[0;31m\u001b[0;34m\u001b[0m\u001b[0m\n",
      "\u001b[0m\u001b[0;32m     18 \u001b[0;31m\u001b[0;31m# %% ../../../nbs/game/engine/05_graph.ipynb 8\u001b[0m\u001b[0;34m\u001b[0m\u001b[0;34m\u001b[0m\u001b[0m\n",
      "\u001b[0m\n"
     ]
    },
    {
     "name": "stdin",
     "output_type": "stream",
     "text": [
      "ipdb>  a\n"
     ]
    },
    {
     "name": "stdout",
     "output_type": "stream",
     "text": [
      "dict = {}\n"
     ]
    },
    {
     "name": "stdin",
     "output_type": "stream",
     "text": [
      "ipdb>  c\n"
     ]
    },
    {
     "name": "stdout",
     "output_type": "stream",
     "text": [
      "> \u001b[0;32m/home/revys/workspace/RL_18xx/rl18xx/game/engine/graph.py\u001b[0m(16)\u001b[0;36mcopy_dict\u001b[0;34m()\u001b[0m\n",
      "\u001b[0;32m     14 \u001b[0;31m\u001b[0;32mdef\u001b[0m \u001b[0mcopy_dict\u001b[0m\u001b[0;34m(\u001b[0m\u001b[0mdict\u001b[0m\u001b[0;34m)\u001b[0m\u001b[0;34m:\u001b[0m\u001b[0;34m\u001b[0m\u001b[0;34m\u001b[0m\u001b[0m\n",
      "\u001b[0m\u001b[0;32m     15 \u001b[0;31m    \u001b[0mset_trace\u001b[0m\u001b[0;34m(\u001b[0m\u001b[0;34m)\u001b[0m\u001b[0;34m\u001b[0m\u001b[0;34m\u001b[0m\u001b[0m\n",
      "\u001b[0m\u001b[0;32m---> 16 \u001b[0;31m    \u001b[0;32mreturn\u001b[0m \u001b[0;34m{\u001b[0m\u001b[0mkey\u001b[0m\u001b[0;34m:\u001b[0m \u001b[0mvalue\u001b[0m \u001b[0;32mfor\u001b[0m \u001b[0mkey\u001b[0m\u001b[0;34m,\u001b[0m \u001b[0mvalue\u001b[0m \u001b[0;32min\u001b[0m \u001b[0mdict\u001b[0m\u001b[0;34m.\u001b[0m\u001b[0mitems\u001b[0m\u001b[0;34m(\u001b[0m\u001b[0;34m)\u001b[0m\u001b[0;34m}\u001b[0m\u001b[0;34m\u001b[0m\u001b[0;34m\u001b[0m\u001b[0m\n",
      "\u001b[0m\u001b[0;32m     17 \u001b[0;31m\u001b[0;34m\u001b[0m\u001b[0m\n",
      "\u001b[0m\u001b[0;32m     18 \u001b[0;31m\u001b[0;31m# %% ../../../nbs/game/engine/05_graph.ipynb 8\u001b[0m\u001b[0;34m\u001b[0m\u001b[0;34m\u001b[0m\u001b[0m\n",
      "\u001b[0m\n"
     ]
    },
    {
     "name": "stdin",
     "output_type": "stream",
     "text": [
      "ipdb>  a\n"
     ]
    },
    {
     "name": "stdout",
     "output_type": "stream",
     "text": [
      "dict = {}\n"
     ]
    },
    {
     "name": "stdin",
     "output_type": "stream",
     "text": [
      "ipdb>  c\n"
     ]
    },
    {
     "name": "stdout",
     "output_type": "stream",
     "text": [
      "> \u001b[0;32m/home/revys/workspace/RL_18xx/rl18xx/game/engine/graph.py\u001b[0m(16)\u001b[0;36mcopy_dict\u001b[0;34m()\u001b[0m\n",
      "\u001b[0;32m     14 \u001b[0;31m\u001b[0;32mdef\u001b[0m \u001b[0mcopy_dict\u001b[0m\u001b[0;34m(\u001b[0m\u001b[0mdict\u001b[0m\u001b[0;34m)\u001b[0m\u001b[0;34m:\u001b[0m\u001b[0;34m\u001b[0m\u001b[0;34m\u001b[0m\u001b[0m\n",
      "\u001b[0m\u001b[0;32m     15 \u001b[0;31m    \u001b[0mset_trace\u001b[0m\u001b[0;34m(\u001b[0m\u001b[0;34m)\u001b[0m\u001b[0;34m\u001b[0m\u001b[0;34m\u001b[0m\u001b[0m\n",
      "\u001b[0m\u001b[0;32m---> 16 \u001b[0;31m    \u001b[0;32mreturn\u001b[0m \u001b[0;34m{\u001b[0m\u001b[0mkey\u001b[0m\u001b[0;34m:\u001b[0m \u001b[0mvalue\u001b[0m \u001b[0;32mfor\u001b[0m \u001b[0mkey\u001b[0m\u001b[0;34m,\u001b[0m \u001b[0mvalue\u001b[0m \u001b[0;32min\u001b[0m \u001b[0mdict\u001b[0m\u001b[0;34m.\u001b[0m\u001b[0mitems\u001b[0m\u001b[0;34m(\u001b[0m\u001b[0;34m)\u001b[0m\u001b[0;34m}\u001b[0m\u001b[0;34m\u001b[0m\u001b[0;34m\u001b[0m\u001b[0m\n",
      "\u001b[0m\u001b[0;32m     17 \u001b[0;31m\u001b[0;34m\u001b[0m\u001b[0m\n",
      "\u001b[0m\u001b[0;32m     18 \u001b[0;31m\u001b[0;31m# %% ../../../nbs/game/engine/05_graph.ipynb 8\u001b[0m\u001b[0;34m\u001b[0m\u001b[0;34m\u001b[0m\u001b[0m\n",
      "\u001b[0m\n"
     ]
    },
    {
     "name": "stdin",
     "output_type": "stream",
     "text": [
      "ipdb>  a\n"
     ]
    },
    {
     "name": "stdout",
     "output_type": "stream",
     "text": [
      "dict = {}\n"
     ]
    },
    {
     "name": "stdin",
     "output_type": "stream",
     "text": [
      "ipdb>  c\n"
     ]
    },
    {
     "name": "stdout",
     "output_type": "stream",
     "text": [
      "> \u001b[0;32m/home/revys/workspace/RL_18xx/rl18xx/game/engine/graph.py\u001b[0m(16)\u001b[0;36mcopy_dict\u001b[0;34m()\u001b[0m\n",
      "\u001b[0;32m     14 \u001b[0;31m\u001b[0;32mdef\u001b[0m \u001b[0mcopy_dict\u001b[0m\u001b[0;34m(\u001b[0m\u001b[0mdict\u001b[0m\u001b[0;34m)\u001b[0m\u001b[0;34m:\u001b[0m\u001b[0;34m\u001b[0m\u001b[0;34m\u001b[0m\u001b[0m\n",
      "\u001b[0m\u001b[0;32m     15 \u001b[0;31m    \u001b[0mset_trace\u001b[0m\u001b[0;34m(\u001b[0m\u001b[0;34m)\u001b[0m\u001b[0;34m\u001b[0m\u001b[0;34m\u001b[0m\u001b[0m\n",
      "\u001b[0m\u001b[0;32m---> 16 \u001b[0;31m    \u001b[0;32mreturn\u001b[0m \u001b[0;34m{\u001b[0m\u001b[0mkey\u001b[0m\u001b[0;34m:\u001b[0m \u001b[0mvalue\u001b[0m \u001b[0;32mfor\u001b[0m \u001b[0mkey\u001b[0m\u001b[0;34m,\u001b[0m \u001b[0mvalue\u001b[0m \u001b[0;32min\u001b[0m \u001b[0mdict\u001b[0m\u001b[0;34m.\u001b[0m\u001b[0mitems\u001b[0m\u001b[0;34m(\u001b[0m\u001b[0;34m)\u001b[0m\u001b[0;34m}\u001b[0m\u001b[0;34m\u001b[0m\u001b[0;34m\u001b[0m\u001b[0m\n",
      "\u001b[0m\u001b[0;32m     17 \u001b[0;31m\u001b[0;34m\u001b[0m\u001b[0m\n",
      "\u001b[0m\u001b[0;32m     18 \u001b[0;31m\u001b[0;31m# %% ../../../nbs/game/engine/05_graph.ipynb 8\u001b[0m\u001b[0;34m\u001b[0m\u001b[0;34m\u001b[0m\u001b[0m\n",
      "\u001b[0m\n"
     ]
    },
    {
     "name": "stdin",
     "output_type": "stream",
     "text": [
      "ipdb>  a\n"
     ]
    },
    {
     "name": "stdout",
     "output_type": "stream",
     "text": [
      "dict = {}\n"
     ]
    },
    {
     "name": "stdin",
     "output_type": "stream",
     "text": [
      "ipdb>  c\n"
     ]
    },
    {
     "name": "stdout",
     "output_type": "stream",
     "text": [
      "> \u001b[0;32m/home/revys/workspace/RL_18xx/rl18xx/game/engine/graph.py\u001b[0m(16)\u001b[0;36mcopy_dict\u001b[0;34m()\u001b[0m\n",
      "\u001b[0;32m     14 \u001b[0;31m\u001b[0;32mdef\u001b[0m \u001b[0mcopy_dict\u001b[0m\u001b[0;34m(\u001b[0m\u001b[0mdict\u001b[0m\u001b[0;34m)\u001b[0m\u001b[0;34m:\u001b[0m\u001b[0;34m\u001b[0m\u001b[0;34m\u001b[0m\u001b[0m\n",
      "\u001b[0m\u001b[0;32m     15 \u001b[0;31m    \u001b[0mset_trace\u001b[0m\u001b[0;34m(\u001b[0m\u001b[0;34m)\u001b[0m\u001b[0;34m\u001b[0m\u001b[0;34m\u001b[0m\u001b[0m\n",
      "\u001b[0m\u001b[0;32m---> 16 \u001b[0;31m    \u001b[0;32mreturn\u001b[0m \u001b[0;34m{\u001b[0m\u001b[0mkey\u001b[0m\u001b[0;34m:\u001b[0m \u001b[0mvalue\u001b[0m \u001b[0;32mfor\u001b[0m \u001b[0mkey\u001b[0m\u001b[0;34m,\u001b[0m \u001b[0mvalue\u001b[0m \u001b[0;32min\u001b[0m \u001b[0mdict\u001b[0m\u001b[0;34m.\u001b[0m\u001b[0mitems\u001b[0m\u001b[0;34m(\u001b[0m\u001b[0;34m)\u001b[0m\u001b[0;34m}\u001b[0m\u001b[0;34m\u001b[0m\u001b[0;34m\u001b[0m\u001b[0m\n",
      "\u001b[0m\u001b[0;32m     17 \u001b[0;31m\u001b[0;34m\u001b[0m\u001b[0m\n",
      "\u001b[0m\u001b[0;32m     18 \u001b[0;31m\u001b[0;31m# %% ../../../nbs/game/engine/05_graph.ipynb 8\u001b[0m\u001b[0;34m\u001b[0m\u001b[0;34m\u001b[0m\u001b[0m\n",
      "\u001b[0m\n"
     ]
    },
    {
     "name": "stdin",
     "output_type": "stream",
     "text": [
      "ipdb>  a\n"
     ]
    },
    {
     "name": "stdout",
     "output_type": "stream",
     "text": [
      "dict = {}\n"
     ]
    },
    {
     "name": "stdin",
     "output_type": "stream",
     "text": [
      "ipdb>  c\n"
     ]
    },
    {
     "name": "stdout",
     "output_type": "stream",
     "text": [
      "> \u001b[0;32m/home/revys/workspace/RL_18xx/rl18xx/game/engine/graph.py\u001b[0m(16)\u001b[0;36mcopy_dict\u001b[0;34m()\u001b[0m\n",
      "\u001b[0;32m     14 \u001b[0;31m\u001b[0;32mdef\u001b[0m \u001b[0mcopy_dict\u001b[0m\u001b[0;34m(\u001b[0m\u001b[0mdict\u001b[0m\u001b[0;34m)\u001b[0m\u001b[0;34m:\u001b[0m\u001b[0;34m\u001b[0m\u001b[0;34m\u001b[0m\u001b[0m\n",
      "\u001b[0m\u001b[0;32m     15 \u001b[0;31m    \u001b[0mset_trace\u001b[0m\u001b[0;34m(\u001b[0m\u001b[0;34m)\u001b[0m\u001b[0;34m\u001b[0m\u001b[0;34m\u001b[0m\u001b[0m\n",
      "\u001b[0m\u001b[0;32m---> 16 \u001b[0;31m    \u001b[0;32mreturn\u001b[0m \u001b[0;34m{\u001b[0m\u001b[0mkey\u001b[0m\u001b[0;34m:\u001b[0m \u001b[0mvalue\u001b[0m \u001b[0;32mfor\u001b[0m \u001b[0mkey\u001b[0m\u001b[0;34m,\u001b[0m \u001b[0mvalue\u001b[0m \u001b[0;32min\u001b[0m \u001b[0mdict\u001b[0m\u001b[0;34m.\u001b[0m\u001b[0mitems\u001b[0m\u001b[0;34m(\u001b[0m\u001b[0;34m)\u001b[0m\u001b[0;34m}\u001b[0m\u001b[0;34m\u001b[0m\u001b[0;34m\u001b[0m\u001b[0m\n",
      "\u001b[0m\u001b[0;32m     17 \u001b[0;31m\u001b[0;34m\u001b[0m\u001b[0m\n",
      "\u001b[0m\u001b[0;32m     18 \u001b[0;31m\u001b[0;31m# %% ../../../nbs/game/engine/05_graph.ipynb 8\u001b[0m\u001b[0;34m\u001b[0m\u001b[0;34m\u001b[0m\u001b[0m\n",
      "\u001b[0m\n"
     ]
    },
    {
     "name": "stdin",
     "output_type": "stream",
     "text": [
      "ipdb>  a\n"
     ]
    },
    {
     "name": "stdout",
     "output_type": "stream",
     "text": [
      "dict = {}\n"
     ]
    },
    {
     "name": "stdin",
     "output_type": "stream",
     "text": [
      "ipdb>  c\n"
     ]
    },
    {
     "name": "stdout",
     "output_type": "stream",
     "text": [
      "> \u001b[0;32m/home/revys/workspace/RL_18xx/rl18xx/game/engine/graph.py\u001b[0m(16)\u001b[0;36mcopy_dict\u001b[0;34m()\u001b[0m\n",
      "\u001b[0;32m     14 \u001b[0;31m\u001b[0;32mdef\u001b[0m \u001b[0mcopy_dict\u001b[0m\u001b[0;34m(\u001b[0m\u001b[0mdict\u001b[0m\u001b[0;34m)\u001b[0m\u001b[0;34m:\u001b[0m\u001b[0;34m\u001b[0m\u001b[0;34m\u001b[0m\u001b[0m\n",
      "\u001b[0m\u001b[0;32m     15 \u001b[0;31m    \u001b[0mset_trace\u001b[0m\u001b[0;34m(\u001b[0m\u001b[0;34m)\u001b[0m\u001b[0;34m\u001b[0m\u001b[0;34m\u001b[0m\u001b[0m\n",
      "\u001b[0m\u001b[0;32m---> 16 \u001b[0;31m    \u001b[0;32mreturn\u001b[0m \u001b[0;34m{\u001b[0m\u001b[0mkey\u001b[0m\u001b[0;34m:\u001b[0m \u001b[0mvalue\u001b[0m \u001b[0;32mfor\u001b[0m \u001b[0mkey\u001b[0m\u001b[0;34m,\u001b[0m \u001b[0mvalue\u001b[0m \u001b[0;32min\u001b[0m \u001b[0mdict\u001b[0m\u001b[0;34m.\u001b[0m\u001b[0mitems\u001b[0m\u001b[0;34m(\u001b[0m\u001b[0;34m)\u001b[0m\u001b[0;34m}\u001b[0m\u001b[0;34m\u001b[0m\u001b[0;34m\u001b[0m\u001b[0m\n",
      "\u001b[0m\u001b[0;32m     17 \u001b[0;31m\u001b[0;34m\u001b[0m\u001b[0m\n",
      "\u001b[0m\u001b[0;32m     18 \u001b[0;31m\u001b[0;31m# %% ../../../nbs/game/engine/05_graph.ipynb 8\u001b[0m\u001b[0;34m\u001b[0m\u001b[0;34m\u001b[0m\u001b[0m\n",
      "\u001b[0m\n"
     ]
    },
    {
     "name": "stdin",
     "output_type": "stream",
     "text": [
      "ipdb>  a\n"
     ]
    },
    {
     "name": "stdout",
     "output_type": "stream",
     "text": [
      "dict = {}\n"
     ]
    },
    {
     "name": "stdin",
     "output_type": "stream",
     "text": [
      "ipdb>  c\n"
     ]
    },
    {
     "name": "stdout",
     "output_type": "stream",
     "text": [
      "> \u001b[0;32m/home/revys/workspace/RL_18xx/rl18xx/game/engine/graph.py\u001b[0m(16)\u001b[0;36mcopy_dict\u001b[0;34m()\u001b[0m\n",
      "\u001b[0;32m     14 \u001b[0;31m\u001b[0;32mdef\u001b[0m \u001b[0mcopy_dict\u001b[0m\u001b[0;34m(\u001b[0m\u001b[0mdict\u001b[0m\u001b[0;34m)\u001b[0m\u001b[0;34m:\u001b[0m\u001b[0;34m\u001b[0m\u001b[0;34m\u001b[0m\u001b[0m\n",
      "\u001b[0m\u001b[0;32m     15 \u001b[0;31m    \u001b[0mset_trace\u001b[0m\u001b[0;34m(\u001b[0m\u001b[0;34m)\u001b[0m\u001b[0;34m\u001b[0m\u001b[0;34m\u001b[0m\u001b[0m\n",
      "\u001b[0m\u001b[0;32m---> 16 \u001b[0;31m    \u001b[0;32mreturn\u001b[0m \u001b[0;34m{\u001b[0m\u001b[0mkey\u001b[0m\u001b[0;34m:\u001b[0m \u001b[0mvalue\u001b[0m \u001b[0;32mfor\u001b[0m \u001b[0mkey\u001b[0m\u001b[0;34m,\u001b[0m \u001b[0mvalue\u001b[0m \u001b[0;32min\u001b[0m \u001b[0mdict\u001b[0m\u001b[0;34m.\u001b[0m\u001b[0mitems\u001b[0m\u001b[0;34m(\u001b[0m\u001b[0;34m)\u001b[0m\u001b[0;34m}\u001b[0m\u001b[0;34m\u001b[0m\u001b[0;34m\u001b[0m\u001b[0m\n",
      "\u001b[0m\u001b[0;32m     17 \u001b[0;31m\u001b[0;34m\u001b[0m\u001b[0m\n",
      "\u001b[0m\u001b[0;32m     18 \u001b[0;31m\u001b[0;31m# %% ../../../nbs/game/engine/05_graph.ipynb 8\u001b[0m\u001b[0;34m\u001b[0m\u001b[0;34m\u001b[0m\u001b[0m\n",
      "\u001b[0m\n"
     ]
    },
    {
     "name": "stdin",
     "output_type": "stream",
     "text": [
      "ipdb>  a\n"
     ]
    },
    {
     "name": "stdout",
     "output_type": "stream",
     "text": [
      "dict = {}\n"
     ]
    },
    {
     "name": "stdin",
     "output_type": "stream",
     "text": [
      "ipdb>  c\n"
     ]
    },
    {
     "name": "stdout",
     "output_type": "stream",
     "text": [
      "> \u001b[0;32m/home/revys/workspace/RL_18xx/rl18xx/game/engine/graph.py\u001b[0m(16)\u001b[0;36mcopy_dict\u001b[0;34m()\u001b[0m\n",
      "\u001b[0;32m     14 \u001b[0;31m\u001b[0;32mdef\u001b[0m \u001b[0mcopy_dict\u001b[0m\u001b[0;34m(\u001b[0m\u001b[0mdict\u001b[0m\u001b[0;34m)\u001b[0m\u001b[0;34m:\u001b[0m\u001b[0;34m\u001b[0m\u001b[0;34m\u001b[0m\u001b[0m\n",
      "\u001b[0m\u001b[0;32m     15 \u001b[0;31m    \u001b[0mset_trace\u001b[0m\u001b[0;34m(\u001b[0m\u001b[0;34m)\u001b[0m\u001b[0;34m\u001b[0m\u001b[0;34m\u001b[0m\u001b[0m\n",
      "\u001b[0m\u001b[0;32m---> 16 \u001b[0;31m    \u001b[0;32mreturn\u001b[0m \u001b[0;34m{\u001b[0m\u001b[0mkey\u001b[0m\u001b[0;34m:\u001b[0m \u001b[0mvalue\u001b[0m \u001b[0;32mfor\u001b[0m \u001b[0mkey\u001b[0m\u001b[0;34m,\u001b[0m \u001b[0mvalue\u001b[0m \u001b[0;32min\u001b[0m \u001b[0mdict\u001b[0m\u001b[0;34m.\u001b[0m\u001b[0mitems\u001b[0m\u001b[0;34m(\u001b[0m\u001b[0;34m)\u001b[0m\u001b[0;34m}\u001b[0m\u001b[0;34m\u001b[0m\u001b[0;34m\u001b[0m\u001b[0m\n",
      "\u001b[0m\u001b[0;32m     17 \u001b[0;31m\u001b[0;34m\u001b[0m\u001b[0m\n",
      "\u001b[0m\u001b[0;32m     18 \u001b[0;31m\u001b[0;31m# %% ../../../nbs/game/engine/05_graph.ipynb 8\u001b[0m\u001b[0;34m\u001b[0m\u001b[0;34m\u001b[0m\u001b[0m\n",
      "\u001b[0m\n"
     ]
    },
    {
     "name": "stdin",
     "output_type": "stream",
     "text": [
      "ipdb>  a\n"
     ]
    },
    {
     "name": "stdout",
     "output_type": "stream",
     "text": [
      "dict = {}\n"
     ]
    },
    {
     "name": "stdin",
     "output_type": "stream",
     "text": [
      "ipdb>  c\n"
     ]
    },
    {
     "name": "stdout",
     "output_type": "stream",
     "text": [
      "> \u001b[0;32m/home/revys/workspace/RL_18xx/rl18xx/game/engine/graph.py\u001b[0m(16)\u001b[0;36mcopy_dict\u001b[0;34m()\u001b[0m\n",
      "\u001b[0;32m     14 \u001b[0;31m\u001b[0;32mdef\u001b[0m \u001b[0mcopy_dict\u001b[0m\u001b[0;34m(\u001b[0m\u001b[0mdict\u001b[0m\u001b[0;34m)\u001b[0m\u001b[0;34m:\u001b[0m\u001b[0;34m\u001b[0m\u001b[0;34m\u001b[0m\u001b[0m\n",
      "\u001b[0m\u001b[0;32m     15 \u001b[0;31m    \u001b[0mset_trace\u001b[0m\u001b[0;34m(\u001b[0m\u001b[0;34m)\u001b[0m\u001b[0;34m\u001b[0m\u001b[0;34m\u001b[0m\u001b[0m\n",
      "\u001b[0m\u001b[0;32m---> 16 \u001b[0;31m    \u001b[0;32mreturn\u001b[0m \u001b[0;34m{\u001b[0m\u001b[0mkey\u001b[0m\u001b[0;34m:\u001b[0m \u001b[0mvalue\u001b[0m \u001b[0;32mfor\u001b[0m \u001b[0mkey\u001b[0m\u001b[0;34m,\u001b[0m \u001b[0mvalue\u001b[0m \u001b[0;32min\u001b[0m \u001b[0mdict\u001b[0m\u001b[0;34m.\u001b[0m\u001b[0mitems\u001b[0m\u001b[0;34m(\u001b[0m\u001b[0;34m)\u001b[0m\u001b[0;34m}\u001b[0m\u001b[0;34m\u001b[0m\u001b[0;34m\u001b[0m\u001b[0m\n",
      "\u001b[0m\u001b[0;32m     17 \u001b[0;31m\u001b[0;34m\u001b[0m\u001b[0m\n",
      "\u001b[0m\u001b[0;32m     18 \u001b[0;31m\u001b[0;31m# %% ../../../nbs/game/engine/05_graph.ipynb 8\u001b[0m\u001b[0;34m\u001b[0m\u001b[0;34m\u001b[0m\u001b[0m\n",
      "\u001b[0m\n"
     ]
    },
    {
     "name": "stdin",
     "output_type": "stream",
     "text": [
      "ipdb>  a\n"
     ]
    },
    {
     "name": "stdout",
     "output_type": "stream",
     "text": [
      "dict = {}\n"
     ]
    },
    {
     "name": "stdin",
     "output_type": "stream",
     "text": [
      "ipdb>  c\n"
     ]
    },
    {
     "name": "stdout",
     "output_type": "stream",
     "text": [
      "> \u001b[0;32m/home/revys/workspace/RL_18xx/rl18xx/game/engine/graph.py\u001b[0m(16)\u001b[0;36mcopy_dict\u001b[0;34m()\u001b[0m\n",
      "\u001b[0;32m     14 \u001b[0;31m\u001b[0;32mdef\u001b[0m \u001b[0mcopy_dict\u001b[0m\u001b[0;34m(\u001b[0m\u001b[0mdict\u001b[0m\u001b[0;34m)\u001b[0m\u001b[0;34m:\u001b[0m\u001b[0;34m\u001b[0m\u001b[0;34m\u001b[0m\u001b[0m\n",
      "\u001b[0m\u001b[0;32m     15 \u001b[0;31m    \u001b[0mset_trace\u001b[0m\u001b[0;34m(\u001b[0m\u001b[0;34m)\u001b[0m\u001b[0;34m\u001b[0m\u001b[0;34m\u001b[0m\u001b[0m\n",
      "\u001b[0m\u001b[0;32m---> 16 \u001b[0;31m    \u001b[0;32mreturn\u001b[0m \u001b[0;34m{\u001b[0m\u001b[0mkey\u001b[0m\u001b[0;34m:\u001b[0m \u001b[0mvalue\u001b[0m \u001b[0;32mfor\u001b[0m \u001b[0mkey\u001b[0m\u001b[0;34m,\u001b[0m \u001b[0mvalue\u001b[0m \u001b[0;32min\u001b[0m \u001b[0mdict\u001b[0m\u001b[0;34m.\u001b[0m\u001b[0mitems\u001b[0m\u001b[0;34m(\u001b[0m\u001b[0;34m)\u001b[0m\u001b[0;34m}\u001b[0m\u001b[0;34m\u001b[0m\u001b[0;34m\u001b[0m\u001b[0m\n",
      "\u001b[0m\u001b[0;32m     17 \u001b[0;31m\u001b[0;34m\u001b[0m\u001b[0m\n",
      "\u001b[0m\u001b[0;32m     18 \u001b[0;31m\u001b[0;31m# %% ../../../nbs/game/engine/05_graph.ipynb 8\u001b[0m\u001b[0;34m\u001b[0m\u001b[0;34m\u001b[0m\u001b[0m\n",
      "\u001b[0m\n"
     ]
    },
    {
     "name": "stdin",
     "output_type": "stream",
     "text": [
      "ipdb>  a\n"
     ]
    },
    {
     "name": "stdout",
     "output_type": "stream",
     "text": [
      "dict = {}\n"
     ]
    },
    {
     "name": "stdin",
     "output_type": "stream",
     "text": [
      "ipdb>  c\n"
     ]
    },
    {
     "name": "stdout",
     "output_type": "stream",
     "text": [
      "> \u001b[0;32m/home/revys/workspace/RL_18xx/rl18xx/game/engine/graph.py\u001b[0m(16)\u001b[0;36mcopy_dict\u001b[0;34m()\u001b[0m\n",
      "\u001b[0;32m     14 \u001b[0;31m\u001b[0;32mdef\u001b[0m \u001b[0mcopy_dict\u001b[0m\u001b[0;34m(\u001b[0m\u001b[0mdict\u001b[0m\u001b[0;34m)\u001b[0m\u001b[0;34m:\u001b[0m\u001b[0;34m\u001b[0m\u001b[0;34m\u001b[0m\u001b[0m\n",
      "\u001b[0m\u001b[0;32m     15 \u001b[0;31m    \u001b[0mset_trace\u001b[0m\u001b[0;34m(\u001b[0m\u001b[0;34m)\u001b[0m\u001b[0;34m\u001b[0m\u001b[0;34m\u001b[0m\u001b[0m\n",
      "\u001b[0m\u001b[0;32m---> 16 \u001b[0;31m    \u001b[0;32mreturn\u001b[0m \u001b[0;34m{\u001b[0m\u001b[0mkey\u001b[0m\u001b[0;34m:\u001b[0m \u001b[0mvalue\u001b[0m \u001b[0;32mfor\u001b[0m \u001b[0mkey\u001b[0m\u001b[0;34m,\u001b[0m \u001b[0mvalue\u001b[0m \u001b[0;32min\u001b[0m \u001b[0mdict\u001b[0m\u001b[0;34m.\u001b[0m\u001b[0mitems\u001b[0m\u001b[0;34m(\u001b[0m\u001b[0;34m)\u001b[0m\u001b[0;34m}\u001b[0m\u001b[0;34m\u001b[0m\u001b[0;34m\u001b[0m\u001b[0m\n",
      "\u001b[0m\u001b[0;32m     17 \u001b[0;31m\u001b[0;34m\u001b[0m\u001b[0m\n",
      "\u001b[0m\u001b[0;32m     18 \u001b[0;31m\u001b[0;31m# %% ../../../nbs/game/engine/05_graph.ipynb 8\u001b[0m\u001b[0;34m\u001b[0m\u001b[0;34m\u001b[0m\u001b[0m\n",
      "\u001b[0m\n"
     ]
    },
    {
     "name": "stdin",
     "output_type": "stream",
     "text": [
      "ipdb>  a\n"
     ]
    },
    {
     "name": "stdout",
     "output_type": "stream",
     "text": [
      "dict = {}\n"
     ]
    },
    {
     "name": "stdin",
     "output_type": "stream",
     "text": [
      "ipdb>  c\n"
     ]
    },
    {
     "name": "stdout",
     "output_type": "stream",
     "text": [
      "> \u001b[0;32m/home/revys/workspace/RL_18xx/rl18xx/game/engine/graph.py\u001b[0m(16)\u001b[0;36mcopy_dict\u001b[0;34m()\u001b[0m\n",
      "\u001b[0;32m     14 \u001b[0;31m\u001b[0;32mdef\u001b[0m \u001b[0mcopy_dict\u001b[0m\u001b[0;34m(\u001b[0m\u001b[0mdict\u001b[0m\u001b[0;34m)\u001b[0m\u001b[0;34m:\u001b[0m\u001b[0;34m\u001b[0m\u001b[0;34m\u001b[0m\u001b[0m\n",
      "\u001b[0m\u001b[0;32m     15 \u001b[0;31m    \u001b[0mset_trace\u001b[0m\u001b[0;34m(\u001b[0m\u001b[0;34m)\u001b[0m\u001b[0;34m\u001b[0m\u001b[0;34m\u001b[0m\u001b[0m\n",
      "\u001b[0m\u001b[0;32m---> 16 \u001b[0;31m    \u001b[0;32mreturn\u001b[0m \u001b[0;34m{\u001b[0m\u001b[0mkey\u001b[0m\u001b[0;34m:\u001b[0m \u001b[0mvalue\u001b[0m \u001b[0;32mfor\u001b[0m \u001b[0mkey\u001b[0m\u001b[0;34m,\u001b[0m \u001b[0mvalue\u001b[0m \u001b[0;32min\u001b[0m \u001b[0mdict\u001b[0m\u001b[0;34m.\u001b[0m\u001b[0mitems\u001b[0m\u001b[0;34m(\u001b[0m\u001b[0;34m)\u001b[0m\u001b[0;34m}\u001b[0m\u001b[0;34m\u001b[0m\u001b[0;34m\u001b[0m\u001b[0m\n",
      "\u001b[0m\u001b[0;32m     17 \u001b[0;31m\u001b[0;34m\u001b[0m\u001b[0m\n",
      "\u001b[0m\u001b[0;32m     18 \u001b[0;31m\u001b[0;31m# %% ../../../nbs/game/engine/05_graph.ipynb 8\u001b[0m\u001b[0;34m\u001b[0m\u001b[0;34m\u001b[0m\u001b[0m\n",
      "\u001b[0m\n"
     ]
    },
    {
     "name": "stdin",
     "output_type": "stream",
     "text": [
      "ipdb>  a\n"
     ]
    },
    {
     "name": "stdout",
     "output_type": "stream",
     "text": [
      "dict = {}\n"
     ]
    },
    {
     "name": "stdin",
     "output_type": "stream",
     "text": [
      "ipdb>  c\n"
     ]
    },
    {
     "name": "stdout",
     "output_type": "stream",
     "text": [
      "> \u001b[0;32m/home/revys/workspace/RL_18xx/rl18xx/game/engine/graph.py\u001b[0m(16)\u001b[0;36mcopy_dict\u001b[0;34m()\u001b[0m\n",
      "\u001b[0;32m     14 \u001b[0;31m\u001b[0;32mdef\u001b[0m \u001b[0mcopy_dict\u001b[0m\u001b[0;34m(\u001b[0m\u001b[0mdict\u001b[0m\u001b[0;34m)\u001b[0m\u001b[0;34m:\u001b[0m\u001b[0;34m\u001b[0m\u001b[0;34m\u001b[0m\u001b[0m\n",
      "\u001b[0m\u001b[0;32m     15 \u001b[0;31m    \u001b[0mset_trace\u001b[0m\u001b[0;34m(\u001b[0m\u001b[0;34m)\u001b[0m\u001b[0;34m\u001b[0m\u001b[0;34m\u001b[0m\u001b[0m\n",
      "\u001b[0m\u001b[0;32m---> 16 \u001b[0;31m    \u001b[0;32mreturn\u001b[0m \u001b[0;34m{\u001b[0m\u001b[0mkey\u001b[0m\u001b[0;34m:\u001b[0m \u001b[0mvalue\u001b[0m \u001b[0;32mfor\u001b[0m \u001b[0mkey\u001b[0m\u001b[0;34m,\u001b[0m \u001b[0mvalue\u001b[0m \u001b[0;32min\u001b[0m \u001b[0mdict\u001b[0m\u001b[0;34m.\u001b[0m\u001b[0mitems\u001b[0m\u001b[0;34m(\u001b[0m\u001b[0;34m)\u001b[0m\u001b[0;34m}\u001b[0m\u001b[0;34m\u001b[0m\u001b[0;34m\u001b[0m\u001b[0m\n",
      "\u001b[0m\u001b[0;32m     17 \u001b[0;31m\u001b[0;34m\u001b[0m\u001b[0m\n",
      "\u001b[0m\u001b[0;32m     18 \u001b[0;31m\u001b[0;31m# %% ../../../nbs/game/engine/05_graph.ipynb 8\u001b[0m\u001b[0;34m\u001b[0m\u001b[0;34m\u001b[0m\u001b[0m\n",
      "\u001b[0m\n"
     ]
    },
    {
     "name": "stdin",
     "output_type": "stream",
     "text": [
      "ipdb>  a\n"
     ]
    },
    {
     "name": "stdout",
     "output_type": "stream",
     "text": [
      "dict = {}\n"
     ]
    },
    {
     "name": "stdin",
     "output_type": "stream",
     "text": [
      "ipdb>  c\n"
     ]
    },
    {
     "name": "stdout",
     "output_type": "stream",
     "text": [
      "> \u001b[0;32m/home/revys/workspace/RL_18xx/rl18xx/game/engine/graph.py\u001b[0m(16)\u001b[0;36mcopy_dict\u001b[0;34m()\u001b[0m\n",
      "\u001b[0;32m     14 \u001b[0;31m\u001b[0;32mdef\u001b[0m \u001b[0mcopy_dict\u001b[0m\u001b[0;34m(\u001b[0m\u001b[0mdict\u001b[0m\u001b[0;34m)\u001b[0m\u001b[0;34m:\u001b[0m\u001b[0;34m\u001b[0m\u001b[0;34m\u001b[0m\u001b[0m\n",
      "\u001b[0m\u001b[0;32m     15 \u001b[0;31m    \u001b[0mset_trace\u001b[0m\u001b[0;34m(\u001b[0m\u001b[0;34m)\u001b[0m\u001b[0;34m\u001b[0m\u001b[0;34m\u001b[0m\u001b[0m\n",
      "\u001b[0m\u001b[0;32m---> 16 \u001b[0;31m    \u001b[0;32mreturn\u001b[0m \u001b[0;34m{\u001b[0m\u001b[0mkey\u001b[0m\u001b[0;34m:\u001b[0m \u001b[0mvalue\u001b[0m \u001b[0;32mfor\u001b[0m \u001b[0mkey\u001b[0m\u001b[0;34m,\u001b[0m \u001b[0mvalue\u001b[0m \u001b[0;32min\u001b[0m \u001b[0mdict\u001b[0m\u001b[0;34m.\u001b[0m\u001b[0mitems\u001b[0m\u001b[0;34m(\u001b[0m\u001b[0;34m)\u001b[0m\u001b[0;34m}\u001b[0m\u001b[0;34m\u001b[0m\u001b[0;34m\u001b[0m\u001b[0m\n",
      "\u001b[0m\u001b[0;32m     17 \u001b[0;31m\u001b[0;34m\u001b[0m\u001b[0m\n",
      "\u001b[0m\u001b[0;32m     18 \u001b[0;31m\u001b[0;31m# %% ../../../nbs/game/engine/05_graph.ipynb 8\u001b[0m\u001b[0;34m\u001b[0m\u001b[0;34m\u001b[0m\u001b[0m\n",
      "\u001b[0m\n"
     ]
    },
    {
     "name": "stdin",
     "output_type": "stream",
     "text": [
      "ipdb>  a\n"
     ]
    },
    {
     "name": "stdout",
     "output_type": "stream",
     "text": [
      "dict = {}\n"
     ]
    },
    {
     "name": "stdin",
     "output_type": "stream",
     "text": [
      "ipdb>  c\n"
     ]
    },
    {
     "name": "stdout",
     "output_type": "stream",
     "text": [
      "> \u001b[0;32m/home/revys/workspace/RL_18xx/rl18xx/game/engine/graph.py\u001b[0m(16)\u001b[0;36mcopy_dict\u001b[0;34m()\u001b[0m\n",
      "\u001b[0;32m     14 \u001b[0;31m\u001b[0;32mdef\u001b[0m \u001b[0mcopy_dict\u001b[0m\u001b[0;34m(\u001b[0m\u001b[0mdict\u001b[0m\u001b[0;34m)\u001b[0m\u001b[0;34m:\u001b[0m\u001b[0;34m\u001b[0m\u001b[0;34m\u001b[0m\u001b[0m\n",
      "\u001b[0m\u001b[0;32m     15 \u001b[0;31m    \u001b[0mset_trace\u001b[0m\u001b[0;34m(\u001b[0m\u001b[0;34m)\u001b[0m\u001b[0;34m\u001b[0m\u001b[0;34m\u001b[0m\u001b[0m\n",
      "\u001b[0m\u001b[0;32m---> 16 \u001b[0;31m    \u001b[0;32mreturn\u001b[0m \u001b[0;34m{\u001b[0m\u001b[0mkey\u001b[0m\u001b[0;34m:\u001b[0m \u001b[0mvalue\u001b[0m \u001b[0;32mfor\u001b[0m \u001b[0mkey\u001b[0m\u001b[0;34m,\u001b[0m \u001b[0mvalue\u001b[0m \u001b[0;32min\u001b[0m \u001b[0mdict\u001b[0m\u001b[0;34m.\u001b[0m\u001b[0mitems\u001b[0m\u001b[0;34m(\u001b[0m\u001b[0;34m)\u001b[0m\u001b[0;34m}\u001b[0m\u001b[0;34m\u001b[0m\u001b[0;34m\u001b[0m\u001b[0m\n",
      "\u001b[0m\u001b[0;32m     17 \u001b[0;31m\u001b[0;34m\u001b[0m\u001b[0m\n",
      "\u001b[0m\u001b[0;32m     18 \u001b[0;31m\u001b[0;31m# %% ../../../nbs/game/engine/05_graph.ipynb 8\u001b[0m\u001b[0;34m\u001b[0m\u001b[0;34m\u001b[0m\u001b[0m\n",
      "\u001b[0m\n"
     ]
    },
    {
     "name": "stdin",
     "output_type": "stream",
     "text": [
      "ipdb>  a\n"
     ]
    },
    {
     "name": "stdout",
     "output_type": "stream",
     "text": [
      "dict = {}\n"
     ]
    },
    {
     "name": "stdin",
     "output_type": "stream",
     "text": [
      "ipdb>  c\n"
     ]
    },
    {
     "name": "stdout",
     "output_type": "stream",
     "text": [
      "> \u001b[0;32m/home/revys/workspace/RL_18xx/rl18xx/game/engine/graph.py\u001b[0m(16)\u001b[0;36mcopy_dict\u001b[0;34m()\u001b[0m\n",
      "\u001b[0;32m     14 \u001b[0;31m\u001b[0;32mdef\u001b[0m \u001b[0mcopy_dict\u001b[0m\u001b[0;34m(\u001b[0m\u001b[0mdict\u001b[0m\u001b[0;34m)\u001b[0m\u001b[0;34m:\u001b[0m\u001b[0;34m\u001b[0m\u001b[0;34m\u001b[0m\u001b[0m\n",
      "\u001b[0m\u001b[0;32m     15 \u001b[0;31m    \u001b[0mset_trace\u001b[0m\u001b[0;34m(\u001b[0m\u001b[0;34m)\u001b[0m\u001b[0;34m\u001b[0m\u001b[0;34m\u001b[0m\u001b[0m\n",
      "\u001b[0m\u001b[0;32m---> 16 \u001b[0;31m    \u001b[0;32mreturn\u001b[0m \u001b[0;34m{\u001b[0m\u001b[0mkey\u001b[0m\u001b[0;34m:\u001b[0m \u001b[0mvalue\u001b[0m \u001b[0;32mfor\u001b[0m \u001b[0mkey\u001b[0m\u001b[0;34m,\u001b[0m \u001b[0mvalue\u001b[0m \u001b[0;32min\u001b[0m \u001b[0mdict\u001b[0m\u001b[0;34m.\u001b[0m\u001b[0mitems\u001b[0m\u001b[0;34m(\u001b[0m\u001b[0;34m)\u001b[0m\u001b[0;34m}\u001b[0m\u001b[0;34m\u001b[0m\u001b[0;34m\u001b[0m\u001b[0m\n",
      "\u001b[0m\u001b[0;32m     17 \u001b[0;31m\u001b[0;34m\u001b[0m\u001b[0m\n",
      "\u001b[0m\u001b[0;32m     18 \u001b[0;31m\u001b[0;31m# %% ../../../nbs/game/engine/05_graph.ipynb 8\u001b[0m\u001b[0;34m\u001b[0m\u001b[0;34m\u001b[0m\u001b[0m\n",
      "\u001b[0m\n"
     ]
    },
    {
     "name": "stdin",
     "output_type": "stream",
     "text": [
      "ipdb>  a\n"
     ]
    },
    {
     "name": "stdout",
     "output_type": "stream",
     "text": [
      "dict = {}\n"
     ]
    },
    {
     "name": "stdin",
     "output_type": "stream",
     "text": [
      "ipdb>  c\n"
     ]
    },
    {
     "name": "stdout",
     "output_type": "stream",
     "text": [
      "> \u001b[0;32m/home/revys/workspace/RL_18xx/rl18xx/game/engine/graph.py\u001b[0m(16)\u001b[0;36mcopy_dict\u001b[0;34m()\u001b[0m\n",
      "\u001b[0;32m     14 \u001b[0;31m\u001b[0;32mdef\u001b[0m \u001b[0mcopy_dict\u001b[0m\u001b[0;34m(\u001b[0m\u001b[0mdict\u001b[0m\u001b[0;34m)\u001b[0m\u001b[0;34m:\u001b[0m\u001b[0;34m\u001b[0m\u001b[0;34m\u001b[0m\u001b[0m\n",
      "\u001b[0m\u001b[0;32m     15 \u001b[0;31m    \u001b[0mset_trace\u001b[0m\u001b[0;34m(\u001b[0m\u001b[0;34m)\u001b[0m\u001b[0;34m\u001b[0m\u001b[0;34m\u001b[0m\u001b[0m\n",
      "\u001b[0m\u001b[0;32m---> 16 \u001b[0;31m    \u001b[0;32mreturn\u001b[0m \u001b[0;34m{\u001b[0m\u001b[0mkey\u001b[0m\u001b[0;34m:\u001b[0m \u001b[0mvalue\u001b[0m \u001b[0;32mfor\u001b[0m \u001b[0mkey\u001b[0m\u001b[0;34m,\u001b[0m \u001b[0mvalue\u001b[0m \u001b[0;32min\u001b[0m \u001b[0mdict\u001b[0m\u001b[0;34m.\u001b[0m\u001b[0mitems\u001b[0m\u001b[0;34m(\u001b[0m\u001b[0;34m)\u001b[0m\u001b[0;34m}\u001b[0m\u001b[0;34m\u001b[0m\u001b[0;34m\u001b[0m\u001b[0m\n",
      "\u001b[0m\u001b[0;32m     17 \u001b[0;31m\u001b[0;34m\u001b[0m\u001b[0m\n",
      "\u001b[0m\u001b[0;32m     18 \u001b[0;31m\u001b[0;31m# %% ../../../nbs/game/engine/05_graph.ipynb 8\u001b[0m\u001b[0;34m\u001b[0m\u001b[0;34m\u001b[0m\u001b[0m\n",
      "\u001b[0m\n"
     ]
    },
    {
     "name": "stdin",
     "output_type": "stream",
     "text": [
      "ipdb>  a\n"
     ]
    },
    {
     "name": "stdout",
     "output_type": "stream",
     "text": [
      "dict = {}\n"
     ]
    },
    {
     "name": "stdin",
     "output_type": "stream",
     "text": [
      "ipdb>  c\n"
     ]
    },
    {
     "name": "stdout",
     "output_type": "stream",
     "text": [
      "> \u001b[0;32m/home/revys/workspace/RL_18xx/rl18xx/game/engine/graph.py\u001b[0m(16)\u001b[0;36mcopy_dict\u001b[0;34m()\u001b[0m\n",
      "\u001b[0;32m     14 \u001b[0;31m\u001b[0;32mdef\u001b[0m \u001b[0mcopy_dict\u001b[0m\u001b[0;34m(\u001b[0m\u001b[0mdict\u001b[0m\u001b[0;34m)\u001b[0m\u001b[0;34m:\u001b[0m\u001b[0;34m\u001b[0m\u001b[0;34m\u001b[0m\u001b[0m\n",
      "\u001b[0m\u001b[0;32m     15 \u001b[0;31m    \u001b[0mset_trace\u001b[0m\u001b[0;34m(\u001b[0m\u001b[0;34m)\u001b[0m\u001b[0;34m\u001b[0m\u001b[0;34m\u001b[0m\u001b[0m\n",
      "\u001b[0m\u001b[0;32m---> 16 \u001b[0;31m    \u001b[0;32mreturn\u001b[0m \u001b[0;34m{\u001b[0m\u001b[0mkey\u001b[0m\u001b[0;34m:\u001b[0m \u001b[0mvalue\u001b[0m \u001b[0;32mfor\u001b[0m \u001b[0mkey\u001b[0m\u001b[0;34m,\u001b[0m \u001b[0mvalue\u001b[0m \u001b[0;32min\u001b[0m \u001b[0mdict\u001b[0m\u001b[0;34m.\u001b[0m\u001b[0mitems\u001b[0m\u001b[0;34m(\u001b[0m\u001b[0;34m)\u001b[0m\u001b[0;34m}\u001b[0m\u001b[0;34m\u001b[0m\u001b[0;34m\u001b[0m\u001b[0m\n",
      "\u001b[0m\u001b[0;32m     17 \u001b[0;31m\u001b[0;34m\u001b[0m\u001b[0m\n",
      "\u001b[0m\u001b[0;32m     18 \u001b[0;31m\u001b[0;31m# %% ../../../nbs/game/engine/05_graph.ipynb 8\u001b[0m\u001b[0;34m\u001b[0m\u001b[0;34m\u001b[0m\u001b[0m\n",
      "\u001b[0m\n"
     ]
    },
    {
     "name": "stdin",
     "output_type": "stream",
     "text": [
      "ipdb>  a\n"
     ]
    },
    {
     "name": "stdout",
     "output_type": "stream",
     "text": [
      "dict = {}\n"
     ]
    },
    {
     "name": "stdin",
     "output_type": "stream",
     "text": [
      "ipdb>  c\n"
     ]
    },
    {
     "data": {
      "text/plain": [
       "<rl18xx.game.engine.game.title.g1830.Game>"
      ]
     },
     "execution_count": null,
     "metadata": {},
     "output_type": "execute_result"
    }
   ],
   "source": [
    "# PRR\n",
    "g.process_action(get_all_choices()[0])  # lays tile #57 with rotation 1 on H10\n",
    "g.process_action(get_all_choices()[-1])  # passes place token\n",
    "g.process_action(get_all_choices()[0])  # buys a 2 train\n",
    "g.process_action(get_all_choices()[0])  # buys a 2 train\n",
    "g.process_action(get_all_choices()[-1])  # passes trains\n",
    "\n",
    "# NYC\n",
    "g.process_action(get_all_choices()[0])  # lays tile #57 with rotation 0 on E19\n",
    "g.process_action(get_all_choices()[0])  # buys a 2 train\n",
    "g.process_action(get_all_choices()[-1])  # passes trains\n",
    "\n",
    "# C&O\n",
    "g.process_action(get_all_choices()[-5])\n",
    "g.process_action(get_all_choices()[0])\n",
    "g.process_action(get_all_choices()[1])"
   ]
  },
  {
   "cell_type": "code",
   "execution_count": null,
   "id": "7e72959d-8cb1-4f2a-a345-899349953997",
   "metadata": {},
   "outputs": [
    {
     "name": "stdout",
     "output_type": "stream",
     "text": [
      "\n",
      "PRR\n",
      "    cash: 510.0\n",
      "    companies: []\n",
      "    trains: [<Train: 2-0, owner: <Corporation: PRR>>, <Train: 2-1, owner: <Corporation: PRR>>]\n",
      "    share price: Share Price - coordinates: (4, 5), price: 67, types: [], corporations: [<Corporation: PRR>]\n",
      "NYC\n",
      "    cash: 590.0\n",
      "    companies: []\n",
      "    trains: [<Train: 2-2, owner: <Corporation: NYC>>]\n",
      "    share price: Share Price - coordinates: (5, 5), price: 65, types: [], corporations: [<Corporation: NYC>, <Corporation: C&O>]\n",
      "CPR\n",
      "    cash: 0\n",
      "    companies: []\n",
      "    trains: []\n",
      "    share price: None\n",
      "B&O\n",
      "    cash: 0\n",
      "    companies: []\n",
      "    trains: []\n",
      "    share price: Share Price - coordinates: (0, 6), price: 100, types: ['par'], corporations: [<Corporation: B&O>]\n",
      "C&O\n",
      "    cash: 590.0\n",
      "    companies: []\n",
      "    trains: [<Train: 2-3, owner: <Corporation: C&O>>]\n",
      "    share price: Share Price - coordinates: (5, 5), price: 65, types: [], corporations: [<Corporation: NYC>, <Corporation: C&O>]\n",
      "ERIE\n",
      "    cash: 0\n",
      "    companies: []\n",
      "    trains: []\n",
      "    share price: None\n",
      "NYNH\n",
      "    cash: 0\n",
      "    companies: []\n",
      "    trains: []\n",
      "    share price: None\n",
      "B&M\n",
      "    cash: 0\n",
      "    companies: []\n",
      "    trains: []\n",
      "    share price: None\n"
     ]
    }
   ],
   "source": [
    "print_summary()"
   ]
  },
  {
   "cell_type": "markdown",
   "id": "bc7e5c79-7cbb-4c52-8922-67bda2fafbd9",
   "metadata": {},
   "source": [
    "## Stock Round 2"
   ]
  },
  {
   "cell_type": "code",
   "execution_count": null,
   "id": "0c4dd868-b4d6-483d-8783-1a583e3aac9e",
   "metadata": {},
   "outputs": [
    {
     "data": {
      "text/plain": [
       "<rl18xx.game.engine.game.title.g1830.Game>"
      ]
     },
     "execution_count": null,
     "metadata": {},
     "output_type": "execute_result"
    }
   ],
   "source": [
    "g.process_action(get_all_choices()[-2])  # sell nyc\n",
    "g.process_action(get_all_choices()[-3])  # par nynh\n",
    "\n",
    "g.process_action(get_all_choices()[0])  # buy C&O\n",
    "g.process_action(get_all_choices()[-1])  # pass sell\n",
    "\n",
    "g.process_action(get_all_choices()[0])  # Buy NYC\n",
    "g.process_action(get_all_choices()[-1])  # pass sell\n",
    "\n",
    "g.process_action(get_all_choices()[0])  # Buy NYNH\n",
    "g.process_action(get_all_choices()[-1])  # pass sell\n",
    "\n",
    "g.process_action(get_all_choices()[1])  # Buy NYNH\n",
    "g.process_action(get_all_choices()[-1])  # pass sell\n",
    "\n",
    "g.process_action(get_all_choices()[-1])  # pass\n",
    "\n",
    "g.process_action(get_all_choices()[-1])  # pass\n",
    "\n",
    "g.process_action(get_all_choices()[-1])  # pass\n",
    "\n",
    "g.process_action(get_all_choices()[1])  # Buy NYNH\n",
    "g.process_action(get_all_choices()[-1])  # pass sell\n",
    "\n",
    "g.process_action(get_all_choices()[-1])  # pass\n",
    "\n",
    "g.process_action(get_all_choices()[-1])  # pass\n",
    "\n",
    "g.process_action(get_all_choices()[-1])  # pass\n",
    "\n",
    "g.process_action(get_all_choices()[1])  # Buy NYNH\n",
    "g.process_action(get_all_choices()[-1])  # pass sell\n",
    "\n",
    "g.process_action(get_all_choices()[-1])  # pass\n",
    "\n",
    "g.process_action(get_all_choices()[-1])  # pass\n",
    "\n",
    "g.process_action(get_all_choices()[-1])  # pass\n",
    "\n",
    "g.process_action(get_all_choices()[-1])  # pass\n",
    "# Player 1: 60% PRR, 30% NYC\n",
    "# Player 2: 60% C&O, 10% NYC, 10% NYNH\n",
    "# Player 3: 50% NYNH, 10% NYC\n",
    "# Player 4: 40% PRR, 20% B&O, 10% C&O"
   ]
  },
  {
   "cell_type": "code",
   "execution_count": null,
   "id": "5eeef0bf-3f03-43c4-8834-942ba828d2c6",
   "metadata": {},
   "outputs": [
    {
     "name": "stdout",
     "output_type": "stream",
     "text": [
      "\n",
      "PRR\n",
      "    cash: 510.0\n",
      "    companies: []\n",
      "    trains: [<Train: 2-0, owner: <Corporation: PRR>>, <Train: 2-1, owner: <Corporation: PRR>>]\n",
      "    share price: Share Price - coordinates: (3, 5), price: 71, types: [], corporations: [<Corporation: PRR>]\n",
      "NYC\n",
      "    cash: 590.0\n",
      "    companies: []\n",
      "    trains: [<Train: 2-2, owner: <Corporation: NYC>>]\n",
      "    share price: Share Price - coordinates: (10, 5), price: 30, types: ['multiple_buy'], corporations: [<Corporation: NYC>]\n",
      "CPR\n",
      "    cash: 0\n",
      "    companies: []\n",
      "    trains: []\n",
      "    share price: None\n",
      "B&O\n",
      "    cash: 0\n",
      "    companies: []\n",
      "    trains: []\n",
      "    share price: Share Price - coordinates: (0, 6), price: 100, types: ['par'], corporations: [<Corporation: B&O>]\n",
      "C&O\n",
      "    cash: 590.0\n",
      "    companies: []\n",
      "    trains: [<Train: 2-3, owner: <Corporation: C&O>>]\n",
      "    share price: Share Price - coordinates: (5, 5), price: 65, types: [], corporations: [<Corporation: C&O>]\n",
      "ERIE\n",
      "    cash: 0\n",
      "    companies: []\n",
      "    trains: []\n",
      "    share price: None\n",
      "NYNH\n",
      "    cash: 710.0\n",
      "    companies: []\n",
      "    trains: []\n",
      "    share price: Share Price - coordinates: (4, 6), price: 71, types: ['par'], corporations: [<Corporation: NYNH>]\n",
      "B&M\n",
      "    cash: 0\n",
      "    companies: []\n",
      "    trains: []\n",
      "    share price: None\n"
     ]
    }
   ],
   "source": [
    "print_summary()"
   ]
  },
  {
   "cell_type": "markdown",
   "id": "4792dd40-2ecb-4a8d-9f89-785175c292b6",
   "metadata": {},
   "source": [
    "## Operating Round 2"
   ]
  },
  {
   "cell_type": "code",
   "execution_count": null,
   "id": "e1d30963-b4e2-4aa1-b065-959dbb99eaf7",
   "metadata": {},
   "outputs": [
    {
     "name": "stdout",
     "output_type": "stream",
     "text": [
      "> \u001b[0;32m/home/revys/workspace/RL_18xx/rl18xx/game/engine/graph.py\u001b[0m(16)\u001b[0;36mcopy_dict\u001b[0;34m()\u001b[0m\n",
      "\u001b[0;32m     14 \u001b[0;31m\u001b[0;32mdef\u001b[0m \u001b[0mcopy_dict\u001b[0m\u001b[0;34m(\u001b[0m\u001b[0mdict\u001b[0m\u001b[0;34m)\u001b[0m\u001b[0;34m:\u001b[0m\u001b[0;34m\u001b[0m\u001b[0;34m\u001b[0m\u001b[0m\n",
      "\u001b[0m\u001b[0;32m     15 \u001b[0;31m    \u001b[0mset_trace\u001b[0m\u001b[0;34m(\u001b[0m\u001b[0;34m)\u001b[0m\u001b[0;34m\u001b[0m\u001b[0;34m\u001b[0m\u001b[0m\n",
      "\u001b[0m\u001b[0;32m---> 16 \u001b[0;31m    \u001b[0;32mreturn\u001b[0m \u001b[0;34m{\u001b[0m\u001b[0mkey\u001b[0m\u001b[0;34m:\u001b[0m \u001b[0mvalue\u001b[0m \u001b[0;32mfor\u001b[0m \u001b[0mkey\u001b[0m\u001b[0;34m,\u001b[0m \u001b[0mvalue\u001b[0m \u001b[0;32min\u001b[0m \u001b[0mdict\u001b[0m\u001b[0;34m.\u001b[0m\u001b[0mitems\u001b[0m\u001b[0;34m(\u001b[0m\u001b[0;34m)\u001b[0m\u001b[0;34m}\u001b[0m\u001b[0;34m\u001b[0m\u001b[0;34m\u001b[0m\u001b[0m\n",
      "\u001b[0m\u001b[0;32m     17 \u001b[0;31m\u001b[0;34m\u001b[0m\u001b[0m\n",
      "\u001b[0m\u001b[0;32m     18 \u001b[0;31m\u001b[0;31m# %% ../../../nbs/game/engine/05_graph.ipynb 8\u001b[0m\u001b[0;34m\u001b[0m\u001b[0;34m\u001b[0m\u001b[0m\n",
      "\u001b[0m\n"
     ]
    }
   ],
   "source": [
    "# NYNH\n",
    "g.process_action(get_all_choices()[0])  # lay #1 with rotation 0 on F20\n",
    "g.process_action(get_all_choices()[0])  # buy 2 train\n",
    "g.process_action(get_all_choices()[-1])  # pass trains\n",
    "\n",
    "# PRR\n",
    "g.process_action(get_all_choices()[4])  # lay tile #9 with rotation 1 on H8\n",
    "g.process_action(get_all_choices()[-1])  # pass token\n",
    "g.process_action(get_all_choices()[0])  # auto trains & run\n",
    "g.process_action(get_all_choices()[0])  # pay out\n",
    "g.process_action(get_all_choices()[-1])  # pass trains\n",
    "\n",
    "# C&O\n",
    "g.process_action(get_all_choices()[-3])  # lay tile #8 with rotation 2 on G3\n",
    "g.process_action(get_all_choices()[0])  # auto trains & run\n",
    "g.process_action(get_all_choices()[1])  # withhold\n",
    "g.process_action(get_all_choices()[0])  # buy a 2 train\n",
    "g.process_action(get_all_choices()[0])  # buy a 3 train\n",
    "g.process_action(get_all_choices()[-1])  # pass trains\n",
    "g.process_action(get_all_choices()[-2])  # buy DH from Player 2 for $140\n",
    "g.process_action(get_all_choices()[0])  # pass buy companies\n",
    "\n",
    "# NYC\n",
    "g.process_action(get_all_choices()[-10])  # lay tile #8 with rotation 3 on F18\n",
    "g.process_action(get_all_choices()[31])  # buy 3 train\n",
    "g.process_action(get_all_choices()[-1])  # pass trains\n",
    "g.process_action(get_all_choices()[-2])  # buys Schuylkill Valley from Player 1 for $40\n",
    "g.process_action(get_all_choices()[-1])  # pass buy companies"
   ]
  },
  {
   "cell_type": "code",
   "execution_count": null,
   "id": "b21d2dd4-6cf5-4f17-abea-4e8155ddc9a1",
   "metadata": {},
   "outputs": [],
   "source": [
    "print_summary()"
   ]
  },
  {
   "cell_type": "markdown",
   "id": "d04694ff-4637-4da4-b0d3-c39827488dcf",
   "metadata": {},
   "source": [
    "## Stock Round 3"
   ]
  },
  {
   "cell_type": "code",
   "execution_count": null,
   "id": "b1b30f14-bb23-47e4-acfb-f89da5719929",
   "metadata": {},
   "outputs": [],
   "source": [
    "g.process_action(get_all_choices()[2])  # Buy NYC\n",
    "g.process_action(get_all_choices()[-1])  # Pass Sell\n",
    "\n",
    "g.process_action(get_all_choices()[3])  # Buy NYC\n",
    "g.process_action(get_all_choices()[-1])  # Pass Sell\n",
    "\n",
    "g.process_action(get_all_choices()[3])  # Buy NYC\n",
    "g.process_action(get_all_choices()[-1])  # Pass Sell\n",
    "\n",
    "g.process_action(get_all_choices()[3])  # Exchange for NYC\n",
    "g.process_action(get_all_choices()[1])  # Buy last NYC\n",
    "g.process_action(get_all_choices()[-1])  # Pass sell\n",
    "\n",
    "g.process_action(get_all_choices()[-1])  # pass\n",
    "\n",
    "g.process_action(get_all_choices()[-1])  # pass\n",
    "\n",
    "g.process_action(get_all_choices()[1])  # Buy NYNH\n",
    "g.process_action(get_all_choices()[-1])  # pass\n",
    "\n",
    "g.process_action(get_all_choices()[-1])  # pass\n",
    "\n",
    "g.process_action(get_all_choices()[-1])  # pass\n",
    "\n",
    "g.process_action(get_all_choices()[-1])  # pass\n",
    "\n",
    "g.process_action(get_all_choices()[-1])  # pass"
   ]
  },
  {
   "cell_type": "code",
   "execution_count": null,
   "id": "358aead6-5729-43b5-b0f1-e307ba374511",
   "metadata": {},
   "outputs": [],
   "source": [
    "print_summary()"
   ]
  },
  {
   "cell_type": "markdown",
   "id": "b1068f9d-0952-4616-956b-f9cee111372d",
   "metadata": {},
   "source": [
    "## Operating Round 3"
   ]
  },
  {
   "cell_type": "code",
   "execution_count": null,
   "id": "a72bd846-4fbe-4282-91e4-343cae3d0590",
   "metadata": {},
   "outputs": [],
   "source": [
    "# PRR\n",
    "g.process_action(get_all_choices()[-11])  # lay tile 8 with rotation 2 on H6\n",
    "g.process_action(get_all_choices()[0])  # Token Pittsburgh\n",
    "g.process_action(get_all_choices()[0])  # Run 2 train for 30\n",
    "g.process_action(get_all_choices()[0])  # pay out\n",
    "g.process_action(get_all_choices()[-1])  # pass trains\n",
    "g.process_action(get_all_choices()[-1])  # pass companies\n",
    "\n",
    "# NYNH\n",
    "g.process_action(get_all_choices()[-5])  # Buy C&S\n",
    "g.process_action(get_all_choices()[0])  # lay tile 54 with rotation 0 on G19\n",
    "g.process_action(get_all_choices()[-1])  # run routes\n",
    "g.process_action(get_all_choices()[0])  # pay out\n",
    "g.process_action(get_all_choices()[0])  # buy 3 train\n",
    "g.process_action(get_all_choices()[-1])  # pass trains\n",
    "g.process_action(get_all_choices()[-4])  # lay C&S tile\n",
    "g.process_action(get_all_choices()[-1])  # pass companies\n",
    "\n",
    "# C&O\n",
    "g.process_action(get_all_choices()[-6])  # Lay tile 57 with rotation 1 on F16\n",
    "g.process_action(get_all_choices()[0])  # Token teleport\n",
    "g.process_action(get_all_choices()[0])  # run routes\n",
    "g.process_action(get_all_choices()[0])  # pay out\n",
    "g.process_action(get_all_choices()[-1])  # pass companies\n",
    "\n",
    "# NYC\n",
    "g.process_action(get_all_choices()[8])  # lay tile 19 with rotation 1 on F18\n",
    "g.process_action(get_all_choices()[0])  # run trains\n",
    "g.process_action(get_all_choices()[0])  # pay out\n",
    "g.process_action(get_all_choices()[-1])  # pass trains\n",
    "g.process_action(get_all_choices()[-1])  # pass companies\n",
    "\n",
    "# PRR\n",
    "g.process_action(get_all_choices()[-3])  # lay tile 25 with rotation 1 on g5\n",
    "g.process_action(get_all_choices()[0])  # run routes\n",
    "g.process_action(get_all_choices()[0])  # pay out\n",
    "g.process_action(get_all_choices()[-1])  # pass trains\n",
    "g.process_action(get_all_choices()[-1])  # pass companies\n",
    "\n",
    "# NYNH\n",
    "g.process_action(get_all_choices()[0])  # lay tile 14 with rotation 0 on E19\n",
    "g.process_action(get_all_choices()[0])  # place a token on E19\n",
    "g.process_action(get_all_choices()[0])  # run trains\n",
    "g.process_action(get_all_choices()[0])  # pay out\n",
    "g.process_action(get_all_choices()[-1])  # pass trains\n",
    "g.process_action(get_all_choices()[-1])  # pass companies\n",
    "\n",
    "# C&O\n",
    "g.process_action(get_all_choices()[5])  # lay tile 15 with rotation 4 on F16\n",
    "g.process_action(get_all_choices()[0])  # run trains\n",
    "g.process_action(get_all_choices()[0])  # pay out\n",
    "g.process_action(get_all_choices()[-1])  # pass companies\n",
    "\n",
    "# NYC\n",
    "g.process_action(get_all_choices()[-7])  # lay tile #7 with rotation 0 on E21\n",
    "g.process_action(get_all_choices()[0])  # place token on F16\n",
    "g.process_action(get_all_choices()[0])  # run trains\n",
    "g.process_action(get_all_choices()[0])  # pay out\n",
    "g.process_action(get_all_choices()[-1])  # pass trains\n",
    "g.process_action(get_all_choices()[-1])  # pass companies"
   ]
  },
  {
   "cell_type": "code",
   "execution_count": null,
   "id": "32a6cf71-4c61-4f78-a1e5-12ae520f1622",
   "metadata": {},
   "outputs": [],
   "source": [
    "print_summary()"
   ]
  },
  {
   "cell_type": "markdown",
   "id": "7a41e4ff-4e00-405d-8af2-30be1b7ca736",
   "metadata": {},
   "source": [
    "## Stock Round 4"
   ]
  },
  {
   "cell_type": "code",
   "execution_count": null,
   "id": "2f7baf28-0e89-4c79-8edd-ebeb8ba40d46",
   "metadata": {},
   "outputs": [],
   "source": [
    "g.process_action(get_all_choices()[0])  # buy B&O\n",
    "g.process_action(get_all_choices()[-1])  # pass sell\n",
    "\n",
    "g.process_action(get_all_choices()[0])  # buy B&O\n",
    "g.process_action(get_all_choices()[-1])  # pass sell\n",
    "\n",
    "g.process_action(get_all_choices()[2])  # buy C&O\n",
    "g.process_action(get_all_choices()[-1])  # pass sell\n",
    "\n",
    "g.process_action(get_all_choices()[1])  # buy NYNH\n",
    "g.process_action(get_all_choices()[-1])  # pass sell\n",
    "\n",
    "g.process_action(get_all_choices()[0])  # buy B&O\n",
    "g.process_action(get_all_choices()[-1])  # pass sell\n",
    "\n",
    "g.process_action(get_all_choices()[0])  # buy B&O\n",
    "g.process_action(get_all_choices()[-1])  # pass sell\n",
    "\n",
    "g.process_action(get_all_choices()[2])  # buy C&O\n",
    "g.process_action(get_all_choices()[-1])  # pass sell\n",
    "\n",
    "g.process_action(get_all_choices()[1])  # buy NYNH\n",
    "g.process_action(get_all_choices()[-1])  # pass sell\n",
    "\n",
    "g.process_action(get_all_choices()[0])  # buy B&O\n",
    "g.process_action(get_all_choices()[-1])  # pass sell\n",
    "\n",
    "g.process_action(get_all_choices()[-1])  # pass\n",
    "\n",
    "g.process_action(get_all_choices()[1])  # buy C&O\n",
    "g.process_action(get_all_choices()[-1])  # pass sell\n",
    "\n",
    "g.process_action(get_all_choices()[1])  # buy NYNH\n",
    "g.process_action(get_all_choices()[-1])  # pass sell\n",
    "\n",
    "g.process_action(get_all_choices()[-1])  # pass\n",
    "g.process_action(get_all_choices()[-1])  # pass\n",
    "g.process_action(get_all_choices()[-1])  # pass\n",
    "g.process_action(get_all_choices()[-1])  # pass"
   ]
  },
  {
   "cell_type": "code",
   "execution_count": null,
   "id": "b3a71b66-df74-4152-ab6e-f29d7d2b8ce9",
   "metadata": {},
   "outputs": [],
   "source": [
    "print_summary()"
   ]
  },
  {
   "cell_type": "markdown",
   "id": "b9741d9e-9ea2-4577-8dad-9fff666dcdbf",
   "metadata": {},
   "source": [
    "## Operating Round 4"
   ]
  },
  {
   "cell_type": "code",
   "execution_count": null,
   "id": "968804bf-e03f-4ad8-830d-dbf2c81aee75",
   "metadata": {},
   "outputs": [],
   "source": [
    "# PRR\n",
    "g.process_action(get_all_choices()[9])  # lay tile #8 with rotation 5 on H14\n",
    "g.process_action(get_all_choices()[0])  # Run trains\n",
    "g.process_action(get_all_choices()[0])  # pay out\n",
    "g.process_action(get_all_choices()[0])  # buy 3 train\n",
    "g.process_action(get_all_choices()[-1])  # pass trains\n",
    "g.process_action(get_all_choices()[-1])  # pass companies\n",
    "\n",
    "# B&O\n",
    "g.process_action(get_all_choices()[-12])  # buy C&A for max\n",
    "g.process_action(get_all_choices()[5])  # lay tile #8 with rotation 1 on I17\n",
    "g.process_action(get_all_choices()[0])  # buy 3 train\n",
    "g.process_action(get_all_choices()[0])  # buy 4 train\n",
    "\n",
    "# NYNH\n",
    "g.process_action(get_all_choices()[-3])  # lay tile #57 with rotation 1 on F22\n",
    "g.process_action(get_all_choices()[0])  # run trains\n",
    "g.process_action(get_all_choices()[0])  # pay out\n",
    "\n",
    "# C&O\n",
    "g.process_action(get_all_choices()[-20])  # lay tile #56 with rotation 1 on G17\n",
    "g.process_action(get_all_choices()[0])  # place token on G19\n",
    "g.process_action(get_all_choices()[0])  # run trains\n",
    "g.process_action(get_all_choices()[0])  # pay out\n",
    "\n",
    "# NYC\n",
    "g.process_action(get_all_choices()[13])  # lay tile #26 with rotation 1 on E21\n",
    "g.process_action(get_all_choices()[0])  # run trains\n",
    "g.process_action(get_all_choices()[0])  # pay out\n",
    "g.process_action(get_all_choices()[109])  # buy a 3 train for $110 from PRR\n",
    "\n",
    "# PRR\n",
    "g.process_action(get_all_choices()[12])  # lay tile #53 with rotation 0 on I15\n",
    "g.process_action(get_all_choices()[0])  # buy 4 train\n",
    "g.process_action(get_all_choices()[-1])  # pass trains\n",
    "\n",
    "# NYNH\n",
    "g.process_action(get_all_choices()[12])  # tile #53 with rotation 1 on E23\n",
    "g.process_action(get_all_choices()[0])  # runs a 3 train for $140: G19-E19-E23\n",
    "g.process_action(get_all_choices()[1])  # withholds $140\n",
    "g.process_action(get_all_choices()[0])  # buys a 4 train for $300 from The Depot\n",
    "\n",
    "# B&O\n",
    "g.process_action(get_all_choices()[-2])  # lay tile #59 with rotation 0 on H18\n",
    "g.process_action(get_all_choices()[-1])  # skip token\n",
    "g.process_action(get_all_choices()[0])  # run trains\n",
    "g.process_action(get_all_choices()[0])  # pay out\n",
    "\n",
    "\n",
    "# C&O\n",
    "g.process_action(get_all_choices()[8])  # lay tile #69 with rotation 0 on G7\n",
    "g.process_action(get_all_choices()[0])  # run trains\n",
    "g.process_action(get_all_choices()[0])  # pay out\n",
    "\n",
    "# NYC\n",
    "g.process_action(get_all_choices()[-3])  # lay tile 9 with rotation 1 on F14\n",
    "g.process_action(get_all_choices()[-1])  # skip token\n",
    "g.process_action(get_all_choices()[0])  # run trains\n",
    "g.process_action(get_all_choices()[0])  # pay out\n",
    "g.process_action(get_all_choices()[-1])  # pass trains\n",
    "\n",
    "g.log"
   ]
  },
  {
   "cell_type": "code",
   "execution_count": null,
   "id": "8463c732-0f45-43e9-a23d-5ebc47bc03fd",
   "metadata": {},
   "outputs": [],
   "source": [
    "print_summary()"
   ]
  },
  {
   "cell_type": "markdown",
   "id": "8f4dcbdc-193b-4f84-8205-b2157d9a40d3",
   "metadata": {},
   "source": [
    "## Stock Round 5"
   ]
  },
  {
   "cell_type": "code",
   "execution_count": null,
   "id": "3825e37f-d990-4ee9-8c0a-d27e5eb62ffd",
   "metadata": {},
   "outputs": [],
   "source": [
    "g.process_action(\n",
    "    get_all_choices()[0]\n",
    ")  # [18:00] Player 3 buys a 10% share of B&O from the IPO for $100\n",
    "g.process_action(get_all_choices()[-1])  # [18:00] Player 3 declines to sell shares\n",
    "g.process_action(\n",
    "    get_all_choices()[0]\n",
    ")  # [18:00] Player 4 buys a 10% share of B&O from the IPO for $100\n",
    "g.process_action(get_all_choices()[-1])  # [18:00] Player 4 declines to sell shares\n",
    "g.process_action(\n",
    "    get_all_choices()[0]\n",
    ")  # [18:00] Player 1 buys a 10% share of B&O from the IPO for $100\n",
    "g.process_action(get_all_choices()[-1])  # [18:00] Player 1 declines to sell shares\n",
    "g.process_action(get_all_choices()[12])  # [18:01] Player 2 pars ERIE at $100\n",
    "# [18:01] Player 2 buys a 20% share of ERIE from the IPO for $200\n",
    "# [18:01] Player 2 becomes the president of ERIE\n",
    "g.process_action(get_all_choices()[-1])  # [18:01] Player 2 declines to sell shares\n",
    "g.process_action(\n",
    "    get_all_choices()[0]\n",
    ")  # [18:01] Player 3 buys a 10% share of ERIE from the IPO for $100\n",
    "g.process_action(get_all_choices()[-1])  # [18:04] Player 3 declines to sell shares\n",
    "g.process_action(\n",
    "    get_all_choices()[0]\n",
    ")  # [18:04] Player 4 buys a 10% share of ERIE from the IPO for $100\n",
    "g.process_action(get_all_choices()[-1])  # [18:04] Player 4 declines to sell shares\n",
    "g.process_action(\n",
    "    get_all_choices()[0]\n",
    ")  # [18:04] Player 1 buys a 10% share of ERIE from the IPO for $100\n",
    "g.process_action(get_all_choices()[-1])  # [18:04] Player 1 declines to sell shares\n",
    "g.process_action(\n",
    "    get_all_choices()[0]\n",
    ")  # [18:05] Player 2 sells a 10% share of NYC and receives $68\n",
    "g.process_action(\n",
    "    get_all_choices()[0]\n",
    ")  # [18:05] Player 2 buys a 10% share of ERIE from the IPO for $100\n",
    "# [18:05] ERIE floats\n",
    "# [18:05] ERIE receives $1000\n",
    "g.process_action(\n",
    "    get_all_choices()[0]\n",
    ")  # [18:05] Player 2 sells a 10% share of NYC and receives $68\n",
    "g.process_action(get_all_choices()[-1])  # [18:05] Player 2 passes\n",
    "g.process_action(get_all_choices()[-1])  # [18:05] Player 3 passes\n",
    "g.process_action(\n",
    "    get_all_choices()[0]\n",
    ")  # [18:05] Player 4 buys a 10% share of ERIE from the IPO for $100\n",
    "g.process_action(get_all_choices()[-1])  # [18:05] Player 4 declines to sell shares\n",
    "g.process_action(\n",
    "    get_all_choices()[0]\n",
    ")  # [18:05] Player 1 buys a 10% share of NYC from the market for $68\n",
    "g.process_action(get_all_choices()[-1])  # [18:05] Player 1 declines to sell shares\n",
    "g.process_action(\n",
    "    get_all_choices()[0]\n",
    ")  # [18:06] Player 2 buys a 10% share of ERIE from the IPO for $100\n",
    "g.process_action(get_all_choices()[-1])  # [18:06] Player 2 declines to sell shares\n",
    "g.process_action(get_all_choices()[-1])  # [18:06] Player 3 passes\n",
    "g.process_action(\n",
    "    get_all_choices()[0]\n",
    ")  # [18:06] Player 4 buys a 10% share of ERIE from the IPO for $100\n",
    "g.process_action(get_all_choices()[-1])  # [18:06] Player 4 declines to sell shares\n",
    "g.process_action(get_all_choices()[-1])  # [18:06] Player 1 passes\n",
    "g.process_action(get_all_choices()[-1])  # [18:06] Player 2 passes\n",
    "g.process_action(get_all_choices()[-1])  # [18:06] Player 3 passes\n",
    "g.process_action(\n",
    "    get_all_choices()[0]\n",
    ")  # [18:06] Player 4 buys a 10% share of ERIE from the IPO for $100\n",
    "g.process_action(get_all_choices()[-1])  # [18:06] Player 4 declines to sell shares\n",
    "g.process_action(get_all_choices()[-1])  # [18:06] Player 1 passes\n",
    "g.process_action(get_all_choices()[-1])  # [18:06] Player 2 passes\n",
    "g.process_action(get_all_choices()[-1])  # [18:06] Player 3 passes\n",
    "g.process_action(\n",
    "    get_all_choices()[0]\n",
    ")  # [18:06] Player 4 buys a 10% share of NYC from the market for $68\n",
    "g.process_action(get_all_choices()[-1])  # [18:06] Player 4 declines to sell shares\n",
    "g.process_action(get_all_choices()[-1])  # pass\n",
    "g.process_action(get_all_choices()[-1])  # pass\n",
    "g.process_action(get_all_choices()[-1])  # pass\n",
    "g.process_action(get_all_choices()[-1])  # pass"
   ]
  },
  {
   "cell_type": "code",
   "execution_count": null,
   "id": "07d80c36-a521-4b62-8aab-ff2d037bf13c",
   "metadata": {},
   "outputs": [],
   "source": [
    "print_summary()"
   ]
  },
  {
   "cell_type": "markdown",
   "id": "8d622565-eb98-4504-a65e-a8a83562b26b",
   "metadata": {},
   "source": [
    "## Operating Round 5"
   ]
  },
  {
   "cell_type": "code",
   "execution_count": null,
   "id": "e835aa8d-68d2-4a2e-828d-9e9d5fedccec",
   "metadata": {},
   "outputs": [],
   "source": [
    "# [18:06] B&O collects $25 from Camden & Amboy\n",
    "# [18:06] C&O collects $15 from Delaware & Hudson\n",
    "# [18:06] NYNH collects $10 from Champlain & St.Lawrence\n",
    "# [18:06] NYC collects $5 from Schuylkill Valley\n",
    "\n",
    "\n",
    "# [18:06] Player 1 operates PRR\n",
    "g.process_action(\n",
    "    get_all_choices()[4]\n",
    ")  # [18:12] PRR lays tile #15 with rotation 1 on H10 (Pittsburgh)\n",
    "# [18:12] PRR skips place a token\n",
    "g.process_action(\n",
    "    get_all_choices()[0]\n",
    ")  # [18:12] PRR runs a 4 train for $130: F2-H10-H12-I15\n",
    "g.process_action(\n",
    "    get_all_choices()[0]\n",
    ")  # [18:12] PRR pays out $130 = $13 per share ($78 to Player 1, $52 to Player 4)\n",
    "# [18:12] PRR's share price moves right from $126 to $142\n",
    "g.process_action(get_all_choices()[-1])  # [18:12] PRR passes buy trains\n",
    "# [18:12] PRR skips buy companies\n",
    "\n",
    "\n",
    "# [18:12] Player 4 operates B&O\n",
    "g.process_action(\n",
    "    get_all_choices()[0]\n",
    ")  # [18:13] B&O spends $80 and lays tile #57 with rotation 0 on J14 (Washington)\n",
    "g.process_action(\n",
    "    get_all_choices()[1]\n",
    ")  # [18:13] B&O places a token on H10 (Pittsburgh) for $40\n",
    "g.process_action(\n",
    "    get_all_choices()[0]\n",
    ")  # [18:13] B&O runs a 4 train for $140: K13-J14-I15-H18\n",
    "# [18:13] B&O runs a 3 train for $120: I15-H10-F2\n",
    "g.process_action(\n",
    "    get_all_choices()[0]\n",
    ")  # [18:13] B&O pays out $260 = $26 per share ($130 to Player 4, $104 to Player 3, $26 to Player 1)\n",
    "# [18:13] B&O's share price moves right from $100 to $112\n",
    "# [18:13] B&O passes buy trains\n",
    "# [18:13] B&O skips buy companies\n",
    "\n",
    "\n",
    "# [18:13] Player 2 operates ERIE\n",
    "# [18:13] ERIE places a token on E11\n",
    "g.process_action(\n",
    "    get_all_choices()[2]\n",
    ")  # [18:13] ERIE lays tile #59 with rotation 3 on E11 (Dunkirk & Buffalo)\n",
    "# [18:13] ERIE must choose city for token\n",
    "g.process_action(\n",
    "    get_all_choices()[1]\n",
    ")  # [18:13] ERIE places a token on E11 (Dunkirk & Buffalo)\n",
    "# [18:13] ERIE skips place a token\n",
    "# [18:13] ERIE skips run routes\n",
    "# [18:13] ERIE does not run\n",
    "# [18:13] ERIE's share price moves left from $100 to $90\n",
    "g.process_action(\n",
    "    get_all_choices()[0]\n",
    ")  # [18:13] ERIE buys a 4 train for $300 from The Depot\n",
    "g.process_action(\n",
    "    get_all_choices()[0]\n",
    ")  # [18:13] ERIE buys a 5 train for $450 from The Depot\n",
    "# [18:13] -- Phase 5 (Operating Rounds: 3 | Train Limit: 2 | Available Tiles: Yellow, Green, Brown) --\n",
    "# [18:13] -- Event: Private companies close --\n",
    "# [18:13] ERIE skips buy companies\n",
    "\n",
    "\n",
    "# [18:13] Player 2 operates C&O\n",
    "g.process_action(\n",
    "    get_all_choices()[-4]\n",
    ")  # [18:16] C&O lays tile #66 with rotation 0 on H18 (Philadelphia & Trenton)\n",
    "# [18:16] C&O skips place a token\n",
    "g.process_action(\n",
    "    get_all_choices()[0]\n",
    ")  # [18:16] C&O runs a 3 train for $160: G19-H18-I15\n",
    "g.process_action(get_all_choices()[1])  # [18:16] C&O withholds $160\n",
    "# [18:16] C&O's share price moves left from $90 to $82\n",
    "g.process_action(\n",
    "    get_all_choices()[474]\n",
    ")  # [18:17] C&O buys a 5 train for $200 from ERIE\n",
    "# [18:17] C&O skips buy companies\n",
    "\n",
    "\n",
    "# [18:17] Player 3 operates NYNH\n",
    "g.process_action(\n",
    "    get_all_choices()[0]\n",
    ")  # [18:19] NYNH lays tile #63 with rotation 0 on E19 (Albany)\n",
    "# [18:19] NYNH skips place a token\n",
    "g.process_action(\n",
    "    get_all_choices()[0]\n",
    ")  # [18:19] NYNH runs a 4 train for $100: G19-F20-F22-F24\n",
    "# [18:19] NYNH runs a 3 train for $150: G19-E19-E23\n",
    "g.process_action(\n",
    "    get_all_choices()[0]\n",
    ")  # [18:21] NYNH pays out $250 = $25 per share ($125 to Player 2, $125 to Player 3)\n",
    "# [18:21] NYNH's share price moves right from $90 to $100\n",
    "# [18:21] NYNH skips buy trains\n",
    "# [18:21] NYNH skips buy companies\n",
    "\n",
    "\n",
    "# [18:21] Player 1 operates NYC\n",
    "g.process_action(\n",
    "    get_all_choices()[8]\n",
    ")  # [18:21] NYC lays tile #62 with rotation 0 on G19 (New York & Newark)\n",
    "g.process_action(\n",
    "    get_all_choices()[3]\n",
    ")  # [18:21] NYC places a token on H18 (Philadelphia & Trenton) for $100\n",
    "g.process_action(\n",
    "    get_all_choices()[0]\n",
    ")  # [18:21] NYC runs a 3 train for $170: G19-E19-E23\n",
    "# [18:21] NYC runs a 3 train for $180: G19-H18-I15\n",
    "g.process_action(get_all_choices()[1])  # [18:21] NYC withholds $350\n",
    "# [18:21] NYC's share price moves left from $69 to $67\n",
    "# [18:21] NYC skips buy trains\n",
    "# [18:21] NYC skips buy companies\n",
    "\n",
    "\n",
    "# [18:21] -- Operating Round 5.2 (of 2) --\n",
    "# [18:21] Player 1 operates PRR\n",
    "g.process_action(\n",
    "    get_all_choices()[-3]\n",
    ")  # [18:21] PRR lays tile #9 with rotation 0 on G11\n",
    "# [18:21] PRR skips place a token\n",
    "g.process_action(\n",
    "    get_all_choices()[0]\n",
    ")  # [18:21] PRR runs a 4 train for $160: F2-H10-H12-I15\n",
    "g.process_action(get_all_choices()[1])  # [18:21] PRR withholds $160\n",
    "# [18:21] PRR's share price moves left from $142 to $126\n",
    "g.process_action(get_all_choices()[-1])  # [18:21] PRR passes buy trains\n",
    "# [18:21] PRR skips buy companies\n",
    "\n",
    "\n",
    "# [18:21] Player 4 operates B&O\n",
    "g.process_action(\n",
    "    get_all_choices()[6]\n",
    ")  # [18:22] B&O lays tile #61 with rotation 0 on I15 (Baltimore)\n",
    "# [18:22] B&O skips place a token\n",
    "g.process_action(\n",
    "    get_all_choices()[0]\n",
    ")  # [18:22] B&O runs a 4 train for $170: K13-J14-I15-H18\n",
    "# [18:22] B&O runs a 3 train for $160: I15-H10-F2\n",
    "g.process_action(get_all_choices()[1])  # [18:22] B&O withholds $330\n",
    "# [18:22] B&O's share price moves left from $112 to $100\n",
    "# [18:22] B&O skips buy trains\n",
    "# [18:22] B&O skips buy companies\n",
    "\n",
    "\n",
    "# [18:22] Player 3 operates NYNH\n",
    "g.process_action(\n",
    "    get_all_choices()[5]\n",
    ")  # [18:22] NYNH lays tile #8 with rotation 5 on D18\n",
    "# [18:22] NYNH skips place a token\n",
    "g.process_action(\n",
    "    get_all_choices()[0]\n",
    ")  # [18:22] NYNH runs a 4 train for $120: G19-F20-F22-F24\n",
    "# [18:22] NYNH runs a 3 train for $170: G19-E19-E23\n",
    "g.process_action(\n",
    "    get_all_choices()[0]\n",
    ")  # [18:22] NYNH pays out $290 = $29 per share ($145 to Player 2, $145 to Player 3)\n",
    "# [18:22] NYNH's share price moves right from $100 to $111\n",
    "# [18:22] NYNH skips buy trains\n",
    "# [18:22] NYNH skips buy companies\n",
    "\n",
    "\n",
    "# [18:22] Player 2 operates ERIE\n",
    "g.process_action(\n",
    "    get_all_choices()[5]\n",
    ")  # [18:22] ERIE lays tile #8 with rotation 2 on F12\n",
    "# [18:22] ERIE skips place a token\n",
    "g.process_action(get_all_choices()[0])  # [18:22] ERIE runs a 4 train for $70: E11-F16\n",
    "g.process_action(\n",
    "    get_all_choices()[0]\n",
    ")  # [18:23] ERIE pays out $70 = $7 per share ($28 to Player 2, $28 to Player 4, $7 to Player 1, $7 to Player 3)\n",
    "# [18:23] ERIE's share price moves right from $90 to $100\n",
    "g.process_action(\n",
    "    get_all_choices()[0]\n",
    ")  # [18:23] ERIE buys a 5 train for $450 from The Depot\n",
    "# [18:23] ERIE skips buy companies\n",
    "\n",
    "\n",
    "# [18:23] Player 2 operates C&O\n",
    "g.process_action(\n",
    "    get_all_choices()[-3]\n",
    ")  # [18:23] C&O lays tile #68 with rotation 2 on E11 (Dunkirk & Buffalo)\n",
    "# [18:23] C&O skips place a token\n",
    "g.process_action(\n",
    "    get_all_choices()[0]\n",
    ")  # [18:23] C&O runs a 5 train for $220: E11-F16-G17-G19-H18\n",
    "# [18:23] C&O runs a 3 train for $110: F2-F6-G7\n",
    "g.process_action(\n",
    "    get_all_choices()[0]\n",
    ")  # [18:23] C&O pays out $330 = $33 per share ($198 to Player 2, $99 to Player 1, $33 to Player 4)\n",
    "# [18:23] C&O's share price moves right from $82 to $90\n",
    "# [18:23] C&O skips buy trains\n",
    "# [18:23] C&O skips buy companies\n",
    "\n",
    "\n",
    "# [18:23] Player 1 operates NYC\n",
    "g.process_action(\n",
    "    get_all_choices()[41]\n",
    ")  # [18:23] NYC lays tile #9 with rotation 1 on D16\n",
    "g.process_action(get_all_choices()[-1])  # [18:23] NYC passes place a token\n",
    "g.process_action(\n",
    "    get_all_choices()[0]\n",
    ")  # [18:23] NYC runs a 3 train for $170: G19-E19-E23\n",
    "# [18:23] NYC runs a 3 train for $190: G19-H18-I15\n",
    "g.process_action(get_all_choices()[1])  # [18:23] NYC withholds $360\n",
    "# [18:23] NYC's share price moves left from $67 to $63\n",
    "# [18:23] NYC skips buy trains\n",
    "# [18:23] NYC skips buy companies"
   ]
  },
  {
   "cell_type": "code",
   "execution_count": null,
   "id": "56f5fcdb-ae60-474e-ac8d-4afee62c70aa",
   "metadata": {},
   "outputs": [],
   "source": [
    "print_summary()"
   ]
  },
  {
   "cell_type": "markdown",
   "id": "4af2dbc5-6056-4906-acfc-b0367d8227bd",
   "metadata": {},
   "source": [
    "## Stock Round 6"
   ]
  },
  {
   "cell_type": "code",
   "execution_count": null,
   "id": "10bb3c6c-4626-41b8-8649-a0ce9481c91c",
   "metadata": {},
   "outputs": [],
   "source": [
    "g.process_action(get_all_choices()[0])  # [19:11] Player 1 pars B&M at $100\n",
    "# [19:11] Player 1 buys a 20% share of B&M from the IPO for $200\n",
    "# [19:11] Player 1 becomes the president of B&M\n",
    "g.process_action(get_all_choices()[-1])  # [19:11] Player 1 declines to sell shares\n",
    "g.process_action(get_all_choices()[1])  # [19:12] Player 2 pars CPR at $100\n",
    "# [19:12] Player 2 buys a 20% share of CPR from the IPO for $200\n",
    "# [19:12] Player 2 becomes the president of CPR\n",
    "g.process_action(\n",
    "    get_all_choices()[9]\n",
    ")  # [19:13] Player 2 sells a 10% share of NYNH and receives $111\n",
    "# [19:13] NYNH's share price moves down from $111 to $100\n",
    "g.process_action(get_all_choices()[-1])\n",
    "g.process_action(\n",
    "    get_all_choices()[2]\n",
    ")  # [19:14] Player 3 buys a 10% share of CPR from the IPO for $100\n",
    "g.process_action(get_all_choices()[-1])  # [19:14] Player 3 declines to sell shares\n",
    "g.process_action(\n",
    "    get_all_choices()[2]\n",
    ")  # [19:14] Player 4 buys a 10% share of CPR from the IPO for $100\n",
    "g.process_action(get_all_choices()[-1])  # [19:14] Player 4 declines to sell shares\n",
    "g.process_action(\n",
    "    get_all_choices()[2]\n",
    ")  # [19:15] Player 1 sells 3 shares of PRR and receives $378\n",
    "# [19:15] Player 4 becomes the president of PRR\n",
    "# [19:15] PRR's share price moves down from $126 to $90\n",
    "g.process_action(\n",
    "    get_all_choices()[-2]\n",
    ")  # [19:15] Player 1 sells a 10% share of ERIE and receives $100\n",
    "# [19:15] ERIE's share price moves down from $100 to $90\n",
    "g.process_action(\n",
    "    get_all_choices()[1]\n",
    ")  # [19:15] Player 1 buys a 10% share of B&M from the IPO for $100\n",
    "g.process_action(get_all_choices()[-1])\n",
    "g.process_action(\n",
    "    get_all_choices()[3]\n",
    ")  # [19:15] Player 2 buys a 10% share of ERIE from the market for $90\n",
    "g.process_action(get_all_choices()[-1])  # [19:15] Player 2 declines to sell shares\n",
    "g.process_action(\n",
    "    get_all_choices()[0]\n",
    ")  # [19:15] Player 3 buys a 10% share of NYNH from the market for $100\n",
    "g.process_action(get_all_choices()[-1])  # [19:15] Player 3 declines to sell shares\n",
    "g.process_action(\n",
    "    get_all_choices()[1]\n",
    ")  # [19:15] Player 4 buys a 10% share of CPR from the IPO for $100\n",
    "g.process_action(get_all_choices()[-1])  # [19:15] Player 4 declines to sell shares\n",
    "g.process_action(\n",
    "    get_all_choices()[0]\n",
    ")  # [19:15] Player 1 buys a 10% share of B&M from the IPO for $100\n",
    "g.process_action(get_all_choices()[-1])  # [19:16] Player 1 declines to sell shares\n",
    "g.process_action(\n",
    "    get_all_choices()[1]\n",
    ")  # [19:16] Player 2 buys a 10% share of CPR from the IPO for $100\n",
    "# [19:16] CPR floats\n",
    "# [19:16] CPR receives $1000\n",
    "g.process_action(get_all_choices()[-1])  # [19:16] Player 2 declines to sell shares\n",
    "g.process_action(\n",
    "    get_all_choices()[2]\n",
    ")  # [19:16] Player 3 buys a 10% share of PRR from the market for $90\n",
    "g.process_action(get_all_choices()[-1])  # [19:16] Player 3 declines to sell shares\n",
    "g.process_action(get_all_choices()[-1])  # [19:16] Player 4 passes\n",
    "g.process_action(\n",
    "    get_all_choices()[0]\n",
    ")  # [19:16] Player 1 buys a 10% share of B&M from the IPO for $100\n",
    "g.process_action(get_all_choices()[-1])  # [19:16] Player 1 declines to sell shares\n",
    "g.process_action(\n",
    "    get_all_choices()[1]\n",
    ")  # [19:16] Player 2 buys a 10% share of CPR from the IPO for $100\n",
    "g.process_action(get_all_choices()[-1])  # [19:17] Player 2 declines to sell shares\n",
    "g.process_action(\n",
    "    get_all_choices()[1]\n",
    ")  # [19:18] Player 3 buys a 10% share of CPR from the IPO for $100\n",
    "g.process_action(get_all_choices()[-1])  # [19:18] Player 3 declines to sell shares\n",
    "g.process_action(get_all_choices()[-1])  # [19:18] Player 4 passes\n",
    "g.process_action(\n",
    "    get_all_choices()[0]\n",
    ")  # [19:18] Player 1 buys a 10% share of B&M from the IPO for $100\n",
    "# [19:18] B&M floats\n",
    "# [19:18] B&M receives $1000\n",
    "g.process_action(get_all_choices()[-1])  # [19:18] Player 1 declines to sell shares\n",
    "g.process_action(\n",
    "    get_all_choices()[-4]\n",
    ")  # [19:18] Player 2 sells 2 shares of NYNH and receives $200\n",
    "# [19:18] NYNH's share price moves down from $100 to $80\n",
    "g.process_action(\n",
    "    get_all_choices()[1]\n",
    ")  # [19:18] Player 2 buys a 10% share of CPR from the IPO for $100\n",
    "g.process_action(get_all_choices()[-1])\n",
    "g.process_action(get_all_choices()[-1])  # [19:19] Player 3 passes\n",
    "g.process_action(get_all_choices()[-1])  # [19:19] Player 4 passes\n",
    "g.process_action(get_all_choices()[-1])  # [19:19] Player 1 passes\n",
    "g.process_action(\n",
    "    get_all_choices()[1]\n",
    ")  # [19:19] Player 2 buys a 10% share of CPR from the IPO for $100\n",
    "g.process_action(get_all_choices()[-1])  # [19:19] Player 2 declines to sell shares\n",
    "g.process_action(get_all_choices()[-1])  # [19:19] Player 3 passes\n",
    "g.process_action(get_all_choices()[-1])  # [19:19] Player 4 passes\n",
    "g.process_action(get_all_choices()[-1])  # [19:19] Player 1 passes\n",
    "g.process_action(get_all_choices()[-1])  # [19:19] Player 2 passes"
   ]
  },
  {
   "cell_type": "code",
   "execution_count": null,
   "id": "bfb0e426-8f9e-4f3a-b32c-2418201d57db",
   "metadata": {},
   "outputs": [],
   "source": [
    "print_summary()"
   ]
  },
  {
   "cell_type": "markdown",
   "id": "b2fe605d-3e76-4a45-9980-a22f0a243611",
   "metadata": {},
   "source": [
    "## Operating Round 6"
   ]
  },
  {
   "cell_type": "markdown",
   "id": "d4e7e171-6902-410a-aaf0-a5c47078ff3e",
   "metadata": {},
   "source": [
    "### 6.1"
   ]
  },
  {
   "cell_type": "code",
   "execution_count": null,
   "id": "ba8e318a-5ff1-4359-abe1-1fe63177a0fa",
   "metadata": {},
   "outputs": [],
   "source": [
    "# [19:19] Player 2 operates C&O\n",
    "g.process_action(\n",
    "    get_all_choices()[10]\n",
    ")  # [19:21] C&O lays tile #9 with rotation 1 on G9\n",
    "# [19:21] C&O skips place a token\n",
    "g.process_action(\n",
    "    get_all_choices()[0]\n",
    ")  # [19:21] C&O runs a 5 train for $220: E11-F16-G17-G19-H18\n",
    "# [19:21] C&O runs a 3 train for $110: F2-F6-G7\n",
    "g.process_action(\n",
    "    get_all_choices()[0]\n",
    ")  # [19:21] C&O pays out $330 = $33 per share ($198 to Player 2, $99 to Player 1, $33 to Player 4)\n",
    "# [19:21] C&O's share price moves right from $100 to $111\n",
    "# [19:21] C&O skips buy trains\n",
    "# [19:21] C&O skips buy companies\n",
    "\n",
    "\n",
    "# [19:21] Player 4 operates B&O\n",
    "g.process_action(\n",
    "    get_all_choices()[28]\n",
    ")  # [19:22] B&O lays tile #46 with rotation 5 on G5\n",
    "g.process_action(get_all_choices()[-1])  # [19:22] B&O passes place a token\n",
    "g.process_action(\n",
    "    get_all_choices()[0]\n",
    ")  # [19:22] B&O runs a 4 train for $170: K13-J14-I15-H18\n",
    "# [19:22] B&O runs a 3 train for $160: I15-H10-F2\n",
    "g.process_action(get_all_choices()[1])  # [19:22] B&O withholds $330\n",
    "# [19:22] B&O's share price moves left from $100 to $90\n",
    "# [19:22] B&O skips buy trains\n",
    "# [19:22] B&O skips buy companies\n",
    "\n",
    "\n",
    "# [19:22] Player 1 operates B&M\n",
    "# [19:22] B&M places a token on E23\n",
    "g.process_action(\n",
    "    get_all_choices()[11]\n",
    ")  # [19:24] B&M lays tile #45 with rotation 4 on E21\n",
    "g.process_action(get_all_choices()[-1])  # [19:24] B&M passes place a token\n",
    "# [19:24] B&M skips run routes\n",
    "# [19:24] B&M does not run\n",
    "# [19:24] B&M's share price moves left from $100 to $90\n",
    "g.process_action(\n",
    "    get_all_choices()[0]\n",
    ")  # [19:24] B&M buys a 5 train for $450 from The Depot\n",
    "g.process_action(get_all_choices()[-1])  # [19:24] B&M passes buy trains\n",
    "# [19:24] B&M skips buy companies\n",
    "\n",
    "\n",
    "# [19:24] Player 2 operates CPR\n",
    "# [19:24] CPR places a token on A19\n",
    "g.process_action(\n",
    "    get_all_choices()[-3]\n",
    ")  # [19:24] CPR spends $80 and lays tile #9 with rotation 0 on B18\n",
    "# [19:24] CPR skips place a token\n",
    "# [19:24] CPR skips run routes\n",
    "# [19:24] CPR does not run\n",
    "# [19:24] CPR's share price moves left from $100 to $90\n",
    "g.process_action(\n",
    "    get_all_choices()[0]\n",
    ")  # [19:24] CPR buys a 6 train for $630 from The Depot\n",
    "# [19:24] -- Phase 6 (Operating Rounds: 3 | Train Limit: 2 | Available Tiles: Yellow, Green, Brown) --\n",
    "# [19:24] -- Event: 3 trains rust ( C&O x1, NYC x2, NYNH x1, B&O x1) --\n",
    "g.process_action(get_all_choices()[-1])  # [19:25] CPR passes buy trains\n",
    "# [19:25] CPR skips buy companies\n",
    "\n",
    "\n",
    "# [19:25] Player 2 operates ERIE\n",
    "g.process_action(\n",
    "    get_all_choices()[6]\n",
    ")  # [19:25] ERIE lays tile #25 with rotation 2 on F12\n",
    "# [19:25] ERIE skips place a token\n",
    "g.process_action(get_all_choices()[0])  # [19:25] ERIE runs a 5 train for $80: E11-H10\n",
    "g.process_action(get_all_choices()[1])  # [19:25] ERIE withholds $80\n",
    "# [19:25] ERIE's share price moves left from $100 to $90\n",
    "# [19:25] ERIE skips buy trains\n",
    "# [19:25] ERIE skips buy companies\n",
    "\n",
    "\n",
    "# [19:25] Player 4 operates PRR\n",
    "g.process_action(\n",
    "    get_all_choices()[8]\n",
    ")  # [19:26] PRR lays tile #23 with rotation 1 on H14\n",
    "# [19:26] PRR skips place a token\n",
    "g.process_action(\n",
    "    get_all_choices()[0]\n",
    ")  # [19:26] PRR runs a 4 train for $170: F2-H10-H12-I15\n",
    "g.process_action(get_all_choices()[1])  # [19:27] PRR withholds $170\n",
    "# [19:27] PRR's share price moves left from $90 to $82\n",
    "g.process_action(get_all_choices()[-1])  # [19:27] PRR passes buy trains\n",
    "# [19:27] PRR skips buy companies\n",
    "\n",
    "\n",
    "# [19:27] Player 3 operates NYNH\n",
    "g.process_action(\n",
    "    get_all_choices()[20]\n",
    ")  # [19:27] NYNH lays tile #8 with rotation 4 on D12\n",
    "# [19:27] NYNH skips place a token\n",
    "g.process_action(\n",
    "    get_all_choices()[0]\n",
    ")  # [19:27] NYNH runs a 4 train for $190: G19-E19-D14-E11\n",
    "g.process_action(get_all_choices()[1])  # [19:27] NYNH withholds $190\n",
    "# [19:27] NYNH's share price moves left from $80 to $75\n",
    "# [19:27] NYNH passes buy trains\n",
    "# [19:27] NYNH skips buy companies\n",
    "\n",
    "\n",
    "# [19:27] Player 1 operates NYC\n",
    "g.process_action(\n",
    "    get_all_choices()[-10]\n",
    ")  # [19:27] NYC lays tile #40 with rotation 0 on F12\n",
    "g.process_action(get_all_choices()[-1])  # [19:27] NYC passes place a token\n",
    "# [19:27] NYC skips run routes\n",
    "# [19:27] NYC does not run\n",
    "# [19:27] NYC's share price moves left from $65 to $58\n",
    "g.process_action(\n",
    "    get_all_choices()[0]\n",
    ")  # [19:27] NYC buys a 6 train for $630 from The Depot\n",
    "g.process_action(get_all_choices()[-1])  # [19:28] NYC passes buy trains\n",
    "# [19:28] NYC skips buy companies"
   ]
  },
  {
   "cell_type": "code",
   "execution_count": null,
   "id": "3af4d740-17b0-421c-a26e-4c5b4f492290",
   "metadata": {},
   "outputs": [],
   "source": [
    "print_summary()"
   ]
  },
  {
   "cell_type": "markdown",
   "id": "f122d6cb-aec5-436b-b4e5-a006c3e58fc1",
   "metadata": {},
   "source": [
    "### 6.2"
   ]
  },
  {
   "cell_type": "code",
   "execution_count": null,
   "id": "5874b322-02b8-4b1c-b590-c715f21ef0b5",
   "metadata": {},
   "outputs": [],
   "source": [
    "# [19:28] Player 2 operates C&O\n",
    "g.process_action(\n",
    "    get_all_choices()[24]\n",
    ")  # [20:27] C&O lays tile #23 with rotation 3 on G11\n",
    "# [20:27] C&O skips place a token\n",
    "g.process_action(\n",
    "    get_all_choices()[0]\n",
    ")  # [20:27] C&O runs a 5 train for $220: E11-F16-G17-G19-H18\n",
    "g.process_action(\n",
    "    get_all_choices()[0]\n",
    ")  # [20:27] C&O pays out $220 = $22 per share ($132 to Player 2, $66 to Player 1, $22 to Player 4)\n",
    "# [20:27] C&O's share price moves right from $111 to $125\n",
    "g.process_action(get_all_choices()[-1])  # [20:27] C&O passes buy trains\n",
    "# [20:27] C&O skips buy companies\n",
    "\n",
    "\n",
    "# [20:27] Player 4 operates B&O\n",
    "g.process_action(\n",
    "    get_all_choices()[42]\n",
    ")  # [20:27] B&O lays tile #43 with rotation 0 on G11\n",
    "g.process_action(get_all_choices()[-1])  # [20:28] B&O passes place a token\n",
    "g.process_action(\n",
    "    get_all_choices()[0]\n",
    ")  # [20:28] B&O runs a 4 train for $210: F2-H10-I15-H18\n",
    "g.process_action(get_all_choices()[1])  # [20:28] B&O withholds $210\n",
    "# [20:28] B&O's share price moves left from $90 to $82\n",
    "g.process_action(\n",
    "    get_all_choices()[-2]\n",
    ")  # [20:28] B&O exchanges a 4 for a D train for $800 from The Depot\n",
    "# [20:28] -- Phase D (Operating Rounds: 3 | Train Limit: 2 | Available Tiles: Yellow, Green, Brown) --\n",
    "# [20:28] -- Event: 4 trains rust ( The Depot x1, PRR x1, NYNH x1, ERIE x1) --\n",
    "# [20:28] B&O passes buy trains\n",
    "# [20:28] B&O skips buy companies\n",
    "\n",
    "\n",
    "# [20:28] Player 1 operates B&M\n",
    "g.process_action(\n",
    "    get_all_choices()[11]\n",
    ")  # [20:28] B&M lays tile #8 with rotation 5 on D20\n",
    "g.process_action(get_all_choices()[-1])  # [20:28] B&M passes place a token\n",
    "g.process_action(\n",
    "    get_all_choices()[0]\n",
    ")  # [20:28] B&M runs a 5 train for $170: E23-F24-F22-F20-G19\n",
    "g.process_action(\n",
    "    get_all_choices()[0]\n",
    ")  # [20:28] B&M pays out $170 = $17 per share ($102 to Player 1)\n",
    "# [20:28] B&M's share price moves right from $90 to $100\n",
    "g.process_action(get_all_choices()[-1])  # [20:28] B&M passes buy trains\n",
    "# [20:28] B&M skips buy companies\n",
    "\n",
    "\n",
    "# [20:28] Player 2 operates CPR\n",
    "g.process_action(\n",
    "    get_all_choices()[-3]\n",
    ")  # [20:28] CPR spends $120 and lays tile #9 with rotation 0 on C17\n",
    "# [20:28] CPR skips place a token\n",
    "g.process_action(get_all_choices()[0])  # [20:29] CPR runs a 6 train for $50: A19-B20\n",
    "g.process_action(\n",
    "    get_all_choices()[0]\n",
    ")  # [20:29] CPR pays out $50 = $5 per share ($30 to Player 2, $10 to Player 3, $10 to Player 4)\n",
    "# [20:29] CPR's share price moves right from $90 to $100\n",
    "g.process_action(get_all_choices()[-1])  # [20:29] CPR passes buy trains\n",
    "# [20:29] CPR skips buy companies\n",
    "\n",
    "\n",
    "# [20:29] Player 2 operates ERIE\n",
    "g.process_action(\n",
    "    get_all_choices()[0]\n",
    ")  # [20:29] ERIE spends $80 and lays tile #59 with rotation 3 on D10 (Hamilton & Toronto)\n",
    "# [20:29] ERIE skips place a token\n",
    "g.process_action(\n",
    "    get_all_choices()[0]\n",
    ")  # [20:29] ERIE runs a 5 train for $130: D10-E11-G7-F6\n",
    "g.process_action(\n",
    "    get_all_choices()[0]\n",
    ")  # [20:29] ERIE pays out $130 = $13 per share ($65 to Player 2, $52 to Player 4, $13 to Player 3)\n",
    "# [20:29] ERIE's share price moves right from $90 to $100\n",
    "# [20:29] ERIE skips buy trains\n",
    "# [20:29] ERIE skips buy companies\n",
    "\n",
    "\n",
    "# [20:29] Player 4 operates PRR\n",
    "g.process_action(\n",
    "    get_all_choices()[11]\n",
    ")  # [20:29] PRR lays tile #57 with rotation 1 on H16 (Lancaster)\n",
    "g.process_action(get_all_choices()[-1])  # [20:29] PRR passes place a token\n",
    "# [20:29] PRR skips run routes\n",
    "# [20:29] PRR does not run\n",
    "# [20:29] PRR's share price moves left from $82 to $76\n",
    "g.process_action(\n",
    "    get_all_choices()[440]\n",
    ")  # [20:30] Player 4 sells 4 shares of ERIE and receives $400\n",
    "# [20:30] ERIE's share price moves down from $100 to $71\n",
    "g.process_action(\n",
    "    get_all_choices()[433]\n",
    ")  # [20:30] Player 4 sells a 10% share of CPR and receives $100\n",
    "# [20:30] CPR's share price moves down from $100 to $90\n",
    "g.process_action(get_all_choices()[0])  # [20:30] Player 4 contributes $670\n",
    "# [20:30] PRR buys a D train for $1100 from The Depot\n",
    "# [20:30] PRR skips buy companies\n",
    "\n",
    "\n",
    "# [20:30] Player 3 operates NYNH\n",
    "g.process_action(\n",
    "    get_all_choices()[37]\n",
    ")  # [20:30] NYNH lays tile #58 with rotation 3 on F10 (Erie)\n",
    "# [20:30] NYNH skips place a token\n",
    "# [20:30] NYNH skips run routes\n",
    "# [20:30] NYNH does not run\n",
    "# [20:30] NYNH's share price moves left from $75 to $71\n",
    "g.process_action(\n",
    "    get_all_choices()[9]\n",
    ")  # [20:31] Player 3 sells 4 shares of B&O and receives $328\n",
    "# [20:31] B&O's share price moves down from $82 to $62\n",
    "g.process_action(\n",
    "    get_all_choices()[5]\n",
    ")  # [20:31] Player 3 sells 2 shares of CPR and receives $180\n",
    "# [20:31] CPR's share price moves down from $90 to $76\n",
    "g.process_action(\n",
    "    get_all_choices()[4]\n",
    ")  # [20:31] Player 3 sells a 10% share of ERIE and receives $71\n",
    "# [20:31] ERIE's share price moves down from $71 to $67\n",
    "g.process_action(\n",
    "    get_all_choices()[3]\n",
    ")  # [20:31] Player 3 sells 3 shares of NYC and receives $174\n",
    "# [20:31] NYC's share price moves down from $58 to $40\n",
    "g.process_action(\n",
    "    get_all_choices()[0]\n",
    ")  # [20:31] Player 3 sells a 10% share of PRR and receives $76\n",
    "# [20:31] PRR's share price moves down from $76 to $71\n",
    "g.process_action(get_all_choices()[0])  # [20:31] Player 3 contributes $860\n",
    "# [20:31] NYNH buys a D train for $1100 from The Depot\n",
    "# [20:31] NYNH skips buy companies\n",
    "\n",
    "\n",
    "# [20:31] Player 1 operates NYC\n",
    "g.process_action(\n",
    "    get_all_choices()[56]\n",
    ")  # [20:31] NYC lays tile #24 with rotation 4 on G9\n",
    "g.process_action(\n",
    "    get_all_choices()[3]\n",
    ")  # [20:32] NYC places a token on E11 (Dunkirk & Buffalo) for $100\n",
    "g.process_action(\n",
    "    get_all_choices()[0]\n",
    ")  # [20:32] NYC runs a 6 train for $280: I15-H18-G19-G17-F16-E11\n",
    "g.process_action(\n",
    "    get_all_choices()[0]\n",
    ")  # [20:32] NYC pays out $280 = $28 per share ($140 to Player 1, $84 to NYC, $56 to Player 4)\n",
    "# [20:32] NYC's share price moves right from $40 to $50\n",
    "g.process_action(get_all_choices()[-1])  # [20:32] NYC passes buy trains\n",
    "# [20:32] NYC skips buy companies"
   ]
  },
  {
   "cell_type": "code",
   "execution_count": null,
   "id": "23efe4c1-2d89-44d5-b191-eee09dde0de0",
   "metadata": {},
   "outputs": [],
   "source": [
    "print_summary()"
   ]
  },
  {
   "cell_type": "markdown",
   "id": "c4b3eaef-67f2-4e0a-8857-5a576db43b84",
   "metadata": {},
   "source": [
    "### 6.3"
   ]
  },
  {
   "cell_type": "code",
   "execution_count": null,
   "id": "7234ff4e-821a-4c5b-866d-bab956a8555f",
   "metadata": {},
   "outputs": [],
   "source": [
    "# [20:32] Player 2 operates C&O\n",
    "g.process_action(\n",
    "    get_all_choices()[52]\n",
    ")  # [21:35] C&O lays tile #24 with rotation 1 on H8\n",
    "# [21:35] C&O skips place a token\n",
    "router.debug = True\n",
    "g.process_action(\n",
    "    get_all_choices()[0]\n",
    ")  # [21:36] C&O runs a 5 train for $240: F2-F16-G17-G19-H18\n",
    "g.process_action(\n",
    "    get_all_choices()[0]\n",
    ")  # [21:36] C&O pays out $240 = $24 per share ($144 to Player 2, $72 to Player 1, $24 to Player 4)\n",
    "# [21:36] C&O's share price moves right from $125 to $140\n",
    "g.process_action(get_all_choices()[-1])  # [21:36] C&O passes buy trains\n",
    "# [21:36] C&O skips buy companies\n",
    "\n",
    "\n",
    "# [21:36] Player 1 operates B&M\n",
    "g.process_action(\n",
    "    get_all_choices()[17]\n",
    ")  # [21:36] B&M lays tile #23 with rotation 1 on D18\n",
    "g.process_action(\n",
    "    get_all_choices()[-1]\n",
    ")  # [21:36] B&M places a token on D14 (Rochester) for $40\n",
    "g.process_action(\n",
    "    get_all_choices()[0]\n",
    ")  # [21:36] B&M runs a 5 train for $170: E23-F24-F22-F20-G19\n",
    "g.process_action(\n",
    "    get_all_choices()[0]\n",
    ")  # [21:36] B&M pays out $170 = $17 per share ($102 to Player 1)\n",
    "# [21:36] B&M's share price moves right from $100 to $112\n",
    "g.process_action(get_all_choices()[-1])  # [21:36] B&M passes buy trains\n",
    "# [21:36] B&M skips buy companies\n",
    "\n",
    "\n",
    "# [21:36] Player 2 operates CPR\n",
    "g.process_action(\n",
    "    get_all_choices()[27]\n",
    ")  # [21:36] CPR lays tile #20 with rotation 0 on D16\n",
    "# [21:36] CPR skips place a token\n",
    "g.process_action(get_all_choices()[0])  # [21:36] CPR runs a 6 train for $50: A19-B20\n",
    "g.process_action(\n",
    "    get_all_choices()[0]\n",
    ")  # [21:36] CPR pays out $50 = $5 per share ($30 to Player 2, $15 to CPR, $5 to Player 4)\n",
    "# [21:36] CPR's share price moves right from $76 to $82\n",
    "g.process_action(get_all_choices()[-1])  # [21:36] CPR passes buy trains\n",
    "# [21:36] CPR skips buy companies\n",
    "\n",
    "\n",
    "# [21:36] Player 3 operates NYNH\n",
    "g.process_action(\n",
    "    get_all_choices()[9]\n",
    ")  # [21:37] NYNH lays tile #47 with rotation 0 on D16\n",
    "# [21:37] NYNH skips place a token\n",
    "g.process_action(\n",
    "    get_all_choices()[0]\n",
    ")  # [21:37] NYNH runs a D train for $250: E23-F24-F22-F20-G19-E19-F20-F16\n",
    "g.process_action(\n",
    "    get_all_choices()[0]\n",
    ")  # [21:37] NYNH pays out $250 = $25 per share ($150 to Player 3, $50 to Player 2, $50 to NYNH)\n",
    "# [21:37] NYNH's share price moves right from $71 to $75\n",
    "# [21:37] NYNH passes buy trains\n",
    "# [21:37] NYNH skips buy companies\n",
    "\n",
    "\n",
    "# [21:37] Player 4 operates PRR\n",
    "g.process_action(\n",
    "    get_all_choices()[35]\n",
    ")  # [21:37] PRR lays tile #24 with rotation 1 on F14\n",
    "# [21:37] PRR skips place a token\n",
    "g.process_action(\n",
    "    get_all_choices()[0]\n",
    ")  # [21:37] PRR runs a D train for $180: F2-H10-H12-H16-H18\n",
    "g.process_action(\n",
    "    get_all_choices()[0]\n",
    ")  # [21:37] PRR pays out $180 = $18 per share ($72 to Player 4, $54 to Player 1, $54 to PRR)\n",
    "# [21:37] PRR's share price moves right from $71 to $76\n",
    "g.process_action(get_all_choices()[-1])  # [21:37] PRR passes buy trains\n",
    "# [21:37] PRR skips buy companies\n",
    "\n",
    "\n",
    "# [21:37] Player 2 operates ERIE\n",
    "g.process_action(\n",
    "    get_all_choices()[7]\n",
    ")  # [21:38] ERIE lays tile #67 with rotation 3 on D10 (Hamilton & Toronto)\n",
    "# [21:38] ERIE skips place a token\n",
    "g.process_action(\n",
    "    get_all_choices()[0]\n",
    ")  # [21:38] ERIE runs a 5 train for $170: F2-E11-D10\n",
    "g.process_action(\n",
    "    get_all_choices()[0]\n",
    ")  # [21:38] ERIE pays out $170 = $17 per share ($85 to Player 2, $85 to ERIE)\n",
    "# [21:38] ERIE's share price moves right from $67 to $71\n",
    "g.process_action(get_all_choices()[-1])  # [21:38] ERIE passes buy trains\n",
    "# [21:38] ERIE skips buy companies\n",
    "\n",
    "\n",
    "# [21:38] Player 4 operates B&O\n",
    "g.process_action(\n",
    "    get_all_choices()[36]\n",
    ")  # [21:38] B&O lays tile #9 with rotation 0 on E15\n",
    "g.process_action(get_all_choices()[-1])  # [21:39] B&O passes place a token\n",
    "g.process_action(\n",
    "    get_all_choices()[0]\n",
    ")  # [21:39] B&O runs a D train for $220: F2-H10-I15-J14-K13\n",
    "g.process_action(\n",
    "    get_all_choices()[0]\n",
    ")  # [21:39] B&O pays out $220 = $22 per share ($110 to Player 4, $88 to B&O, $22 to Player 1)\n",
    "# [21:39] B&O's share price moves right from $62 to $67\n",
    "g.process_action(get_all_choices()[-1])  # [21:39] B&O passes buy trains\n",
    "# [21:39] B&O skips buy companies\n",
    "\n",
    "\n",
    "# [21:39] Player 1 operates NYC\n",
    "g.process_action(\n",
    "    get_all_choices()[20]\n",
    ")  # [21:39] NYC lays tile #28 with rotation 0 on D12\n",
    "# [21:39] NYC skips place a token\n",
    "g.process_action(\n",
    "    get_all_choices()[0]\n",
    ")  # [21:39] NYC runs a 6 train for $300: F2-F16-G17-G19-H18-I15\n",
    "g.process_action(\n",
    "    get_all_choices()[0]\n",
    ")  # [21:39] NYC pays out $300 = $30 per share ($150 to Player 1, $90 to NYC, $60 to Player 4)\n",
    "# [21:39] NYC's share price moves right from $50 to $60\n",
    "g.process_action(get_all_choices()[-1])  # [21:39] NYC passes buy trains\n",
    "# [21:39] NYC skips buy companies"
   ]
  },
  {
   "cell_type": "code",
   "execution_count": null,
   "id": "26af1ae9-1b39-4991-b0db-5f44c135b490",
   "metadata": {},
   "outputs": [],
   "source": [
    "print_summary()"
   ]
  },
  {
   "cell_type": "markdown",
   "id": "700f42cd-e3b6-4605-9d47-e7fbb224c94a",
   "metadata": {},
   "source": [
    "## Stock Round 7"
   ]
  },
  {
   "cell_type": "code",
   "execution_count": null,
   "id": "594e0e0d-d27f-44e3-a165-cc4ab9af0c21",
   "metadata": {},
   "outputs": [],
   "source": [
    "g.process_action(\n",
    "    get_all_choices()[5]\n",
    ")  # [21:46] Player 3 buys a 10% share of NYC from the market for $60\n",
    "g.process_action(get_all_choices()[-1])  # [21:46] Player 3 declines to sell shares\n",
    "\n",
    "g.process_action(\n",
    "    get_all_choices()[6]\n",
    ")  # [21:46] Player 4 buys a 10% share of NYC from the market for $60\n",
    "g.process_action(get_all_choices()[-1])  # [21:47] Player 4 declines to sell shares\n",
    "\n",
    "g.process_action(\n",
    "    get_all_choices()[5]\n",
    ")  # [21:47] Player 1 buys a 10% share of NYC from the market for $60\n",
    "g.process_action(get_all_choices()[-1])  # [21:47] Player 1 declines to sell shares\n",
    "\n",
    "g.process_action(get_all_choices()[-1])  # [21:47] Player 2 passes\n",
    "\n",
    "g.process_action(\n",
    "    get_all_choices()[4]\n",
    ")  # [21:47] Player 3 buys a 10% share of B&O from the market for $67\n",
    "g.process_action(get_all_choices()[-1])  # [21:47] Player 3 declines to sell shares\n",
    "\n",
    "g.process_action(\n",
    "    get_all_choices()[5]\n",
    ")  # [21:47] Player 4 buys a 10% share of B&O from the market for $67\n",
    "g.process_action(get_all_choices()[-1])  # [21:47] Player 4 declines to sell shares\n",
    "\n",
    "g.process_action(\n",
    "    get_all_choices()[4]\n",
    ")  # [21:47] Player 1 buys a 10% share of B&O from the market for $67\n",
    "g.process_action(get_all_choices()[-1])  # [21:47] Player 1 declines to sell shares\n",
    "\n",
    "g.process_action(get_all_choices()[-1])  # [21:48] Player 2 passes\n",
    "\n",
    "g.process_action(get_all_choices()[-1])  # [21:48] Player 3 passes\n",
    "\n",
    "g.process_action(\n",
    "    get_all_choices()[2]\n",
    ")  # [21:48] Player 4 buys a 10% share of PRR from the market for $76\n",
    "g.process_action(get_all_choices()[-1])  # [21:48] Player 4 declines to sell shares\n",
    "\n",
    "# [21:48] Player 1 buys a 10% share of B&O from the market for $67\n",
    "g.process_action(get_all_choices()[-1])  # [21:48] Player 1 declines to sell shares\n",
    "\n",
    "g.process_action(get_all_choices()[-1])  # [21:48] Player 2 passes\n",
    "\n",
    "g.process_action(get_all_choices()[-1])  # [21:48] Player 3 passes\n",
    "\n",
    "# [21:48] Player 4 buys a 10% share of PRR from the market for $76\n",
    "g.process_action(get_all_choices()[-1])  # [21:48] Player 4 declines to sell shares\n",
    "\n",
    "# [21:48] Player 1 buys a 10% share of ERIE from the market for $71\n",
    "g.process_action(get_all_choices()[-1])  # [21:48] Player 1 declines to sell shares\n",
    "\n",
    "g.process_action(get_all_choices()[-1])  # [21:48] Player 2 passes\n",
    "\n",
    "g.process_action(get_all_choices()[-1])  # [21:48] Player 3 passes\n",
    "\n",
    "g.process_action(get_all_choices()[-1])  # [21:48] Player 4 passes\n",
    "\n",
    "# [21:49] Player 1 buys a 10% share of ERIE from the market for $71\n",
    "g.process_action(get_all_choices()[-1])  # [21:49] Player 1 declines to sell shares\n",
    "\n",
    "g.process_action(get_all_choices()[-1])  # [21:49] Player 2 passes\n",
    "\n",
    "g.process_action(get_all_choices()[-1])  # [21:49] Player 3 passes\n",
    "\n",
    "g.process_action(get_all_choices()[-1])  # [21:49] Player 4 passes\n",
    "\n",
    "g.process_action(get_all_choices()[-1])  # [21:49] Player 1 passes"
   ]
  },
  {
   "cell_type": "markdown",
   "id": "f608d6b2-235f-4438-8c45-7f4c58675c53",
   "metadata": {},
   "source": [
    "## WIP"
   ]
  },
  {
   "cell_type": "code",
   "execution_count": null,
   "id": "98a0790b-3eae-4349-a4b7-8238a93e1072",
   "metadata": {},
   "outputs": [],
   "source": [
    "# g.process_action(get_all_choices()[2])"
   ]
  },
  {
   "cell_type": "code",
   "execution_count": null,
   "id": "da969b5c-3e59-49fd-8471-8bb61bfb86df",
   "metadata": {},
   "outputs": [],
   "source": [
    "# g.process_action(get_all_choices()[-1])"
   ]
  },
  {
   "cell_type": "code",
   "execution_count": null,
   "id": "270b7240-fc02-4dd2-adb1-5b8d6a15fbaf",
   "metadata": {},
   "outputs": [],
   "source": [
    "g.current_entity.shares[1].corporation().counts_for_limit()"
   ]
  },
  {
   "cell_type": "code",
   "execution_count": null,
   "id": "31bf426d-abae-4c82-a096-02dcf3da169b",
   "metadata": {},
   "outputs": [],
   "source": [
    "print_summary()"
   ]
  },
  {
   "cell_type": "code",
   "execution_count": null,
   "id": "d58508de-c897-4d7d-8b52-6dd561da5465",
   "metadata": {},
   "outputs": [],
   "source": [
    "# g.debug = True\n",
    "# router.debug = True\n",
    "print(\n",
    "    f\"step: {g.active_step()}, player: {g.current_entity}, purchasing power: {g.buying_power(g.current_entity) if hasattr(g.current_entity, 'cash') else 0}\"\n",
    ")\n",
    "print(f\"possible actions: {get_current_actions()}\")\n",
    "print(f\"company actions: {get_company_actions()}\")\n",
    "get_all_choices_with_index()"
   ]
  },
  {
   "cell_type": "code",
   "execution_count": null,
   "id": "e2920c78-14fc-49a4-b1d4-c30bd4841efc",
   "metadata": {},
   "outputs": [],
   "source": [
    "from rl18xx.game.engine.graph import copy_dict\n",
    "\n",
    "d = {\"a\": [\"a\", \"b\", \"c\"]}\n",
    "\n",
    "d2 = copy_dict(d)\n",
    "\n",
    "print(d)\n",
    "print(d2)\n",
    "d[\"a\"].append(\"d\")\n",
    "print(d)\n",
    "print(d2)"
   ]
  },
  {
   "cell_type": "code",
   "execution_count": null,
   "id": "23a9f82f-29f1-48ba-8b3f-b82a11622ee7",
   "metadata": {},
   "outputs": [],
   "source": []
  },
  {
   "cell_type": "code",
   "execution_count": null,
   "id": "15722762-2474-49a5-8a39-ea5ebe46ecbf",
   "metadata": {},
   "outputs": [],
   "source": []
  },
  {
   "cell_type": "markdown",
   "id": "4ff2a91f-25ca-474c-9d16-187993eb7237",
   "metadata": {},
   "source": [
    "## TODO\n",
    "* Debug auto-router\n",
    "* * Need to keep individual visited history per node and not stop looking when you get to a path you've used already\n",
    "* Finish game"
   ]
  },
  {
   "cell_type": "code",
   "execution_count": null,
   "id": "e9baca7c-8f0e-469d-b51a-135dc30b3781",
   "metadata": {},
   "outputs": [],
   "source": []
  },
  {
   "cell_type": "code",
   "execution_count": null,
   "id": "19214a81-9bab-4464-b0df-7d27985c75f8",
   "metadata": {},
   "outputs": [],
   "source": []
  },
  {
   "cell_type": "code",
   "execution_count": null,
   "id": "836eb4c7-50da-4950-8058-2b5c225404a4",
   "metadata": {},
   "outputs": [],
   "source": [
    "g.log"
   ]
  },
  {
   "cell_type": "code",
   "execution_count": null,
   "id": "7dc4b7b0-3bb6-4848-8fc3-c6625b90490e",
   "metadata": {},
   "outputs": [],
   "source": []
  },
  {
   "cell_type": "code",
   "execution_count": null,
   "id": "f8770213-2e0b-40aa-81f6-a5295dcb23e6",
   "metadata": {},
   "outputs": [],
   "source": []
  },
  {
   "cell_type": "code",
   "execution_count": null,
   "id": "73568a1b-f2fc-4bf7-b225-956bf393bbed",
   "metadata": {},
   "outputs": [],
   "source": []
  },
  {
   "cell_type": "code",
   "execution_count": null,
   "id": "bd135a7f-9698-4e5d-8d10-e57ce659ceee",
   "metadata": {},
   "outputs": [],
   "source": []
  }
 ],
 "metadata": {
  "kernelspec": {
   "display_name": "python3",
   "language": "python",
   "name": "python3"
  }
 },
 "nbformat": 4,
 "nbformat_minor": 5
}
