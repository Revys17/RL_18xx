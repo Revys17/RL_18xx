{
 "cells": [
  {
   "cell_type": "markdown",
   "id": "fbdc7dfc-0d39-4c00-bc43-61fb3aed70ab",
   "metadata": {},
   "source": [
    "# Game Engine"
   ]
  },
  {
   "cell_type": "code",
   "execution_count": null,
   "id": "e27e9763-7bf3-4dfb-b343-4754208a5dfd",
   "metadata": {},
   "outputs": [],
   "source": [
    "# | default_exp game.engine"
   ]
  },
  {
   "cell_type": "code",
   "execution_count": null,
   "id": "b2d7b0ef-4e8f-4976-aa76-e6d34a86fb86",
   "metadata": {},
   "outputs": [
    {
     "name": "stdout",
     "output_type": "stream",
     "text": [
      "The lab_black extension is already loaded. To reload it, use:\n",
      "  %reload_ext lab_black\n"
     ]
    }
   ],
   "source": [
    "# | hide\n",
    "%load_ext lab_black"
   ]
  },
  {
   "cell_type": "code",
   "execution_count": null,
   "id": "518d6541-3593-4ae8-bc07-4b5d7b6a18a8",
   "metadata": {},
   "outputs": [],
   "source": [
    "# | export\n",
    "import importlib\n",
    "import os"
   ]
  },
  {
   "cell_type": "markdown",
   "id": "4b7813dd-603c-4da4-9763-5c2d47f2e9cc",
   "metadata": {},
   "source": [
    "All games are located within the `games` subdirectory."
   ]
  },
  {
   "cell_type": "code",
   "execution_count": null,
   "id": "5d68245c-3b3a-494e-93d2-32af2e0c625c",
   "metadata": {},
   "outputs": [],
   "source": [
    "# | export\n",
    "TITLE_DIR = \"engine/game/titles\"\n",
    "TITLE_MODULE = \"rl18xx.game.engine.game.title\""
   ]
  },
  {
   "cell_type": "code",
   "execution_count": null,
   "id": "0f2ffa3a-28bd-4a82-b23b-19d3afd1241e",
   "metadata": {},
   "outputs": [],
   "source": [
    "# | export\n",
    "\n",
    "\n",
    "def import_game_modules():\n",
    "    game_modules = {}\n",
    "    for filename in os.listdir(TITLE_DIR):\n",
    "        if filename.endswith(\".ipynb\"):\n",
    "            module_name = filename[3:-6]\n",
    "            module_path = f\"{TITLE_MODULE}.{module_name}\"\n",
    "            game_modules[module_name] = importlib.import_module(module_path)\n",
    "    return game_modules\n",
    "\n",
    "\n",
    "game_modules = import_game_modules()"
   ]
  },
  {
   "cell_type": "code",
   "execution_count": null,
   "id": "d8e37567-a5d3-4160-8d71-e480d662da19",
   "metadata": {},
   "outputs": [
    {
     "data": {
      "text/plain": [
       "{'g1830': <module 'rl18xx.game.engine.game.title.g1830' from '/home/revys/workspace/RL_18xx/rl18xx/game/engine/game/title/g1830.py'>}"
      ]
     },
     "execution_count": null,
     "metadata": {},
     "output_type": "execute_result"
    }
   ],
   "source": [
    "game_modules"
   ]
  },
  {
   "cell_type": "code",
   "execution_count": null,
   "id": "aeab3c29-80e0-4dc7-821a-ded7080a0b22",
   "metadata": {},
   "outputs": [],
   "source": [
    "# | export\n",
    "\n",
    "\n",
    "class Engine:\n",
    "    def __init__(self):\n",
    "        self.games = {}\n",
    "        self.game_meta_by_title = self._collect_game_meta()\n",
    "\n",
    "    def _collect_game_meta(self):\n",
    "        game_meta_by_title = {}\n",
    "        for name, module in game_modules.items():\n",
    "            if hasattr(module, \"Meta\"):\n",
    "                meta = getattr(module, \"Meta\")\n",
    "                game_meta_by_title[meta.title] = meta\n",
    "        return game_meta_by_title\n",
    "\n",
    "    def game_by_title(self, title):\n",
    "        # Directly return the game object by its title\n",
    "        if title in self.game_meta_by_title:\n",
    "            game_meta = self.game_meta_by_title[title]\n",
    "            # Assuming a game class or factory method is defined in the module\n",
    "            if hasattr(game_modules[game_meta.module_name], \"Game\"):\n",
    "                game_class = getattr(game_modules[game_meta.module_name], \"Game\")\n",
    "                if title not in self.games:\n",
    "                    self.games[\n",
    "                        title\n",
    "                    ] = game_class()  # Initialize the game if not already done\n",
    "                return self.games[title]\n",
    "        return None"
   ]
  },
  {
   "cell_type": "markdown",
   "id": "692a8ced-7dca-4f88-bae7-25c48dce6b59",
   "metadata": {},
   "source": [
    "Example usage:\n",
    "\n",
    "```\n",
    "engine = Engine()\n",
    "game = engine.game_by_title(\"1830\")  # Assuming \"1830\" is the title of your game\n",
    "if game:\n",
    "    print(f\"Game found: {game.title}\")\n",
    "else:\n",
    "    print(\"Game not found.\")\n",
    "```"
   ]
  },
  {
   "cell_type": "code",
   "execution_count": null,
   "id": "8d9c570d-653b-4a9a-8a52-1e0a1847cb21",
   "metadata": {},
   "outputs": [],
   "source": []
  }
 ],
 "metadata": {
  "kernelspec": {
   "display_name": "Python 3 (ipykernel)",
   "language": "python",
   "name": "python3"
  },
  "language_info": {
   "codemirror_mode": {
    "name": "ipython",
    "version": 3
   },
   "file_extension": ".py",
   "mimetype": "text/x-python",
   "name": "python",
   "nbconvert_exporter": "python",
   "pygments_lexer": "ipython3",
   "version": "3.11.5"
  }
 },
 "nbformat": 4,
 "nbformat_minor": 5
}
