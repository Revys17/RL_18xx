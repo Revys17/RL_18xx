{
 "cells": [
  {
   "cell_type": "markdown",
   "id": "fbdc7dfc-0d39-4c00-bc43-61fb3aed70ab",
   "metadata": {},
   "source": [
    "# Game Engine"
   ]
  },
  {
   "cell_type": "code",
   "execution_count": null,
   "id": "e27e9763-7bf3-4dfb-b343-4754208a5dfd",
   "metadata": {},
   "outputs": [],
   "source": [
    "# | default_exp game.engine"
   ]
  },
  {
   "cell_type": "code",
   "execution_count": null,
   "id": "b2d7b0ef-4e8f-4976-aa76-e6d34a86fb86",
   "metadata": {},
   "outputs": [],
   "source": [
    "# | hide\n",
    "%load_ext lab_black"
   ]
  },
  {
   "cell_type": "code",
   "execution_count": null,
   "id": "518d6541-3593-4ae8-bc07-4b5d7b6a18a8",
   "metadata": {},
   "outputs": [],
   "source": [
    "# | export\n",
    "import importlib\n",
    "import os"
   ]
  },
  {
   "cell_type": "markdown",
   "id": "4b7813dd-603c-4da4-9763-5c2d47f2e9cc",
   "metadata": {},
   "source": [
    "All games are located within the `games` subdirectory."
   ]
  },
  {
   "cell_type": "markdown",
   "id": "69de062e-2279-483d-b514-97f9f4544ec3",
   "metadata": {},
   "source": [
    "## Engine"
   ]
  },
  {
   "cell_type": "code",
   "execution_count": null,
   "id": "5d68245c-3b3a-494e-93d2-32af2e0c625c",
   "metadata": {},
   "outputs": [],
   "source": [
    "# | export\n",
    "TITLE_DIR = \"engine/game/titles\"\n",
    "TITLE_MODULE = \"rl18xx.game.engine.game.title\""
   ]
  },
  {
   "cell_type": "code",
   "execution_count": null,
   "id": "aeab3c29-80e0-4dc7-821a-ded7080a0b22",
   "metadata": {},
   "outputs": [],
   "source": [
    "# | export\n",
    "\n",
    "\n",
    "class Engine:\n",
    "    def __init__(self):\n",
    "        self.game_modules = self._import_game_modules()\n",
    "        self.game_meta = self._collect_game_meta()\n",
    "        self.games = self._load_games()\n",
    "\n",
    "    def _import_game_modules(self):\n",
    "        game_modules = {}\n",
    "        for filename in os.listdir(TITLE_DIR):\n",
    "            if filename.endswith(\".ipynb\"):\n",
    "                module_name = filename[3:-6]\n",
    "                module_path = f\"{TITLE_MODULE}.{module_name}\"\n",
    "                game_modules[module_name] = importlib.import_module(module_path)\n",
    "        return game_modules\n",
    "\n",
    "    def _collect_game_meta(self):\n",
    "        game_meta_by_title = {}\n",
    "        for name, module in self.game_modules.items():\n",
    "            if hasattr(module, \"Meta\"):\n",
    "                meta = getattr(module, \"Meta\")\n",
    "                game_meta_by_title[meta.title()] = meta\n",
    "        return game_meta_by_title\n",
    "\n",
    "    def _load_games(self):\n",
    "        games = {}\n",
    "        for title in self.game_meta:\n",
    "            if hasattr(self.game_modules[\"g\" + title], \"Game\"):\n",
    "                games[title] = getattr(self.game_modules[\"g\" + title], \"Game\")\n",
    "        return games\n",
    "\n",
    "    def meta_by_title(self, title):\n",
    "        return self.game_meta.get(title)\n",
    "\n",
    "    def game_by_title(self, title):\n",
    "        return self.games.get(title)"
   ]
  },
  {
   "cell_type": "code",
   "execution_count": null,
   "id": "8d9c570d-653b-4a9a-8a52-1e0a1847cb21",
   "metadata": {},
   "outputs": [],
   "source": [
    "engine = Engine()"
   ]
  },
  {
   "cell_type": "code",
   "execution_count": null,
   "id": "1a95829c-186b-4016-8e87-516654d5938c",
   "metadata": {},
   "outputs": [],
   "source": [
    "game = engine.game_by_title(\"1830\")"
   ]
  },
  {
   "cell_type": "markdown",
   "id": "c35f37fb-8ee1-48a7-88e4-f80e31e88412",
   "metadata": {},
   "source": [
    "## Game Instantiation and basic tests"
   ]
  },
  {
   "cell_type": "code",
   "execution_count": null,
   "id": "564e4243-80a7-4ae1-85e8-8173b1d4c8ef",
   "metadata": {},
   "outputs": [
    {
     "name": "stdout",
     "output_type": "stream",
     "text": [
      "{2: 28, 3: 20, 4: 16, 5: 13, 6: 11}\n",
      "dict_items([(2, 28), (3, 20), (4, 16), (5, 13), (6, 11)])\n",
      "(2, 28)\n",
      "[]\n",
      "[]\n",
      "[]\n",
      "[]\n",
      "[<rl18xx.game.engine.abilities.Shares object>]\n",
      "adding share <Share: PRR 10%> for id PRR_1 to ability <rl18xx.game.engine.abilities.Shares object>\n",
      "setting <rl18xx.game.engine.abilities.Shares object>'s shares to [<Share: PRR 10%>]\n",
      "[<rl18xx.game.engine.abilities.Shares object>]\n",
      "adding share <Share: B&O 20%> for id B&O_0 to ability <rl18xx.game.engine.abilities.Shares object>\n",
      "setting <rl18xx.game.engine.abilities.Shares object>'s shares to [<Share: B&O 20%>]\n"
     ]
    }
   ],
   "source": [
    "g = game({\"1\": \"hi\", \"2\": \"my\", \"3\": \"dear\", \"4\": \"friend\"})"
   ]
  },
  {
   "cell_type": "code",
   "execution_count": null,
   "id": "b1a01d71-03ae-4146-b0ed-8587d92426c9",
   "metadata": {},
   "outputs": [],
   "source": [
    "import inspect\n",
    "\n",
    "test = False\n",
    "\n",
    "skipped = []\n",
    "methods = []\n",
    "non_methods = []\n",
    "for item_name in dir(g):\n",
    "    if item_name.startswith(\"init\") or item_name.startswith(\"_\") or item_name.isupper():\n",
    "        skipped.append(item_name)\n",
    "        continue\n",
    "\n",
    "    item = getattr(g, item_name)\n",
    "    if callable(item):\n",
    "        if inspect.signature(item).parameters:\n",
    "            skipped.append(item)\n",
    "        else:\n",
    "            # print(item_name)\n",
    "            methods.append(item_name)\n",
    "            if test:\n",
    "                item()\n",
    "    else:\n",
    "        # print(f\"name: {item_name}, value: {item}\")\n",
    "        non_methods.append(item_name)\n",
    "\n",
    "# methods, non_methods"
   ]
  },
  {
   "cell_type": "code",
   "execution_count": null,
   "id": "1fe3b091-8d6a-4b18-b038-bc5a607c371e",
   "metadata": {},
   "outputs": [
    {
     "data": {
      "text/plain": [
       "(<rl18xx.game.engine.round.WaterfallAuction>,\n",
       " [<Player - hi>])"
      ]
     },
     "execution_count": null,
     "metadata": {},
     "output_type": "execute_result"
    }
   ],
   "source": [
    "step = g.active_step()\n",
    "step, g.active_players()"
   ]
  },
  {
   "cell_type": "code",
   "execution_count": null,
   "id": "da631234-76fe-48b2-a95f-fee52ae104ea",
   "metadata": {},
   "outputs": [
    {
     "name": "stdout",
     "output_type": "stream",
     "text": [
      "step: <WaterfallAuction>, player: Player - hi\n",
      "choices: [<class 'rl18xx.game.engine.actions.Bid'>, <class 'rl18xx.game.engine.actions.Pass'>]\n"
     ]
    }
   ],
   "source": [
    "print(f\"step: {g.active_step()}, player: {g.current_entity}\")\n",
    "choices = g.active_step().actions(g.current_entity)\n",
    "print(f\"choices: {choices}\")"
   ]
  },
  {
   "cell_type": "code",
   "execution_count": null,
   "id": "f2366fab-4a94-4d9b-822b-4ee89a2a1ce7",
   "metadata": {},
   "outputs": [],
   "source": []
  },
  {
   "cell_type": "markdown",
   "id": "0f49b2b5-b03c-4858-89ad-56fb8955b209",
   "metadata": {},
   "source": [
    "## Actions Helper"
   ]
  },
  {
   "cell_type": "code",
   "execution_count": null,
   "id": "033c0a43-18e6-4fc1-be59-7611be43bae4",
   "metadata": {},
   "outputs": [],
   "source": [
    "from rl18xx.game.engine.actions import Bid, BuyShares, Par, Pass, SellShares\n",
    "\n",
    "\n",
    "def get_current_actions():\n",
    "    return g.active_step().actions(g.current_entity)\n",
    "\n",
    "\n",
    "def get_bid_actions():\n",
    "    companies = g.active_step().companies\n",
    "    bids = []\n",
    "    bids.append(\n",
    "        Bid(g.current_entity, g.active_step().min_bid(companies[0]), companies[0])\n",
    "    )\n",
    "    for company in companies[1:]:\n",
    "        min_bid = g.active_step().min_bid(company)\n",
    "        max_bid = g.active_step().max_bid(g.current_entity, company)\n",
    "        bid_values = list(\n",
    "            range(min_bid - (min_bid % 5), (max_bid + 1) - ((max_bid + 1) % 5), 5)\n",
    "        )\n",
    "        bids.append(\n",
    "            [Bid(g.current_entity, bid_value, company) for bid_value in bid_values]\n",
    "        )\n",
    "    return bids\n",
    "\n",
    "\n",
    "def get_par_actions():\n",
    "    parable_corporations = [\n",
    "        corp for corp in g.corporations if g.can_par(corp, g.current_entity)\n",
    "    ]\n",
    "    par_values = g.share_prices\n",
    "    buying_power = g.buying_power(g.current_entity)\n",
    "    return [\n",
    "        Par(g.current_entity, corp, price)\n",
    "        for corp in parable_corporations\n",
    "        for price in par_values\n",
    "        if 2 * price.price <= buying_power\n",
    "    ]\n",
    "\n",
    "\n",
    "def get_buy_shares_actions():\n",
    "    buyable_shares = [\n",
    "        item\n",
    "        for sublist in g.active_step().buyable_shares(g.current_entity)\n",
    "        for item in sublist\n",
    "    ]\n",
    "    unique_buyable_shares = list(set(buyable_shares))\n",
    "    return [BuyShares(g.current_entity, share) for share in unique_buyable_shares]\n",
    "\n",
    "\n",
    "def get_sell_shares_actions():\n",
    "    return g.active_step().sellable_shares(g.current_entity)\n",
    "\n",
    "\n",
    "def get_choices_for_action(action):\n",
    "    if action == Pass:\n",
    "        return [Pass(g.current_entity)]\n",
    "    elif action == Bid:\n",
    "        return get_bid_actions()\n",
    "    elif action == Par:\n",
    "        return get_par_actions()\n",
    "    elif action == BuyShares:\n",
    "        return get_buy_shares_actions()\n",
    "    elif action == SellShares:\n",
    "        return get_sell_shares_actions()\n",
    "\n",
    "\n",
    "def get_all_choices():\n",
    "    choices = [\n",
    "        choices\n",
    "        for action in get_current_actions()\n",
    "        for choices in get_choices_for_action(action)\n",
    "    ]\n",
    "    return choices\n",
    "\n",
    "\n",
    "# get_all_choices()"
   ]
  },
  {
   "cell_type": "code",
   "execution_count": null,
   "id": "78cbbfaa-2366-4899-983d-46877f2fac95",
   "metadata": {},
   "outputs": [],
   "source": []
  },
  {
   "cell_type": "markdown",
   "id": "53bf6dfa-0087-4288-b9ba-b34700a4b4a5",
   "metadata": {},
   "source": [
    "## Waterfall auction"
   ]
  },
  {
   "cell_type": "code",
   "execution_count": null,
   "id": "7f82914d-94f2-4b86-b0b5-3fd0968a18bc",
   "metadata": {},
   "outputs": [
    {
     "name": "stdout",
     "output_type": "stream",
     "text": [
      "> \u001b[0;32m/home/revys/workspace/RL_18xx/rl18xx/game/engine/round.py\u001b[0m(5650)\u001b[0;36mprocess_action\u001b[0;34m()\u001b[0m\n",
      "\u001b[0;32m   5648 \u001b[0;31m    \u001b[0;32mdef\u001b[0m \u001b[0mprocess_action\u001b[0m\u001b[0;34m(\u001b[0m\u001b[0mself\u001b[0m\u001b[0;34m,\u001b[0m \u001b[0maction\u001b[0m\u001b[0;34m)\u001b[0m\u001b[0;34m:\u001b[0m\u001b[0;34m\u001b[0m\u001b[0;34m\u001b[0m\u001b[0m\n",
      "\u001b[0m\u001b[0;32m   5649 \u001b[0;31m        \u001b[0mset_trace\u001b[0m\u001b[0;34m(\u001b[0m\u001b[0;34m)\u001b[0m\u001b[0;34m\u001b[0m\u001b[0;34m\u001b[0m\u001b[0m\n",
      "\u001b[0m\u001b[0;32m-> 5650 \u001b[0;31m        \u001b[0mtype\u001b[0m \u001b[0;34m=\u001b[0m \u001b[0maction\u001b[0m\u001b[0;34m.\u001b[0m\u001b[0m__class__\u001b[0m\u001b[0;34m\u001b[0m\u001b[0;34m\u001b[0m\u001b[0m\n",
      "\u001b[0m\u001b[0;32m   5651 \u001b[0;31m        \u001b[0mself\u001b[0m\u001b[0;34m.\u001b[0m\u001b[0mclear_cache\u001b[0m\u001b[0;34m(\u001b[0m\u001b[0;34m)\u001b[0m\u001b[0;34m\u001b[0m\u001b[0;34m\u001b[0m\u001b[0m\n",
      "\u001b[0m\u001b[0;32m   5652 \u001b[0;31m\u001b[0;34m\u001b[0m\u001b[0m\n",
      "\u001b[0m\n"
     ]
    },
    {
     "name": "stdin",
     "output_type": "stream",
     "text": [
      "ipdb>  c\n"
     ]
    },
    {
     "name": "stdout",
     "output_type": "stream",
     "text": [
      "hi passes bidding\n",
      "> \u001b[0;32m/home/revys/workspace/RL_18xx/rl18xx/game/engine/round.py\u001b[0m(5650)\u001b[0;36mprocess_action\u001b[0;34m()\u001b[0m\n",
      "\u001b[0;32m   5648 \u001b[0;31m    \u001b[0;32mdef\u001b[0m \u001b[0mprocess_action\u001b[0m\u001b[0;34m(\u001b[0m\u001b[0mself\u001b[0m\u001b[0;34m,\u001b[0m \u001b[0maction\u001b[0m\u001b[0;34m)\u001b[0m\u001b[0;34m:\u001b[0m\u001b[0;34m\u001b[0m\u001b[0;34m\u001b[0m\u001b[0m\n",
      "\u001b[0m\u001b[0;32m   5649 \u001b[0;31m        \u001b[0mset_trace\u001b[0m\u001b[0;34m(\u001b[0m\u001b[0;34m)\u001b[0m\u001b[0;34m\u001b[0m\u001b[0;34m\u001b[0m\u001b[0m\n",
      "\u001b[0m\u001b[0;32m-> 5650 \u001b[0;31m        \u001b[0mtype\u001b[0m \u001b[0;34m=\u001b[0m \u001b[0maction\u001b[0m\u001b[0;34m.\u001b[0m\u001b[0m__class__\u001b[0m\u001b[0;34m\u001b[0m\u001b[0;34m\u001b[0m\u001b[0m\n",
      "\u001b[0m\u001b[0;32m   5651 \u001b[0;31m        \u001b[0mself\u001b[0m\u001b[0;34m.\u001b[0m\u001b[0mclear_cache\u001b[0m\u001b[0;34m(\u001b[0m\u001b[0;34m)\u001b[0m\u001b[0;34m\u001b[0m\u001b[0;34m\u001b[0m\u001b[0m\n",
      "\u001b[0m\u001b[0;32m   5652 \u001b[0;31m\u001b[0;34m\u001b[0m\u001b[0m\n",
      "\u001b[0m\n"
     ]
    },
    {
     "name": "stdin",
     "output_type": "stream",
     "text": [
      "ipdb>  c\n"
     ]
    },
    {
     "name": "stdout",
     "output_type": "stream",
     "text": [
      "my bids $45 for Champlain & St.Lawrence\n",
      "> \u001b[0;32m/home/revys/workspace/RL_18xx/rl18xx/game/engine/round.py\u001b[0m(5650)\u001b[0;36mprocess_action\u001b[0;34m()\u001b[0m\n",
      "\u001b[0;32m   5648 \u001b[0;31m    \u001b[0;32mdef\u001b[0m \u001b[0mprocess_action\u001b[0m\u001b[0;34m(\u001b[0m\u001b[0mself\u001b[0m\u001b[0;34m,\u001b[0m \u001b[0maction\u001b[0m\u001b[0;34m)\u001b[0m\u001b[0;34m:\u001b[0m\u001b[0;34m\u001b[0m\u001b[0;34m\u001b[0m\u001b[0m\n",
      "\u001b[0m\u001b[0;32m   5649 \u001b[0;31m        \u001b[0mset_trace\u001b[0m\u001b[0;34m(\u001b[0m\u001b[0;34m)\u001b[0m\u001b[0;34m\u001b[0m\u001b[0;34m\u001b[0m\u001b[0m\n",
      "\u001b[0m\u001b[0;32m-> 5650 \u001b[0;31m        \u001b[0mtype\u001b[0m \u001b[0;34m=\u001b[0m \u001b[0maction\u001b[0m\u001b[0;34m.\u001b[0m\u001b[0m__class__\u001b[0m\u001b[0;34m\u001b[0m\u001b[0;34m\u001b[0m\u001b[0m\n",
      "\u001b[0m\u001b[0;32m   5651 \u001b[0;31m        \u001b[0mself\u001b[0m\u001b[0;34m.\u001b[0m\u001b[0mclear_cache\u001b[0m\u001b[0;34m(\u001b[0m\u001b[0;34m)\u001b[0m\u001b[0;34m\u001b[0m\u001b[0;34m\u001b[0m\u001b[0m\n",
      "\u001b[0m\u001b[0;32m   5652 \u001b[0;31m\u001b[0;34m\u001b[0m\u001b[0m\n",
      "\u001b[0m\n"
     ]
    },
    {
     "name": "stdin",
     "output_type": "stream",
     "text": [
      "ipdb>  c\n"
     ]
    },
    {
     "name": "stdout",
     "output_type": "stream",
     "text": [
      "dear bids $50 for Champlain & St.Lawrence\n",
      "> \u001b[0;32m/home/revys/workspace/RL_18xx/rl18xx/game/engine/round.py\u001b[0m(5650)\u001b[0;36mprocess_action\u001b[0;34m()\u001b[0m\n",
      "\u001b[0;32m   5648 \u001b[0;31m    \u001b[0;32mdef\u001b[0m \u001b[0mprocess_action\u001b[0m\u001b[0;34m(\u001b[0m\u001b[0mself\u001b[0m\u001b[0;34m,\u001b[0m \u001b[0maction\u001b[0m\u001b[0;34m)\u001b[0m\u001b[0;34m:\u001b[0m\u001b[0;34m\u001b[0m\u001b[0;34m\u001b[0m\u001b[0m\n",
      "\u001b[0m\u001b[0;32m   5649 \u001b[0;31m        \u001b[0mset_trace\u001b[0m\u001b[0;34m(\u001b[0m\u001b[0;34m)\u001b[0m\u001b[0;34m\u001b[0m\u001b[0;34m\u001b[0m\u001b[0m\n",
      "\u001b[0m\u001b[0;32m-> 5650 \u001b[0;31m        \u001b[0mtype\u001b[0m \u001b[0;34m=\u001b[0m \u001b[0maction\u001b[0m\u001b[0;34m.\u001b[0m\u001b[0m__class__\u001b[0m\u001b[0;34m\u001b[0m\u001b[0;34m\u001b[0m\u001b[0m\n",
      "\u001b[0m\u001b[0;32m   5651 \u001b[0;31m        \u001b[0mself\u001b[0m\u001b[0;34m.\u001b[0m\u001b[0mclear_cache\u001b[0m\u001b[0;34m(\u001b[0m\u001b[0;34m)\u001b[0m\u001b[0;34m\u001b[0m\u001b[0;34m\u001b[0m\u001b[0m\n",
      "\u001b[0m\u001b[0;32m   5652 \u001b[0;31m\u001b[0;34m\u001b[0m\u001b[0m\n",
      "\u001b[0m\n"
     ]
    },
    {
     "name": "stdin",
     "output_type": "stream",
     "text": [
      "ipdb>  c\n"
     ]
    },
    {
     "name": "stdout",
     "output_type": "stream",
     "text": [
      "friend bids $225 for Baltimore & Ohio\n",
      "> \u001b[0;32m/home/revys/workspace/RL_18xx/rl18xx/game/engine/round.py\u001b[0m(5650)\u001b[0;36mprocess_action\u001b[0;34m()\u001b[0m\n",
      "\u001b[0;32m   5648 \u001b[0;31m    \u001b[0;32mdef\u001b[0m \u001b[0mprocess_action\u001b[0m\u001b[0;34m(\u001b[0m\u001b[0mself\u001b[0m\u001b[0;34m,\u001b[0m \u001b[0maction\u001b[0m\u001b[0;34m)\u001b[0m\u001b[0;34m:\u001b[0m\u001b[0;34m\u001b[0m\u001b[0;34m\u001b[0m\u001b[0m\n",
      "\u001b[0m\u001b[0;32m   5649 \u001b[0;31m        \u001b[0mset_trace\u001b[0m\u001b[0;34m(\u001b[0m\u001b[0;34m)\u001b[0m\u001b[0;34m\u001b[0m\u001b[0;34m\u001b[0m\u001b[0m\n",
      "\u001b[0m\u001b[0;32m-> 5650 \u001b[0;31m        \u001b[0mtype\u001b[0m \u001b[0;34m=\u001b[0m \u001b[0maction\u001b[0m\u001b[0;34m.\u001b[0m\u001b[0m__class__\u001b[0m\u001b[0;34m\u001b[0m\u001b[0;34m\u001b[0m\u001b[0m\n",
      "\u001b[0m\u001b[0;32m   5651 \u001b[0;31m        \u001b[0mself\u001b[0m\u001b[0;34m.\u001b[0m\u001b[0mclear_cache\u001b[0m\u001b[0;34m(\u001b[0m\u001b[0;34m)\u001b[0m\u001b[0;34m\u001b[0m\u001b[0;34m\u001b[0m\u001b[0m\n",
      "\u001b[0m\u001b[0;32m   5652 \u001b[0;31m\u001b[0;34m\u001b[0m\u001b[0m\n",
      "\u001b[0m\n"
     ]
    },
    {
     "name": "stdin",
     "output_type": "stream",
     "text": [
      "ipdb>  c\n"
     ]
    },
    {
     "name": "stdout",
     "output_type": "stream",
     "text": [
      "hi buys Schuylkill Valley for $20\n",
      "resolving bids\n",
      "company: <Company: CS>, auctioning: None, is_new_auction: True, bids: [Type: Bid, id: 2, entity: Player - my, company: <Company: CS>, price: 45, Type: Bid, id: 3, entity: Player - dear, company: <Company: CS>, price: 50]\n",
      "Champlain & St.Lawrence goes up for auction\n",
      "> \u001b[0;32m/home/revys/workspace/RL_18xx/rl18xx/game/engine/round.py\u001b[0m(5650)\u001b[0;36mprocess_action\u001b[0;34m()\u001b[0m\n",
      "\u001b[0;32m   5648 \u001b[0;31m    \u001b[0;32mdef\u001b[0m \u001b[0mprocess_action\u001b[0m\u001b[0;34m(\u001b[0m\u001b[0mself\u001b[0m\u001b[0;34m,\u001b[0m \u001b[0maction\u001b[0m\u001b[0;34m)\u001b[0m\u001b[0;34m:\u001b[0m\u001b[0;34m\u001b[0m\u001b[0;34m\u001b[0m\u001b[0m\n",
      "\u001b[0m\u001b[0;32m   5649 \u001b[0;31m        \u001b[0mset_trace\u001b[0m\u001b[0;34m(\u001b[0m\u001b[0;34m)\u001b[0m\u001b[0;34m\u001b[0m\u001b[0;34m\u001b[0m\u001b[0m\n",
      "\u001b[0m\u001b[0;32m-> 5650 \u001b[0;31m        \u001b[0mtype\u001b[0m \u001b[0;34m=\u001b[0m \u001b[0maction\u001b[0m\u001b[0;34m.\u001b[0m\u001b[0m__class__\u001b[0m\u001b[0;34m\u001b[0m\u001b[0;34m\u001b[0m\u001b[0m\n",
      "\u001b[0m\u001b[0;32m   5651 \u001b[0;31m        \u001b[0mself\u001b[0m\u001b[0;34m.\u001b[0m\u001b[0mclear_cache\u001b[0m\u001b[0;34m(\u001b[0m\u001b[0;34m)\u001b[0m\u001b[0;34m\u001b[0m\u001b[0;34m\u001b[0m\u001b[0m\n",
      "\u001b[0m\u001b[0;32m   5652 \u001b[0;31m\u001b[0;34m\u001b[0m\u001b[0m\n",
      "\u001b[0m\n"
     ]
    },
    {
     "name": "stdin",
     "output_type": "stream",
     "text": [
      "ipdb>  c\n"
     ]
    },
    {
     "name": "stdout",
     "output_type": "stream",
     "text": [
      "my passes on Champlain & St.Lawrence\n",
      "resolving bids\n",
      "company: <Company: CS>, auctioning: <Company: CS>, is_new_auction: False, bids: [Type: Bid, id: 3, entity: Player - dear, company: <Company: CS>, price: 50]\n",
      "dear wins the auction for Champlain & St.Lawrence with a bid of $50\n",
      "company: <Company: DH>, auctioning: None, is_new_auction: True, bids: []\n",
      "> \u001b[0;32m/home/revys/workspace/RL_18xx/rl18xx/game/engine/round.py\u001b[0m(5650)\u001b[0;36mprocess_action\u001b[0;34m()\u001b[0m\n",
      "\u001b[0;32m   5648 \u001b[0;31m    \u001b[0;32mdef\u001b[0m \u001b[0mprocess_action\u001b[0m\u001b[0;34m(\u001b[0m\u001b[0mself\u001b[0m\u001b[0;34m,\u001b[0m \u001b[0maction\u001b[0m\u001b[0;34m)\u001b[0m\u001b[0;34m:\u001b[0m\u001b[0;34m\u001b[0m\u001b[0;34m\u001b[0m\u001b[0m\n",
      "\u001b[0m\u001b[0;32m   5649 \u001b[0;31m        \u001b[0mset_trace\u001b[0m\u001b[0;34m(\u001b[0m\u001b[0;34m)\u001b[0m\u001b[0;34m\u001b[0m\u001b[0;34m\u001b[0m\u001b[0m\n",
      "\u001b[0m\u001b[0;32m-> 5650 \u001b[0;31m        \u001b[0mtype\u001b[0m \u001b[0;34m=\u001b[0m \u001b[0maction\u001b[0m\u001b[0;34m.\u001b[0m\u001b[0m__class__\u001b[0m\u001b[0;34m\u001b[0m\u001b[0;34m\u001b[0m\u001b[0m\n",
      "\u001b[0m\u001b[0;32m   5651 \u001b[0;31m        \u001b[0mself\u001b[0m\u001b[0;34m.\u001b[0m\u001b[0mclear_cache\u001b[0m\u001b[0;34m(\u001b[0m\u001b[0;34m)\u001b[0m\u001b[0;34m\u001b[0m\u001b[0;34m\u001b[0m\u001b[0m\n",
      "\u001b[0m\u001b[0;32m   5652 \u001b[0;31m\u001b[0;34m\u001b[0m\u001b[0m\n",
      "\u001b[0m\n"
     ]
    },
    {
     "name": "stdin",
     "output_type": "stream",
     "text": [
      "ipdb>  c\n"
     ]
    },
    {
     "name": "stdout",
     "output_type": "stream",
     "text": [
      "my buys Delaware & Hudson for $70\n",
      "resolving bids\n",
      "company: <Company: MH>, auctioning: None, is_new_auction: True, bids: []\n",
      "> \u001b[0;32m/home/revys/workspace/RL_18xx/rl18xx/game/engine/round.py\u001b[0m(5650)\u001b[0;36mprocess_action\u001b[0;34m()\u001b[0m\n",
      "\u001b[0;32m   5648 \u001b[0;31m    \u001b[0;32mdef\u001b[0m \u001b[0mprocess_action\u001b[0m\u001b[0;34m(\u001b[0m\u001b[0mself\u001b[0m\u001b[0;34m,\u001b[0m \u001b[0maction\u001b[0m\u001b[0;34m)\u001b[0m\u001b[0;34m:\u001b[0m\u001b[0;34m\u001b[0m\u001b[0;34m\u001b[0m\u001b[0m\n",
      "\u001b[0m\u001b[0;32m   5649 \u001b[0;31m        \u001b[0mset_trace\u001b[0m\u001b[0;34m(\u001b[0m\u001b[0;34m)\u001b[0m\u001b[0;34m\u001b[0m\u001b[0;34m\u001b[0m\u001b[0m\n",
      "\u001b[0m\u001b[0;32m-> 5650 \u001b[0;31m        \u001b[0mtype\u001b[0m \u001b[0;34m=\u001b[0m \u001b[0maction\u001b[0m\u001b[0;34m.\u001b[0m\u001b[0m__class__\u001b[0m\u001b[0;34m\u001b[0m\u001b[0;34m\u001b[0m\u001b[0m\n",
      "\u001b[0m\u001b[0;32m   5651 \u001b[0;31m        \u001b[0mself\u001b[0m\u001b[0;34m.\u001b[0m\u001b[0mclear_cache\u001b[0m\u001b[0;34m(\u001b[0m\u001b[0;34m)\u001b[0m\u001b[0;34m\u001b[0m\u001b[0;34m\u001b[0m\u001b[0m\n",
      "\u001b[0m\u001b[0;32m   5652 \u001b[0;31m\u001b[0;34m\u001b[0m\u001b[0m\n",
      "\u001b[0m\n"
     ]
    },
    {
     "name": "stdin",
     "output_type": "stream",
     "text": [
      "ipdb>  c\n"
     ]
    },
    {
     "name": "stdout",
     "output_type": "stream",
     "text": [
      "dear buys Mohawk & Hudson for $110\n",
      "resolving bids\n",
      "company: <Company: CA>, auctioning: None, is_new_auction: True, bids: []\n",
      "> \u001b[0;32m/home/revys/workspace/RL_18xx/rl18xx/game/engine/round.py\u001b[0m(5650)\u001b[0;36mprocess_action\u001b[0;34m()\u001b[0m\n",
      "\u001b[0;32m   5648 \u001b[0;31m    \u001b[0;32mdef\u001b[0m \u001b[0mprocess_action\u001b[0m\u001b[0;34m(\u001b[0m\u001b[0mself\u001b[0m\u001b[0;34m,\u001b[0m \u001b[0maction\u001b[0m\u001b[0;34m)\u001b[0m\u001b[0;34m:\u001b[0m\u001b[0;34m\u001b[0m\u001b[0;34m\u001b[0m\u001b[0m\n",
      "\u001b[0m\u001b[0;32m   5649 \u001b[0;31m        \u001b[0mset_trace\u001b[0m\u001b[0;34m(\u001b[0m\u001b[0;34m)\u001b[0m\u001b[0;34m\u001b[0m\u001b[0;34m\u001b[0m\u001b[0m\n",
      "\u001b[0m\u001b[0;32m-> 5650 \u001b[0;31m        \u001b[0mtype\u001b[0m \u001b[0;34m=\u001b[0m \u001b[0maction\u001b[0m\u001b[0;34m.\u001b[0m\u001b[0m__class__\u001b[0m\u001b[0;34m\u001b[0m\u001b[0;34m\u001b[0m\u001b[0m\n",
      "\u001b[0m\u001b[0;32m   5651 \u001b[0;31m        \u001b[0mself\u001b[0m\u001b[0;34m.\u001b[0m\u001b[0mclear_cache\u001b[0m\u001b[0;34m(\u001b[0m\u001b[0;34m)\u001b[0m\u001b[0;34m\u001b[0m\u001b[0;34m\u001b[0m\u001b[0m\n",
      "\u001b[0m\u001b[0;32m   5652 \u001b[0;31m\u001b[0;34m\u001b[0m\u001b[0m\n",
      "\u001b[0m\n"
     ]
    },
    {
     "name": "stdin",
     "output_type": "stream",
     "text": [
      "ipdb>  c\n"
     ]
    },
    {
     "name": "stdout",
     "output_type": "stream",
     "text": [
      "friend buys Camden & Amboy for $160\n",
      "<rl18xx.game.engine.abilities.Shares object>\n",
      "<bound method Share.corporation of <Share: PRR 10%>>\n",
      "resolving bids\n",
      "company: <Company: BO>, auctioning: None, is_new_auction: True, bids: [Type: Bid, id: 4, entity: Player - friend, company: <Company: BO>, price: 225]\n",
      "friend wins the auction for Baltimore & Ohio with the only bid of $225\n",
      "<rl18xx.game.engine.abilities.Shares object>\n",
      "<bound method Share.corporation of <Share: B&O 20%>>\n",
      "> \u001b[0;32m/home/revys/workspace/RL_18xx/rl18xx/game/engine/round.py\u001b[0m(5650)\u001b[0;36mprocess_action\u001b[0;34m()\u001b[0m\n",
      "\u001b[0;32m   5648 \u001b[0;31m    \u001b[0;32mdef\u001b[0m \u001b[0mprocess_action\u001b[0m\u001b[0;34m(\u001b[0m\u001b[0mself\u001b[0m\u001b[0;34m,\u001b[0m \u001b[0maction\u001b[0m\u001b[0;34m)\u001b[0m\u001b[0;34m:\u001b[0m\u001b[0;34m\u001b[0m\u001b[0;34m\u001b[0m\u001b[0m\n",
      "\u001b[0m\u001b[0;32m   5649 \u001b[0;31m        \u001b[0mset_trace\u001b[0m\u001b[0;34m(\u001b[0m\u001b[0;34m)\u001b[0m\u001b[0;34m\u001b[0m\u001b[0;34m\u001b[0m\u001b[0m\n",
      "\u001b[0m\u001b[0;32m-> 5650 \u001b[0;31m        \u001b[0mtype\u001b[0m \u001b[0;34m=\u001b[0m \u001b[0maction\u001b[0m\u001b[0;34m.\u001b[0m\u001b[0m__class__\u001b[0m\u001b[0;34m\u001b[0m\u001b[0;34m\u001b[0m\u001b[0m\n",
      "\u001b[0m\u001b[0;32m   5651 \u001b[0;31m        \u001b[0mself\u001b[0m\u001b[0;34m.\u001b[0m\u001b[0mclear_cache\u001b[0m\u001b[0;34m(\u001b[0m\u001b[0;34m)\u001b[0m\u001b[0;34m\u001b[0m\u001b[0;34m\u001b[0m\u001b[0m\n",
      "\u001b[0m\u001b[0;32m   5652 \u001b[0;31m\u001b[0;34m\u001b[0m\u001b[0m\n",
      "\u001b[0m\n"
     ]
    },
    {
     "name": "stdin",
     "output_type": "stream",
     "text": [
      "ipdb>  c\n"
     ]
    },
    {
     "ename": "AttributeError",
     "evalue": "'WaterfallAuction' object has no attribute 'skip'",
     "output_type": "error",
     "traceback": [
      "\u001b[0;31m---------------------------------------------------------------------------\u001b[0m",
      "\u001b[0;31mAttributeError\u001b[0m                            Traceback (most recent call last)",
      "Cell \u001b[0;32mIn[13], line 50\u001b[0m\n\u001b[1;32m     39\u001b[0m     g\u001b[38;5;241m.\u001b[39mprocess_action(bid)\n\u001b[1;32m     41\u001b[0m par \u001b[38;5;241m=\u001b[39m g\u001b[38;5;241m.\u001b[39mround\u001b[38;5;241m.\u001b[39mactive_step()\u001b[38;5;241m.\u001b[39mactions(g\u001b[38;5;241m.\u001b[39mround\u001b[38;5;241m.\u001b[39mactive_step()\u001b[38;5;241m.\u001b[39mactive_entities[\u001b[38;5;241m0\u001b[39m])[\u001b[38;5;241m0\u001b[39m](\n\u001b[1;32m     42\u001b[0m     g\u001b[38;5;241m.\u001b[39mround\u001b[38;5;241m.\u001b[39mactive_step()\u001b[38;5;241m.\u001b[39mactive_entities[\u001b[38;5;241m0\u001b[39m],\n\u001b[1;32m     43\u001b[0m     g\u001b[38;5;241m.\u001b[39mround\u001b[38;5;241m.\u001b[39mcompanies_pending_par[\u001b[38;5;241m0\u001b[39m]\u001b[38;5;241m.\u001b[39mabilities[\u001b[38;5;241m3\u001b[39m]\u001b[38;5;241m.\u001b[39mshares[\u001b[38;5;241m0\u001b[39m]\u001b[38;5;241m.\u001b[39mcorporation(),\n\u001b[0;32m   (...)\u001b[0m\n\u001b[1;32m     47\u001b[0m     )[\u001b[38;5;241m0\u001b[39m],\n\u001b[1;32m     48\u001b[0m )\n\u001b[0;32m---> 50\u001b[0m \u001b[43mg\u001b[49m\u001b[38;5;241;43m.\u001b[39;49m\u001b[43mprocess_action\u001b[49m\u001b[43m(\u001b[49m\u001b[43mpar\u001b[49m\u001b[43m)\u001b[49m\n",
      "File \u001b[0;32m~/workspace/RL_18xx/rl18xx/game/engine/game/base.py:903\u001b[0m, in \u001b[0;36mBaseGame.process_action\u001b[0;34m(self, action, add_auto_actions, validate_auto_actions)\u001b[0m\n\u001b[1;32m    899\u001b[0m     \u001b[38;5;28;01mreturn\u001b[39;00m \u001b[38;5;28mself\u001b[39m\u001b[38;5;241m.\u001b[39mclone(\u001b[38;5;28mself\u001b[39m\u001b[38;5;241m.\u001b[39mraw_actions)\n\u001b[1;32m    901\u001b[0m \u001b[38;5;28mself\u001b[39m\u001b[38;5;241m.\u001b[39mactions\u001b[38;5;241m.\u001b[39mappend(action)\n\u001b[0;32m--> 903\u001b[0m \u001b[38;5;28;43mself\u001b[39;49m\u001b[38;5;241;43m.\u001b[39;49m\u001b[43mprocess_single_action\u001b[49m\u001b[43m(\u001b[49m\u001b[43maction\u001b[49m\u001b[43m)\u001b[49m\n\u001b[1;32m    905\u001b[0m \u001b[38;5;28;01mif\u001b[39;00m \u001b[38;5;129;01mnot\u001b[39;00m \u001b[38;5;28misinstance\u001b[39m(action, Message):\n\u001b[1;32m    906\u001b[0m     \u001b[38;5;28mself\u001b[39m\u001b[38;5;241m.\u001b[39mredo_possible \u001b[38;5;241m=\u001b[39m \u001b[38;5;28;01mFalse\u001b[39;00m\n",
      "File \u001b[0;32m~/workspace/RL_18xx/rl18xx/game/engine/game/base.py:945\u001b[0m, in \u001b[0;36mBaseGame.process_single_action\u001b[0;34m(self, action)\u001b[0m\n\u001b[1;32m    940\u001b[0m     \u001b[38;5;28mself\u001b[39m\u001b[38;5;241m.\u001b[39mlog\u001b[38;5;241m.\u001b[39mappend(\n\u001b[1;32m    941\u001b[0m         \u001b[38;5;124mf\u001b[39m\u001b[38;5;124m'\u001b[39m\u001b[38;5;124m• Action(\u001b[39m\u001b[38;5;132;01m{\u001b[39;00maction\u001b[38;5;241m.\u001b[39mtype\u001b[38;5;132;01m}\u001b[39;00m\u001b[38;5;124m) via Master Mode by: \u001b[39m\u001b[38;5;132;01m{\u001b[39;00m\u001b[38;5;28mself\u001b[39m\u001b[38;5;241m.\u001b[39mplayer_by_id(action\u001b[38;5;241m.\u001b[39muser)\u001b[38;5;241m.\u001b[39mname\u001b[38;5;250m \u001b[39m\u001b[38;5;28;01mif\u001b[39;00m\u001b[38;5;250m \u001b[39m\u001b[38;5;28mself\u001b[39m\u001b[38;5;241m.\u001b[39mplayer_by_id(action\u001b[38;5;241m.\u001b[39muser)\u001b[38;5;250m \u001b[39m\u001b[38;5;28;01melse\u001b[39;00m\u001b[38;5;250m \u001b[39m\u001b[38;5;124m\"\u001b[39m\u001b[38;5;124mOwner\u001b[39m\u001b[38;5;124m\"\u001b[39m\u001b[38;5;132;01m}\u001b[39;00m\u001b[38;5;124m'\u001b[39m\n\u001b[1;32m    942\u001b[0m     )\n\u001b[1;32m    944\u001b[0m \u001b[38;5;28mself\u001b[39m\u001b[38;5;241m.\u001b[39mpreprocess_action(action)\n\u001b[0;32m--> 945\u001b[0m \u001b[38;5;28;43mself\u001b[39;49m\u001b[38;5;241;43m.\u001b[39;49m\u001b[43mround\u001b[49m\u001b[38;5;241;43m.\u001b[39;49m\u001b[43mprocess_action\u001b[49m\u001b[43m(\u001b[49m\u001b[43maction\u001b[49m\u001b[43m)\u001b[49m\n\u001b[1;32m    946\u001b[0m \u001b[38;5;28mself\u001b[39m\u001b[38;5;241m.\u001b[39maction_processed(action)\n\u001b[1;32m    948\u001b[0m end_timing \u001b[38;5;241m=\u001b[39m \u001b[38;5;28mself\u001b[39m\u001b[38;5;241m.\u001b[39mgame_end_check()[\u001b[38;5;241m-\u001b[39m\u001b[38;5;241m1\u001b[39m] \u001b[38;5;28;01mif\u001b[39;00m \u001b[38;5;28mself\u001b[39m\u001b[38;5;241m.\u001b[39mgame_end_check() \u001b[38;5;28;01melse\u001b[39;00m \u001b[38;5;28;01mNone\u001b[39;00m\n",
      "File \u001b[0;32m~/workspace/RL_18xx/rl18xx/game/engine/round.py:5673\u001b[0m, in \u001b[0;36mBaseRound.process_action\u001b[0;34m(self, action)\u001b[0m\n\u001b[1;32m   5670\u001b[0m \u001b[38;5;28mself\u001b[39m\u001b[38;5;241m.\u001b[39mat_start \u001b[38;5;241m=\u001b[39m \u001b[38;5;28;01mFalse\u001b[39;00m\n\u001b[1;32m   5672\u001b[0m \u001b[38;5;28mself\u001b[39m\u001b[38;5;241m.\u001b[39mafter_process_before_skip(action)\n\u001b[0;32m-> 5673\u001b[0m \u001b[38;5;28;43mself\u001b[39;49m\u001b[38;5;241;43m.\u001b[39;49m\u001b[43mskip_steps\u001b[49m\u001b[43m(\u001b[49m\u001b[43m)\u001b[49m\n\u001b[1;32m   5674\u001b[0m \u001b[38;5;28mself\u001b[39m\u001b[38;5;241m.\u001b[39mclear_cache()\n\u001b[1;32m   5675\u001b[0m \u001b[38;5;28mself\u001b[39m\u001b[38;5;241m.\u001b[39mafter_process(action)\n",
      "File \u001b[0;32m~/workspace/RL_18xx/rl18xx/game/engine/round.py:5787\u001b[0m, in \u001b[0;36mBaseRound.skip_steps\u001b[0;34m(self)\u001b[0m\n\u001b[1;32m   5785\u001b[0m \u001b[38;5;28;01mif\u001b[39;00m step\u001b[38;5;241m.\u001b[39mblocking:\n\u001b[1;32m   5786\u001b[0m     \u001b[38;5;28;01mbreak\u001b[39;00m\n\u001b[0;32m-> 5787\u001b[0m \u001b[43mstep\u001b[49m\u001b[38;5;241;43m.\u001b[39;49m\u001b[43mskip\u001b[49m()\n",
      "\u001b[0;31mAttributeError\u001b[0m: 'WaterfallAuction' object has no attribute 'skip'"
     ]
    }
   ],
   "source": [
    "pass_ = choices[1](g.active_players()[0])\n",
    "g.process_action(pass_)\n",
    "\n",
    "second = g.round.active_step().companies[1]\n",
    "bid = choices[0](\n",
    "    g.active_players()[0], g.round.active_step().min_bid(second), company=second\n",
    ")\n",
    "g.process_action(bid)\n",
    "\n",
    "bid = choices[0](\n",
    "    g.active_players()[0], g.round.active_step().min_bid(second), company=second\n",
    ")\n",
    "g.process_action(bid)\n",
    "\n",
    "later = g.round.active_step().companies[-1]\n",
    "bid = choices[0](g.active_players()[0], 225, company=later)\n",
    "g.process_action(bid)\n",
    "\n",
    "first = g.round.active_step().companies[0]\n",
    "bid = choices[0](\n",
    "    g.active_players()[0], g.round.active_step().min_bid(first), company=first\n",
    ")\n",
    "g.process_action(bid)\n",
    "\n",
    "pass_ = choices[1](g.active_players()[0])\n",
    "g.process_action(pass_)\n",
    "\n",
    "first = g.round.active_step().companies[0]\n",
    "bid = choices[0](\n",
    "    g.active_players()[0], g.round.active_step().min_bid(first), company=first\n",
    ")\n",
    "g.process_action(bid)\n",
    "\n",
    "while g.round.active_step() == step:\n",
    "    first = g.round.active_step().companies[0]\n",
    "    bid = choices[0](\n",
    "        g.active_players()[0], g.round.active_step().min_bid(first), company=first\n",
    "    )\n",
    "    g.process_action(bid)\n",
    "\n",
    "par = g.round.active_step().actions(g.round.active_step().active_entities[0])[0](\n",
    "    g.round.active_step().active_entities[0],\n",
    "    g.round.companies_pending_par[0].abilities[3].shares[0].corporation(),\n",
    "    g.round.active_step().get_par_prices(\n",
    "        g.round.active_step().active_entities[0],\n",
    "        g.round.companies_pending_par[0].abilities[3].shares[0].corporation,\n",
    "    )[0],\n",
    ")\n",
    "\n",
    "g.process_action(par)"
   ]
  },
  {
   "cell_type": "markdown",
   "id": "cdbf0b30-a1e7-449d-8c2d-bf356e59aaaa",
   "metadata": {},
   "source": [
    "## Stock Round 1"
   ]
  },
  {
   "cell_type": "code",
   "execution_count": null,
   "id": "146618d7-ace4-45be-9989-827f509937c0",
   "metadata": {},
   "outputs": [],
   "source": [
    "print(f\"step: {g.active_step()}, player: {g.current_entity}\")\n",
    "choices = g.active_step().actions(g.current_entity)\n",
    "print(f\"choices: {choices}\")"
   ]
  },
  {
   "cell_type": "code",
   "execution_count": null,
   "id": "fa35f545-c16b-4b7f-a48f-eeaa8c547683",
   "metadata": {},
   "outputs": [],
   "source": [
    "choices = get_all_choices()\n",
    "choices"
   ]
  },
  {
   "cell_type": "code",
   "execution_count": null,
   "id": "73045063-956d-412c-b702-2925cdbf259c",
   "metadata": {},
   "outputs": [],
   "source": [
    "g.process_action(choices[6])"
   ]
  },
  {
   "cell_type": "markdown",
   "id": "6e4ebfdc-a737-47d4-b32d-0a9b5c1bdda0",
   "metadata": {},
   "source": [
    "## Operating Round 1"
   ]
  },
  {
   "cell_type": "code",
   "execution_count": null,
   "id": "98f80aa9-7a32-4463-ae65-457475422bb0",
   "metadata": {},
   "outputs": [],
   "source": [
    "g.actions"
   ]
  },
  {
   "cell_type": "code",
   "execution_count": null,
   "id": "e9baca7c-8f0e-469d-b51a-135dc30b3781",
   "metadata": {},
   "outputs": [],
   "source": []
  }
 ],
 "metadata": {
  "kernelspec": {
   "display_name": "python3",
   "language": "python",
   "name": "python3"
  }
 },
 "nbformat": 4,
 "nbformat_minor": 5
}
