{
 "cells": [
  {
   "cell_type": "markdown",
   "id": "fbdc7dfc-0d39-4c00-bc43-61fb3aed70ab",
   "metadata": {},
   "source": [
    "# Game Engine"
   ]
  },
  {
   "cell_type": "code",
   "execution_count": null,
   "id": "e27e9763-7bf3-4dfb-b343-4754208a5dfd",
   "metadata": {},
   "outputs": [],
   "source": [
    "# | default_exp game.engine"
   ]
  },
  {
   "cell_type": "code",
   "execution_count": null,
   "id": "b2d7b0ef-4e8f-4976-aa76-e6d34a86fb86",
   "metadata": {},
   "outputs": [],
   "source": [
    "# | hide\n",
    "%load_ext lab_black"
   ]
  },
  {
   "cell_type": "code",
   "execution_count": null,
   "id": "518d6541-3593-4ae8-bc07-4b5d7b6a18a8",
   "metadata": {},
   "outputs": [],
   "source": [
    "# | export\n",
    "import importlib\n",
    "import os"
   ]
  },
  {
   "cell_type": "markdown",
   "id": "4b7813dd-603c-4da4-9763-5c2d47f2e9cc",
   "metadata": {},
   "source": [
    "All games are located within the `games` subdirectory."
   ]
  },
  {
   "cell_type": "markdown",
   "id": "69de062e-2279-483d-b514-97f9f4544ec3",
   "metadata": {},
   "source": [
    "## Engine"
   ]
  },
  {
   "cell_type": "code",
   "execution_count": null,
   "id": "5d68245c-3b3a-494e-93d2-32af2e0c625c",
   "metadata": {},
   "outputs": [],
   "source": [
    "# | export\n",
    "TITLE_DIR = \"engine/game/titles\"\n",
    "TITLE_MODULE = \"rl18xx.game.engine.game.title\""
   ]
  },
  {
   "cell_type": "code",
   "execution_count": null,
   "id": "aeab3c29-80e0-4dc7-821a-ded7080a0b22",
   "metadata": {},
   "outputs": [],
   "source": [
    "# | export\n",
    "\n",
    "\n",
    "class Engine:\n",
    "    def __init__(self):\n",
    "        self.game_modules = self._import_game_modules()\n",
    "        self.game_meta = self._collect_game_meta()\n",
    "        self.games = self._load_games()\n",
    "\n",
    "    def _import_game_modules(self):\n",
    "        game_modules = {}\n",
    "        for filename in os.listdir(TITLE_DIR):\n",
    "            if filename.endswith(\".ipynb\"):\n",
    "                module_name = filename[3:-6]\n",
    "                module_path = f\"{TITLE_MODULE}.{module_name}\"\n",
    "                game_modules[module_name] = importlib.import_module(module_path)\n",
    "        return game_modules\n",
    "\n",
    "    def _collect_game_meta(self):\n",
    "        game_meta_by_title = {}\n",
    "        for name, module in self.game_modules.items():\n",
    "            if hasattr(module, \"Meta\"):\n",
    "                meta = getattr(module, \"Meta\")\n",
    "                game_meta_by_title[meta.title()] = meta\n",
    "        return game_meta_by_title\n",
    "\n",
    "    def _load_games(self):\n",
    "        games = {}\n",
    "        for title in self.game_meta:\n",
    "            if hasattr(self.game_modules[\"g\" + title], \"Game\"):\n",
    "                games[title] = getattr(self.game_modules[\"g\" + title], \"Game\")\n",
    "        return games\n",
    "\n",
    "    def meta_by_title(self, title):\n",
    "        return self.game_meta.get(title)\n",
    "\n",
    "    def game_by_title(self, title):\n",
    "        return self.games.get(title)"
   ]
  },
  {
   "cell_type": "code",
   "execution_count": null,
   "id": "8d9c570d-653b-4a9a-8a52-1e0a1847cb21",
   "metadata": {},
   "outputs": [],
   "source": [
    "engine = Engine()"
   ]
  },
  {
   "cell_type": "code",
   "execution_count": null,
   "id": "1a95829c-186b-4016-8e87-516654d5938c",
   "metadata": {},
   "outputs": [],
   "source": [
    "game = engine.game_by_title(\"1830\")"
   ]
  },
  {
   "cell_type": "markdown",
   "id": "c35f37fb-8ee1-48a7-88e4-f80e31e88412",
   "metadata": {},
   "source": [
    "## Game Instantiation and basic tests"
   ]
  },
  {
   "cell_type": "code",
   "execution_count": null,
   "id": "564e4243-80a7-4ae1-85e8-8173b1d4c8ef",
   "metadata": {},
   "outputs": [],
   "source": [
    "g = game({\"1\": \"hi\", \"2\": \"my\", \"3\": \"dear\", \"4\": \"friend\"})"
   ]
  },
  {
   "cell_type": "code",
   "execution_count": null,
   "id": "b1a01d71-03ae-4146-b0ed-8587d92426c9",
   "metadata": {},
   "outputs": [],
   "source": [
    "import inspect\n",
    "\n",
    "test = False\n",
    "\n",
    "skipped = []\n",
    "methods = []\n",
    "non_methods = []\n",
    "for item_name in dir(g):\n",
    "    if item_name.startswith(\"init\") or item_name.startswith(\"_\") or item_name.isupper():\n",
    "        skipped.append(item_name)\n",
    "        continue\n",
    "\n",
    "    item = getattr(g, item_name)\n",
    "    if callable(item):\n",
    "        if inspect.signature(item).parameters:\n",
    "            skipped.append(item)\n",
    "        else:\n",
    "            # print(item_name)\n",
    "            methods.append(item_name)\n",
    "            if test:\n",
    "                item()\n",
    "    else:\n",
    "        # print(f\"name: {item_name}, value: {item}\")\n",
    "        non_methods.append(item_name)\n",
    "\n",
    "# methods, non_methods"
   ]
  },
  {
   "cell_type": "markdown",
   "id": "0f49b2b5-b03c-4858-89ad-56fb8955b209",
   "metadata": {},
   "source": [
    "## Actions Helper"
   ]
  },
  {
   "cell_type": "code",
   "execution_count": null,
   "id": "033c0a43-18e6-4fc1-be59-7611be43bae4",
   "metadata": {},
   "outputs": [],
   "source": [
    "from rl18xx.game.engine.actions import (\n",
    "    Bid,\n",
    "    BuyShares,\n",
    "    BuyTrain,\n",
    "    LayTile,\n",
    "    Par,\n",
    "    Pass,\n",
    "    PlaceToken,\n",
    "    SellShares,\n",
    ")\n",
    "\n",
    "from rl18xx.game.engine.round import BuyTrain as BuyTrainStep\n",
    "\n",
    "from collections import defaultdict\n",
    "\n",
    "\n",
    "def get_current_actions():\n",
    "    return g.active_step().actions(g.current_entity)\n",
    "\n",
    "\n",
    "def get_bid_actions():\n",
    "    companies = g.active_step().companies\n",
    "    bids = []\n",
    "    bids.append(\n",
    "        Bid(g.current_entity, g.active_step().min_bid(companies[0]), companies[0])\n",
    "    )\n",
    "    for company in companies[1:]:\n",
    "        min_bid = g.active_step().min_bid(company)\n",
    "        max_bid = g.active_step().max_bid(g.current_entity, company)\n",
    "        bid_values = list(\n",
    "            range(min_bid - (min_bid % 5), (max_bid + 1) - ((max_bid + 1) % 5), 5)\n",
    "        )\n",
    "        bids.append(\n",
    "            [Bid(g.current_entity, bid_value, company) for bid_value in bid_values]\n",
    "        )\n",
    "    return bids\n",
    "\n",
    "\n",
    "def get_par_actions():\n",
    "    parable_corporations = sorted(\n",
    "        [corp for corp in g.corporations if g.can_par(corp, g.current_entity)],\n",
    "        key=lambda corporation: corporation.name,\n",
    "    )\n",
    "    par_values = g.share_prices\n",
    "    buying_power = g.buying_power(g.current_entity)\n",
    "    return [\n",
    "        Par(g.current_entity, corp, price)\n",
    "        for corp in parable_corporations\n",
    "        for price in par_values\n",
    "        if 2 * price.price <= buying_power\n",
    "    ]\n",
    "\n",
    "\n",
    "def get_buy_shares_actions():\n",
    "    buyable_shares = [\n",
    "        item\n",
    "        for sublist in g.active_step().buyable_shares(g.current_entity)\n",
    "        for item in sublist\n",
    "    ]\n",
    "    unique_buyable_shares = sorted(\n",
    "        list(set(buyable_shares)), key=lambda share: share.corporation()\n",
    "    )\n",
    "    return [BuyShares(g.current_entity, share) for share in unique_buyable_shares]\n",
    "\n",
    "\n",
    "def get_sell_shares_actions():\n",
    "    if isinstance(g.active_step(), BuyTrainStep):\n",
    "        return []\n",
    "    else:\n",
    "        return g.active_step().sellable_shares(g.current_entity)\n",
    "\n",
    "\n",
    "def get_place_token_actions():\n",
    "    if hasattr(g.active_step(), \"pending_token\") and g.active_step().pending_token:\n",
    "        hexes = g.active_step().pending_token.get(\"hexes\")\n",
    "        return [\n",
    "            PlaceToken(g.current_entity, city, city.get_slot(g.current_entity))\n",
    "            for hex in hexes\n",
    "            for city in hex._tile.cities\n",
    "        ]\n",
    "\n",
    "    return [\n",
    "        PlaceToken(g.current_entity, city, city.get_slot(g.current_entity))\n",
    "        for city in g.graph.connected_nodes(g.current_entity)\n",
    "        if city.tokenable(g.current_entity)\n",
    "    ]\n",
    "\n",
    "\n",
    "def get_lay_tile_actions():\n",
    "    # TODO: May need this in later phases\n",
    "    # upgradable_tiles = {}\n",
    "    # upgradable_tiles[hex] = g.active_step().upgradeable_tiles(g.current_entity, hex)\n",
    "    moves = defaultdict(dict)\n",
    "    for hex in g.graph.connected_hexes(g.current_entity):\n",
    "        layable_tiles = g.active_step().potential_tiles(g.current_entity, hex)\n",
    "        for tile in layable_tiles:\n",
    "            rotations = g.active_step().legal_tile_rotations(\n",
    "                g.current_entity, hex, tile\n",
    "            )\n",
    "            moves[hex][tile] = rotations\n",
    "    return [\n",
    "        LayTile(g.current_entity, tile, hex, rotation)\n",
    "        for hex in moves\n",
    "        for tile in moves[hex]\n",
    "        for rotation in moves[hex][tile]\n",
    "    ]\n",
    "\n",
    "def get_buy_train_actions():\n",
    "    # TODO: implement <buy cheapest train from depot>\n",
    "    # TODO: implement <buy any train from share/train pool>\n",
    "    # TODO: implement <buy any train for any price from corps you own>\n",
    "    pass\n",
    "\n",
    "\n",
    "def get_choices_for_action(action):\n",
    "    if action == Pass:\n",
    "        return [Pass(g.current_entity)]\n",
    "    elif action == Bid:\n",
    "        return get_bid_actions()\n",
    "    elif action == Par:\n",
    "        return get_par_actions()\n",
    "    elif action == BuyShares:\n",
    "        return get_buy_shares_actions()\n",
    "    elif action == SellShares:\n",
    "        return get_sell_shares_actions()\n",
    "    elif action == PlaceToken:\n",
    "        return get_place_token_actions()\n",
    "    elif action == LayTile:\n",
    "        return get_lay_tile_actions()\n",
    "    elif action == BuyTrain:\n",
    "        return get_buy_train_actions()\n",
    "    else:\n",
    "        return []\n",
    "\n",
    "\n",
    "def get_all_choices():\n",
    "    choices = [\n",
    "        choices\n",
    "        for action in get_current_actions()\n",
    "        for choices in get_choices_for_action(action)\n",
    "    ]\n",
    "    return choices\n",
    "\n",
    "\n",
    "# get_all_choices()"
   ]
  },
  {
   "cell_type": "code",
   "execution_count": null,
   "id": "78cbbfaa-2366-4899-983d-46877f2fac95",
   "metadata": {},
   "outputs": [
    {
     "name": "stdout",
     "output_type": "stream",
     "text": [
      "step: <WaterfallAuction>, player: Player - hi\n",
      "choices: [<class 'rl18xx.game.engine.actions.Bid'>, <class 'rl18xx.game.engine.actions.Pass'>]\n"
     ]
    }
   ],
   "source": [
    "step = g.active_step()\n",
    "step, g.active_players()\n",
    "print(f\"step: {g.active_step()}, player: {g.current_entity}\")\n",
    "choices = g.active_step().actions(g.current_entity)\n",
    "print(f\"choices: {choices}\")"
   ]
  },
  {
   "cell_type": "markdown",
   "id": "53bf6dfa-0087-4288-b9ba-b34700a4b4a5",
   "metadata": {},
   "source": [
    "## Waterfall auction"
   ]
  },
  {
   "cell_type": "code",
   "execution_count": null,
   "id": "4f3552aa-0d25-4e14-8c46-654fe312e819",
   "metadata": {},
   "outputs": [],
   "source": [
    "# get_all_choices()"
   ]
  },
  {
   "cell_type": "code",
   "execution_count": null,
   "id": "7f82914d-94f2-4b86-b0b5-3fd0968a18bc",
   "metadata": {},
   "outputs": [
    {
     "data": {
      "text/plain": [
       "<rl18xx.game.engine.game.title.g1830.Game>"
      ]
     },
     "execution_count": null,
     "metadata": {},
     "output_type": "execute_result"
    }
   ],
   "source": [
    "pass_ = choices[1](g.active_players()[0])\n",
    "g.process_action(pass_)\n",
    "\n",
    "second = g.round.active_step().companies[1]\n",
    "bid = choices[0](\n",
    "    g.active_players()[0], g.round.active_step().min_bid(second), company=second\n",
    ")\n",
    "g.process_action(bid)\n",
    "\n",
    "bid = choices[0](\n",
    "    g.active_players()[0], g.round.active_step().min_bid(second), company=second\n",
    ")\n",
    "g.process_action(bid)\n",
    "\n",
    "later = g.round.active_step().companies[-1]\n",
    "bid = choices[0](g.active_players()[0], 225, company=later)\n",
    "g.process_action(bid)\n",
    "\n",
    "first = g.round.active_step().companies[0]\n",
    "bid = choices[0](\n",
    "    g.active_players()[0], g.round.active_step().min_bid(first), company=first\n",
    ")\n",
    "g.process_action(bid)\n",
    "\n",
    "pass_ = choices[1](g.active_players()[0])\n",
    "g.process_action(pass_)\n",
    "\n",
    "first = g.round.active_step().companies[0]\n",
    "bid = choices[0](\n",
    "    g.active_players()[0], g.round.active_step().min_bid(first), company=first\n",
    ")\n",
    "g.process_action(bid)\n",
    "\n",
    "while g.round.active_step() == step:\n",
    "    first = g.round.active_step().companies[0]\n",
    "    bid = choices[0](\n",
    "        g.active_players()[0], g.round.active_step().min_bid(first), company=first\n",
    "    )\n",
    "    g.process_action(bid)\n",
    "\n",
    "par = g.round.active_step().actions(g.round.active_step().active_entities[0])[0](\n",
    "    g.round.active_step().active_entities[0],\n",
    "    g.round.companies_pending_par[0].abilities[3].shares[0].corporation(),\n",
    "    g.round.active_step().get_par_prices(\n",
    "        g.round.active_step().active_entities[0],\n",
    "        g.round.companies_pending_par[0].abilities[3].shares[0].corporation,\n",
    "    )[0],\n",
    ")\n",
    "\n",
    "g.process_action(par)"
   ]
  },
  {
   "cell_type": "markdown",
   "id": "cdbf0b30-a1e7-449d-8c2d-bf356e59aaaa",
   "metadata": {},
   "source": [
    "## Stock Round 1"
   ]
  },
  {
   "cell_type": "code",
   "execution_count": null,
   "id": "227c6ff3-3047-484b-bbd5-7ed453497f22",
   "metadata": {},
   "outputs": [
    {
     "data": {
      "text/plain": [
       "<rl18xx.game.engine.game.title.g1830.Game>"
      ]
     },
     "execution_count": null,
     "metadata": {},
     "output_type": "execute_result"
    }
   ],
   "source": [
    "g.process_action(get_all_choices()[-2])\n",
    "g.process_action(get_all_choices()[-1])\n",
    "g.process_action(get_all_choices()[-8])\n",
    "g.process_action(get_all_choices()[1])\n",
    "g.process_action(get_all_choices()[1])\n",
    "g.process_action(get_all_choices()[14])\n",
    "g.process_action(get_all_choices()[2])\n",
    "g.process_action(get_all_choices()[1])\n",
    "g.process_action(get_all_choices()[1])\n",
    "g.process_action(get_all_choices()[3])\n",
    "g.process_action(get_all_choices()[2])\n",
    "g.process_action(get_all_choices()[0])\n",
    "g.process_action(get_all_choices()[1])\n",
    "g.process_action(get_all_choices()[3])\n",
    "g.process_action(get_all_choices()[2])\n",
    "g.process_action(get_all_choices()[1])\n",
    "g.process_action(get_all_choices()[2])\n",
    "g.process_action(get_all_choices()[1])\n",
    "g.process_action(get_all_choices()[1])\n",
    "g.process_action(get_all_choices()[2])\n",
    "g.process_action(get_all_choices()[1])\n",
    "g.process_action(get_all_choices()[1])"
   ]
  },
  {
   "cell_type": "markdown",
   "id": "6e4ebfdc-a737-47d4-b32d-0a9b5c1bdda0",
   "metadata": {},
   "source": [
    "## Operating Round 1"
   ]
  },
  {
   "cell_type": "code",
   "execution_count": null,
   "id": "81c35aa6-1fd5-4021-a516-74d8a96ac570",
   "metadata": {},
   "outputs": [
    {
     "data": {
      "text/plain": [
       "<rl18xx.game.engine.game.title.g1830.Game>"
      ]
     },
     "execution_count": null,
     "metadata": {},
     "output_type": "execute_result"
    }
   ],
   "source": [
    "g.process_action(get_all_choices()[0])\n",
    "g.process_action(get_all_choices()[1])"
   ]
  },
  {
   "cell_type": "code",
   "execution_count": null,
   "id": "db84f83a-42ea-4fb4-9e22-3078ce6728e4",
   "metadata": {},
   "outputs": [
    {
     "name": "stdout",
     "output_type": "stream",
     "text": [
      "step: <BuyTrain>, player: <Corporation: PRR>, purchasing power: 670.0\n",
      "possible actions: [<class 'rl18xx.game.engine.actions.SellShares'>, <class 'rl18xx.game.engine.actions.BuyTrain'>]\n"
     ]
    },
    {
     "data": {
      "text/plain": [
       "[]"
      ]
     },
     "execution_count": null,
     "metadata": {},
     "output_type": "execute_result"
    }
   ],
   "source": [
    "print(\n",
    "    f\"step: {g.active_step()}, player: {g.current_entity}, purchasing power: {g.buying_power(g.current_entity)}\"\n",
    ")\n",
    "print(f\"possible actions: {g.active_step().actions(g.current_entity)}\")\n",
    "get_all_choices()"
   ]
  },
  {
   "cell_type": "markdown",
   "id": "4ff2a91f-25ca-474c-9d16-187993eb7237",
   "metadata": {},
   "source": [
    "## TODO\n",
    "\n",
    "* figure out why run routes and pay dividends were not automatically skipped and auto-skip it\n",
    "    * think about how to do the route runner - probably auto route everything to make it easier instead of making the AI do it\n",
    "    * in OR 2 we will implement run-routes and dividend step actions\n",
    "* next step to handle should be BuyTrain though"
   ]
  },
  {
   "cell_type": "code",
   "execution_count": null,
   "id": "e9baca7c-8f0e-469d-b51a-135dc30b3781",
   "metadata": {},
   "outputs": [
    {
     "data": {
      "text/plain": [
       "True"
      ]
     },
     "execution_count": null,
     "metadata": {},
     "output_type": "execute_result"
    }
   ],
   "source": [
    "isinstance(g.active_step(), BuyTrainStep)"
   ]
  },
  {
   "cell_type": "code",
   "execution_count": null,
   "id": "19214a81-9bab-4464-b0df-7d27985c75f8",
   "metadata": {},
   "outputs": [],
   "source": []
  },
  {
   "cell_type": "code",
   "execution_count": null,
   "id": "836eb4c7-50da-4950-8058-2b5c225404a4",
   "metadata": {},
   "outputs": [
    {
     "data": {
      "text/plain": [
       "[<Entry message='-- Phase 2 (Operating Rounds: 1 | Train Limit: 4 | Available Tiles: Yellow)', action_id=0>,\n",
       " <Entry message='adding share <Share: PRR 10%> for id PRR_1 to ability <rl18xx.game.engine.abilities.Shares object>', action_id=0>,\n",
       " <Entry message='setting <rl18xx.game.engine.abilities.Shares object>'s shares to [<Share: PRR 10%>]', action_id=0>,\n",
       " <Entry message='adding share <Share: B&O 20%> for id B&O_0 to ability <rl18xx.game.engine.abilities.Shares object>', action_id=0>,\n",
       " <Entry message='setting <rl18xx.game.engine.abilities.Shares object>'s shares to [<Share: B&O 20%>]', action_id=0>,\n",
       " <Entry message='hi passes bidding', action_id=1>,\n",
       " <Entry message='my bids $45 for Champlain & St.Lawrence', action_id=2>,\n",
       " <Entry message='dear bids $50 for Champlain & St.Lawrence', action_id=3>,\n",
       " <Entry message='friend bids $225 for Baltimore & Ohio', action_id=4>,\n",
       " <Entry message='hi buys Schuylkill Valley for $20', action_id=5>,\n",
       " <Entry message='Champlain & St.Lawrence goes up for auction', action_id=5>,\n",
       " <Entry message='my passes on Champlain & St.Lawrence', action_id=6>,\n",
       " <Entry message='dear wins the auction for Champlain & St.Lawrence with a bid of $50', action_id=6>,\n",
       " <Entry message='my buys Delaware & Hudson for $70', action_id=7>,\n",
       " <Entry message='dear buys Mohawk & Hudson for $110', action_id=8>,\n",
       " <Entry message='friend buys Camden & Amboy for $160', action_id=9>,\n",
       " <Entry message='friend receives a 10% share of PRR', action_id=9>,\n",
       " <Entry message='friend wins the auction for Baltimore & Ohio with the only bid of $225', action_id=9>,\n",
       " <Entry message='friend pars B&O at $100', action_id=10>,\n",
       " <Entry message='friend receives a 20% share of B&O', action_id=10>,\n",
       " <Entry message='friend becomes the president of B&O', action_id=10>,\n",
       " <Entry message='hi has priority deal', action_id=10>,\n",
       " <Entry message='-- Stock Round 1 --', action_id=10>,\n",
       " <Entry message='hi pars PRR at $67', action_id=11>,\n",
       " <Entry message='hi buys a 20% share of PRR from the IPO for $134', action_id=11>,\n",
       " <Entry message='hi becomes the president of PRR', action_id=11>,\n",
       " <Entry message='my passes', action_id=12>,\n",
       " <Entry message='dear pars NYC at $67', action_id=13>,\n",
       " <Entry message='dear buys a 20% share of NYC from the IPO for $134', action_id=13>,\n",
       " <Entry message='dear becomes the president of NYC', action_id=13>,\n",
       " <Entry message='friend buys a 10% share of PRR from the IPO for $67', action_id=14>,\n",
       " <Entry message='hi buys a 10% share of PRR from the IPO for $67', action_id=15>,\n",
       " <Entry message='my pars C&O at $67', action_id=16>,\n",
       " <Entry message='my buys a 20% share of C&O from the IPO for $134', action_id=16>,\n",
       " <Entry message='my becomes the president of C&O', action_id=16>,\n",
       " <Entry message='dear buys a 10% share of NYC from the IPO for $67', action_id=17>,\n",
       " <Entry message='friend buys a 10% share of PRR from the IPO for $67', action_id=18>,\n",
       " <Entry message='PRR floats', action_id=18>,\n",
       " <Entry message='PRR receives $670.0', action_id=18>,\n",
       " <Entry message='hi buys a 10% share of PRR from the IPO for $67', action_id=19>,\n",
       " <Entry message='my buys a 10% share of C&O from the IPO for $67', action_id=20>,\n",
       " <Entry message='dear buys a 10% share of NYC from the IPO for $67', action_id=21>,\n",
       " <Entry message='friend buys a 10% share of PRR from the IPO for $67', action_id=22>,\n",
       " <Entry message='hi buys a 10% share of PRR from the IPO for $67', action_id=23>,\n",
       " <Entry message='my buys a 10% share of C&O from the IPO for $67', action_id=24>,\n",
       " <Entry message='dear buys a 10% share of NYC from the IPO for $67', action_id=25>,\n",
       " <Entry message='friend has no valid actions and passes', action_id=25>,\n",
       " <Entry message='hi buys a 10% share of PRR from the IPO for $67', action_id=26>,\n",
       " <Entry message='my buys a 10% share of C&O from the IPO for $67', action_id=27>,\n",
       " <Entry message='dear buys a 10% share of NYC from the IPO for $67', action_id=28>,\n",
       " <Entry message='NYC floats', action_id=28>,\n",
       " <Entry message='NYC receives $670.0', action_id=28>,\n",
       " <Entry message='friend has no valid actions and passes', action_id=28>,\n",
       " <Entry message='hi buys a 10% share of NYC from the IPO for $67', action_id=29>,\n",
       " <Entry message='my buys a 10% share of C&O from the IPO for $67', action_id=30>,\n",
       " <Entry message='C&O floats', action_id=30>,\n",
       " <Entry message='C&O receives $670.0', action_id=30>,\n",
       " <Entry message='dear has no valid actions and passes', action_id=30>,\n",
       " <Entry message='friend has no valid actions and passes', action_id=30>,\n",
       " <Entry message='hi buys a 10% share of NYC from the IPO for $67', action_id=31>,\n",
       " <Entry message='my buys a 10% share of NYC from the IPO for $67', action_id=32>,\n",
       " <Entry message='dear has no valid actions and passes', action_id=32>,\n",
       " <Entry message='friend has no valid actions and passes', action_id=32>,\n",
       " <Entry message='hi has no valid actions and passes', action_id=32>,\n",
       " <Entry message='my has no valid actions and passes', action_id=32>,\n",
       " <Entry message='PRR's share price moves up from $67 to $71', action_id=32>,\n",
       " <Entry message='dear has priority deal', action_id=32>,\n",
       " <Entry message='-- Operating Round 1.1 (of 1) --', action_id=32>,\n",
       " <Entry message='dear collects $10 from Champlain & St.Lawrence', action_id=32>,\n",
       " <Entry message='dear collects $20 from Mohawk & Hudson', action_id=32>,\n",
       " <Entry message='friend collects $25 from Camden & Amboy', action_id=32>,\n",
       " <Entry message='friend collects $30 from Baltimore & Ohio', action_id=32>,\n",
       " <Entry message='hi collects $5 from Schuylkill Valley', action_id=32>,\n",
       " <Entry message='my collects $15 from Delaware & Hudson', action_id=32>,\n",
       " <Entry message='hi operates PRR', action_id=32>,\n",
       " <Entry message='PRR places a token on H12', action_id=32>,\n",
       " <Entry message='PRR lays tile #57 with rotation 1 on H10 (Pittsburgh)', action_id=33>,\n",
       " <Entry message='PRR passes place a token', action_id=34>,\n",
       " <Entry message='PRR skips run routes', action_id=34>,\n",
       " <Entry message='PRR does not run', action_id=34>,\n",
       " <Entry message='PRR's share price moves left from $71 to $67', action_id=34>]"
      ]
     },
     "execution_count": null,
     "metadata": {},
     "output_type": "execute_result"
    }
   ],
   "source": [
    "g.log"
   ]
  },
  {
   "cell_type": "code",
   "execution_count": null,
   "id": "f8770213-2e0b-40aa-81f6-a5295dcb23e6",
   "metadata": {},
   "outputs": [],
   "source": []
  }
 ],
 "metadata": {
  "kernelspec": {
   "display_name": "python3",
   "language": "python",
   "name": "python3"
  }
 },
 "nbformat": 4,
 "nbformat_minor": 5
}
