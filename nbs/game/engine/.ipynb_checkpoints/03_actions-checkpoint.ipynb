{
 "cells": [
  {
   "cell_type": "markdown",
   "id": "18f67372-0389-4ac0-9636-a575a105f844",
   "metadata": {},
   "source": [
    "# Actions"
   ]
  },
  {
   "cell_type": "code",
   "execution_count": 1,
   "id": "fda7cc37-b5d1-4dfd-b62d-fd8089fa68b1",
   "metadata": {},
   "outputs": [],
   "source": [
    "#|default_exp game.engine.actions"
   ]
  },
  {
   "cell_type": "code",
   "execution_count": 2,
   "id": "44580b4f-6a74-4435-9023-875de8d82c38",
   "metadata": {},
   "outputs": [],
   "source": [
    "# | hide\n",
    "%load_ext lab_black"
   ]
  },
  {
   "cell_type": "code",
   "execution_count": 3,
   "id": "2bedd1cb-3e83-471e-a0b8-58d53ee3df39",
   "metadata": {},
   "outputs": [],
   "source": [
    "# | export\n",
    "from rl18xx.game.engine.core import ShareBundle, Item\n",
    "from rl18xx.game.engine.graph import Route"
   ]
  },
  {
   "cell_type": "markdown",
   "id": "6de6ef8b-1459-43b1-9efc-dbaff6c277a9",
   "metadata": {
    "jp-MarkdownHeadingCollapsed": true
   },
   "source": [
    "# Base Action Class"
   ]
  },
  {
   "cell_type": "code",
   "execution_count": 4,
   "id": "85b996c2-79df-4a99-b8d2-5953773d5f69",
   "metadata": {},
   "outputs": [],
   "source": [
    "# | export\n",
    "from abc import ABC, abstractmethod\n",
    "import time\n",
    "\n",
    "\n",
    "class BaseAction(ABC):\n",
    "    def __init__(self, entity):\n",
    "        self.entity = entity\n",
    "        self.created_at = time.time()\n",
    "        self.auto_actions = []\n",
    "\n",
    "    @staticmethod\n",
    "    def from_h(h, game):\n",
    "        entity_type = h.get(\"entity_type\")\n",
    "        entity_id = h.get(\"entity\")\n",
    "        entity = game.get(entity_type, entity_id) or Player(None, entity_id)\n",
    "        obj = new(entity, **Base.h_to_args(h, game))\n",
    "        if entity.player and h.get(\"user\") != entity.player.id:\n",
    "            obj.user = h.get(\"user\")\n",
    "        obj.created_at = h.get(\"created_at\") or time.time()\n",
    "        obj.auto_actions = [\n",
    "            Base.action_from_h(auto_h, game) for auto_h in h.get(\"auto_actions\", [])\n",
    "        ]\n",
    "        return obj\n",
    "\n",
    "    @staticmethod\n",
    "    def action_from_h(h, game):\n",
    "        action_type = Base.type(h.get(\"type\"))\n",
    "        action_class = getattr(Engine.Action, action_type)\n",
    "        return action_class.from_h(h, game)\n",
    "\n",
    "    @staticmethod\n",
    "    def h_to_args(h, game):\n",
    "        return {}\n",
    "\n",
    "    @property\n",
    "    def args_to_h(self):\n",
    "        return {}\n",
    "\n",
    "    def clear_cache(self):\n",
    "        self._h = None\n",
    "\n",
    "    def to_h(self):\n",
    "        if not hasattr(self, \"_h\") or self._h is None:\n",
    "            self._h = {\n",
    "                \"type\": self.type,\n",
    "                \"entity\": self.entity.id,\n",
    "                \"entity_type\": self.type_s(self.entity),\n",
    "                \"id\": self.id,\n",
    "                \"user\": self.user if hasattr(self, \"user\") else None,\n",
    "                \"created_at\": int(self.created_at),\n",
    "                \"auto_actions\": [auto_action.to_h for auto_action in self.auto_actions]\n",
    "                if self.auto_actions\n",
    "                else None,\n",
    "                **self.args_to_h,\n",
    "            }\n",
    "            self._h = {k: v for k, v in self._h.items() if v is not None}\n",
    "        return self._h\n",
    "\n",
    "    @abstractmethod\n",
    "    def pass_(self):\n",
    "        return False\n",
    "\n",
    "    def copy(self, game):\n",
    "        return self.from_h(self.to_h(), game)\n",
    "\n",
    "    @property\n",
    "    def free(self):\n",
    "        return False\n",
    "\n",
    "    def __lt__(self, other):\n",
    "        if self.id and other.id:\n",
    "            return self.id < other.id\n",
    "        else:\n",
    "            return int(self.created_at) < int(other.created_at)"
   ]
  },
  {
   "cell_type": "markdown",
   "id": "75912c26-3711-4319-a663-c8a33e17ada6",
   "metadata": {},
   "source": [
    "# Action Implementations"
   ]
  },
  {
   "cell_type": "markdown",
   "id": "d4a456b4-aa73-47f0-baf3-6d5e289dbc03",
   "metadata": {
    "jp-MarkdownHeadingCollapsed": true
   },
   "source": [
    "## Acquire Company"
   ]
  },
  {
   "cell_type": "code",
   "execution_count": 5,
   "id": "59045c6d-2f4f-408f-98e3-42424d09428f",
   "metadata": {},
   "outputs": [],
   "source": [
    "# | export\n",
    "class AcquireCompany(BaseAction):\n",
    "    def __init__(self, entity, company):\n",
    "        super().__init__(entity)\n",
    "        self.company = company\n",
    "\n",
    "    @classmethod\n",
    "    def from_h(cls, h, game):\n",
    "        return cls(\n",
    "            entity=game.get(h[\"entity_type\"], h[\"entity\"]),\n",
    "            company=game.company_by_id(h[\"company\"]),\n",
    "        )\n",
    "\n",
    "    def to_h(self):\n",
    "        return {\n",
    "            \"type\": \"acquire_company\",\n",
    "            \"entity\": self.entity.id,\n",
    "            \"entity_type\": type_s(self.entity),\n",
    "            \"company\": self.company.id,\n",
    "        }\n",
    "\n",
    "    def args_to_h(self):\n",
    "        return {\n",
    "            \"company\": self.company.id,\n",
    "        }"
   ]
  },
  {
   "cell_type": "markdown",
   "id": "44563df4-63d5-4f16-ae52-723fd3fe2cc3",
   "metadata": {
    "jp-MarkdownHeadingCollapsed": true
   },
   "source": [
    "## Assign"
   ]
  },
  {
   "cell_type": "code",
   "execution_count": 6,
   "id": "18214a7a-7ba4-4947-877e-b80f52cd2cf3",
   "metadata": {},
   "outputs": [],
   "source": [
    "# | export\n",
    "class Assign(BaseAction):\n",
    "    def __init__(self, entity, target):\n",
    "        super().__init__(entity)\n",
    "        self.target = target\n",
    "\n",
    "    @classmethod\n",
    "    def from_h(cls, h, game):\n",
    "        return cls(\n",
    "            entity=game.get(h[\"entity_type\"], h[\"entity\"]),\n",
    "            target=game.get(h[\"target_type\"], h[\"target\"]),\n",
    "        )\n",
    "\n",
    "    def to_h(self):\n",
    "        return {\n",
    "            \"type\": \"assign\",\n",
    "            \"entity\": self.entity.id,\n",
    "            \"entity_type\": type_s(self.entity),\n",
    "            \"target\": self.target.id,\n",
    "            \"target_type\": type_s(self.target),\n",
    "        }\n",
    "\n",
    "    def args_to_h(self):\n",
    "        return {\n",
    "            \"target\": self.target.id,\n",
    "            \"target_type\": type_s(self.target),\n",
    "        }"
   ]
  },
  {
   "cell_type": "markdown",
   "id": "e1026adf-24e2-4f52-b179-90fd429ac9e5",
   "metadata": {
    "jp-MarkdownHeadingCollapsed": true
   },
   "source": [
    "## Bankrupt"
   ]
  },
  {
   "cell_type": "code",
   "execution_count": 7,
   "id": "ad803020-47a3-4774-9ca4-f62ba0c7d229",
   "metadata": {},
   "outputs": [],
   "source": [
    "# | export\n",
    "class Bankrupt(BaseAction):\n",
    "    def __init__(self, entity, option=None):\n",
    "        super().__init__(entity)\n",
    "        self.option = option\n",
    "\n",
    "    @classmethod\n",
    "    def from_h(cls, h, _game):\n",
    "        return cls(entity=h[\"entity\"], option=h[\"option\"])\n",
    "\n",
    "    def to_h(self):\n",
    "        return {\n",
    "            \"type\": \"bankrupt\",\n",
    "            \"entity\": self.entity.id,\n",
    "            \"option\": self.option,\n",
    "        }\n",
    "\n",
    "    def args_to_h(self):\n",
    "        return {\n",
    "            \"option\": self.option,\n",
    "        }"
   ]
  },
  {
   "cell_type": "markdown",
   "id": "61bd44fe-83a3-4989-8b46-6a59d643cd30",
   "metadata": {
    "jp-MarkdownHeadingCollapsed": true
   },
   "source": [
    "## Bid"
   ]
  },
  {
   "cell_type": "code",
   "execution_count": 8,
   "id": "59381775-2e63-4ca5-a2f1-2f761eb8a36e",
   "metadata": {},
   "outputs": [],
   "source": [
    "# | export\n",
    "class Bid(BaseAction):\n",
    "    def __init__(self, entity, price, company=None, corporation=None, minor=None):\n",
    "        super().__init__(entity)\n",
    "        self.company = company\n",
    "        self.corporation = corporation\n",
    "        self.minor = minor\n",
    "        self.price = price\n",
    "\n",
    "    @classmethod\n",
    "    def from_h(cls, h, game):\n",
    "        return cls(\n",
    "            entity=h[\"entity\"],\n",
    "            company=game.company_by_id(h[\"company\"]),\n",
    "            corporation=game.corporation_by_id(h[\"corporation\"]),\n",
    "            minor=game.minor_by_id(h[\"minor\"]),\n",
    "            price=h[\"price\"],\n",
    "        )\n",
    "\n",
    "    def to_h(self):\n",
    "        return {\n",
    "            \"type\": \"bid\",\n",
    "            \"entity\": self.entity.id,\n",
    "            \"company\": self.company.id if self.company else None,\n",
    "            \"corporation\": self.corporation.id if self.corporation else None,\n",
    "            \"minor\": self.minor.id if self.minor else None,\n",
    "            \"price\": self.price,\n",
    "        }\n",
    "\n",
    "    def args_to_h(self):\n",
    "        return {\n",
    "            \"company\": self.company.id if self.company else None,\n",
    "            \"corporation\": self.corporation.id if self.corporation else None,\n",
    "            \"minor\": self.minor.id if self.minor else None,\n",
    "            \"price\": self.price,\n",
    "        }"
   ]
  },
  {
   "cell_type": "markdown",
   "id": "ffc82716-c8a8-4bc2-99da-da38c3099f1e",
   "metadata": {
    "jp-MarkdownHeadingCollapsed": true
   },
   "source": [
    "## Blind Bid"
   ]
  },
  {
   "cell_type": "code",
   "execution_count": 9,
   "id": "05b53b5e-f075-444a-abbf-014876d942b6",
   "metadata": {},
   "outputs": [],
   "source": [
    "# | export\n",
    "class BlindBid(BaseAction):\n",
    "    def __init__(self, entity, bids=None):\n",
    "        super().__init__(entity)\n",
    "        self.bids = bids or []\n",
    "\n",
    "    @classmethod\n",
    "    def from_h(cls, h, _game):\n",
    "        return cls(\n",
    "            entity=h[\"entity\"],\n",
    "            bids=[int(bid) for bid in h[\"bids\"]] if \"bids\" in h else [],\n",
    "        )\n",
    "\n",
    "    def to_h(self):\n",
    "        return {\n",
    "            \"type\": \"blind_bid\",\n",
    "            \"entity\": self.entity.id,\n",
    "            \"bids\": [str(bid) for bid in self.bids],\n",
    "        }\n",
    "\n",
    "    def args_to_h(self):\n",
    "        return {\"bids\": [str(bid) for bid in self.bids]}"
   ]
  },
  {
   "cell_type": "markdown",
   "id": "e044d355-0a77-42cc-b77c-e73c45195c8a",
   "metadata": {
    "jp-MarkdownHeadingCollapsed": true
   },
   "source": [
    "## Borrow Train"
   ]
  },
  {
   "cell_type": "code",
   "execution_count": 10,
   "id": "94c7c66c-1c26-418c-8085-fc43c8d9a2c1",
   "metadata": {},
   "outputs": [],
   "source": [
    "# | export\n",
    "class BorrowTrain(BaseAction):\n",
    "    def __init__(self, entity, train):\n",
    "        super().__init__(entity)\n",
    "        self.train = train\n",
    "\n",
    "    @classmethod\n",
    "    def from_h(cls, h, game):\n",
    "        return cls(entity=h[\"entity\"], train=game.train_by_id(h[\"train\"]))\n",
    "\n",
    "    def to_h(self):\n",
    "        return {\n",
    "            \"type\": \"borrow_train\",\n",
    "            \"entity\": self.entity.id,\n",
    "            \"train\": self.train.id,\n",
    "        }\n",
    "\n",
    "    def args_to_h(self):\n",
    "        return {\"train\": self.train.id}"
   ]
  },
  {
   "cell_type": "markdown",
   "id": "66d860b8-5a9c-4849-b9ee-a79d8b9e2c5d",
   "metadata": {
    "jp-MarkdownHeadingCollapsed": true
   },
   "source": [
    "## Buy Company"
   ]
  },
  {
   "cell_type": "code",
   "execution_count": 11,
   "id": "1be29a7d-e1c3-40e3-ac8f-2f6d3bcc1f81",
   "metadata": {},
   "outputs": [],
   "source": [
    "# | export\n",
    "class BuyCompany(BaseAction):\n",
    "    def __init__(self, entity, company, price):\n",
    "        super().__init__(entity)\n",
    "        self.company = company\n",
    "        self.price = price\n",
    "\n",
    "    @classmethod\n",
    "    def from_h(cls, h, game):\n",
    "        return cls(\n",
    "            entity=h[\"entity\"],\n",
    "            company=game.company_by_id(h[\"company\"]),\n",
    "            price=h[\"price\"],\n",
    "        )\n",
    "\n",
    "    def to_h(self):\n",
    "        return {\n",
    "            \"type\": \"buy_company\",\n",
    "            \"entity\": self.entity.id,\n",
    "            \"company\": self.company.id,\n",
    "            \"price\": self.price,\n",
    "        }\n",
    "\n",
    "    def args_to_h(self):\n",
    "        return {\"company\": self.company.id, \"price\": self.price}"
   ]
  },
  {
   "cell_type": "markdown",
   "id": "df941ffb-45dd-4a9d-972e-5c3bb3f75f57",
   "metadata": {
    "jp-MarkdownHeadingCollapsed": true
   },
   "source": [
    "## Buy Corporation"
   ]
  },
  {
   "cell_type": "code",
   "execution_count": 12,
   "id": "11e58248-ecb9-4aee-8631-b2fdfb8cf286",
   "metadata": {},
   "outputs": [],
   "source": [
    "# | export\n",
    "class BuyCorporation(BaseAction):\n",
    "    def __init__(self, entity, price, corporation=None, minor=None):\n",
    "        super().__init__(entity)\n",
    "        self.corporation = corporation\n",
    "        self.minor = minor\n",
    "        self.price = price\n",
    "\n",
    "    @classmethod\n",
    "    def from_h(cls, h, game):\n",
    "        return cls(\n",
    "            entity=h[\"entity\"],\n",
    "            corporation=game.corporation_by_id(h[\"corporation\"]),\n",
    "            minor=game.minor_by_id(h[\"minor\"]),\n",
    "            price=h[\"price\"],\n",
    "        )\n",
    "\n",
    "    def to_h(self):\n",
    "        return {\n",
    "            \"type\": \"buy_corporation\",\n",
    "            \"entity\": self.entity.id,\n",
    "            \"corporation\": self.corporation.id if self.corporation else None,\n",
    "            \"minor\": self.minor.id if self.minor else None,\n",
    "            \"price\": self.price,\n",
    "        }\n",
    "\n",
    "    def args_to_h(self):\n",
    "        return {\n",
    "            \"corporation\": self.corporation.id if self.corporation else None,\n",
    "            \"minor\": self.minor.id if self.minor else None,\n",
    "            \"price\": self.price,\n",
    "        }"
   ]
  },
  {
   "cell_type": "markdown",
   "id": "59c94fea-4c06-4c1c-ab3e-7fc9f2e9617b",
   "metadata": {
    "jp-MarkdownHeadingCollapsed": true
   },
   "source": [
    "## Buy Power"
   ]
  },
  {
   "cell_type": "code",
   "execution_count": 13,
   "id": "2a844237-f220-4caf-802e-2375769c7649",
   "metadata": {},
   "outputs": [],
   "source": [
    "# | export\n",
    "class BuyPower(BaseAction):\n",
    "    def __init__(self, entity, power):\n",
    "        super().__init__(entity)\n",
    "        self.power = power\n",
    "\n",
    "    @classmethod\n",
    "    def from_h(cls, h, game):\n",
    "        return cls(entity=h[\"entity\"], power=h[\"power\"])\n",
    "\n",
    "    def to_h(self):\n",
    "        return {\"type\": \"buy_power\", \"entity\": self.entity.id, \"power\": self.power}\n",
    "\n",
    "    def args_to_h(self):\n",
    "        return {\"power\": self.power}"
   ]
  },
  {
   "cell_type": "markdown",
   "id": "39c73c9c-1ec0-4027-8268-7d55c2d083d5",
   "metadata": {
    "jp-MarkdownHeadingCollapsed": true
   },
   "source": [
    "## Buy Shares"
   ]
  },
  {
   "cell_type": "code",
   "execution_count": 14,
   "id": "a6cf719c-9dbb-4c09-83be-e35e78e9f2d0",
   "metadata": {},
   "outputs": [],
   "source": [
    "# | export\n",
    "class BuyShares(BaseAction):\n",
    "    def __init__(\n",
    "        self,\n",
    "        entity,\n",
    "        shares,\n",
    "        share_price=None,\n",
    "        percent=None,\n",
    "        swap=None,\n",
    "        purchase_for=None,\n",
    "        borrow_from=None,\n",
    "        total_price=None,\n",
    "    ):\n",
    "        super().__init__(entity)\n",
    "        self.bundle = ShareBundle(\n",
    "            shares if isinstance(shares, list) else [shares], percent\n",
    "        )\n",
    "        self.bundle.share_price = share_price\n",
    "        self.swap = swap\n",
    "        self.purchase_for = purchase_for\n",
    "        self.borrow_from = borrow_from\n",
    "        self.total_price = total_price\n",
    "\n",
    "    @classmethod\n",
    "    def from_h(cls, h, game):\n",
    "        shares = [game.share_by_id(id) for id in h[\"shares\"]]\n",
    "        share_price = h[\"share_price\"]\n",
    "        percent = h[\"percent\"]\n",
    "        swap = game.share_by_id(h[\"swap\"]) if \"swap\" in h else None\n",
    "        purchase_for_type = h[\"purchase_for_type\"]\n",
    "        purchase_for = (\n",
    "            game.get(purchase_for_type, h[\"purchase_for\"])\n",
    "            if purchase_for_type\n",
    "            else None\n",
    "        )\n",
    "        borrow_from_type = h[\"borrow_from_type\"]\n",
    "        borrow_from = (\n",
    "            game.get(borrow_from_type, h[\"borrow_from\"]) if borrow_from_type else None\n",
    "        )\n",
    "        total_price = h[\"total_price\"]\n",
    "\n",
    "        return cls(\n",
    "            entity=h[\"entity\"],\n",
    "            shares=shares,\n",
    "            share_price=share_price,\n",
    "            percent=percent,\n",
    "            swap=swap,\n",
    "            purchase_for=purchase_for,\n",
    "            borrow_from=borrow_from,\n",
    "            total_price=total_price,\n",
    "        )\n",
    "\n",
    "    def to_h(self):\n",
    "        return {\n",
    "            \"type\": \"buy_shares\",\n",
    "            \"entity\": self.entity.id,\n",
    "            \"shares\": [share.id for share in self.bundle.shares],\n",
    "            \"share_price\": self.bundle.share_price,\n",
    "            \"percent\": self.bundle.percent,\n",
    "            \"swap\": self.swap.id if self.swap else None,\n",
    "            \"purchase_for_type\": type_s(self.purchase_for)\n",
    "            if self.purchase_for\n",
    "            else None,\n",
    "            \"purchase_for\": self.purchase_for.id if self.purchase_for else None,\n",
    "            \"borrow_from_type\": type_s(self.borrow_from) if self.borrow_from else None,\n",
    "            \"borrow_from\": self.borrow_from.id if self.borrow_from else None,\n",
    "            \"total_price\": self.total_price,\n",
    "        }\n",
    "\n",
    "    def args_to_h(self):\n",
    "        return {\n",
    "            \"shares\": [share.id for share in self.bundle.shares],\n",
    "            \"percent\": self.bundle.percent,\n",
    "            \"share_price\": self.bundle.share_price,\n",
    "            \"swap\": self.swap.id if self.swap else None,\n",
    "            \"purchase_for_type\": type_s(self.purchase_for)\n",
    "            if self.purchase_for\n",
    "            else None,\n",
    "            \"purchase_for\": self.purchase_for.id if self.purchase_for else None,\n",
    "            \"borrow_from_type\": type_s(self.borrow_from) if self.borrow_from else None,\n",
    "            \"borrow_from\": self.borrow_from.id if self.borrow_from else None,\n",
    "            \"total_price\": self.total_price,\n",
    "        }"
   ]
  },
  {
   "cell_type": "markdown",
   "id": "7be838bb-7c2c-43bd-a5c4-2775e10ceff6",
   "metadata": {
    "jp-MarkdownHeadingCollapsed": true
   },
   "source": [
    "## Sell Shares"
   ]
  },
  {
   "cell_type": "code",
   "execution_count": 15,
   "id": "7ebdd91c-da6c-41c6-bc04-997cb509ec83",
   "metadata": {},
   "outputs": [],
   "source": [
    "# | export\n",
    "class SellShares(BaseAction):\n",
    "    def __init__(self, entity, shares, share_price=None, percent=None, swap=None):\n",
    "        super().__init__(entity)\n",
    "        self.bundle = ShareBundle(shares, percent)\n",
    "        self.bundle.share_price = share_price\n",
    "        self.swap = swap\n",
    "\n",
    "    @classmethod\n",
    "    def from_dict(cls, data, game):\n",
    "        return cls(\n",
    "            entity=game.get(data[\"entity_type\"], data[\"entity\"]),\n",
    "            shares=[game.share_by_id(id) for id in data[\"shares\"]],\n",
    "            share_price=data[\"share_price\"],\n",
    "            percent=data[\"percent\"],\n",
    "            swap=game.share_by_id(data[\"swap\"]) if \"swap\" in data else None,\n",
    "        )\n",
    "\n",
    "    def to_dict(self):\n",
    "        return {\n",
    "            \"type\": \"sell_shares\",\n",
    "            \"entity\": self.entity.id,\n",
    "            \"entity_type\": type_s(self.entity),\n",
    "            \"shares\": [share.id for share in self.bundle.shares],\n",
    "            \"share_price\": self.bundle.share_price,\n",
    "            \"percent\": self.bundle.percent,\n",
    "            \"swap\": self.swap.id if self.swap else None,\n",
    "        }"
   ]
  },
  {
   "cell_type": "markdown",
   "id": "b49ca48a-07da-42b6-a289-72d65a18e6bf",
   "metadata": {
    "jp-MarkdownHeadingCollapsed": true
   },
   "source": [
    "## Buy Token"
   ]
  },
  {
   "cell_type": "code",
   "execution_count": 16,
   "id": "8db29553-17a2-462d-bad2-da29a074b0d6",
   "metadata": {},
   "outputs": [],
   "source": [
    "# | export\n",
    "class BuyToken(BaseAction):\n",
    "    def __init__(self, entity, city, slot, price):\n",
    "        super().__init__(entity)\n",
    "        self.city = city\n",
    "        self.slot = slot\n",
    "        self.price = price\n",
    "\n",
    "    @classmethod\n",
    "    def from_h(cls, h, game):\n",
    "        city = game.city_by_id(h[\"city\"])\n",
    "        slot = h[\"slot\"]\n",
    "        price = h[\"price\"]\n",
    "\n",
    "        return cls(entity=h[\"entity\"], city=city, slot=slot, price=price)\n",
    "\n",
    "    def to_h(self):\n",
    "        return {\n",
    "            \"type\": \"buy_token\",\n",
    "            \"entity\": self.entity.id,\n",
    "            \"city\": self.city.id,\n",
    "            \"slot\": self.slot,\n",
    "            \"price\": self.price,\n",
    "        }\n",
    "\n",
    "    def args_to_h(self):\n",
    "        return {\"city\": self.city.id, \"slot\": self.slot, \"price\": self.price}"
   ]
  },
  {
   "cell_type": "markdown",
   "id": "f37dc1c7-9500-4b89-a6f7-7225775e168f",
   "metadata": {
    "jp-MarkdownHeadingCollapsed": true
   },
   "source": [
    "## Buy Train"
   ]
  },
  {
   "cell_type": "code",
   "execution_count": 17,
   "id": "4e87aedc-f4ea-41f4-92ff-af715c4f6a39",
   "metadata": {},
   "outputs": [],
   "source": [
    "# | export\n",
    "class BuyTrain(BaseAction):\n",
    "    def __init__(\n",
    "        self,\n",
    "        entity,\n",
    "        train,\n",
    "        price,\n",
    "        variant=None,\n",
    "        exchange=None,\n",
    "        shell=None,\n",
    "        slots=None,\n",
    "        extra_due=None,\n",
    "        warranties=None,\n",
    "    ):\n",
    "        super().__init__(entity)\n",
    "        self.train = train\n",
    "        self.price = price\n",
    "        self.variant = variant\n",
    "        self.exchange = exchange\n",
    "        self.shell = shell\n",
    "        self.slots = slots if slots is not None else []\n",
    "        self.extra_due = extra_due\n",
    "        self.warranties = warranties\n",
    "\n",
    "    @classmethod\n",
    "    def from_h(cls, h, game):\n",
    "        train = game.train_by_id(h[\"train\"])\n",
    "        price = h[\"price\"]\n",
    "        variant = h[\"variant\"]\n",
    "        exchange = game.train_by_id(h[\"exchange\"])\n",
    "        shell_name = h[\"shell\"]\n",
    "        shell = cls.shell_by_name(shell_name, game)\n",
    "        slots = [int(slot) for slot in h[\"slots\"]] if \"slots\" in h else None\n",
    "        extra_due = h[\"extra_due\"]\n",
    "        warranties = h[\"warranties\"]\n",
    "\n",
    "        return cls(\n",
    "            entity=h[\"entity\"],\n",
    "            train=train,\n",
    "            price=price,\n",
    "            variant=variant,\n",
    "            exchange=exchange,\n",
    "            shell=shell,\n",
    "            slots=slots,\n",
    "            extra_due=extra_due,\n",
    "            warranties=warranties,\n",
    "        )\n",
    "\n",
    "    def to_h(self):\n",
    "        return {\n",
    "            \"type\": \"buy_train\",\n",
    "            \"entity\": self.entity.id,\n",
    "            \"train\": self.train.id,\n",
    "            \"price\": self.price,\n",
    "            \"variant\": self.variant,\n",
    "            \"exchange\": self.exchange.id if self.exchange else None,\n",
    "            \"shell\": self.shell.name if self.shell else None,\n",
    "            \"slots\": self.slots,\n",
    "            \"extra_due\": bool(self.extra_due) if self.extra_due else None,\n",
    "            \"warranties\": self.warranties,\n",
    "        }\n",
    "\n",
    "    def args_to_h(self):\n",
    "        return {\n",
    "            \"train\": self.train.id,\n",
    "            \"price\": self.price,\n",
    "            \"variant\": self.variant,\n",
    "            \"exchange\": self.exchange.id if self.exchange else None,\n",
    "            \"shell\": self.shell.name if self.shell else None,\n",
    "            \"slots\": self.slots,\n",
    "            \"extra_due\": bool(self.extra_due) if self.extra_due else None,\n",
    "            \"warranties\": self.warranties,\n",
    "        }\n",
    "\n",
    "    @staticmethod\n",
    "    def shell_by_name(name, game):\n",
    "        if not name:\n",
    "            return None\n",
    "\n",
    "        for system in [corp for corp in game.corporations if corp.system]:\n",
    "            for shell in system.shells:\n",
    "                if shell.name == name:\n",
    "                    return shell\n",
    "\n",
    "        return None"
   ]
  },
  {
   "cell_type": "markdown",
   "id": "afc4ab86-da0b-48be-ab15-2fcff1d6b0b7",
   "metadata": {
    "jp-MarkdownHeadingCollapsed": true
   },
   "source": [
    "## Choose"
   ]
  },
  {
   "cell_type": "code",
   "execution_count": 18,
   "id": "e99a53d1-0c72-4b3d-8952-d62f2722c891",
   "metadata": {},
   "outputs": [],
   "source": [
    "# | export\n",
    "class Choose(BaseAction):\n",
    "    def __init__(self, entity, choice):\n",
    "        super().__init__(entity)\n",
    "        self.choice = choice\n",
    "\n",
    "    @classmethod\n",
    "    def from_dict(cls, data, game):\n",
    "        return cls(\n",
    "            entity=game.get(data[\"entity_type\"], data[\"entity\"]), choice=data[\"choice\"]\n",
    "        )\n",
    "\n",
    "    def to_dict(self):\n",
    "        return {\n",
    "            \"type\": \"choose\",\n",
    "            \"entity\": self.entity.id,\n",
    "            \"entity_type\": type_s(self.entity),\n",
    "            \"choice\": self.choice,\n",
    "        }"
   ]
  },
  {
   "cell_type": "markdown",
   "id": "942bc489-0287-4125-93b7-a90324fed63e",
   "metadata": {
    "jp-MarkdownHeadingCollapsed": true
   },
   "source": [
    "## Choose Ability"
   ]
  },
  {
   "cell_type": "code",
   "execution_count": 19,
   "id": "ec819922-0ef0-4f10-a82b-e0a7cff58999",
   "metadata": {},
   "outputs": [],
   "source": [
    "# | export\n",
    "class ChooseAbility(Choose):\n",
    "    pass"
   ]
  },
  {
   "cell_type": "markdown",
   "id": "e15672dc-4f52-402d-aca9-a7c150d98069",
   "metadata": {
    "jp-MarkdownHeadingCollapsed": true
   },
   "source": [
    "## Claim Hex Token"
   ]
  },
  {
   "cell_type": "code",
   "execution_count": 20,
   "id": "eb06b05b-4585-4555-b3b1-fa959c641265",
   "metadata": {},
   "outputs": [],
   "source": [
    "# | export\n",
    "class ClaimHexToken(BaseAction):\n",
    "    def __init__(self, entity, hex, token_type=None):\n",
    "        super().__init__(entity)\n",
    "        self.hex = hex\n",
    "        self.token_type = token_type\n",
    "\n",
    "    @classmethod\n",
    "    def from_dict(cls, data, game):\n",
    "        return cls(\n",
    "            entity=game.get(data[\"entity_type\"], data[\"entity\"]),\n",
    "            hex=game.hex_by_id(data[\"hex\"]),\n",
    "            token_type=data[\"token_type\"],\n",
    "        )\n",
    "\n",
    "    def to_dict(self):\n",
    "        return {\n",
    "            \"type\": \"claim_hex_token\",\n",
    "            \"entity\": self.entity.id,\n",
    "            \"entity_type\": type_s(self.entity),\n",
    "            \"hex\": self.hex.id,\n",
    "            \"token_type\": self.token_type,\n",
    "        }"
   ]
  },
  {
   "cell_type": "markdown",
   "id": "5e67d5f4-6676-4414-b64d-44dd1eff1f7f",
   "metadata": {
    "jp-MarkdownHeadingCollapsed": true
   },
   "source": [
    "## Combined Trains"
   ]
  },
  {
   "cell_type": "code",
   "execution_count": 21,
   "id": "73526a86-223b-4e91-bdfa-5dce31fa2c51",
   "metadata": {},
   "outputs": [],
   "source": [
    "# | export\n",
    "class CombinedTrains(BaseAction):\n",
    "    def __init__(self, entity, base, additional_train, additional_train_variant):\n",
    "        super().__init__(entity)\n",
    "        self.base = base\n",
    "        self.additional_train = additional_train\n",
    "        self.additional_train_variant = additional_train_variant\n",
    "\n",
    "    @classmethod\n",
    "    def from_dict(cls, data, game):\n",
    "        return cls(\n",
    "            entity=game.get(data[\"entity_type\"], data[\"entity\"]),\n",
    "            base=game.train_by_id(data[\"base\"]),\n",
    "            additional_train=game.train_by_id(data[\"additional_train\"]),\n",
    "            additional_train_variant=data[\"additional_train_variant\"],\n",
    "        )\n",
    "\n",
    "    def to_dict(self):\n",
    "        return {\n",
    "            \"type\": \"combined_trains\",\n",
    "            \"entity\": self.entity.id,\n",
    "            \"entity_type\": type_s(self.entity),\n",
    "            \"base\": self.base.id if self.base else None,\n",
    "            \"additional_train\": self.additional_train.id\n",
    "            if self.additional_train\n",
    "            else None,\n",
    "            \"additional_train_variant\": self.additional_train_variant,\n",
    "        }"
   ]
  },
  {
   "cell_type": "markdown",
   "id": "f0a05a16-bb9e-4c1f-b94c-1a57fbcf3f84",
   "metadata": {
    "jp-MarkdownHeadingCollapsed": true
   },
   "source": [
    "## Convert"
   ]
  },
  {
   "cell_type": "code",
   "execution_count": 22,
   "id": "2db864e1-21b0-4217-baee-53a846545d7a",
   "metadata": {},
   "outputs": [],
   "source": [
    "# | export\n",
    "class Convert(BaseAction):\n",
    "    pass"
   ]
  },
  {
   "cell_type": "markdown",
   "id": "115f161b-53c1-469a-83c4-0fbc19368aa4",
   "metadata": {
    "jp-MarkdownHeadingCollapsed": true
   },
   "source": [
    "## Corporate Buy Shares"
   ]
  },
  {
   "cell_type": "code",
   "execution_count": 23,
   "id": "bea26ee5-5c89-451a-b3f6-bde798106587",
   "metadata": {},
   "outputs": [],
   "source": [
    "# | export\n",
    "class CorporateBuyShares(BuyShares):\n",
    "    pass"
   ]
  },
  {
   "cell_type": "markdown",
   "id": "f4dcbae0-ed3d-4ee3-b80c-4a5aaec188b4",
   "metadata": {
    "jp-MarkdownHeadingCollapsed": true
   },
   "source": [
    "## Corporate Sell Shares"
   ]
  },
  {
   "cell_type": "code",
   "execution_count": 24,
   "id": "0e43db96-ec5d-4ee6-8cd5-79414711cdca",
   "metadata": {},
   "outputs": [],
   "source": [
    "# | export\n",
    "class CorporateBuyShares(SellShares):\n",
    "    pass"
   ]
  },
  {
   "cell_type": "markdown",
   "id": "ade93579-3148-4336-91dc-7a800d26a316",
   "metadata": {
    "jp-MarkdownHeadingCollapsed": true
   },
   "source": [
    "## Credit Mobilier"
   ]
  },
  {
   "cell_type": "code",
   "execution_count": 25,
   "id": "c5f39eb8-f02f-4239-bd4e-29f92e6c3dd1",
   "metadata": {},
   "outputs": [],
   "source": [
    "# | export\n",
    "class CreditMobilier(BaseAction):\n",
    "    def __init__(self, entity, hex, amount):\n",
    "        super().__init__(entity)\n",
    "        self.hex = hex\n",
    "        self.amount = amount\n",
    "\n",
    "    @classmethod\n",
    "    def from_dict(cls, data, game):\n",
    "        return cls(\n",
    "            entity=game.get(data[\"entity_type\"], data[\"entity\"]),\n",
    "            hex=game.hex_by_id(data[\"hex\"]),\n",
    "            amount=data[\"amount\"],\n",
    "        )\n",
    "\n",
    "    def to_dict(self):\n",
    "        return {\n",
    "            \"type\": \"credit_mobilier\",\n",
    "            \"entity\": self.entity.id,\n",
    "            \"entity_type\": type_s(self.entity),\n",
    "            \"hex\": self.hex.id,\n",
    "            \"amount\": self.amount,\n",
    "        }"
   ]
  },
  {
   "cell_type": "markdown",
   "id": "fa782460-1611-4969-a560-30cdc4967101",
   "metadata": {
    "jp-MarkdownHeadingCollapsed": true
   },
   "source": [
    "## Destination Connection"
   ]
  },
  {
   "cell_type": "code",
   "execution_count": 26,
   "id": "7f24d793-3839-4359-8f6c-7c2333ef6401",
   "metadata": {},
   "outputs": [],
   "source": [
    "# | export\n",
    "class DestinationConnection(BaseAction):\n",
    "    def __init__(self, entity, corporations=None, minors=None, hexes=None):\n",
    "        super().__init__(entity)\n",
    "        self.corporations = corporations if corporations else []\n",
    "        self.minors = minors if minors else []\n",
    "        self.hexes = hexes if hexes else []\n",
    "\n",
    "    @classmethod\n",
    "    def from_dict(cls, data, game):\n",
    "        return cls(\n",
    "            entity=game.get(data[\"entity_type\"], data[\"entity\"]),\n",
    "            corporations=[\n",
    "                game.corporation_by_id(c) for c in data.get(\"corporations\", [])\n",
    "            ],\n",
    "            minors=[game.minor_by_id(m) for m in data.get(\"minors\", [])],\n",
    "            hexes=[game.hex_by_id(h) for h in data.get(\"hexes\", [])],\n",
    "        )\n",
    "\n",
    "    def to_dict(self):\n",
    "        return {\n",
    "            \"type\": \"destination_connection\",\n",
    "            \"entity\": self.entity.id,\n",
    "            \"entity_type\": type_s(self.entity),\n",
    "            \"corporations\": [c.id for c in self.corporations],\n",
    "            \"minors\": [m.id for m in self.minors],\n",
    "            \"hexes\": [h.id for h in self.hexes],\n",
    "        }"
   ]
  },
  {
   "cell_type": "markdown",
   "id": "da74f64d-d323-49ad-9c96-c713df175e05",
   "metadata": {
    "jp-MarkdownHeadingCollapsed": true
   },
   "source": [
    "## Discard Train"
   ]
  },
  {
   "cell_type": "code",
   "execution_count": 27,
   "id": "3e751498-ddf0-47f1-9632-a87eeaf4131b",
   "metadata": {},
   "outputs": [],
   "source": [
    "# | export\n",
    "class DiscardTrain(BaseAction):\n",
    "    def __init__(self, entity, train):\n",
    "        super().__init__(entity)\n",
    "        self.train = train\n",
    "\n",
    "    @classmethod\n",
    "    def from_dict(cls, data, game):\n",
    "        return cls(\n",
    "            entity=game.get(data[\"entity_type\"], data[\"entity\"]),\n",
    "            train=game.train_by_id(data[\"train\"]),\n",
    "        )\n",
    "\n",
    "    def to_dict(self):\n",
    "        return {\n",
    "            \"type\": \"discard_train\",\n",
    "            \"entity\": self.entity.id,\n",
    "            \"entity_type\": type_s(self.entity),\n",
    "            \"train\": self.train.id,\n",
    "        }"
   ]
  },
  {
   "cell_type": "markdown",
   "id": "1912447d-0ede-4a2b-bac3-d448d16ff71b",
   "metadata": {
    "jp-MarkdownHeadingCollapsed": true
   },
   "source": [
    "## Dividend"
   ]
  },
  {
   "cell_type": "code",
   "execution_count": 28,
   "id": "987f4d46-7168-48c0-9919-f55eeb2b084e",
   "metadata": {},
   "outputs": [],
   "source": [
    "# | export\n",
    "class Dividend(BaseAction):\n",
    "    def __init__(self, entity, kind, amount=None):\n",
    "        super().__init__(entity)\n",
    "        self.kind = kind\n",
    "        self.amount = amount\n",
    "\n",
    "    @classmethod\n",
    "    def from_dict(cls, data, _game):\n",
    "        return cls(\n",
    "            entity=game.get(data[\"entity_type\"], data[\"entity\"]),\n",
    "            kind=data[\"kind\"],\n",
    "            amount=data.get(\"amount\"),\n",
    "        )\n",
    "\n",
    "    def to_dict(self):\n",
    "        return {\n",
    "            \"type\": \"dividend\",\n",
    "            \"entity\": self.entity.id,\n",
    "            \"entity_type\": type_s(self.entity),\n",
    "            \"kind\": self.kind,\n",
    "            \"amount\": self.amount,\n",
    "        }"
   ]
  },
  {
   "cell_type": "markdown",
   "id": "1ad866f1-395d-4b14-b6fc-a34ad656a562",
   "metadata": {
    "jp-MarkdownHeadingCollapsed": true
   },
   "source": [
    "## Double Head Trains"
   ]
  },
  {
   "cell_type": "code",
   "execution_count": 29,
   "id": "ccc4e044-3532-40f4-aa77-44fda131dc63",
   "metadata": {},
   "outputs": [],
   "source": [
    "# | export\n",
    "class DoubleHeadTrains(BaseAction):\n",
    "    def __init__(self, entity, trains):\n",
    "        super().__init__(entity)\n",
    "        self.trains = trains\n",
    "\n",
    "    @classmethod\n",
    "    def from_dict(cls, data, game):\n",
    "        return cls(\n",
    "            entity=game.get(data[\"entity_type\"], data[\"entity\"]),\n",
    "            trains=[game.train_by_id(train_id) for train_id in data[\"trains\"]],\n",
    "        )\n",
    "\n",
    "    def to_dict(self):\n",
    "        return {\n",
    "            \"type\": \"double_head_trains\",\n",
    "            \"entity\": self.entity.id,\n",
    "            \"entity_type\": type_s(self.entity),\n",
    "            \"trains\": [train.id for train in self.trains],\n",
    "        }"
   ]
  },
  {
   "cell_type": "markdown",
   "id": "30f04262-3714-4096-9caf-bce16d4333a2",
   "metadata": {
    "jp-MarkdownHeadingCollapsed": true
   },
   "source": [
    "## End Game"
   ]
  },
  {
   "cell_type": "code",
   "execution_count": 30,
   "id": "e3d6b358-4eed-4944-b528-47c2d395fa1d",
   "metadata": {},
   "outputs": [],
   "source": [
    "# | export\n",
    "class EndGame(BaseAction):\n",
    "    def free(self):\n",
    "        return True\n",
    "\n",
    "    @classmethod\n",
    "    def from_dict(cls, data, game):\n",
    "        return cls(entity=game.get(data[\"entity_type\"], data[\"entity\"]))\n",
    "\n",
    "    def to_dict(self):\n",
    "        return {\n",
    "            \"type\": \"end_game\",\n",
    "            \"entity\": self.entity.id,\n",
    "            \"entity_type\": type_s(self.entity),\n",
    "        }"
   ]
  },
  {
   "cell_type": "markdown",
   "id": "beb4a01b-bdb9-457f-90df-66b08b94f373",
   "metadata": {
    "jp-MarkdownHeadingCollapsed": true
   },
   "source": [
    "## Failed Merge"
   ]
  },
  {
   "cell_type": "code",
   "execution_count": 31,
   "id": "2bae883a-9417-42a4-b84d-957fdd2f68c8",
   "metadata": {},
   "outputs": [],
   "source": [
    "# | export\n",
    "class FailedMerge(BaseAction):\n",
    "    def __init__(self, entity, corporations):\n",
    "        super().__init__(entity)\n",
    "        self.corporations = corporations\n",
    "\n",
    "    @classmethod\n",
    "    def from_dict(cls, data, game):\n",
    "        corporations = [game.corporation_by_id(c_id) for c_id in data[\"corporations\"]]\n",
    "        return cls(\n",
    "            entity=game.get(data[\"entity_type\"], data[\"entity\"]),\n",
    "            corporations=corporations,\n",
    "        )\n",
    "\n",
    "    def to_dict(self):\n",
    "        return {\n",
    "            \"type\": \"failed_merge\",\n",
    "            \"entity\": self.entity.id,\n",
    "            \"entity_type\": type_s(self.entity),\n",
    "            \"corporations\": [c.id for c in self.corporations],\n",
    "        }"
   ]
  },
  {
   "cell_type": "markdown",
   "id": "78934ba2-3b2a-48a2-b061-a4e19087c17c",
   "metadata": {
    "jp-MarkdownHeadingCollapsed": true
   },
   "source": [
    "## Hex Token"
   ]
  },
  {
   "cell_type": "code",
   "execution_count": 32,
   "id": "5389a6a2-b65a-4cad-b7db-80acaafa045b",
   "metadata": {},
   "outputs": [],
   "source": [
    "# | export\n",
    "class HexToken(BaseAction):\n",
    "    def __init__(self, entity, hex, cost=None, token_type=None, token=None):\n",
    "        super().__init__(entity)\n",
    "        self.hex = hex\n",
    "        self.cost = cost\n",
    "        self.token = token or entity.find_token_by_type(token_type) if entity else None\n",
    "\n",
    "    @classmethod\n",
    "    def from_dict(cls, data, game):\n",
    "        hex = game.hex_by_id(data[\"hex\"])\n",
    "        cost = data[\"cost\"]\n",
    "        token_type = data[\"token_type\"]\n",
    "        entity = (\n",
    "            game.get(data[\"entity_type\"], data[\"entity\"]) if data[\"entity\"] else None\n",
    "        )\n",
    "        return cls(entity=entity, hex=hex, cost=cost, token_type=token_type)\n",
    "\n",
    "    def to_dict(self):\n",
    "        return {\n",
    "            \"type\": \"hex_token\",\n",
    "            \"entity\": self.entity.id if self.entity else None,\n",
    "            \"entity_type\": type_s(self.entity) if self.entity else None,\n",
    "            \"hex\": self.hex.id,\n",
    "            \"cost\": self.cost,\n",
    "            \"token_type\": self.token.type\n",
    "            if self.token and self.token.type != \"normal\"\n",
    "            else None,\n",
    "        }"
   ]
  },
  {
   "cell_type": "markdown",
   "id": "9cdf801c-1cfb-4e29-b287-34c4f307f82b",
   "metadata": {
    "jp-MarkdownHeadingCollapsed": true
   },
   "source": [
    "## Lay Tile"
   ]
  },
  {
   "cell_type": "code",
   "execution_count": 33,
   "id": "bc0cee55-3e37-41e7-952a-5cfabdaa8707",
   "metadata": {},
   "outputs": [],
   "source": [
    "# | export\n",
    "class LayTile(BaseAction):\n",
    "    def __init__(self, entity, tile, hex, rotation, combo_entities=None):\n",
    "        super().__init__(entity)\n",
    "        self.hex = hex\n",
    "        self.tile = tile\n",
    "        self.rotation = rotation\n",
    "        self.combo_entities = combo_entities or []\n",
    "\n",
    "    @classmethod\n",
    "    def from_dict(cls, data, game):\n",
    "        tile = game.tile_by_id(data[\"tile\"])\n",
    "        hex = game.hex_by_id(data[\"hex\"])\n",
    "        rotation = data[\"rotation\"]\n",
    "        combo_entities = [\n",
    "            game.company_by_id(id) for id in (data.get(\"combo_entities\") or [])\n",
    "        ]\n",
    "        entity = (\n",
    "            game.get(data[\"entity_type\"], data[\"entity\"]) if data[\"entity\"] else None\n",
    "        )\n",
    "        return cls(\n",
    "            entity=entity,\n",
    "            tile=tile,\n",
    "            hex=hex,\n",
    "            rotation=rotation,\n",
    "            combo_entities=combo_entities,\n",
    "        )\n",
    "\n",
    "    def to_dict(self):\n",
    "        return {\n",
    "            \"type\": \"lay_tile\",\n",
    "            \"entity\": self.entity.id if self.entity else None,\n",
    "            \"entity_type\": type_s(self.entity) if self.entity else None,\n",
    "            \"hex\": self.hex.id,\n",
    "            \"tile\": self.tile.id,\n",
    "            \"rotation\": self.rotation,\n",
    "            \"combo_entities\": [entity.id for entity in self.combo_entities],\n",
    "        }"
   ]
  },
  {
   "cell_type": "markdown",
   "id": "daf08750-ee7c-4b26-bb3d-db2d5ca9773c",
   "metadata": {
    "jp-MarkdownHeadingCollapsed": true
   },
   "source": [
    "## Message"
   ]
  },
  {
   "cell_type": "code",
   "execution_count": 34,
   "id": "2e5c8dd7-89d8-4f51-963d-9e5f8912d9bc",
   "metadata": {},
   "outputs": [],
   "source": [
    "# | export\n",
    "class Message(BaseAction):\n",
    "    def __init__(self, entity, message):\n",
    "        super().__init__(entity)\n",
    "        self.message = message\n",
    "\n",
    "    @classmethod\n",
    "    def from_dict(cls, data, _):\n",
    "        return cls(entity=None, message=data.get(\"message\"))\n",
    "\n",
    "    def to_dict(self):\n",
    "        return {\n",
    "            \"type\": \"message\",\n",
    "            \"message\": self.message,\n",
    "        }"
   ]
  },
  {
   "cell_type": "markdown",
   "id": "51da8244-9748-407b-a0b9-b9a902885a68",
   "metadata": {
    "jp-MarkdownHeadingCollapsed": true
   },
   "source": [
    "## Log"
   ]
  },
  {
   "cell_type": "code",
   "execution_count": 35,
   "id": "0d7ada0b-4394-43a4-9d26-2071b77b0f3c",
   "metadata": {},
   "outputs": [],
   "source": [
    "# | export\n",
    "class Log(Message):\n",
    "    pass"
   ]
  },
  {
   "cell_type": "markdown",
   "id": "0841dbe7-6f3b-4da4-98b2-269fea7d1d2a",
   "metadata": {
    "jp-MarkdownHeadingCollapsed": true
   },
   "source": [
    "## Manual Close Company"
   ]
  },
  {
   "cell_type": "code",
   "execution_count": 36,
   "id": "d6f772bb-bcb9-4418-86ad-4c957a928f2a",
   "metadata": {},
   "outputs": [],
   "source": [
    "# | export\n",
    "class ManualCloseCompany(BaseAction):\n",
    "    pass"
   ]
  },
  {
   "cell_type": "markdown",
   "id": "2ab0fa11-da79-45d7-8597-530bc79fc90c",
   "metadata": {
    "jp-MarkdownHeadingCollapsed": true
   },
   "source": [
    "## Merge"
   ]
  },
  {
   "cell_type": "code",
   "execution_count": 37,
   "id": "3b9ba83b-3803-4b74-a0f2-66138f42af2f",
   "metadata": {},
   "outputs": [],
   "source": [
    "# | export\n",
    "class Merge(BaseAction):\n",
    "    def __init__(self, entity, corporation=None, minor=None):\n",
    "        super().__init__(entity)\n",
    "        self.corporation = corporation\n",
    "        self.minor = minor\n",
    "\n",
    "    @classmethod\n",
    "    def from_dict(cls, data, game):\n",
    "        corporation = game.corporation_by_id(data.get(\"corporation\"))\n",
    "        minor = game.minor_by_id(data.get(\"minor\"))\n",
    "        entity = (\n",
    "            game.get(data[\"entity_type\"], data[\"entity\"]) if data[\"entity\"] else None\n",
    "        )\n",
    "        return cls(entity=entity, corporation=corporation, minor=minor)\n",
    "\n",
    "    def to_dict(self):\n",
    "        return {\n",
    "            \"type\": \"merge\",\n",
    "            \"entity\": self.entity.id if self.entity else None,\n",
    "            \"entity_type\": type_s(self.entity) if self.entity else None,\n",
    "            \"corporation\": self.corporation.id if self.corporation else None,\n",
    "            \"minor\": self.minor.id if self.minor else None,\n",
    "        }"
   ]
  },
  {
   "cell_type": "markdown",
   "id": "cb2eff9b-ea79-4938-9d1a-bf136e063a55",
   "metadata": {
    "jp-MarkdownHeadingCollapsed": true
   },
   "source": [
    "## Move Bid"
   ]
  },
  {
   "cell_type": "code",
   "execution_count": 38,
   "id": "ab9382bd-ed76-4b63-9c6d-bf6ce8c82656",
   "metadata": {},
   "outputs": [],
   "source": [
    "# | export\n",
    "class MoveBid(BaseAction):\n",
    "    def __init__(\n",
    "        self, entity, price, from_company, from_price, company=None, corporation=None\n",
    "    ):\n",
    "        super().__init__(entity)\n",
    "        self.company = company\n",
    "        self.corporation = corporation\n",
    "        self.price = price\n",
    "        self.from_company = from_company\n",
    "        self.from_price = from_price\n",
    "\n",
    "    @classmethod\n",
    "    def from_dict(cls, data, game):\n",
    "        return cls(\n",
    "            entity=None,\n",
    "            company=game.company_by_id(data.get(\"company\")),\n",
    "            corporation=game.corporation_by_id(data.get(\"corporation\")),\n",
    "            from_company=game.company_by_id(data.get(\"from_company\")),\n",
    "            price=data.get(\"price\"),\n",
    "            from_price=data.get(\"from_price\"),\n",
    "        )\n",
    "\n",
    "    def to_dict(self):\n",
    "        return {\n",
    "            \"type\": \"move_bid\",\n",
    "            \"company\": self.company.id if self.company else None,\n",
    "            \"corporation\": self.corporation.id if self.corporation else None,\n",
    "            \"price\": self.price,\n",
    "            \"from_company\": self.from_company.id if self.from_company else None,\n",
    "            \"from_price\": self.from_price,\n",
    "        }"
   ]
  },
  {
   "cell_type": "markdown",
   "id": "b496cad9-e8d8-48fa-909a-b5884d8d2249",
   "metadata": {
    "jp-MarkdownHeadingCollapsed": true
   },
   "source": [
    "## Offer"
   ]
  },
  {
   "cell_type": "code",
   "execution_count": 39,
   "id": "a2312bba-9ece-436a-9de3-4c4f3cecb5bd",
   "metadata": {},
   "outputs": [],
   "source": [
    "# | export\n",
    "class Offer(BaseAction):\n",
    "    def __init__(self, entity, corporation=None, company=None, price=None):\n",
    "        super().__init__(entity)\n",
    "        self.corporation = corporation\n",
    "        self.company = company\n",
    "        self.price = price\n",
    "\n",
    "    @classmethod\n",
    "    def from_dict(cls, data, game):\n",
    "        return cls(\n",
    "            entity=None,\n",
    "            corporation=game.corporation_by_id(data.get(\"corporation\")),\n",
    "            company=game.company_by_id(data.get(\"company\")),\n",
    "            price=data.get(\"price\"),\n",
    "        )\n",
    "\n",
    "    def to_dict(self):\n",
    "        return {\n",
    "            \"type\": \"offer\",\n",
    "            \"corporation\": self.corporation.id if self.corporation else None,\n",
    "            \"company\": self.company.id if self.company else None,\n",
    "            \"price\": self.price,\n",
    "        }"
   ]
  },
  {
   "cell_type": "markdown",
   "id": "17b00f6a-87c7-4eaa-8d3f-643c576413ca",
   "metadata": {
    "jp-MarkdownHeadingCollapsed": true
   },
   "source": [
    "## Par"
   ]
  },
  {
   "cell_type": "code",
   "execution_count": 40,
   "id": "f7a48009-e447-4070-aba8-7cee5b9e3773",
   "metadata": {},
   "outputs": [],
   "source": [
    "# | export\n",
    "class Par(BaseAction):\n",
    "    def __init__(\n",
    "        self,\n",
    "        entity,\n",
    "        corporation,\n",
    "        share_price,\n",
    "        slot=None,\n",
    "        purchase_for=None,\n",
    "        borrow_from=None,\n",
    "    ):\n",
    "        super().__init__(entity)\n",
    "        self.corporation = corporation\n",
    "        self.share_price = share_price\n",
    "        self.slot = slot\n",
    "        self.purchase_for = purchase_for\n",
    "        self.borrow_from = borrow_from\n",
    "\n",
    "    @classmethod\n",
    "    def from_dict(cls, data, game):\n",
    "        return cls(\n",
    "            entity=None,\n",
    "            corporation=game.corporation_by_id(data[\"corporation\"]),\n",
    "            share_price=game.share_price_by_id(data[\"share_price\"]),\n",
    "            slot=data.get(\"slot\"),\n",
    "            purchase_for=game.get(\n",
    "                data.get(\"purchase_for_type\"), data.get(\"purchase_for\")\n",
    "            ),\n",
    "            borrow_from=game.get(data.get(\"borrow_from_type\"), data.get(\"borrow_from\")),\n",
    "        )\n",
    "\n",
    "    def to_dict(self):\n",
    "        return {\n",
    "            \"type\": \"par\",\n",
    "            \"corporation\": self.corporation.id,\n",
    "            \"share_price\": self.share_price.id,\n",
    "            \"slot\": self.slot,\n",
    "            \"purchase_for_type\": type_s(self.purchase_for),\n",
    "            \"purchase_for\": self.purchase_for.id if self.purchase_for else None,\n",
    "            \"borrow_from_type\": type_s(self.borrow_from),\n",
    "            \"borrow_from\": self.borrow_from.id if self.borrow_from else None,\n",
    "        }"
   ]
  },
  {
   "cell_type": "markdown",
   "id": "5afeed64-55d1-470c-8702-469ec0ba7b85",
   "metadata": {
    "jp-MarkdownHeadingCollapsed": true
   },
   "source": [
    "## Pass"
   ]
  },
  {
   "cell_type": "code",
   "execution_count": 41,
   "id": "4cc94237-83fc-4c10-b34c-a42a1d6cbeb6",
   "metadata": {},
   "outputs": [],
   "source": [
    "# | export\n",
    "class Pass(BaseAction):\n",
    "    def pass_action(self):\n",
    "        return True"
   ]
  },
  {
   "cell_type": "markdown",
   "id": "4f31725a-f59e-4ffa-92bf-9603e6f259fc",
   "metadata": {
    "jp-MarkdownHeadingCollapsed": true
   },
   "source": [
    "## Pay off Debt"
   ]
  },
  {
   "cell_type": "code",
   "execution_count": 42,
   "id": "77f9bf48-e484-4087-972c-087f86cad4e9",
   "metadata": {},
   "outputs": [],
   "source": [
    "# | export\n",
    "class PayoffDebt(BaseAction):\n",
    "    pass"
   ]
  },
  {
   "cell_type": "markdown",
   "id": "402be8cd-ab23-4be3-86f4-965233d98bbe",
   "metadata": {
    "jp-MarkdownHeadingCollapsed": true
   },
   "source": [
    "## Take Loan"
   ]
  },
  {
   "cell_type": "code",
   "execution_count": 43,
   "id": "6a23d54c-9e45-49c6-a9aa-5de1618a0f1f",
   "metadata": {},
   "outputs": [],
   "source": [
    "# | export\n",
    "class TakeLoan(BaseAction):\n",
    "    def __init__(self, entity, loan):\n",
    "        super().__init__(entity)\n",
    "        self.loan = loan\n",
    "\n",
    "    @classmethod\n",
    "    def from_dict(cls, data, game):\n",
    "        return cls(\n",
    "            entity=game.get_entity(data[\"entity_type\"], data[\"entity\"]),\n",
    "            loan=game.get_loan(data[\"loan\"]),\n",
    "        )\n",
    "\n",
    "    def to_dict(self):\n",
    "        return {\n",
    "            \"type\": \"take_loan\",\n",
    "            \"entity\": self.entity.id,\n",
    "            \"entity_type\": self.entity.type,\n",
    "            \"loan\": self.loan.id if self.loan else None,\n",
    "        }"
   ]
  },
  {
   "cell_type": "markdown",
   "id": "87e7b63f-7778-4f97-a1de-a59c12641c24",
   "metadata": {
    "jp-MarkdownHeadingCollapsed": true
   },
   "source": [
    "## Pay off Loan"
   ]
  },
  {
   "cell_type": "code",
   "execution_count": 44,
   "id": "4e602bf9-827e-4ff0-a59b-b1989f1f24bf",
   "metadata": {},
   "outputs": [],
   "source": [
    "# | export\n",
    "class PayoffDebt(TakeLoan):\n",
    "    pass"
   ]
  },
  {
   "cell_type": "markdown",
   "id": "e8dd0335-6eee-49d0-9663-1d7d41a80d84",
   "metadata": {
    "jp-MarkdownHeadingCollapsed": true
   },
   "source": [
    "## Pay off Player Debt"
   ]
  },
  {
   "cell_type": "code",
   "execution_count": 45,
   "id": "7f176854-1c34-4b0d-84d1-117194d1fcc6",
   "metadata": {},
   "outputs": [],
   "source": [
    "# | export\n",
    "class PayoffPlayerDebt(BaseAction):\n",
    "    pass"
   ]
  },
  {
   "cell_type": "markdown",
   "id": "3e661230-f94f-46d0-8578-29ff79371f6c",
   "metadata": {
    "jp-MarkdownHeadingCollapsed": true
   },
   "source": [
    "## Place Token"
   ]
  },
  {
   "cell_type": "code",
   "execution_count": 46,
   "id": "d4deb072-06ba-4f87-8a2d-f5e0b214dbf4",
   "metadata": {},
   "outputs": [],
   "source": [
    "# | export\n",
    "class PlaceToken(BaseAction):\n",
    "    def __init__(self, entity, city, slot, cost=None, tokener=None, token_type=None):\n",
    "        super().__init__(entity)\n",
    "        self.city = city\n",
    "        self.slot = slot\n",
    "        self.cost = cost\n",
    "        self.tokener = tokener\n",
    "        token_owner = tokener or (entity.owner if entity.company else entity)\n",
    "        self.token = token_owner.find_token_by_type(token_type) if token_type else None\n",
    "\n",
    "    @classmethod\n",
    "    def from_dict(cls, data, game):\n",
    "        return cls(\n",
    "            entity=game.get_entity(data[\"entity_type\"], data[\"entity\"]),\n",
    "            city=game.get_city(data[\"city\"]),\n",
    "            slot=data[\"slot\"],\n",
    "            cost=data[\"cost\"],\n",
    "            tokener=game.get_corporation(data[\"tokener\"])\n",
    "            or game.get_minor(data[\"tokener\"]),\n",
    "            token_type=data[\"token_type\"],\n",
    "        )\n",
    "\n",
    "    def to_dict(self):\n",
    "        return {\n",
    "            \"type\": \"place_token\",\n",
    "            \"entity\": self.entity.id,\n",
    "            \"entity_type\": self.entity.type,\n",
    "            \"city\": self.city.id,\n",
    "            \"slot\": self.slot,\n",
    "            \"cost\": self.cost,\n",
    "            \"tokener\": self.tokener.id if self.tokener else None,\n",
    "            \"token_type\": self.token.type\n",
    "            if self.token and self.token.type != \"normal\"\n",
    "            else None,\n",
    "        }"
   ]
  },
  {
   "cell_type": "markdown",
   "id": "fcb6d8d0-4f92-4158-9986-2a092a7317a5",
   "metadata": {
    "jp-MarkdownHeadingCollapsed": true
   },
   "source": [
    "## Program Enable"
   ]
  },
  {
   "cell_type": "code",
   "execution_count": 47,
   "id": "f9867f37-f5a2-428a-92e4-76244196619b",
   "metadata": {},
   "outputs": [],
   "source": [
    "# | export\n",
    "class ProgramEnable(BaseAction):\n",
    "    def disable(self, game):\n",
    "        return True"
   ]
  },
  {
   "cell_type": "markdown",
   "id": "38b38372-c5b6-4d57-aaba-a16e8a5c8ddd",
   "metadata": {
    "jp-MarkdownHeadingCollapsed": true
   },
   "source": [
    "## Program Disable"
   ]
  },
  {
   "cell_type": "code",
   "execution_count": 48,
   "id": "e3ab56ac-153d-400a-bc2e-a2345e7b5ba7",
   "metadata": {},
   "outputs": [],
   "source": [
    "# | export\n",
    "class ProgramDisable(BaseAction):\n",
    "    def __init__(self, entity, reason, original_type=None):\n",
    "        super().__init__(entity)\n",
    "        self.reason = reason\n",
    "        self.original_type = original_type\n",
    "\n",
    "    @classmethod\n",
    "    def h_to_args(cls, h, _game):\n",
    "        return {\n",
    "            \"reason\": h[\"reason\"],\n",
    "            \"original_type\": h[\"original_type\"],\n",
    "        }\n",
    "\n",
    "    def args_to_h(self):\n",
    "        return {\n",
    "            \"reason\": self.reason,\n",
    "            \"original_type\": self.original_type,\n",
    "        }"
   ]
  },
  {
   "cell_type": "markdown",
   "id": "ef576f4a-cbf5-4a7d-94b5-09bcc89da290",
   "metadata": {
    "jp-MarkdownHeadingCollapsed": true
   },
   "source": [
    "## Program Auction Bid"
   ]
  },
  {
   "cell_type": "code",
   "execution_count": 49,
   "id": "d68f8bf4-cc2b-4696-b77d-5150ad7a0697",
   "metadata": {},
   "outputs": [],
   "source": [
    "# | export\n",
    "class ProgramAuctionBid(ProgramEnable):\n",
    "    def __init__(\n",
    "        self,\n",
    "        entity,\n",
    "        bid_target,\n",
    "        maximum_bid,\n",
    "        buy_price,\n",
    "        enable_maximum_bid=False,\n",
    "        enable_buy_price=False,\n",
    "        auto_pass_after=False,\n",
    "    ):\n",
    "        super().__init__(entity)\n",
    "        self.bid_target = bid_target\n",
    "        self.enable_maximum_bid = enable_maximum_bid\n",
    "        self.maximum_bid = maximum_bid\n",
    "        self.enable_buy_price = enable_buy_price\n",
    "        self.buy_price = buy_price\n",
    "        self.auto_pass_after = auto_pass_after\n",
    "\n",
    "    @classmethod\n",
    "    def from_dict(cls, data, game):\n",
    "        return cls(\n",
    "            entity=game.get_entity(data[\"entity_type\"], data[\"entity\"]),\n",
    "            bid_target=game.get_corporation(data[\"bid_target\"])\n",
    "            or game.get_company(data[\"bid_target\"])\n",
    "            or game.get_minor(data[\"bid_target\"]),\n",
    "            enable_maximum_bid=data[\"enable_maximum_bid\"],\n",
    "            maximum_bid=data[\"maximum_bid\"],\n",
    "            enable_buy_price=data[\"enable_buy_price\"],\n",
    "            buy_price=data[\"buy_price\"],\n",
    "            auto_pass_after=data[\"auto_pass_after\"],\n",
    "        )\n",
    "\n",
    "    def to_dict(self):\n",
    "        return {\n",
    "            \"type\": \"program_auction_bid\",\n",
    "            \"entity\": self.entity.id,\n",
    "            \"entity_type\": self.entity.type,\n",
    "            \"bid_target\": self.bid_target.id,\n",
    "            \"enable_maximum_bid\": self.enable_maximum_bid,\n",
    "            \"maximum_bid\": self.maximum_bid,\n",
    "            \"enable_buy_price\": self.enable_buy_price,\n",
    "            \"buy_price\": self.buy_price,\n",
    "            \"auto_pass_after\": self.auto_pass_after,\n",
    "        }\n",
    "\n",
    "    def __str__(self):\n",
    "        buy = f\"Buy if price at {self.buy_price}. \" if self.enable_buy_price else \"\"\n",
    "        bid = (\n",
    "            f\"Bid on {self.bid_target.name} up to {self.maximum_bid}. \"\n",
    "            if self.enable_maximum_bid\n",
    "            else \"\"\n",
    "        )\n",
    "        suffix = \"Otherwise auto pass.\" if self.auto_pass_after else \"\"\n",
    "\n",
    "        return f\"{buy}{bid}{suffix}\"\n",
    "\n",
    "    def disable(self, game):\n",
    "        return not game.round.auction"
   ]
  },
  {
   "cell_type": "markdown",
   "id": "9b9b48ae-e22d-459e-8f90-c55fe1983d0e",
   "metadata": {
    "jp-MarkdownHeadingCollapsed": true
   },
   "source": [
    "## Program Buy Shares"
   ]
  },
  {
   "cell_type": "code",
   "execution_count": 50,
   "id": "14d53cde-b963-477b-91d2-179e4b658f7c",
   "metadata": {},
   "outputs": [],
   "source": [
    "# | export\n",
    "class ProgramBuyShares(ProgramEnable):\n",
    "    def __init__(\n",
    "        self,\n",
    "        entity,\n",
    "        corporation,\n",
    "        until_condition,\n",
    "        from_market=False,\n",
    "        auto_pass_after=False,\n",
    "    ):\n",
    "        super().__init__(entity)\n",
    "        self.corporation = corporation\n",
    "        self.until_condition = until_condition\n",
    "        self.from_market = from_market\n",
    "        self.auto_pass_after = auto_pass_after\n",
    "\n",
    "    @classmethod\n",
    "    def from_dict(cls, data, game):\n",
    "        return cls(\n",
    "            entity=game.get_entity(data[\"entity_type\"], data[\"entity\"]),\n",
    "            corporation=game.get_corporation(data[\"corporation\"]),\n",
    "            until_condition=data[\"until_condition\"],\n",
    "            from_market=data[\"from_market\"],\n",
    "            auto_pass_after=data[\"auto_pass_after\"],\n",
    "        )\n",
    "\n",
    "    def to_dict(self):\n",
    "        return {\n",
    "            \"type\": \"program_buy_shares\",\n",
    "            \"entity\": self.entity.id,\n",
    "            \"entity_type\": self.entity.type,\n",
    "            \"corporation\": self.corporation.id,\n",
    "            \"until_condition\": self.until_condition,\n",
    "            \"from_market\": self.from_market,\n",
    "            \"auto_pass_after\": self.auto_pass_after,\n",
    "        }\n",
    "\n",
    "    def __str__(self):\n",
    "        source = \"market\" if self.from_market else \"IPO\"\n",
    "        condition = (\n",
    "            \"floated\"\n",
    "            if self.until_condition == \"float\"\n",
    "            else f\"{self.until_condition} shares\"\n",
    "        )\n",
    "        suffix = \", then auto pass\" if self.auto_pass_after else \"\"\n",
    "\n",
    "        return f\"Buy {self.corporation.name} from {source} until {condition}{suffix}\"\n",
    "\n",
    "    def disable(self, game):\n",
    "        return not game.round.stock"
   ]
  },
  {
   "cell_type": "markdown",
   "id": "d00948d2-0158-49f2-bf80-d69f3105a7d7",
   "metadata": {
    "jp-MarkdownHeadingCollapsed": true
   },
   "source": [
    "## Program Close Pass"
   ]
  },
  {
   "cell_type": "code",
   "execution_count": 51,
   "id": "3e6bdf1b-e61f-4483-b2eb-fb50ec455b24",
   "metadata": {},
   "outputs": [],
   "source": [
    "# | export\n",
    "class ProgramClosePass(ProgramEnable):\n",
    "    def __init__(self, entity, unconditional=False):\n",
    "        super().__init__(entity)\n",
    "        self.unconditional = unconditional\n",
    "\n",
    "    @classmethod\n",
    "    def h_to_args(cls, h, _game):\n",
    "        return {\n",
    "            \"unconditional\": h[\"unconditional\"],\n",
    "        }\n",
    "\n",
    "    def args_to_h(self):\n",
    "        return {\n",
    "            \"unconditional\": self.unconditional,\n",
    "        }\n",
    "\n",
    "    def to_s(self):\n",
    "        unconditionally = \", unconditionally\" if self.unconditional else \"\"\n",
    "        return f\"Pass in Closing Round{unconditionally}\"\n",
    "\n",
    "    def disable(self, _game):\n",
    "        return False"
   ]
  },
  {
   "cell_type": "markdown",
   "id": "ea72a32c-c4e0-42dc-9531-a98e784cc974",
   "metadata": {
    "jp-MarkdownHeadingCollapsed": true
   },
   "source": [
    "## Program Harzbahn Draft Pass"
   ]
  },
  {
   "cell_type": "code",
   "execution_count": 52,
   "id": "9b773e72-be69-4ba2-a317-c451de188504",
   "metadata": {},
   "outputs": [],
   "source": [
    "# | export\n",
    "class ProgramHarzbahnDraftPass(ProgramEnable):\n",
    "    def __init__(self, entity, until_premium, unconditional):\n",
    "        super().__init__(entity)\n",
    "        self.until_premium = until_premium\n",
    "        self.unconditional = unconditional\n",
    "\n",
    "    @classmethod\n",
    "    def h_to_args(cls, h, _game):\n",
    "        return {\n",
    "            \"until_premium\": h[\"until_premium\"],\n",
    "            \"unconditional\": h[\"unconditional\"],\n",
    "        }\n",
    "\n",
    "    def args_to_h(self):\n",
    "        return {\n",
    "            \"until_premium\": self.until_premium,\n",
    "            \"unconditional\": self.unconditional,\n",
    "        }\n",
    "\n",
    "    def to_s(self):\n",
    "        until_premium = (\n",
    "            f\", until premium {self.until_premium}\" if self.until_premium else \"\"\n",
    "        )\n",
    "        unconditionally = \", unconditionally\" if self.unconditional else \"\"\n",
    "        return f\"Pass in Draft{until_premium}{unconditionally}\"\n",
    "\n",
    "    def disable(self, game):\n",
    "        return not game.round.auction"
   ]
  },
  {
   "cell_type": "markdown",
   "id": "6f53b731-cbcf-46d6-b07d-e59412ef0a2a",
   "metadata": {
    "jp-MarkdownHeadingCollapsed": true
   },
   "source": [
    "## Program Independent Mines"
   ]
  },
  {
   "cell_type": "code",
   "execution_count": 53,
   "id": "2f73ba23-1031-49f0-97d9-43549ffdf83c",
   "metadata": {},
   "outputs": [],
   "source": [
    "# | export\n",
    "class ProgramIndependentMines(ProgramEnable):\n",
    "    def __init__(self, entity, skip_track, skip_buy, skip_close, indefinite):\n",
    "        super().__init__(entity)\n",
    "        self.skip_track = skip_track\n",
    "        self.skip_buy = skip_buy\n",
    "        self.skip_close = skip_close\n",
    "        self.indefinite = indefinite\n",
    "\n",
    "    @classmethod\n",
    "    def h_to_args(cls, h, _game):\n",
    "        return {\n",
    "            \"skip_track\": h[\"skip_track\"],\n",
    "            \"skip_buy\": h[\"skip_buy\"],\n",
    "            \"skip_close\": h[\"skip_close\"],\n",
    "            \"indefinite\": h[\"indefinite\"],\n",
    "        }\n",
    "\n",
    "    def args_to_h(self):\n",
    "        return {\n",
    "            \"skip_track\": self.skip_track,\n",
    "            \"skip_buy\": self.skip_buy,\n",
    "            \"skip_close\": self.skip_close,\n",
    "            \"indefinite\": self.indefinite,\n",
    "        }\n",
    "\n",
    "    def to_s(self):\n",
    "        steps = []\n",
    "        if self.skip_track:\n",
    "            steps.append(\"track\")\n",
    "        if self.skip_buy:\n",
    "            steps.append(\"buy trains\")\n",
    "        if self.skip_close:\n",
    "            steps.append(\"close\")\n",
    "        if not steps:\n",
    "            steps.append(\"nothing?!\")\n",
    "        condition = \"turned off\" if self.indefinite else \"next SR\"\n",
    "        return f\"Pass ({','.join(steps)}) for independent mines until {condition}\"\n",
    "\n",
    "    def disable(self, game):\n",
    "        return not (game.round.operating or self.indefinite)"
   ]
  },
  {
   "cell_type": "markdown",
   "id": "72ebd15b-6790-48cb-8ac5-de41db14fa3e",
   "metadata": {
    "jp-MarkdownHeadingCollapsed": true
   },
   "source": [
    "## Program Merger Pass"
   ]
  },
  {
   "cell_type": "code",
   "execution_count": 54,
   "id": "88b5eff5-567c-42ae-999a-6424a735cd65",
   "metadata": {},
   "outputs": [],
   "source": [
    "# | export\n",
    "class ProgramMergerPass(ProgramEnable):\n",
    "    def __init__(self, entity, corporations_by_round, options):\n",
    "        super().__init__(entity)\n",
    "        self.corporations_by_round = corporations_by_round\n",
    "        self.options = options\n",
    "\n",
    "    @classmethod\n",
    "    def h_to_args(cls, h, game):\n",
    "        corporations_by_round = h.get(\"corporations_by_round\", {})\n",
    "        transformed_corps = {}\n",
    "        for phase, corps_ids in corporations_by_round.items():\n",
    "            corps_list = [game.corporation_by_id(c_id) for c_id in corps_ids]\n",
    "            transformed_corps[phase] = corps_list\n",
    "        return {\n",
    "            \"corporations_by_round\": transformed_corps,\n",
    "            \"options\": h.get(\"options\", []),\n",
    "        }\n",
    "\n",
    "    def args_to_h(self):\n",
    "        transformed_corps = {}\n",
    "        for phase, corps_list in self.corporations_by_round.items():\n",
    "            corps_ids = [corp.id for corp in corps_list]\n",
    "            transformed_corps[phase] = corps_ids\n",
    "        return {\n",
    "            \"corporations_by_round\": transformed_corps,\n",
    "            \"options\": self.options,\n",
    "        }\n",
    "\n",
    "    def to_s(self):\n",
    "        phases = [\n",
    "            f\"{phase} ({', '.join(corp.name for corp in corps)})\"\n",
    "            if corps\n",
    "            else f\"{phase} (none)\"\n",
    "            for phase, corps in self.corporations_by_round.items()\n",
    "        ]\n",
    "        phases_str = \" and \".join(phases)\n",
    "        suffix = (\n",
    "            \", unless someone else acts\" if \"disable_others\" in self.options else \"\"\n",
    "        )\n",
    "        return f\"Pass on mergers in {phases_str}{suffix}\"\n",
    "\n",
    "    def disable(self, game):\n",
    "        return not game.round.merger"
   ]
  },
  {
   "cell_type": "markdown",
   "id": "a571f57b-a750-46a1-8e96-1fe2e6655e4e",
   "metadata": {
    "jp-MarkdownHeadingCollapsed": true
   },
   "source": [
    "## Program Share Pass"
   ]
  },
  {
   "cell_type": "code",
   "execution_count": 55,
   "id": "aeb514c4-5cc1-430a-a6cd-3bb495847fb0",
   "metadata": {},
   "outputs": [],
   "source": [
    "# | export\n",
    "class ProgramSharePass(ProgramEnable):\n",
    "    def __init__(self, entity, unconditional=False, indefinite=False):\n",
    "        super().__init__(entity)\n",
    "        self.unconditional = unconditional\n",
    "        self.indefinite = indefinite\n",
    "\n",
    "    @classmethod\n",
    "    def h_to_args(cls, h, _game):\n",
    "        return {\n",
    "            \"unconditional\": h.get(\"unconditional\", False),\n",
    "            \"indefinite\": h.get(\"indefinite\", False),\n",
    "        }\n",
    "\n",
    "    def args_to_h(self):\n",
    "        return {\n",
    "            \"unconditional\": self.unconditional,\n",
    "            \"indefinite\": self.indefinite,\n",
    "        }\n",
    "\n",
    "    def to_s(self):\n",
    "        unconditionally = \", unconditionally\" if self.unconditional else \"\"\n",
    "        indefinitely = \", indefinitely\" if self.indefinite else \"\"\n",
    "        return f\"Pass in Stock Round{unconditionally}{indefinitely}\"\n",
    "\n",
    "    def disable(self, game):\n",
    "        return not game.round.stock and not self.indefinite"
   ]
  },
  {
   "cell_type": "markdown",
   "id": "38fd9c7b-7da7-47e5-a290-3ed3beab46c5",
   "metadata": {
    "jp-MarkdownHeadingCollapsed": true
   },
   "source": [
    "## Purchase Train"
   ]
  },
  {
   "cell_type": "code",
   "execution_count": 56,
   "id": "53ba244c-d0dc-48d7-9195-5b33876d9120",
   "metadata": {},
   "outputs": [],
   "source": [
    "# | export\n",
    "class PurchaseTrain(BaseAction):\n",
    "    pass"
   ]
  },
  {
   "cell_type": "markdown",
   "id": "a19c4626-9988-4b8d-9903-3f9e907b5b0f",
   "metadata": {
    "jp-MarkdownHeadingCollapsed": true
   },
   "source": [
    "## Reassign Trains"
   ]
  },
  {
   "cell_type": "code",
   "execution_count": 57,
   "id": "b90eff30-4c61-49c0-9df2-5a6a98f27d0a",
   "metadata": {},
   "outputs": [],
   "source": [
    "# | export\n",
    "class ReassignTrains(BaseAction):\n",
    "    def __init__(self, entity, assignments=None):\n",
    "        super().__init__(entity)\n",
    "        self.assignments = assignments if assignments else []\n",
    "\n",
    "    @classmethod\n",
    "    def h_to_args(cls, h, game):\n",
    "        assignments = []\n",
    "        for assignment in h.get(\"assignments\", []):\n",
    "            train = game.train_by_id(assignment[\"train\"])\n",
    "            corporation = game.corporation_by_id(assignment[\"corporation\"])\n",
    "            assignments.append({\"train\": train, \"corporation\": corporation})\n",
    "\n",
    "        return {\"assignments\": assignments}\n",
    "\n",
    "    def args_to_h(self):\n",
    "        assignments = [\n",
    "            {\"train\": item[\"train\"].id, \"corporation\": item[\"corporation\"].id}\n",
    "            for item in self.assignments\n",
    "        ]\n",
    "        return {\"assignments\": assignments}"
   ]
  },
  {
   "cell_type": "markdown",
   "id": "4bc05f26-c608-4b20-924e-dae8013d0771",
   "metadata": {
    "jp-MarkdownHeadingCollapsed": true
   },
   "source": [
    "## Redo"
   ]
  },
  {
   "cell_type": "code",
   "execution_count": 58,
   "id": "b385cd6d-60c0-4ed1-a68b-93af2bfb1a76",
   "metadata": {},
   "outputs": [],
   "source": [
    "# | export\n",
    "class Redo(BaseAction):\n",
    "    def free(self):\n",
    "        return True"
   ]
  },
  {
   "cell_type": "markdown",
   "id": "fb637546-5b20-4123-a622-215a67b91255",
   "metadata": {
    "jp-MarkdownHeadingCollapsed": true
   },
   "source": [
    "## Remove Hex Token"
   ]
  },
  {
   "cell_type": "code",
   "execution_count": 59,
   "id": "7634adbe-4c4a-48f7-8390-20ff4c7de0f4",
   "metadata": {},
   "outputs": [],
   "source": [
    "# | export\n",
    "class RemoveHexToken(BaseAction):\n",
    "    def __init__(self, entity, hex):\n",
    "        super().__init__(entity)\n",
    "        self.hex = hex\n",
    "\n",
    "    @classmethod\n",
    "    def from_input(cls, data, game):\n",
    "        return cls(\n",
    "            entity=game.get_entity(data[\"entity\"]),\n",
    "            hex=game.get_hex_by_id(data[\"hex\"]),\n",
    "        )\n",
    "\n",
    "    def to_input(self):\n",
    "        return {\n",
    "            \"type\": \"remove_hex_token\",\n",
    "            \"entity\": self.entity.id,\n",
    "            \"hex\": self.hex.id,\n",
    "        }"
   ]
  },
  {
   "cell_type": "markdown",
   "id": "22462ac0-b99f-48d5-a765-ae467813ae97",
   "metadata": {
    "jp-MarkdownHeadingCollapsed": true
   },
   "source": [
    "## Remove Token"
   ]
  },
  {
   "cell_type": "code",
   "execution_count": 61,
   "id": "b74218ff-53bd-46ab-8df8-b2bc89d04ef1",
   "metadata": {},
   "outputs": [],
   "source": [
    "# | export\n",
    "class RemoveToken(BaseAction):\n",
    "    def __init__(self, entity, city, slot):\n",
    "        super().__init__(entity)\n",
    "        self.city = city\n",
    "        self.slot = slot\n",
    "\n",
    "    @classmethod\n",
    "    def from_input(cls, data, game):\n",
    "        return cls(\n",
    "            entity=game.get_entity(data[\"entity\"]),\n",
    "            city=game.get_city_by_id(data[\"city\"]),\n",
    "            slot=data[\"slot\"],\n",
    "        )\n",
    "\n",
    "    def to_input(self):\n",
    "        return {\n",
    "            \"type\": \"remove_token\",\n",
    "            \"entity\": self.entity.id,\n",
    "            \"city\": self.city.id,\n",
    "            \"slot\": self.slot,\n",
    "        }"
   ]
  },
  {
   "cell_type": "markdown",
   "id": "0216dc37-39ae-4ab0-a214-a9f589caa418",
   "metadata": {
    "jp-MarkdownHeadingCollapsed": true
   },
   "source": [
    "## Respond"
   ]
  },
  {
   "cell_type": "code",
   "execution_count": 62,
   "id": "b52e97d1-3dcf-45b5-bacd-787d363ed5c8",
   "metadata": {},
   "outputs": [],
   "source": [
    "# | export\n",
    "class Respond(BaseAction):\n",
    "    def __init__(self, entity, corporation, company, accept):\n",
    "        super().__init__(entity)\n",
    "        self.corporation = corporation\n",
    "        self.company = company\n",
    "        self.accept = accept\n",
    "\n",
    "    @classmethod\n",
    "    def from_input(cls, data, game):\n",
    "        return cls(\n",
    "            entity=game.get_entity(data[\"entity\"]),\n",
    "            corporation=game.get_corporation_by_id(data[\"corporation\"]),\n",
    "            company=game.get_company_by_id(data[\"company\"]),\n",
    "            accept=data[\"accept\"] == \"true\",\n",
    "        )\n",
    "\n",
    "    def to_input(self):\n",
    "        return {\n",
    "            \"type\": \"respond\",\n",
    "            \"entity\": self.entity.id,\n",
    "            \"corporation\": self.corporation.id,\n",
    "            \"company\": self.company.id,\n",
    "            \"accept\": \"true\" if self.accept else \"false\",\n",
    "        }"
   ]
  },
  {
   "cell_type": "markdown",
   "id": "2ecf4c15-2525-41d7-9ffe-5b61795067d7",
   "metadata": {
    "jp-MarkdownHeadingCollapsed": true
   },
   "source": [
    "## Run Routes"
   ]
  },
  {
   "cell_type": "code",
   "execution_count": 63,
   "id": "88f12066-70b4-4479-8205-e5b3e228008c",
   "metadata": {},
   "outputs": [],
   "source": [
    "# | export\n",
    "class RunRoutes(BaseAction):\n",
    "    def __init__(self, entity, routes, extra_revenue=0):\n",
    "        super().__init__(entity)\n",
    "        self.routes = routes\n",
    "        self.extra_revenue = extra_revenue\n",
    "\n",
    "    @classmethod\n",
    "    def from_input(cls, data, game):\n",
    "        routes = []\n",
    "\n",
    "        for route_data in data[\"routes\"]:\n",
    "            route = Route.from_input(route_data, game)\n",
    "            routes.append(route)\n",
    "\n",
    "        return cls(\n",
    "            entity=game.get_entity(data[\"entity\"]),\n",
    "            routes=routes,\n",
    "            extra_revenue=data[\"extra_revenue\"],\n",
    "        )\n",
    "\n",
    "    def to_input(self):\n",
    "        routes_data = []\n",
    "        for route in self.routes:\n",
    "            route_data = route.to_input()\n",
    "            routes_data.append(route_data)\n",
    "\n",
    "        return {\n",
    "            \"type\": \"run_routes\",\n",
    "            \"entity\": self.entity.id,\n",
    "            \"routes\": routes_data,\n",
    "            \"extra_revenue\": self.extra_revenue,\n",
    "        }"
   ]
  },
  {
   "cell_type": "markdown",
   "id": "015f5fe7-1d7b-437e-a355-7a1834273a62",
   "metadata": {
    "jp-MarkdownHeadingCollapsed": true
   },
   "source": [
    "## Scrap Train"
   ]
  },
  {
   "cell_type": "code",
   "execution_count": 64,
   "id": "20221ab7-3483-411e-ba6e-cfe54d06541e",
   "metadata": {},
   "outputs": [],
   "source": [
    "# | export\n",
    "class ScrapTrain(BaseAction):\n",
    "    def __init__(self, entity, train):\n",
    "        super().__init__(entity)\n",
    "        self.train = train\n",
    "\n",
    "    @classmethod\n",
    "    def from_input(cls, data, game):\n",
    "        return cls(\n",
    "            entity=game.get_entity(data[\"entity\"]),\n",
    "            train=game.get_train(data[\"train\"]),\n",
    "        )\n",
    "\n",
    "    def to_input(self):\n",
    "        return {\n",
    "            \"type\": \"scrap_train\",\n",
    "            \"entity\": self.entity.id,\n",
    "            \"train\": self.train.id,\n",
    "        }"
   ]
  },
  {
   "cell_type": "markdown",
   "id": "0e19f707-8e0a-4fe3-9ad6-dd91f0ba2146",
   "metadata": {
    "jp-MarkdownHeadingCollapsed": true
   },
   "source": [
    "## Sell Company"
   ]
  },
  {
   "cell_type": "code",
   "execution_count": 65,
   "id": "a821a1d8-c955-4d13-8729-5aada6700081",
   "metadata": {},
   "outputs": [],
   "source": [
    "# | export\n",
    "class SellCompany(BaseAction):\n",
    "    def __init__(self, entity, company, price):\n",
    "        super().__init__(entity)\n",
    "        self.company = company\n",
    "        self.price = price\n",
    "\n",
    "    @classmethod\n",
    "    def from_input(cls, data, game):\n",
    "        return cls(\n",
    "            entity=game.get_entity(data[\"entity\"]),\n",
    "            company=game.get_company(data[\"company\"]),\n",
    "            price=data[\"price\"],\n",
    "        )\n",
    "\n",
    "    def to_input(self):\n",
    "        return {\n",
    "            \"type\": \"sell_company\",\n",
    "            \"entity\": self.entity.id,\n",
    "            \"company\": self.company.id,\n",
    "            \"price\": self.price,\n",
    "        }"
   ]
  },
  {
   "cell_type": "markdown",
   "id": "543ad2ae-3cff-4103-8333-784e9cf4cb4e",
   "metadata": {
    "jp-MarkdownHeadingCollapsed": true
   },
   "source": [
    "## Short"
   ]
  },
  {
   "cell_type": "code",
   "execution_count": 67,
   "id": "2ada31f3-3265-49b2-a7e0-bc9d2e65f6a9",
   "metadata": {},
   "outputs": [],
   "source": [
    "# | export\n",
    "class Short(BaseAction):\n",
    "    def __init__(self, entity, corporation):\n",
    "        super().__init__(entity)\n",
    "        self.corporation = corporation\n",
    "\n",
    "    @classmethod\n",
    "    def from_input(cls, data, game):\n",
    "        return cls(\n",
    "            entity=game.get_entity(data[\"entity\"]),\n",
    "            corporation=game.get_corporation(data[\"corporation\"]),\n",
    "        )\n",
    "\n",
    "    def to_input(self):\n",
    "        return {\n",
    "            \"type\": \"short\",\n",
    "            \"entity\": self.entity.id,\n",
    "            \"corporation\": self.corporation.id,\n",
    "        }"
   ]
  },
  {
   "cell_type": "markdown",
   "id": "a159edad-e1b0-49b2-a9ff-54d809e6deb4",
   "metadata": {
    "jp-MarkdownHeadingCollapsed": true
   },
   "source": [
    "## Special Buy"
   ]
  },
  {
   "cell_type": "code",
   "execution_count": 68,
   "id": "cc4ed044-e44f-478a-a08a-e449fac6311b",
   "metadata": {},
   "outputs": [],
   "source": [
    "# | export\n",
    "class SpecialBuy(BaseAction):\n",
    "    def __init__(self, entity, item):\n",
    "        super().__init__(entity)\n",
    "        self.item = item\n",
    "\n",
    "    @classmethod\n",
    "    def from_input(cls, data, _game):\n",
    "        item_data = data.get(\"item\", {})\n",
    "        item = Item(\n",
    "            description=item_data.get(\"description\", \"\"),\n",
    "            cost=item_data.get(\"cost\", 0),\n",
    "        )\n",
    "        return cls(entity=data[\"entity\"], item=item)\n",
    "\n",
    "    def to_input(self):\n",
    "        return {\n",
    "            \"type\": \"special_buy\",\n",
    "            \"entity\": self.entity.id,\n",
    "            \"item\": {\n",
    "                \"description\": self.item.description,\n",
    "                \"cost\": self.item.cost,\n",
    "            },\n",
    "        }"
   ]
  },
  {
   "cell_type": "markdown",
   "id": "47841395-7611-46a1-a9cf-e644f6684b15",
   "metadata": {
    "jp-MarkdownHeadingCollapsed": true
   },
   "source": [
    "## Split"
   ]
  },
  {
   "cell_type": "code",
   "execution_count": 69,
   "id": "7f9fb61f-8cf9-4957-8bf1-be6019a232af",
   "metadata": {},
   "outputs": [],
   "source": [
    "# | export\n",
    "class Split(BaseAction):\n",
    "    def __init__(self, entity, corporation):\n",
    "        super().__init__(entity)\n",
    "        self.corporation = corporation\n",
    "\n",
    "    @classmethod\n",
    "    def from_input(cls, data, game):\n",
    "        return cls(\n",
    "            entity=data[\"entity\"],\n",
    "            corporation=game.corporation_by_id(data[\"corporation\"]),\n",
    "        )\n",
    "\n",
    "    def to_input(self):\n",
    "        return {\n",
    "            \"type\": \"split\",\n",
    "            \"entity\": self.entity.id,\n",
    "            \"corporation\": self.corporation.id,\n",
    "        }"
   ]
  },
  {
   "cell_type": "markdown",
   "id": "1d023e6e-139d-4cab-ae83-359b9f29eeb5",
   "metadata": {},
   "source": [
    "## Swap Train"
   ]
  },
  {
   "cell_type": "code",
   "execution_count": 70,
   "id": "cec89bd5-add5-41d0-a888-292ec3bda7ad",
   "metadata": {},
   "outputs": [],
   "source": [
    "# | export\n",
    "class SwapTrain(BaseAction):\n",
    "    def __init__(self, entity, train):\n",
    "        super().__init__(entity)\n",
    "        self.train = train\n",
    "\n",
    "    @classmethod\n",
    "    def from_input(cls, data, game):\n",
    "        return cls(\n",
    "            entity=data[\"entity\"],\n",
    "            train=game.train_by_id(data[\"train\"]),\n",
    "        )\n",
    "\n",
    "    def to_input(self):\n",
    "        return {\n",
    "            \"type\": \"swap_train\",\n",
    "            \"entity\": self.entity.id,\n",
    "            \"train\": self.train.id,\n",
    "        }"
   ]
  },
  {
   "cell_type": "markdown",
   "id": "776e4891-50b8-42ca-89de-c2a9f5e6365e",
   "metadata": {},
   "source": [
    "## Switch Trains"
   ]
  },
  {
   "cell_type": "code",
   "execution_count": 71,
   "id": "ac02e58e-0ae4-4a57-bac5-3c3ea6d577a1",
   "metadata": {},
   "outputs": [],
   "source": [
    "# | export\n",
    "class SwitchTrains(BaseAction):\n",
    "    def __init__(self, entity, slots=None):\n",
    "        super().__init__(entity)\n",
    "        self.slots = slots\n",
    "\n",
    "    @classmethod\n",
    "    def from_input(cls, data, _game):\n",
    "        return cls(\n",
    "            entity=data[\"entity\"],\n",
    "            slots=[int(slot) for slot in data.get(\"slots\", [])],\n",
    "        )\n",
    "\n",
    "    def to_input(self):\n",
    "        return {\n",
    "            \"type\": \"switch_trains\",\n",
    "            \"entity\": self.entity.id,\n",
    "            \"slots\": self.slots,\n",
    "        }"
   ]
  },
  {
   "cell_type": "markdown",
   "id": "677cd566-25a7-4ab0-93ea-cd514b827927",
   "metadata": {},
   "source": [
    "## Undo"
   ]
  },
  {
   "cell_type": "code",
   "execution_count": 72,
   "id": "5b01305e-d9e5-4dfa-a10a-c457f4f7cfb0",
   "metadata": {},
   "outputs": [],
   "source": [
    "# | export\n",
    "class Undo(BaseAction):\n",
    "    def __init__(self, entity, action_id=None):\n",
    "        super().__init__(entity)\n",
    "        self.action_id = action_id\n",
    "\n",
    "    @classmethod\n",
    "    def from_input(cls, data, _game):\n",
    "        return cls(\n",
    "            entity=data[\"entity\"],\n",
    "            action_id=data.get(\"action_id\"),\n",
    "        )\n",
    "\n",
    "    def to_input(self):\n",
    "        return {\n",
    "            \"type\": \"undo\",\n",
    "            \"entity\": self.entity.id,\n",
    "            \"action_id\": self.action_id,\n",
    "        }"
   ]
  },
  {
   "cell_type": "markdown",
   "id": "2649ddc5-a451-4b6c-9152-e60d10f9481c",
   "metadata": {},
   "source": [
    "## Use Graph"
   ]
  },
  {
   "cell_type": "code",
   "execution_count": 73,
   "id": "e8994b2a-faac-4b8b-a07c-138c29c4bab0",
   "metadata": {},
   "outputs": [],
   "source": [
    "# | export\n",
    "class UseGraph(BaseAction):\n",
    "    def __init__(self, entity, graph_id):\n",
    "        super().__init__(entity)\n",
    "        self.graph_id = graph_id\n",
    "\n",
    "    @classmethod\n",
    "    def from_input(cls, data, _game):\n",
    "        return cls(\n",
    "            entity=data[\"entity\"],\n",
    "            graph_id=data[\"graph_id\"],\n",
    "        )\n",
    "\n",
    "    def to_input(self):\n",
    "        return {\n",
    "            \"type\": \"use_graph\",\n",
    "            \"entity\": self.entity.id,\n",
    "            \"graph_id\": self.graph_id,\n",
    "        }"
   ]
  },
  {
   "cell_type": "markdown",
   "id": "f09aee14-4bec-41cc-8640-e2386f2c40ce",
   "metadata": {},
   "source": [
    "## View Merge Options"
   ]
  },
  {
   "cell_type": "code",
   "execution_count": 74,
   "id": "2eb87eff-ead6-4038-a8ce-978951a5d84e",
   "metadata": {},
   "outputs": [],
   "source": [
    "# | export\n",
    "class ViewMergeOptions(BaseAction):\n",
    "    pass"
   ]
  },
  {
   "cell_type": "code",
   "execution_count": null,
   "id": "d85b8c41-bb0c-4967-87b1-9bbdc959af2d",
   "metadata": {},
   "outputs": [],
   "source": []
  }
 ],
 "metadata": {
  "kernelspec": {
   "display_name": "Python 3 (ipykernel)",
   "language": "python",
   "name": "python3"
  },
  "language_info": {
   "codemirror_mode": {
    "name": "ipython",
    "version": 3
   },
   "file_extension": ".py",
   "mimetype": "text/x-python",
   "name": "python",
   "nbconvert_exporter": "python",
   "pygments_lexer": "ipython3",
   "version": "3.11.5"
  }
 },
 "nbformat": 4,
 "nbformat_minor": 5
}
