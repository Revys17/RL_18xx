{
 "cells": [
  {
   "cell_type": "markdown",
   "id": "fac485fa-8d01-49b5-a571-ba4a3d5b02ef",
   "metadata": {},
   "source": [
    "# Abilities"
   ]
  },
  {
   "cell_type": "code",
   "execution_count": null,
   "id": "1b3b872b-f721-4cbc-9a60-dfd7bc76b5fa",
   "metadata": {},
   "outputs": [],
   "source": [
    "#|default_exp game.engine.abilities"
   ]
  },
  {
   "cell_type": "code",
   "execution_count": null,
   "id": "312202dc-2206-4aa6-b90a-de1be750f635",
   "metadata": {},
   "outputs": [],
   "source": [
    "# | hide\n",
    "%load_ext lab_black"
   ]
  },
  {
   "cell_type": "code",
   "execution_count": null,
   "id": "98341810-e21c-44f4-bde6-90ee14173292",
   "metadata": {},
   "outputs": [],
   "source": [
    "# | export\n",
    "\n",
    "from rl18xx.game.engine.core import Ownable, snake_to_pascal"
   ]
  },
  {
   "cell_type": "markdown",
   "id": "4447503f-7088-4b70-bb0f-f38fdc48b3c1",
   "metadata": {},
   "source": [
    "This page contains the different ability types and the attributes\n",
    "which may be set for each type.\n",
    "\n",
    "Abilities are mainly used to describe private company powers, but may\n",
    "also apply to other entities such as corporations. Examples of how\n",
    "their use can be seen in the [game configuration\n",
    "directory](../config/game).\n",
    "\n",
    "## Generic attributes\n",
    "\n",
    "These attributes may be set for all ability types\n",
    "\n",
    "- `type`: The name of the ability type\n",
    "- `owner_type`: The company must be owned by this type of entity in\n",
    "  order for the ability to be active. Either \"player\" or\n",
    "  \"corporation\".\n",
    "- `remove`: Game phase when this ability is removed\n",
    "- `count`: The number of times the ability may be used\n",
    "- `count_per_or`: The number of times the ability may be used in each OR; the\n",
    "  property `count_this_or` is reset to 0 at the start of each OR and increments\n",
    "  each time the ability is used\n",
    "- `use_across_ors`: If `count` is more than 1 and this is `false`, then the\n",
    "  ability may only be used within one OR; if an OR starts and the ability has\n",
    "  been used at least once, but there is still `count` remaining, the ability\n",
    "  gets used up and removed. Default `true`.\n",
    "- `on_phase`: The phase when this ability is active\n",
    "- `after_phase`: The ability is active for all phases after the specified phase\n",
    "- `when`: (string or array of strings) The game steps or special time descriptor\n",
    "  when this ability is active. If no values are provided, this ability is\n",
    "  considered to be \"passive\", i.e., its effect applies without the user needinng\n",
    "  to click on the abilities button to activate it. For an ability to be included\n",
    "  in an `abilities()` call, either a `time` kwarg or the name of the current\n",
    "  game phase class must match (one of) the ability's `when` string(s). Examples:\n",
    "    - `any`: usable at any time during the game\n",
    "    - `buying_train`: train buying step\n",
    "    - `track`, `track_and_token`: track-laying step; if normal track lays are used\n",
    "      up, but there is still a `Track` ability, then the active step will not\n",
    "      pass on to the next step automatically\n",
    "    - `special_track`: `SpecialTrack` step when it blocks for a private company\n",
    "      that gets multiple lays\n",
    "    - `token`: token-placing step\n",
    "    - `route`: running routes step\n",
    "    - `sold`: when the company is bought from a player by a corporation\n",
    "    - `bought_train`: when the owning corporation has bought a train; generally\n",
    "      used with `close` abilities\n",
    "    - `owning_corp_or_turn`: usable at any point during the owning corporation's OR turn\n",
    "    - `owning_player_or_turn`: usable at any point during any of the owning player's OR turns\n",
    "    - `owning_player_track`: usable during track step during any of the owning player's OR turns\n",
    "    - `owning_player_sr_turn`: usable at any point during any of the owning player's\n",
    "    SR turns\n",
    "    - `or_between_turns`: usable at the start of any corporation's OR turn,\n",
    "      before that corporation has acted\n",
    "    - `stock_round`: usable any time during a Stock Round\n",
    "    - `never`: use with `close` abilities to prevent a company from closing\n",
    "    - `has_train`: when the owning corporation owns at least one train\n",
    "    - `operated`: when the owning corporation has finished the dividend step on their first turn"
   ]
  },
  {
   "cell_type": "markdown",
   "id": "8d95355b-18a0-4c84-b7a2-baaf719ed238",
   "metadata": {},
   "source": [
    "# Base Ability class"
   ]
  },
  {
   "cell_type": "code",
   "execution_count": null,
   "id": "ff079f1b-af24-45a2-aa3a-6bdb05146416",
   "metadata": {},
   "outputs": [],
   "source": [
    "# | export\n",
    "\n",
    "\n",
    "class AbilityBase(Ownable):\n",
    "    def __init__(\n",
    "        self,\n",
    "        type=None,\n",
    "        description=None,\n",
    "        desc_detail=None,\n",
    "        owner_type=None,\n",
    "        count=None,\n",
    "        remove=None,\n",
    "        use_across_ors=None,\n",
    "        count_per_or=None,\n",
    "        passive=None,\n",
    "        on_phase=None,\n",
    "        after_phase=None,\n",
    "        **opts\n",
    "    ):\n",
    "        self.type = type\n",
    "        self.description = description\n",
    "        self.desc_detail = desc_detail\n",
    "        self.owner_type = owner_type\n",
    "        when = opts.get(\"when\", [])\n",
    "        if not isinstance(when, list):\n",
    "            when = [when]\n",
    "        self.when = when\n",
    "        self.on_phase = on_phase\n",
    "        self.after_phase = after_phase\n",
    "        self.count = count\n",
    "        self.count_per_or = count_per_or\n",
    "        self.count_this_or = 0\n",
    "        self.use_across_ors = True if use_across_ors is None else use_across_ors\n",
    "        self.used = False\n",
    "        self.remove = remove\n",
    "        self.start_count = self.count\n",
    "        self.passive = passive if passive is not None else len(self.when) == 0\n",
    "\n",
    "    def used(self):\n",
    "        return self.used\n",
    "\n",
    "    def use(self, **kwargs):\n",
    "        self.used = True\n",
    "\n",
    "        if self.count_per_or:\n",
    "            self.count_this_or += 1\n",
    "\n",
    "        if self.count is not None:\n",
    "            self.count -= 1\n",
    "            if self.count <= 0:\n",
    "                self.owner.remove_ability(self)\n",
    "\n",
    "    def use_up(self):\n",
    "        while self.count > 0:\n",
    "            self.use()\n",
    "\n",
    "    def teardown(self):\n",
    "        pass\n",
    "\n",
    "    def when(self, *times):\n",
    "        return bool(set(self.when) & set(times))"
   ]
  },
  {
   "cell_type": "markdown",
   "id": "430e9bf4-0d8e-4ca1-b667-d568b241c83e",
   "metadata": {},
   "source": [
    "# Ability Classes"
   ]
  },
  {
   "cell_type": "markdown",
   "id": "63bf08b0-12b2-492e-971a-8d0da0ea5d96",
   "metadata": {},
   "source": [
    "## acquire_company\n",
    "\n",
    "This company comes with a company when acquired.\n",
    "\n",
    "- `company`: The sym of the additional company to be acquired"
   ]
  },
  {
   "cell_type": "code",
   "execution_count": null,
   "id": "95e78cf1-b2ca-4440-9c4b-87cdb47952aa",
   "metadata": {},
   "outputs": [],
   "source": [
    "# | export\n",
    "class AcquireCompany(AbilityBase):\n",
    "    def __init__(self, company, **kwargs):\n",
    "        super().__init__(**kwargs)\n",
    "        self.company = company"
   ]
  },
  {
   "cell_type": "markdown",
   "id": "0d92dbf4-539c-4e8b-91e1-00506752b72d",
   "metadata": {},
   "source": [
    "## additional_token\n",
    "\n",
    "Adds 'count' additional tokens to a purchasing company (1817)"
   ]
  },
  {
   "cell_type": "code",
   "execution_count": null,
   "id": "c9597e0d-23d5-4921-8ad4-03cbbce80a7e",
   "metadata": {},
   "outputs": [],
   "source": [
    "# | export\n",
    "class AdditionalToken(AbilityBase):\n",
    "    pass"
   ]
  },
  {
   "cell_type": "markdown",
   "id": "393ab38b-7c67-4b21-94ad-5867e08fed21",
   "metadata": {},
   "source": [
    "## assign_corporation\n",
    "\n",
    "Designate a specific corporation to be the beneficiary of the ability,\n",
    "for example Steamboat Company in 1846.\n",
    "\n",
    "When a company with this ability is sold to a corporation, the company is\n",
    "automatically assigned to the new owning corporation.\n",
    "\n",
    "- `count`: The number of times the ability may be used\n",
    "- `closed_when_used_up`: This ability has a count that is decreased each time it is used. If this attribute is true the private is closed when count reaches zero, if false the private\n",
    "remains open but the discount can no longer be used. Default false.\n",
    "\n",
    "With this configuration,\n",
    "the automatic assignment will happen and the company cannot be further\n",
    "reassigned:\n",
    "\n",
    "```\n",
    "{\n",
    "  \"type\": \"assign_corporation\",\n",
    "  \"when\": \"sold\",\n",
    "  \"count\": 1,\n",
    "  \"owner_type\": \"corporation\"\n",
    "}\n",
    "```"
   ]
  },
  {
   "cell_type": "code",
   "execution_count": null,
   "id": "f10ff6d5-410e-4fed-a1d2-2539771f878d",
   "metadata": {},
   "outputs": [],
   "source": [
    "# | export\n",
    "class AssignCorporation(AbilityBase):\n",
    "    def __init__(self, closed_when_used_up, **kwargs):\n",
    "        super().__init__(**kwargs)\n",
    "        self.closed_when_used_up = closed_when_used_up"
   ]
  },
  {
   "cell_type": "markdown",
   "id": "0bff803b-7c30-450a-846d-e3f0c442edc4",
   "metadata": {},
   "source": [
    "## assign_hexes\n",
    "\n",
    "Designate a hex to the ability. Usually simulates placement of a\n",
    "special power token.\n",
    "\n",
    "- `hexes`: An array of hex coordinates where this ability may be used."
   ]
  },
  {
   "cell_type": "code",
   "execution_count": null,
   "id": "a327256b-b2d5-4119-870e-f82b726dda6b",
   "metadata": {},
   "outputs": [],
   "source": [
    "# | export\n",
    "class AssignHexes(AbilityBase):\n",
    "    def __init__(self, hexes, closed_when_used_up=None, cost=0, **kwargs):\n",
    "        super().__init__(**kwargs)\n",
    "        self.hexes = hexes\n",
    "        self.closed_when_used_up = closed_when_used_up\n",
    "        self.cost = cost"
   ]
  },
  {
   "cell_type": "markdown",
   "id": "4963b5e7-ada5-4421-b5fc-03260e7d9277",
   "metadata": {},
   "source": [
    "## blocks_hexes\n",
    "\n",
    "Designate hexes which are blocked by this ability. Use the\n",
    "`owner_type: \"player\"` to specify that the blocking ends when the\n",
    "company is bought in by a corporation.\n",
    "\n",
    "- `hexes`: An array of hex coordinates that are blocked"
   ]
  },
  {
   "cell_type": "code",
   "execution_count": null,
   "id": "3b1da409-d7e4-4bb4-b709-3d6b3243d11a",
   "metadata": {},
   "outputs": [],
   "source": [
    "# | export\n",
    "class BlocksHexes(AbilityBase):\n",
    "    def __init__(self, hexes, hidden=False, **kwargs):\n",
    "        super().__init__(**kwargs)\n",
    "        self.hexes = hexes\n",
    "        self.hidden = hidden"
   ]
  },
  {
   "cell_type": "markdown",
   "id": "8e148328-343e-4897-a092-0537cacebb35",
   "metadata": {},
   "source": [
    "## blocks_hexes_consent\n",
    "\n",
    "Designate hexes which are blocked by this ability. Use the `owner_type:\n",
    "\"player\"` to specify that the blocking ends when the company is bought in by a\n",
    "corporation. However unlike `blocks_hexes` this doesn't block the ability except\n",
    "through a front end confirmation, so players (if they click through) are allowed\n",
    "to lay a tile on this hex. This is just like when purchasing a train from\n",
    "another player.\n",
    "\n",
    "- `hexes`: An array of hex coordinates that are blocked"
   ]
  },
  {
   "cell_type": "code",
   "execution_count": null,
   "id": "61d0e11d-b484-41c0-a342-21a575766522",
   "metadata": {},
   "outputs": [],
   "source": [
    "# | export\n",
    "class BlocksHexesConsent(AbilityBase):\n",
    "    def __init__(self, hexes, hidden=False, **kwargs):\n",
    "        super().__init__(**kwargs)\n",
    "        self.hexes = hexes\n",
    "        self.hidden = hidden"
   ]
  },
  {
   "cell_type": "markdown",
   "id": "cf655c96-e162-467b-924e-9f4c3865d345",
   "metadata": {},
   "source": [
    "## blocks_partition\n",
    "\n",
    "Designate a type of partition which this ability disallows crossing.\n",
    "A partition separates an hex in 2 halves. Use the `owner_type: \"player\"`\n",
    "to specify that the blocking ends when the company is bought in by a\n",
    "corporation.\n",
    "\n",
    "- `partition_type`: The name of the partition type that is to be\n",
    "  blocked, akin to terrain and border types."
   ]
  },
  {
   "cell_type": "code",
   "execution_count": null,
   "id": "f503ba20-03af-467b-a988-2e4aa85331a4",
   "metadata": {},
   "outputs": [],
   "source": [
    "# | export\n",
    "class BlocksPartition(AbilityBase):\n",
    "    def __init__(self, partition_type, **kwargs):\n",
    "        super().__init__(**kwargs)\n",
    "        self.partition_type = partition_type\n",
    "\n",
    "    def blocks(self, partition_type):\n",
    "        return self.partition_type == partition_type"
   ]
  },
  {
   "cell_type": "markdown",
   "id": "ba7050f2-f689-4fc4-b779-a2dcbf4117b1",
   "metadata": {},
   "source": [
    "## borrow_train\n",
    "\n",
    "May borrow a train from the Depot for running trains when trainless\n",
    "\n",
    "- `train_types`: Array of train types that are eligible for borrowing"
   ]
  },
  {
   "cell_type": "code",
   "execution_count": null,
   "id": "2ed888d9-b98b-4f83-ab90-fef081193bd0",
   "metadata": {},
   "outputs": [],
   "source": [
    "# | export\n",
    "class BorrowTrain(AbilityBase):\n",
    "    def __init__(self, train_types, **kwargs):\n",
    "        super().__init__(**kwargs)\n",
    "        self.train_types = train_types"
   ]
  },
  {
   "cell_type": "markdown",
   "id": "5a82de84-0e5d-4521-8e4d-ca6f329a76b1",
   "metadata": {},
   "source": [
    "## choose_ability\n",
    "\n",
    "Allows you to choose another ability.\n",
    "\n",
    "- `choices`: The abilities to choose from."
   ]
  },
  {
   "cell_type": "code",
   "execution_count": null,
   "id": "08d2ad2a-b4a7-4c9f-b659-d1023d73d6ab",
   "metadata": {},
   "outputs": [],
   "source": [
    "# | export\n",
    "class ChooseAbility(AbilityBase):\n",
    "    def __init__(self, choices=[], **kwargs):\n",
    "        super().__init__(**kwargs)\n",
    "        self.choices = choices"
   ]
  },
  {
   "cell_type": "markdown",
   "id": "b8fae583-0f6e-47b2-a6cf-3d38db9c8e35",
   "metadata": {},
   "source": [
    "## close\n",
    "\n",
    "Describe when the company closes, using the `when` attribute.\n",
    "\n",
    "- `corporation'`: If `when` is set to `\"train\"`, this value is the name\n",
    "  of the corporation whose train purchase closes this company."
   ]
  },
  {
   "cell_type": "code",
   "execution_count": null,
   "id": "c704d277-c020-44dd-9a22-adf1b387bd05",
   "metadata": {},
   "outputs": [],
   "source": [
    "# | export\n",
    "class Close(AbilityBase):\n",
    "    def __init__(self, corporation=None, silent=False, **kwargs):\n",
    "        super().__init__(**kwargs)\n",
    "        self.corporation = corporation\n",
    "        self.silent = silent"
   ]
  },
  {
   "cell_type": "markdown",
   "id": "1fa5f666-e05d-46e2-8bb2-afcd75bb5ff0",
   "metadata": {},
   "source": [
    "## description\n",
    "\n",
    "Provide a description for an ability that is implemented outside of the ability framework.\n",
    "\n",
    "- `description`: Description of the ability."
   ]
  },
  {
   "cell_type": "code",
   "execution_count": null,
   "id": "e8908108-acc6-4929-bd16-1eec68c2e5aa",
   "metadata": {},
   "outputs": [],
   "source": [
    "# | export\n",
    "class Description(AbilityBase):\n",
    "    pass"
   ]
  },
  {
   "cell_type": "markdown",
   "id": "740e7c71-0b6e-4e92-9399-722451b2eaea",
   "metadata": {},
   "source": [
    "## exchange\n",
    "\n",
    "This company may be exchanged for a single share of a specified corporation during a step\n",
    "that allows exchange.\n",
    "\n",
    "- `corporations`: An array with corporation names, whose share may be exchanged.\n",
    "  Use a simple `\"any\"` (no array) to allow for any corporation. Use a simple\n",
    "  `\"ipoed\"` (no array) to allow from any company that has been ipoed.\n",
    "- `from`: Where the share may be take from, either `\"ipo\"`,\n",
    "  `\"market\"`, or an array containing both."
   ]
  },
  {
   "cell_type": "code",
   "execution_count": null,
   "id": "572c12ec-21f0-4ca3-b1fe-0529f953cbdb",
   "metadata": {},
   "outputs": [],
   "source": [
    "# | export\n",
    "class Exchange(AbilityBase):\n",
    "    def __init__(self, corporations, from_, **kwargs):\n",
    "        super().__init__(**kwargs)\n",
    "        self.corporations = corporations\n",
    "        self.from_ = from_"
   ]
  },
  {
   "cell_type": "markdown",
   "id": "0a2f6697-1307-4b9a-bbbb-85118a53e6e0",
   "metadata": {},
   "source": [
    "## generic\n",
    "\n",
    "Not sure what uses this"
   ]
  },
  {
   "cell_type": "code",
   "execution_count": null,
   "id": "edf88ec6-952e-42c2-89e8-4c5dd66795a9",
   "metadata": {},
   "outputs": [],
   "source": [
    "# | export\n",
    "class Generic(AbilityBase):\n",
    "    def __init__(self, subtype, from_, **kwargs):\n",
    "        super().__init__(**kwargs)\n",
    "        self.type = subtype"
   ]
  },
  {
   "cell_type": "markdown",
   "id": "b8d83b37-e373-435f-9790-6a81706a6422",
   "metadata": {},
   "source": [
    "## hex_bonus\n",
    "\n",
    "Give a route bonus if at least one of the hexes are included in the route.\n",
    "\n",
    "- `hexes`: Name of hexes that gives a bonus.\n",
    "- `amount`: Revenue bonus."
   ]
  },
  {
   "cell_type": "code",
   "execution_count": null,
   "id": "c17ff50c-7c21-4d02-bbd7-6945c6c74bc6",
   "metadata": {},
   "outputs": [],
   "source": [
    "# | export\n",
    "class HexBonus(AbilityBase):\n",
    "    def __init__(self, hexes, amount, **kwargs):\n",
    "        super().__init__(**kwargs)\n",
    "        self.hexes = hexes\n",
    "        self.amount = amount"
   ]
  },
  {
   "cell_type": "markdown",
   "id": "6d09858f-980f-4571-9c0c-71707709fa79",
   "metadata": {},
   "source": [
    "## manual_close_company"
   ]
  },
  {
   "cell_type": "code",
   "execution_count": null,
   "id": "eb00b578-e990-4d53-b48f-3ab4216c5bd6",
   "metadata": {},
   "outputs": [],
   "source": [
    "# | export\n",
    "class ManualCloseCompany(AbilityBase):\n",
    "    pass"
   ]
  },
  {
   "cell_type": "markdown",
   "id": "20e09416-f3b8-45a0-b166-d52b1f2dfba8",
   "metadata": {},
   "source": [
    "## no_buy\n",
    "\n",
    "This company may not be bought in."
   ]
  },
  {
   "cell_type": "code",
   "execution_count": null,
   "id": "b3cf3737-d295-4fde-9f59-be3be4f583d6",
   "metadata": {},
   "outputs": [],
   "source": [
    "# | export\n",
    "class NoBuy(AbilityBase):\n",
    "    pass"
   ]
  },
  {
   "cell_type": "markdown",
   "id": "bb106a49-24df-4450-8c40-1d9595f2d297",
   "metadata": {},
   "source": [
    "## purchase_train\n",
    "\n",
    "Immediately purchases the currently available depot train for the owning corporation.\n",
    "- `free`: If true, the train cost is free, otherwase at cost. Default false."
   ]
  },
  {
   "cell_type": "code",
   "execution_count": null,
   "id": "ad8e66bd-9ed7-413c-ba35-34ba41826e04",
   "metadata": {},
   "outputs": [],
   "source": [
    "# | export\n",
    "class PurchaseTrain(AbilityBase):\n",
    "    def __init__(self, free=False, **kwargs):\n",
    "        super().__init__(**kwargs)\n",
    "        self.free = free"
   ]
  },
  {
   "cell_type": "markdown",
   "id": "15cf7f08-0d73-4807-97fd-a50fc4492877",
   "metadata": {},
   "source": [
    "## reservation\n",
    "\n",
    "Reserve a token slot\n",
    "\n",
    "- `hex`: Hex coordinate\n",
    "- `slot`: A specific token slot to designate\n",
    "- `city`: Which city to reserve, if multiple cities are on one hex"
   ]
  },
  {
   "cell_type": "code",
   "execution_count": null,
   "id": "80b6d68c-78db-4fc6-b367-83be10a63c8d",
   "metadata": {},
   "outputs": [],
   "source": [
    "# | export\n",
    "class Reservation(AbilityBase):\n",
    "    def __init__(self, hex, city=0, slot=0, tile=None, icon=None, **kwargs):\n",
    "        super().__init__(**kwargs)\n",
    "        self.hex = hex\n",
    "        self.city = city\n",
    "        self.slot = slot\n",
    "        self.tile = tile\n",
    "        self.icon = f\"/icons/{icon}.svg\" if icon else None\n",
    "\n",
    "    def teardown(self):\n",
    "        if self.tile:\n",
    "            self.tile.cities[self.city].remove_reservation(self.owner)"
   ]
  },
  {
   "cell_type": "markdown",
   "id": "ba3d3555-7327-4f91-bd56-f92712dd6d26",
   "metadata": {},
   "source": [
    "## return_token\n",
    "\n",
    "Take a station token off the board and place back on the charter\n",
    "in the most expensive open location\n",
    "\n",
    "- `reimburse`: If true, the corporation is reimbursed the token cost\n",
    "  of the location where the token is placed"
   ]
  },
  {
   "cell_type": "code",
   "execution_count": null,
   "id": "d74fe4a9-598c-4420-aa5b-97be45c639e6",
   "metadata": {},
   "outputs": [],
   "source": [
    "# | export\n",
    "class ReturnToken(AbilityBase):\n",
    "    def __init__(self, reimburse=False, **kwargs):\n",
    "        super().__init__(**kwargs)\n",
    "        self.reimburse = reimburse"
   ]
  },
  {
   "cell_type": "markdown",
   "id": "1066b888-57db-4412-808c-15471965bb7a",
   "metadata": {},
   "source": [
    "## revenue_change\n",
    "\n",
    "The revenue for this company changes when the conditions set by `when`\n",
    "and `owner_type` are satisfied.\n",
    "\n",
    "- `revenue`: The new revenue value"
   ]
  },
  {
   "cell_type": "code",
   "execution_count": null,
   "id": "bba4f1f6-421c-4fe2-ac60-3c747e7e306d",
   "metadata": {},
   "outputs": [],
   "source": [
    "# | export\n",
    "class RevenueChange(AbilityBase):\n",
    "    def __init__(self, revenue, **kwargs):\n",
    "        super().__init__(**kwargs)\n",
    "        self.revenue = revenue"
   ]
  },
  {
   "cell_type": "markdown",
   "id": "e4febd31-6424-4794-9da2-7c582aa6b04f",
   "metadata": {},
   "source": [
    "## sell_company\n",
    "\n",
    "This company can be sold to bank for face value. This closes the company."
   ]
  },
  {
   "cell_type": "code",
   "execution_count": null,
   "id": "31e7417c-8cb9-4063-bb23-12a0435f043c",
   "metadata": {},
   "outputs": [],
   "source": [
    "# | export\n",
    "class SellCompany(AbilityBase):\n",
    "    pass"
   ]
  },
  {
   "cell_type": "markdown",
   "id": "d168b2ec-76a0-44aa-9862-5ca01f7cdac6",
   "metadata": {},
   "source": [
    "## shares\n",
    "\n",
    "This company comes with a share of a corporation when acquired.\n",
    "\n",
    "- `share`: If a string in the form of `sym_x`, where `sym` is a\n",
    "  corporation symbol, and `x` is a numeric index, gives the\n",
    "  certificate of the corporation at index `x` (`x = 0` is the\n",
    "  president's certificate). If `\"random_president\"`, gives a\n",
    "  president's certificate randomly selected at game setup. Gives one\n",
    "  ordinary share of one the corporations listed in `corporations`,\n",
    "  randomly selected at game setup.\n",
    "- `corporations`: A list of corporations to be used with `\"share\": \"random_share\"`"
   ]
  },
  {
   "cell_type": "code",
   "execution_count": null,
   "id": "03d732ba-2b37-4944-8e48-8d83edbe83f6",
   "metadata": {},
   "outputs": [],
   "source": [
    "# | export\n",
    "class Shares(AbilityBase):\n",
    "    def __init__(self, shares, corporations=None, **kwargs):\n",
    "        super().__init__(**kwargs)\n",
    "        self.shares = list(shares) if isinstance(shares, (list, tuple)) else [shares]\n",
    "        self.corporations = corporations"
   ]
  },
  {
   "cell_type": "markdown",
   "id": "da3f80ee-2cba-49f5-b1ff-84a1e737c5d0",
   "metadata": {},
   "source": [
    "## teleport\n",
    "\n",
    "Lay a tile and place a station token without connectivity\n",
    "\n",
    "- `hexes`: An array of hex coordinates that can be used as the\n",
    "  teleport destination.\n",
    "- `tiles`: An array of tile numbers which may be placed at the\n",
    "  teleport destination.\n",
    "- `cost`: Cost to use the teleport ability.\n",
    "- `free_tile_lay`: If true, the tile is laid with 0 cost. Default false.\n",
    "- `from_owner`: If true, this ability uses a token from the owning corporation's\n",
    "  charter; if false, an additional token is created. Default true.\n",
    "- `extra_action`: If true, this ability may be used in addition to the turn's\n",
    "  normal token placement step. Default false."
   ]
  },
  {
   "cell_type": "code",
   "execution_count": null,
   "id": "0c8b26a1-0c24-48dc-ad5c-8ee114a2fb00",
   "metadata": {},
   "outputs": [],
   "source": [
    "# | export\n",
    "class Teleport(AbilityBase):\n",
    "    def __init__(\n",
    "        self,\n",
    "        hexes,\n",
    "        tiles,\n",
    "        cost=None,\n",
    "        free_tile_lay=False,\n",
    "        from_owner=True,\n",
    "        extra_action=False,\n",
    "        **kwargs\n",
    "    ):\n",
    "        super().__init__(**kwargs)\n",
    "        self.hexes = hexes\n",
    "        self.tiles = tiles\n",
    "        self.cost = cost\n",
    "        self.free_tile_lay = free_tile_lay\n",
    "        # If the 'when' list is empty, default it to ['track']\n",
    "        if not self.when:\n",
    "            self.when = [\"track\"]\n",
    "        self.passive = False\n",
    "        self.from_owner = from_owner\n",
    "        self.extra_action = extra_action"
   ]
  },
  {
   "cell_type": "markdown",
   "id": "ebf643be-3711-4ab4-8d86-8216f17f78aa",
   "metadata": {},
   "source": [
    "## tile_discount\n",
    "\n",
    "Discount the cost for laying tiles in the specified terrain type\n",
    "\n",
    "- `discount`: Discount amount\n",
    "- `terrain`: If set, type of terrain for which discount is provided, otherwise the discount is off the total cost\n",
    "- `hexes`: If not specified, all applicable hexes qualifies for\n",
    "  the discount. If specified, only specified hexes qualify\n",
    "- `exact_match`: Tile may only contain specified terrain type. Default true."
   ]
  },
  {
   "cell_type": "code",
   "execution_count": null,
   "id": "ce6dc053-28e1-4262-957f-c579c1b46034",
   "metadata": {},
   "outputs": [],
   "source": [
    "# | export\n",
    "class TileDiscount(AbilityBase):\n",
    "    def __init__(self, discount, terrain=None, hexes=None, exact_match=True, **kwargs):\n",
    "        super().__init__(**kwargs)\n",
    "        self.discount = discount\n",
    "        self.terrain = terrain\n",
    "        self.hexes = hexes\n",
    "        self.exact_match = exact_match\n",
    "\n",
    "    def discounts_tile(self, tile):\n",
    "        if self.exact_match:\n",
    "            return tile.terrain == [self.terrain]\n",
    "        return self.terrain in tile.terrain"
   ]
  },
  {
   "cell_type": "markdown",
   "id": "f8f4c75d-afcb-4d43-aab6-f98ce248a733",
   "metadata": {},
   "source": [
    "## tile_income\n",
    "\n",
    "Generate extra revenue when tiles are laid on specified terrain types.\n",
    "\n",
    "- `terrain`: Terrain type for this ability\n",
    "- `income`: Extra income per tile lay\n",
    "- `owner_only`: Does this income apply to any tile lay (1882 Tresle Bridge) or just the owner (1817 Mountain Engineers)"
   ]
  },
  {
   "cell_type": "code",
   "execution_count": null,
   "id": "40db2ba7-f8f5-47ea-8b3f-dd768b335182",
   "metadata": {},
   "outputs": [],
   "source": [
    "# | export\n",
    "class TileIncome(AbilityBase):\n",
    "    def __init__(self, income, terrain=None, owner_only=False, **kwargs):\n",
    "        super().__init__(**kwargs)\n",
    "        self.income = income\n",
    "        self.terrain = terrain\n",
    "        self.owner_only = owner_only"
   ]
  },
  {
   "cell_type": "markdown",
   "id": "3b96c013-d272-4639-b686-5bbf04ead46d",
   "metadata": {},
   "source": [
    "## tile_lay\n",
    "\n",
    "Lay or upgrade one or more track tiles without connectivity, in addition to\n",
    "normal tile lay actions.\n",
    "\n",
    "- `hexes`: Array of hex coordinates where tiles may be laid.\n",
    "- `tiles`: Array of tile numbers which may be laid.\n",
    "- `cost`: Cost to use the ability.\n",
    "- `closed_when_used_up`: This ability has a count that is decreased each time it is used. If this attribute is true the private is closed when count reaches zero, if false the private\n",
    "remains open but the discount can no longer be used. Default false.\n",
    "- `free`: If true, the tiles are laid with 0 cost. Default false.\n",
    "- `discount`: Discount the cost of laying the tile by the given\n",
    "  amount. Default 0.\n",
    "- `special`: If true, do not check that the tile upgrade preserves\n",
    "  labels and city count. Default true.\n",
    "- `connect`: If true, and `count` is greater than 1, tiles laid must\n",
    "  connect to each other. Default true.\n",
    "- `blocks`: If true and `when` is `sold`, then the step\n",
    "  `TrackLayWhenCompanySold` will require a tile lay. Default false.\n",
    "- `reachable`: If true, when tile laid, a check is done if one of the\n",
    "  controlling corporation's station tokens are reachable; if not a game\n",
    "  error is triggered. Default false.\n",
    "- `must_lay_together`: If true and `count` is greater than 1, all the tile lays\n",
    "  must happen at the same time. If this is `true`, you might want `when` to\n",
    "  include `special_track`. Default false.\n",
    "- `must_lay_all`: If true and `count` is greater than 1 and `must_lay_together`\n",
    "  is true, all the tile lays must be used; if false, then some tile lays may be\n",
    "  forfeited. Default false.\n",
    "- `consume_tile_lay`: If true, using this private counts as a corporations tile lay\n",
    "  and must follow lay/upgrade rules. Upgrade's also count towards the corporations 'upgrade' lays.\n",
    "  Default false.\n",
    "- `lay_count` and `upgrade_count` - Use as an alternative to\n",
    "  `count`. `lay_count` is the number of yellow tile lays, and `upgrade_count` is\n",
    "  the number of green or higher tile upgrades. When these are set, the ability\n",
    "  cannot be used for both new tile lays and upgrades. With these set, you need\n",
    "  to make sure the `ability.use!` call includes an `upgrade` kwarg."
   ]
  },
  {
   "cell_type": "code",
   "execution_count": null,
   "id": "48ddc53b-e129-4bba-9bf2-51be65767d97",
   "metadata": {},
   "outputs": [],
   "source": [
    "# | export\n",
    "class TileLay(AbilityBase):\n",
    "    def __init__(\n",
    "        self,\n",
    "        tiles,\n",
    "        hexes=None,\n",
    "        free=False,\n",
    "        discount=0,\n",
    "        special=True,\n",
    "        connect=True,\n",
    "        blocks=False,\n",
    "        reachable=False,\n",
    "        must_lay_together=False,\n",
    "        cost=0,\n",
    "        closed_when_used_up=False,\n",
    "        must_lay_all=False,\n",
    "        consume_tile_lay=False,\n",
    "        lay_count=None,\n",
    "        upgrade_count=None,\n",
    "        combo_entities=[],\n",
    "        **kwargs\n",
    "    ):\n",
    "        super().__init__(**kwargs)\n",
    "        self.hexes = hexes\n",
    "        self.tiles = tiles\n",
    "        self.free = free\n",
    "        self.discount = discount\n",
    "        self.special = special\n",
    "        self.connect = connect\n",
    "        self.blocks = blocks\n",
    "        self.reachable = reachable\n",
    "        self.must_lay_together = must_lay_together\n",
    "        self.must_lay_all = must_lay_all and must_lay_together\n",
    "        self.cost = cost\n",
    "        self.closed_when_used_up = closed_when_used_up\n",
    "        self.consume_tile_lay = consume_tile_lay\n",
    "        self.laid_hexes = []\n",
    "        self.lay_count = lay_count\n",
    "        self.upgrade_count = upgrade_count\n",
    "        if lay_count is not None:\n",
    "            self.count = lay_count\n",
    "        self.start_count = self.count\n",
    "        self.combo_entities = combo_entities\n",
    "\n",
    "    def use(self, upgrade=False):\n",
    "        if self.count is not None and self.count <= 0:\n",
    "            return\n",
    "\n",
    "        super().use()\n",
    "\n",
    "        if self.upgrade_count is not None and self.lay_count is not None:\n",
    "            if upgrade:\n",
    "                if self.upgrade_count <= 0:\n",
    "                    raise ValueError(\"Cannot use this ability to upgrade a tile now\")\n",
    "\n",
    "                self.lay_count = 0\n",
    "                self.upgrade_count -= 1\n",
    "                if self.upgrade_count <= 0:\n",
    "                    self.owner.remove_ability(self)\n",
    "                    self.count = 0\n",
    "            else:\n",
    "                if self.lay_count <= 0:\n",
    "                    raise ValueError(\"Cannot use this ability to lay a tile now\")\n",
    "\n",
    "                self.upgrade_count = 0\n",
    "                self.lay_count -= 1\n",
    "                if not self.lay_count > 0:\n",
    "                    self.owner.remove_ability(self)\n",
    "                    self.count = 0"
   ]
  },
  {
   "cell_type": "markdown",
   "id": "a365a4ce-acd5-4ebc-9847-efea7402534e",
   "metadata": {},
   "source": [
    "## token\n",
    "\n",
    "Modified station token placement\n",
    "\n",
    "- `hexes`: Array of hex coordinates where this ability may be used\n",
    "- `city`: Index of the city on the hex where this ability may be used, if\n",
    "  multiple cities are there\n",
    "- `price`: Price for placing token\n",
    "- `teleport_price`: If present, this ability may be used to place a\n",
    "  token without connectivity, for the given price.\n",
    "- `discount`: ratio discount from the normal price, e.g., `0.25` takes 25% off\n",
    "  the token price\n",
    "- `extra_action`: If true, this ability may be used in addition to the turn's\n",
    "  normal token placement step. Default false.\n",
    "- `from_owner`: If true, this ability uses a token from the owning corporation's\n",
    "  charter; if false, an additional token is created. Default false.\n",
    "- `cheater`: If an integer is given, this token will be placed into a city at\n",
    "  whichever is the lowest unoccupied slot index of the following: a regular slot\n",
    "  in the city; the `cheater` value; one slot higher than the city actually has,\n",
    "  effectively increasing the city's size by one. (See 18 Los Angeles's optional\n",
    "  company \"Dewey, Cheatham, and Howe\" or the corporations which get removed in\n",
    "  1846 2p Variant for examples). Default nil.\n",
    "- `extra_slot`: Simlar to `cheater` except this token does not take a slot -\n",
    "  When `cheater` is used, when the city gets an extra city slot the 'cheater' token\n",
    "  goes into the newly opened slot. If `extra_slot` is used, when the city gets an extra\n",
    "  token slot, the new token slot is open - the extra token does not consume it. This\n",
    "  also means that an `extra_slot` token lay in an city with an open slot does not use\n",
    "  up the open slot.\n",
    "- `special_only`: If true, this ability may only be used by explicitly.\n",
    "  activating the company to which it belongs (i.e., using the `SpecialTrack`\n",
    "  step); if unset or false, `Engine::Step::Tokener#adjust_token_price_ability!`\n",
    "  infers that the special ability ought to be used whenever a token is being\n",
    "  placed in a location that the ability is allowed to use. Default false.\n",
    "- `neutral`: If true, this ability uses a \"neutral\" token, which allows all\n",
    "  corporations to pass through it\n",
    "- `check_tokenable`: If false, skip the `tokenable?` check before placing the\n",
    "  token. Used in 18LA2 for the Angeles Public Dump, which places a special\n",
    "  station token that does not actually belong to the owning corporation, and can\n",
    "  therefore be placed in the same city as another token belonging to the owning\n",
    "  corporation. Note that this property will bypass all tokenable checks, not\n",
    "  just `:existing_token`. Default true.\n",
    "- `connected`: If true, when token placed, a check is done if the desired token slot\n",
    "  is connected by track with another city that has a token of the corporation; if not\n",
    "  a game error is triggered. Default false."
   ]
  },
  {
   "cell_type": "code",
   "execution_count": null,
   "id": "ec07a437-ae1e-4da1-9557-a97a0251ef58",
   "metadata": {},
   "outputs": [],
   "source": [
    "# | export\n",
    "class Token(AbilityBase):\n",
    "    def __init__(\n",
    "        self,\n",
    "        hexes,\n",
    "        price=None,\n",
    "        teleport_price=None,\n",
    "        extra_action=False,\n",
    "        from_owner=False,\n",
    "        discount=None,\n",
    "        city=None,\n",
    "        neutral=False,\n",
    "        cheater=False,\n",
    "        extra_slot=False,\n",
    "        special_only=False,\n",
    "        check_tokenable=True,\n",
    "        closed_when_used_up=False,\n",
    "        connected=False,\n",
    "        **kwargs\n",
    "    ):\n",
    "        super().__init__(**kwargs)\n",
    "        self.hexes = hexes\n",
    "        self.price = price\n",
    "        self.teleport_price = teleport_price\n",
    "        self.extra_action = extra_action\n",
    "        self.from_owner = from_owner\n",
    "        self.discount = discount\n",
    "        self.city = city\n",
    "        self.neutral = neutral\n",
    "        self.cheater = cheater\n",
    "        self.extra_slot = extra_slot\n",
    "        self.special_only = special_only\n",
    "        self.check_tokenable = check_tokenable\n",
    "        self.closed_when_used_up = closed_when_used_up\n",
    "        self.connected = connected\n",
    "\n",
    "    def get_price(self, token=None):\n",
    "        if token is None or self.discount is None:\n",
    "            return self.price\n",
    "        return token.price - (token.price * self.discount)"
   ]
  },
  {
   "cell_type": "markdown",
   "id": "9bc3238d-39b5-4b85-8eaf-1a36e2e08630",
   "metadata": {},
   "source": [
    "## train_buy\n",
    "\n",
    "Modify train buy in some way.\n",
    "\n",
    "- `face_value`: If true, any inter corporation train buy must be at\n",
    "  face value. Default false."
   ]
  },
  {
   "cell_type": "code",
   "execution_count": null,
   "id": "7ce39c71-8bc7-41e5-87f1-b61039b2f1e4",
   "metadata": {},
   "outputs": [],
   "source": [
    "# | export\n",
    "class TrainBuy(AbilityBase):\n",
    "    def __init__(self, face_value=None, **kwargs):\n",
    "        super().__init__(**kwargs)\n",
    "        self.face_value = bool(face_value)"
   ]
  },
  {
   "cell_type": "markdown",
   "id": "96e6b291-bbd0-4dc2-a031-6e6d4472bc4d",
   "metadata": {},
   "source": [
    "## train_discount\n",
    "\n",
    "Discount the train buy cost. The `count` attribute specify how many times the discount can be used.\n",
    "\n",
    "- `discount`: Discount amount. If > 1 this is an absolute amount. If 0 < amount < 1 it is the fraction, e.g. 0.75 is a 75% discount.\n",
    "- `trains`: An array of all train names that the discount applies to.\n",
    "- `closed_when_used_up`: This ability has a count that is decreased each time it is used. If this attribute is true the private is closed when count reaches zero, if false the private\n",
    "remains open but the discount can no longer be used. Default false."
   ]
  },
  {
   "cell_type": "code",
   "execution_count": null,
   "id": "a2ee32f2-a6d2-42f9-87b4-d2c5913cf74f",
   "metadata": {},
   "outputs": [],
   "source": [
    "# | export\n",
    "class TrainDiscount(AbilityBase):\n",
    "    def __init__(self, discount, trains, closed_when_used_up=None, **kwargs):\n",
    "        super().__init__(**kwargs)\n",
    "        self.discount = discount\n",
    "        self.trains = trains\n",
    "        self.closed_when_used_up = closed_when_used_up\n",
    "\n",
    "    def discounted_price(self, train, price):\n",
    "        # If trains are specified and the current train is not in the list, return the original price\n",
    "        if self.trains and train.name not in self.trains:\n",
    "            return price\n",
    "\n",
    "        # Calculate discount value based on whether the discount is a flat value or a percentage\n",
    "        discount_value = (\n",
    "            self.discount[train.name]\n",
    "            if isinstance(self.discount, dict)\n",
    "            else self.discount\n",
    "        )\n",
    "\n",
    "        # Apply the discount to the price\n",
    "        return price - (\n",
    "            discount_value if discount_value > 1 else int(price * discount_value)\n",
    "        )"
   ]
  },
  {
   "cell_type": "markdown",
   "id": "7f2348f8-78dd-4a6d-9bac-b3d87dbec99a",
   "metadata": {},
   "source": [
    "## train_limit\n",
    "\n",
    "Modify train limit in some way.\n",
    "For performance reasons, the supporting code needs to be added directly to the game class. See G18MEX#train_limit for an example.\n",
    "\n",
    "- `increase`: If positive, this will increase the train limit with this\n",
    "  amount in all faces. Default 0."
   ]
  },
  {
   "cell_type": "code",
   "execution_count": null,
   "id": "d55f7c01-c94d-46ff-ae27-d7f4f095597e",
   "metadata": {},
   "outputs": [],
   "source": [
    "# | export\n",
    "class TrainLimit(AbilityBase):\n",
    "    def __init__(self, increase=None, constant=None, **kwargs):\n",
    "        super().__init__(**kwargs)\n",
    "        self.increase = increase\n",
    "        self.constant = constant"
   ]
  },
  {
   "cell_type": "markdown",
   "id": "6bae0a69-5a78-40db-80c7-9006e3cb82db",
   "metadata": {},
   "source": [
    "## train_scrapper"
   ]
  },
  {
   "cell_type": "code",
   "execution_count": null,
   "id": "ba693623-129f-4a8e-af28-0a4700eae69c",
   "metadata": {},
   "outputs": [],
   "source": [
    "# | export\n",
    "class TrainScrapper(AbilityBase):\n",
    "    def __init__(self, scrap_values={}, **kwargs):\n",
    "        super().__init__(**kwargs)\n",
    "        self.scrap_values = scrap_values\n",
    "\n",
    "    def scrap_value(self, train):\n",
    "        return self.scrap_values.get(train.name, 0)"
   ]
  },
  {
   "cell_type": "markdown",
   "id": "0063f0ae-703c-44db-9593-53269cc34d5e",
   "metadata": {},
   "source": [
    "# Abilities Container\n",
    "\n",
    "Contains a list of abilities and methods around creating and dealing with them."
   ]
  },
  {
   "cell_type": "code",
   "execution_count": null,
   "id": "c0488ce1-50d1-43b0-aa80-c522a5aba331",
   "metadata": {},
   "outputs": [],
   "source": [
    "# | export\n",
    "\n",
    "\n",
    "class Abilities:\n",
    "    def __init__(self, abilities=[]):\n",
    "        self._abilities = []\n",
    "\n",
    "        for ability in abilities:\n",
    "            if not isinstance(ability, AbilityBase):\n",
    "                class_name = snake_to_pascal(ability[\"type\"])\n",
    "                if ability.get(\"from\"):\n",
    "                    ability[\"from_\"] = ability.pop(\"from\")\n",
    "                ability_instance = globals()[class_name](**ability)\n",
    "                ability_instance.owner = self\n",
    "            else:\n",
    "                ability_instance = ability\n",
    "            self._abilities.append(ability_instance)\n",
    "\n",
    "        self._update_start_counter()\n",
    "\n",
    "    @property\n",
    "    def abilities(self):\n",
    "        return self._abilities\n",
    "\n",
    "    def set_owner(self, owner):\n",
    "        self.owner = owner\n",
    "\n",
    "    def add_ability(self, ability):\n",
    "        ability.owner = self.owner\n",
    "        self._abilities.append(ability)\n",
    "        self._update_start_counter()\n",
    "\n",
    "    def remove_ability(self, ability):\n",
    "        ability.teardown()\n",
    "        self._abilities = [a for a in self._abilities if a != ability]\n",
    "\n",
    "    def remove_ability_when(self, time):\n",
    "        for ability in self._abilities[:]:\n",
    "            if ability.remove == str(time):\n",
    "                self.remove_ability(ability)\n",
    "\n",
    "    @property\n",
    "    def all_abilities(self):\n",
    "        return self._abilities\n",
    "\n",
    "    def reset_ability_count_this_or(self):\n",
    "        for ability in self._abilities:\n",
    "            ability.count_this_or = 0\n",
    "            if ability.used and not ability.use_across_ors:\n",
    "                ability.use_up()\n",
    "\n",
    "    def ability_uses(self):\n",
    "        if self._start_count is None:\n",
    "            return\n",
    "\n",
    "        count = [0, self._start_count]\n",
    "        for ability in self._abilities:\n",
    "            if ability.start_count is not None:\n",
    "                count = max(\n",
    "                    count, [ability.count, ability.start_count], key=lambda x: x[1]\n",
    "                )\n",
    "\n",
    "        return count\n",
    "\n",
    "    def _update_start_counter(self):\n",
    "        start_counts = [\n",
    "            ability.start_count\n",
    "            for ability in self._abilities\n",
    "            if ability.start_count is not None\n",
    "        ]\n",
    "        self._start_count = max(start_counts, default=None)"
   ]
  },
  {
   "cell_type": "markdown",
   "id": "525b0ff6-e739-4b3d-8284-a660650c5489",
   "metadata": {},
   "source": [
    "Example usage:"
   ]
  },
  {
   "cell_type": "code",
   "execution_count": null,
   "id": "4d126cb5-e9b4-4a77-af72-84a0a6fdbc7f",
   "metadata": {},
   "outputs": [
    {
     "data": {
      "text/plain": [
       "['B&O_0']"
      ]
     },
     "execution_count": null,
     "metadata": {},
     "output_type": "execute_result"
    }
   ],
   "source": [
    "abilities = Abilities(\n",
    "    [\n",
    "        {\n",
    "            \"type\": \"blocks_hexes\",\n",
    "            \"owner_type\": \"player\",\n",
    "            \"hexes\": [\"I13\", \"I15\"],\n",
    "        },\n",
    "        {\"type\": \"close\", \"when\": \"bought_train\", \"corporation\": \"B&O\"},\n",
    "        {\"type\": \"no_buy\"},\n",
    "        {\"type\": \"shares\", \"shares\": \"B&O_0\"},\n",
    "    ]\n",
    ")\n",
    "\n",
    "abilities.abilities[3].shares"
   ]
  },
  {
   "cell_type": "code",
   "execution_count": null,
   "id": "ab827386-6347-46d2-8770-44ceee4e8acd",
   "metadata": {},
   "outputs": [],
   "source": []
  }
 ],
 "metadata": {
  "kernelspec": {
   "display_name": "python3",
   "language": "python",
   "name": "python3"
  }
 },
 "nbformat": 4,
 "nbformat_minor": 5
}
