{
 "cells": [
  {
   "cell_type": "markdown",
   "id": "18f67372-0389-4ac0-9636-a575a105f844",
   "metadata": {},
   "source": [
    "# Actions"
   ]
  },
  {
   "cell_type": "code",
   "execution_count": null,
   "id": "fda7cc37-b5d1-4dfd-b62d-fd8089fa68b1",
   "metadata": {},
   "outputs": [],
   "source": [
    "#|default_exp game.engine.actions"
   ]
  },
  {
   "cell_type": "code",
   "execution_count": null,
   "id": "44580b4f-6a74-4435-9023-875de8d82c38",
   "metadata": {},
   "outputs": [],
   "source": [
    "# | hide\n",
    "%load_ext lab_black"
   ]
  },
  {
   "cell_type": "code",
   "execution_count": null,
   "id": "2bedd1cb-3e83-471e-a0b8-58d53ee3df39",
   "metadata": {},
   "outputs": [],
   "source": [
    "# | export\n",
    "from rl18xx.game.engine.core import Item, pascal_to_snake, snake_to_pascal\n",
    "from rl18xx.game.engine.entities import Player, ShareBundle\n",
    "from rl18xx.game.engine.graph import Route"
   ]
  },
  {
   "cell_type": "markdown",
   "id": "6de6ef8b-1459-43b1-9efc-dbaff6c277a9",
   "metadata": {},
   "source": [
    "# Base Action Class"
   ]
  },
  {
   "cell_type": "code",
   "execution_count": null,
   "id": "85b996c2-79df-4a99-b8d2-5953773d5f69",
   "metadata": {},
   "outputs": [],
   "source": [
    "# | export\n",
    "\n",
    "import time\n",
    "from typing import Any, Dict\n",
    "\n",
    "\n",
    "class BaseAction:\n",
    "    def __init__(self, entity):\n",
    "        self.entity = entity\n",
    "        self.id = None\n",
    "        self.user = None\n",
    "        self.created_at = time.time()\n",
    "        self.auto_actions = []\n",
    "\n",
    "    @classmethod\n",
    "    def action_from_dict(cls, data, game):\n",
    "        entity_type = data.get(\"entity_type\")\n",
    "        entity_id = data.get(\"entity\")\n",
    "        entity = game.get(entity_type, entity_id) or Player(None, entity_id)\n",
    "\n",
    "        class_name = f\"{snake_to_pascal(data.get('type'))}\"\n",
    "\n",
    "        # Dynamically access the class from globals\n",
    "        if class_name not in globals():\n",
    "            raise ValueError(f\"Action class not found: {class_name}\")\n",
    "\n",
    "        action_class = globals()[class_name]\n",
    "\n",
    "        obj = action_class(entity, **action_class.dict_to_args(data, game))\n",
    "\n",
    "        obj.id = data.get(\"id\")\n",
    "        obj.user = (\n",
    "            data.get(\"user\")\n",
    "            if hasattr(entity, \"player\")\n",
    "            and data.get(\"user\") != getattr(entity, \"player\", None)\n",
    "            else None\n",
    "        )\n",
    "        obj.created_at = data.get(\"created_at\", time.time())\n",
    "        obj.auto_actions = [\n",
    "            BaseAction.action_from_dict(auto_data, game)\n",
    "            for auto_data in data.get(\"auto_actions\", [])\n",
    "        ]\n",
    "\n",
    "        return obj\n",
    "\n",
    "    def to_dict(self) -> Dict[str, Any]:\n",
    "        if not hasattr(self, \"_dict_cache\"):\n",
    "            self._dict_cache = {\n",
    "                \"type\": pascal_to_snake(self.__class__.__name__),\n",
    "                \"entity\": self.entity.id,\n",
    "                \"entity_type\": self.entity.__class__.__name__,\n",
    "                \"id\": self.id,\n",
    "                \"user\": self.user,\n",
    "                \"created_at\": int(self.created_at),\n",
    "                \"auto_actions\": [action.to_dict() for action in self.auto_actions]\n",
    "                if self.auto_actions\n",
    "                else None,\n",
    "                **self.args_to_dict(),\n",
    "            }\n",
    "            self._dict_cache = {\n",
    "                k: v for k, v in self._dict_cache.items() if v is not None\n",
    "            }\n",
    "        return self._dict_cache\n",
    "\n",
    "    @staticmethod\n",
    "    def dict_to_args(data: Dict[str, Any], game) -> Dict[str, Any]:\n",
    "        return {}\n",
    "\n",
    "    def args_to_dict(self):\n",
    "        return {}\n",
    "\n",
    "    def clear_cache(self):\n",
    "        self._dict_cache = None\n",
    "\n",
    "    def pass_(self):\n",
    "        return False\n",
    "\n",
    "    def copy(self, game):\n",
    "        return self.from_dict(self.to_h(), game)\n",
    "\n",
    "    def free(self):\n",
    "        return False\n",
    "\n",
    "    def __lt__(self, other):\n",
    "        # Compare based on id if both have one, otherwise compare based on created_at timestamp\n",
    "        return (\n",
    "            (self.id < other.id)\n",
    "            if self.id and other.id\n",
    "            else (self.created_at < other.created_at)\n",
    "        )\n",
    "\n",
    "    # Implementing the rest of the comparison methods if needed\n",
    "    def __eq__(self, other):\n",
    "        if not isinstance(other, self.__class__):\n",
    "            return False\n",
    "        \n",
    "        return (\n",
    "            self.id == other.id\n",
    "            if self.id and other.id\n",
    "            else self.created_at == other.created_at\n",
    "        )\n",
    "\n",
    "    def __str__(self):\n",
    "        return f\"Type: {self.__class__.__name__}, id: {self.id}, entity: {self.entity}\"\n",
    "\n",
    "    def __repr__(self):\n",
    "        return self.__str__()"
   ]
  },
  {
   "cell_type": "markdown",
   "id": "75912c26-3711-4319-a663-c8a33e17ada6",
   "metadata": {},
   "source": [
    "# Action Implementations"
   ]
  },
  {
   "cell_type": "markdown",
   "id": "d4a456b4-aa73-47f0-baf3-6d5e289dbc03",
   "metadata": {},
   "source": [
    "## Acquire Company"
   ]
  },
  {
   "cell_type": "code",
   "execution_count": null,
   "id": "59045c6d-2f4f-408f-98e3-42424d09428f",
   "metadata": {},
   "outputs": [],
   "source": [
    "# | export\n",
    "class AcquireCompany(BaseAction):\n",
    "    def __init__(self, entity, company):\n",
    "        super().__init__(entity)\n",
    "        self.company = company\n",
    "\n",
    "    @staticmethod\n",
    "    def dict_to_args(args, game):\n",
    "        return {\"company\": game.company_by_id(args[\"company\"])}\n",
    "\n",
    "    def args_to_dict(self):\n",
    "        return {\n",
    "            \"company\": self.company.id,\n",
    "        }"
   ]
  },
  {
   "cell_type": "markdown",
   "id": "44563df4-63d5-4f16-ae52-723fd3fe2cc3",
   "metadata": {},
   "source": [
    "## Assign"
   ]
  },
  {
   "cell_type": "code",
   "execution_count": null,
   "id": "18214a7a-7ba4-4947-877e-b80f52cd2cf3",
   "metadata": {},
   "outputs": [],
   "source": [
    "# | export\n",
    "class Assign(BaseAction):\n",
    "    def __init__(self, entity, target):\n",
    "        super().__init__(entity)\n",
    "        self.target = target\n",
    "\n",
    "    @staticmethod\n",
    "    def dict_to_args(args, game):\n",
    "        return {\n",
    "            \"target\": game.get(args[\"target_type\"], args[\"target\"]),\n",
    "        }\n",
    "\n",
    "    def args_to_dict(self):\n",
    "        return {\n",
    "            \"target\": self.target.id,\n",
    "            \"target_type\": self.target.__class__.__name__,\n",
    "        }"
   ]
  },
  {
   "cell_type": "markdown",
   "id": "e1026adf-24e2-4f52-b179-90fd429ac9e5",
   "metadata": {},
   "source": [
    "## Bankrupt"
   ]
  },
  {
   "cell_type": "code",
   "execution_count": null,
   "id": "ad803020-47a3-4774-9ca4-f62ba0c7d229",
   "metadata": {},
   "outputs": [],
   "source": [
    "# | export\n",
    "class Bankrupt(BaseAction):\n",
    "    def __init__(self, entity, option=None):\n",
    "        super().__init__(entity)\n",
    "        self.option = option\n",
    "\n",
    "    @staticmethod\n",
    "    def dict_to_args(args, game):\n",
    "        return {\"option\": args[\"option\"]}\n",
    "\n",
    "    def args_to_dict(self):\n",
    "        return {\n",
    "            \"option\": self.option,\n",
    "        }"
   ]
  },
  {
   "cell_type": "markdown",
   "id": "61bd44fe-83a3-4989-8b46-6a59d643cd30",
   "metadata": {},
   "source": [
    "## Bid"
   ]
  },
  {
   "cell_type": "code",
   "execution_count": null,
   "id": "59381775-2e63-4ca5-a2f1-2f761eb8a36e",
   "metadata": {},
   "outputs": [],
   "source": [
    "# | export\n",
    "class Bid(BaseAction):\n",
    "    def __init__(self, entity, price, company=None, corporation=None, minor=None):\n",
    "        super().__init__(entity)\n",
    "        self.company = company\n",
    "        self.corporation = corporation\n",
    "        self.minor = minor\n",
    "        self.price = price\n",
    "\n",
    "    @staticmethod\n",
    "    def dict_to_args(args, game):\n",
    "        return {\n",
    "            \"company\": game.company_by_id(args[\"company\"]) if args.get(\"company\") else None,\n",
    "            \"corporation\": game.corporation_by_id(args[\"corporation\"]) if args.get(\"corporation\") else None,\n",
    "            \"minor\": game.minor_by_id(args[\"minor\"]) if args.get(\"minor\") else None,\n",
    "            \"price\": args[\"price\"],\n",
    "        }\n",
    "\n",
    "    def args_to_dict(self):\n",
    "        return {\n",
    "            \"company\": self.company.id if self.company else None,\n",
    "            \"corporation\": self.corporation.id if self.corporation else None,\n",
    "            \"minor\": self.minor.id if self.minor else None,\n",
    "            \"price\": self.price,\n",
    "        }\n",
    "\n",
    "    def __str__(self):\n",
    "        if self.company:\n",
    "            string = f\", company: {self.company}, \"\n",
    "        elif self.corporation:\n",
    "            string = f\", corporation: {self.corporation}, \"\n",
    "        elif self.minor:\n",
    "            string = f\", minor: {self.minor}, \"\n",
    "            \n",
    "        return super().__str__() + string +  f\"price: {self.price}\""
   ]
  },
  {
   "cell_type": "markdown",
   "id": "ffc82716-c8a8-4bc2-99da-da38c3099f1e",
   "metadata": {},
   "source": [
    "## Blind Bid"
   ]
  },
  {
   "cell_type": "code",
   "execution_count": null,
   "id": "05b53b5e-f075-444a-abbf-014876d942b6",
   "metadata": {},
   "outputs": [],
   "source": [
    "# | export\n",
    "class BlindBid(BaseAction):\n",
    "    def __init__(self, entity, bids=None):\n",
    "        super().__init__(entity)\n",
    "        self.bids = bids or []\n",
    "\n",
    "    @staticmethod\n",
    "    def dict_to_args(args, game):\n",
    "        return {\n",
    "            \"bids\": [int(bid) for bid in args.get[\"bids\"]],\n",
    "        }\n",
    "\n",
    "    def args_to_dict(self):\n",
    "        return {\"bids\": [str(bid) for bid in self.bids]}"
   ]
  },
  {
   "cell_type": "markdown",
   "id": "e044d355-0a77-42cc-b77c-e73c45195c8a",
   "metadata": {},
   "source": [
    "## Borrow Train"
   ]
  },
  {
   "cell_type": "code",
   "execution_count": null,
   "id": "94c7c66c-1c26-418c-8085-fc43c8d9a2c1",
   "metadata": {},
   "outputs": [],
   "source": [
    "# | export\n",
    "class BorrowTrain(BaseAction):\n",
    "    def __init__(self, entity, train):\n",
    "        super().__init__(entity)\n",
    "        self.train = train\n",
    "\n",
    "    @staticmethod\n",
    "    def dict_to_args(args, game):\n",
    "        return {\n",
    "            \"train\": game.train_by_id(args[\"train\"]),\n",
    "        }\n",
    "\n",
    "    def args_to_dict(self):\n",
    "        return {\"train\": self.train.id}"
   ]
  },
  {
   "cell_type": "markdown",
   "id": "66d860b8-5a9c-4849-b9ee-a79d8b9e2c5d",
   "metadata": {},
   "source": [
    "## Buy Company"
   ]
  },
  {
   "cell_type": "code",
   "execution_count": null,
   "id": "1be29a7d-e1c3-40e3-ac8f-2f6d3bcc1f81",
   "metadata": {},
   "outputs": [],
   "source": [
    "# | export\n",
    "class BuyCompany(BaseAction):\n",
    "    def __init__(self, entity, company, price):\n",
    "        super().__init__(entity)\n",
    "        self.company = company\n",
    "        self.price = price\n",
    "\n",
    "    @staticmethod\n",
    "    def dict_to_args(args, game):\n",
    "        return {\"company\": game.company_by_id(args[\"company\"]), \"price\": args[\"price\"]}\n",
    "\n",
    "    def args_to_dict(self):\n",
    "        return {\"company\": self.company.id, \"price\": self.price}\n",
    "\n",
    "    def __str__(self):\n",
    "        return super().__str__() + f\", company: [{self.company}], price: [{self.price}]\""
   ]
  },
  {
   "cell_type": "markdown",
   "id": "df941ffb-45dd-4a9d-972e-5c3bb3f75f57",
   "metadata": {},
   "source": [
    "## Buy Corporation"
   ]
  },
  {
   "cell_type": "code",
   "execution_count": null,
   "id": "11e58248-ecb9-4aee-8631-b2fdfb8cf286",
   "metadata": {},
   "outputs": [],
   "source": [
    "# | export\n",
    "class BuyCorporation(BaseAction):\n",
    "    def __init__(self, entity, price, corporation=None, minor=None):\n",
    "        super().__init__(entity)\n",
    "        self.corporation = corporation\n",
    "        self.minor = minor\n",
    "        self.price = price\n",
    "\n",
    "    @staticmethod\n",
    "    def dict_to_args(args, game):\n",
    "        return {\n",
    "            \"corporation\": game.corporation_by_id(args[\"corporation\"]),\n",
    "            \"minor\": game.minor_by_id(args[\"minor\"]),\n",
    "            \"price\": args[\"price\"],\n",
    "        }\n",
    "\n",
    "    def args_to_dict(self):\n",
    "        return {\n",
    "            \"corporation\": self.corporation.id if self.corporation else None,\n",
    "            \"minor\": self.minor.id if self.minor else None,\n",
    "            \"price\": self.price,\n",
    "        }"
   ]
  },
  {
   "cell_type": "markdown",
   "id": "59c94fea-4c06-4c1c-ab3e-7fc9f2e9617b",
   "metadata": {},
   "source": [
    "## Buy Power"
   ]
  },
  {
   "cell_type": "code",
   "execution_count": null,
   "id": "2a844237-f220-4caf-802e-2375769c7649",
   "metadata": {},
   "outputs": [],
   "source": [
    "# | export\n",
    "class BuyPower(BaseAction):\n",
    "    def __init__(self, entity, power):\n",
    "        super().__init__(entity)\n",
    "        self.power = power\n",
    "\n",
    "    @staticmethod\n",
    "    def dict_to_args(args, game):\n",
    "        return {\"power\": args[\"power\"]}\n",
    "\n",
    "    def args_to_dict(self):\n",
    "        return {\"power\": self.power}"
   ]
  },
  {
   "cell_type": "markdown",
   "id": "39c73c9c-1ec0-4027-8268-7d55c2d083d5",
   "metadata": {},
   "source": [
    "## Buy Shares"
   ]
  },
  {
   "cell_type": "code",
   "execution_count": null,
   "id": "a6cf719c-9dbb-4c09-83be-e35e78e9f2d0",
   "metadata": {},
   "outputs": [],
   "source": [
    "# | export\n",
    "class BuyShares(BaseAction):\n",
    "    def __init__(\n",
    "        self,\n",
    "        entity,\n",
    "        shares,\n",
    "        share_price=None,\n",
    "        percent=None,\n",
    "        swap=None,\n",
    "        purchase_for=None,\n",
    "        borrow_from=None,\n",
    "        total_price=None,\n",
    "    ):\n",
    "        super().__init__(entity)\n",
    "        self.bundle = ShareBundle(\n",
    "            shares if isinstance(shares, list) else [shares], percent\n",
    "        )\n",
    "        self.bundle.share_price = share_price\n",
    "        self.swap = swap\n",
    "        self.purchase_for = purchase_for\n",
    "        self.borrow_from = borrow_from\n",
    "        self.total_price = total_price\n",
    "\n",
    "    @staticmethod\n",
    "    def dict_to_args(args, game):\n",
    "        return {\n",
    "            \"shares\": [game.share_by_id(id) for id in args[\"shares\"]],\n",
    "            \"share_price\": args.get(\"share_price\"),\n",
    "            \"percent\": args.get(\"percent\"),\n",
    "            \"swap\": game.share_by_id(args[\"swap\"]) if args.get(\"swap\") else None,\n",
    "            \"purchase_for\": game.get(args[\"purchase_for_type\"], args[\"purchase_for\"])\n",
    "            if args.get(\"purchase_for\")\n",
    "            else None,\n",
    "            \"borrow_from\": game.get(args[\"borrow_from_type\"], args[\"borrow_from\"])\n",
    "            if args.get(\"borrow_from\")\n",
    "            else None,\n",
    "            \"total_price\": args.get(\"total_price\"),\n",
    "        }\n",
    "\n",
    "    def args_to_dict(self):\n",
    "        return {\n",
    "            \"shares\": [share.id for share in self.bundle.shares],\n",
    "            \"percent\": self.bundle.percent,\n",
    "            \"share_price\": self.bundle.share_price,\n",
    "            \"swap\": self.swap.id if self.swap else None,\n",
    "            \"purchase_for_type\": self.purchase_for.__class__.__name__\n",
    "            if self.purchase_for\n",
    "            else None,\n",
    "            \"purchase_for\": self.purchase_for.id if self.purchase_for else None,\n",
    "            \"borrow_from_type\": self.borrow_from.__class__.__name__\n",
    "            if self.borrow_from\n",
    "            else None,\n",
    "            \"borrow_from\": self.borrow_from.id if self.borrow_from else None,\n",
    "            \"total_price\": self.total_price,\n",
    "        }\n",
    "\n",
    "    def __str__(self):\n",
    "        return super().__str__() + f\", bundle: [{self.bundle}]\""
   ]
  },
  {
   "cell_type": "markdown",
   "id": "7be838bb-7c2c-43bd-a5c4-2775e10ceff6",
   "metadata": {},
   "source": [
    "## Sell Shares"
   ]
  },
  {
   "cell_type": "code",
   "execution_count": null,
   "id": "7ebdd91c-da6c-41c6-bc04-997cb509ec83",
   "metadata": {},
   "outputs": [],
   "source": [
    "# | export\n",
    "class SellShares(BaseAction):\n",
    "    def __init__(self, entity, shares, share_price=None, percent=None, swap=None):\n",
    "        super().__init__(entity)\n",
    "        if isinstance(shares, ShareBundle):\n",
    "            self.bundle = shares\n",
    "        else:\n",
    "            self.bundle = ShareBundle(\n",
    "                shares if isinstance(shares, list) else [shares], percent\n",
    "            )\n",
    "        self.bundle.share_price = share_price\n",
    "        self.swap = swap\n",
    "\n",
    "    @staticmethod\n",
    "    def dict_to_args(args, game):\n",
    "        return {\n",
    "            \"shares\": [game.share_by_id(id) for id in args[\"shares\"]],\n",
    "            \"share_price\": args.get(\"share_price\"),\n",
    "            \"percent\": args.get(\"percent\"),\n",
    "            \"swap\": game.share_by_id(args[\"swap\"]) if args.get(\"swap\") else None,\n",
    "        }\n",
    "\n",
    "    def args_to_dict(self):\n",
    "        return {\n",
    "            \"shares\": [share.id for share in self.bundle.shares],\n",
    "            \"share_price\": self.bundle.share_price,\n",
    "            \"percent\": self.bundle.percent,\n",
    "            \"swap\": self.swap.id if self.swap else None,\n",
    "        }\n",
    "        \n",
    "    def __str__(self):\n",
    "        return super().__str__() + f\", bundle: [{self.bundle}]\""
   ]
  },
  {
   "cell_type": "markdown",
   "id": "b49ca48a-07da-42b6-a289-72d65a18e6bf",
   "metadata": {},
   "source": [
    "## Buy Token"
   ]
  },
  {
   "cell_type": "code",
   "execution_count": null,
   "id": "8db29553-17a2-462d-bad2-da29a074b0d6",
   "metadata": {},
   "outputs": [],
   "source": [
    "# | export\n",
    "class BuyToken(BaseAction):\n",
    "    def __init__(self, entity, city, slot, price):\n",
    "        super().__init__(entity)\n",
    "        self.city = city\n",
    "        self.slot = slot\n",
    "        self.price = price\n",
    "\n",
    "    @staticmethod\n",
    "    def dict_to_args(args, game):\n",
    "        return {\n",
    "            \"city\": game.city_by_id(args[\"city\"]),\n",
    "            \"slot\": args[\"slot\"],\n",
    "            \"price\": args[\"price\"],\n",
    "        }\n",
    "\n",
    "    def args_to_dict(self):\n",
    "        return {\"city\": self.city.id, \"slot\": self.slot, \"price\": self.price}"
   ]
  },
  {
   "cell_type": "markdown",
   "id": "f37dc1c7-9500-4b89-a6f7-7225775e168f",
   "metadata": {},
   "source": [
    "## Buy Train"
   ]
  },
  {
   "cell_type": "code",
   "execution_count": null,
   "id": "4e87aedc-f4ea-41f4-92ff-af715c4f6a39",
   "metadata": {},
   "outputs": [],
   "source": [
    "# | export\n",
    "class BuyTrain(BaseAction):\n",
    "    def __init__(\n",
    "        self,\n",
    "        entity,\n",
    "        train,\n",
    "        price,\n",
    "        variant=None,\n",
    "        exchange=None,\n",
    "        shell=None,\n",
    "        slots=None,\n",
    "        extra_due=None,\n",
    "        warranties=None,\n",
    "    ):\n",
    "        super().__init__(entity)\n",
    "        self.train = train\n",
    "        self.price = price\n",
    "        self.variant = variant or train.variant\n",
    "        self.exchange = exchange\n",
    "        self.shell = shell\n",
    "        self.slots = slots if slots is not None else []\n",
    "        self.extra_due = extra_due\n",
    "        self.warranties = warranties\n",
    "\n",
    "    @staticmethod\n",
    "    def shell_by_name(name, game):\n",
    "        if not name:\n",
    "            return None\n",
    "\n",
    "        for system in [corp for corp in game.corporations if corp.system]:\n",
    "            for shell in system.shells:\n",
    "                if shell.name == name:\n",
    "                    return shell\n",
    "\n",
    "        return None\n",
    "\n",
    "    @staticmethod\n",
    "    def dict_to_args(args, game):\n",
    "        return {\n",
    "            \"train\": game.train_by_id(args[\"train\"]),\n",
    "            \"price\": args[\"price\"],\n",
    "            \"variant\": args.get(\"variant\"),\n",
    "            \"exchange\": game.train_by_id(args[\"exchange\"])\n",
    "            if args.get(\"exchange\")\n",
    "            else None,\n",
    "            \"shell\": BuyTrain.shell_by_name(args.get(\"shell\"), game),\n",
    "            \"slots\": args.get(\"slots\", []),\n",
    "            \"extra_due\": args.get(\"extra_due\"),\n",
    "            \"warranties\": args.get(\"warranties\"),\n",
    "        }\n",
    "\n",
    "    def args_to_dict(self):\n",
    "        return {\n",
    "            \"train\": self.train.id,\n",
    "            \"price\": self.price,\n",
    "            \"variant\": self.variant,\n",
    "            \"exchange\": self.exchange.id if self.exchange else None,\n",
    "            \"shell\": self.shell.name if self.shell else None,\n",
    "            \"slots\": self.slots,\n",
    "            \"extra_due\": self.extra_due,\n",
    "            \"warranties\": self.warranties,\n",
    "        }\n",
    "\n",
    "    def __str__(self):\n",
    "        return super().__str__() + f\", train: [{self.train}], price: {self.price}\""
   ]
  },
  {
   "cell_type": "markdown",
   "id": "afc4ab86-da0b-48be-ab15-2fcff1d6b0b7",
   "metadata": {},
   "source": [
    "## Choose"
   ]
  },
  {
   "cell_type": "code",
   "execution_count": null,
   "id": "e99a53d1-0c72-4b3d-8952-d62f2722c891",
   "metadata": {},
   "outputs": [],
   "source": [
    "# | export\n",
    "class Choose(BaseAction):\n",
    "    def __init__(self, entity, choice):\n",
    "        super().__init__(entity)\n",
    "        self.choice = choice\n",
    "\n",
    "    @staticmethod\n",
    "    def dict_to_args(args, game):\n",
    "        return {\"choice\": args[\"choice\"]}\n",
    "\n",
    "    def args_to_dict(self):\n",
    "        return {\n",
    "            \"choice\": self.choice,\n",
    "        }"
   ]
  },
  {
   "cell_type": "markdown",
   "id": "942bc489-0287-4125-93b7-a90324fed63e",
   "metadata": {},
   "source": [
    "## Choose Ability"
   ]
  },
  {
   "cell_type": "code",
   "execution_count": null,
   "id": "ec819922-0ef0-4f10-a82b-e0a7cff58999",
   "metadata": {},
   "outputs": [],
   "source": [
    "# | export\n",
    "class ChooseAbility(Choose):\n",
    "    pass"
   ]
  },
  {
   "cell_type": "markdown",
   "id": "e15672dc-4f52-402d-aca9-a7c150d98069",
   "metadata": {},
   "source": [
    "## Claim Hex Token"
   ]
  },
  {
   "cell_type": "code",
   "execution_count": null,
   "id": "eb06b05b-4585-4555-b3b1-fa959c641265",
   "metadata": {},
   "outputs": [],
   "source": [
    "# | export\n",
    "class ClaimHexToken(BaseAction):\n",
    "    def __init__(self, entity, hex, token_type=None):\n",
    "        super().__init__(entity)\n",
    "        self.hex = hex\n",
    "        self.token_type = token_type\n",
    "\n",
    "    @staticmethod\n",
    "    def dict_to_args(args, game):\n",
    "        return {\n",
    "            \"hex\": game.hex_by_id(args[\"hex\"]),\n",
    "            \"token_type\": args[\"token_type\"],\n",
    "        }\n",
    "\n",
    "    def args_to_dict(self):\n",
    "        return {\n",
    "            \"hex\": self.hex.id,\n",
    "            \"token_type\": self.token_type,\n",
    "        }"
   ]
  },
  {
   "cell_type": "markdown",
   "id": "5e67d5f4-6676-4414-b64d-44dd1eff1f7f",
   "metadata": {},
   "source": [
    "## Combined Trains"
   ]
  },
  {
   "cell_type": "code",
   "execution_count": null,
   "id": "73526a86-223b-4e91-bdfa-5dce31fa2c51",
   "metadata": {},
   "outputs": [],
   "source": [
    "# | export\n",
    "class CombinedTrains(BaseAction):\n",
    "    def __init__(self, entity, base, additional_train, additional_train_variant):\n",
    "        super().__init__(entity)\n",
    "        self.base = base\n",
    "        self.additional_train = additional_train\n",
    "        self.additional_train_variant = additional_train_variant\n",
    "\n",
    "    @staticmethod\n",
    "    def dict_to_args(args, game):\n",
    "        return {\n",
    "            \"base\": game.train_by_id(args[\"base\"]),\n",
    "            \"additional_train\": game.train_by_id(args[\"additional_train\"]),\n",
    "            \"additional_train_variant\": args[\"additional_train_variant\"],\n",
    "        }\n",
    "\n",
    "    def args_to_dict(self):\n",
    "        return {\n",
    "            \"base\": self.base.id,\n",
    "            \"additional_train\": self.additional_train.id,\n",
    "            \"additional_train_variant\": self.additional_train_variant,\n",
    "        }"
   ]
  },
  {
   "cell_type": "markdown",
   "id": "f0a05a16-bb9e-4c1f-b94c-1a57fbcf3f84",
   "metadata": {},
   "source": [
    "## Convert"
   ]
  },
  {
   "cell_type": "code",
   "execution_count": null,
   "id": "2db864e1-21b0-4217-baee-53a846545d7a",
   "metadata": {},
   "outputs": [],
   "source": [
    "# | export\n",
    "class Convert(BaseAction):\n",
    "    pass"
   ]
  },
  {
   "cell_type": "markdown",
   "id": "115f161b-53c1-469a-83c4-0fbc19368aa4",
   "metadata": {},
   "source": [
    "## Corporate Buy Shares"
   ]
  },
  {
   "cell_type": "code",
   "execution_count": null,
   "id": "bea26ee5-5c89-451a-b3f6-bde798106587",
   "metadata": {},
   "outputs": [],
   "source": [
    "# | export\n",
    "class CorporateBuyShares(BuyShares):\n",
    "    pass"
   ]
  },
  {
   "cell_type": "markdown",
   "id": "f4dcbae0-ed3d-4ee3-b80c-4a5aaec188b4",
   "metadata": {},
   "source": [
    "## Corporate Sell Shares"
   ]
  },
  {
   "cell_type": "code",
   "execution_count": null,
   "id": "0e43db96-ec5d-4ee6-8cd5-79414711cdca",
   "metadata": {},
   "outputs": [],
   "source": [
    "# | export\n",
    "class CorporateSellShares(SellShares):\n",
    "    pass"
   ]
  },
  {
   "cell_type": "markdown",
   "id": "ade93579-3148-4336-91dc-7a800d26a316",
   "metadata": {},
   "source": [
    "## Credit Mobilier"
   ]
  },
  {
   "cell_type": "code",
   "execution_count": null,
   "id": "c5f39eb8-f02f-4239-bd4e-29f92e6c3dd1",
   "metadata": {},
   "outputs": [],
   "source": [
    "# | export\n",
    "class CreditMobilier(BaseAction):\n",
    "    def __init__(self, entity, hex, amount):\n",
    "        super().__init__(entity)\n",
    "        self.hex = hex\n",
    "        self.amount = amount\n",
    "\n",
    "    @staticmethod\n",
    "    def dict_to_args(args, game):\n",
    "        return {\"hex\": game.hex_by_id(args[\"hex\"]), \"amount\": args[\"amount\"]}\n",
    "\n",
    "    def args_to_dict(self):\n",
    "        return {\"hex\": self.hex.id, \"amount\": self.amount}"
   ]
  },
  {
   "cell_type": "markdown",
   "id": "fa782460-1611-4969-a560-30cdc4967101",
   "metadata": {},
   "source": [
    "## Destination Connection"
   ]
  },
  {
   "cell_type": "code",
   "execution_count": null,
   "id": "7f24d793-3839-4359-8f6c-7c2333ef6401",
   "metadata": {},
   "outputs": [],
   "source": [
    "# | export\n",
    "class DestinationConnection(BaseAction):\n",
    "    def __init__(self, entity, corporations=None, minors=None, hexes=None):\n",
    "        super().__init__(entity)\n",
    "        self.corporations = corporations if corporations else []\n",
    "        self.minors = minors if minors else []\n",
    "        self.hexes = hexes if hexes else []\n",
    "\n",
    "    @staticmethod\n",
    "    def dict_to_args(args, game):\n",
    "        return {\n",
    "            \"corporations\": [\n",
    "                game.corporation_by_id(c) for c in args.get(\"corporations\", [])\n",
    "            ],\n",
    "            \"minors\": [game.minor_by_id(m) for m in args.get(\"minors\", [])],\n",
    "            \"hexes\": [game.hex_by_id(h) for h in args.get(\"hexes\", [])],\n",
    "        }\n",
    "\n",
    "    def args_to_dict(self):\n",
    "        return {\n",
    "            \"corporations\": [corp.id for corp in self.corporations]\n",
    "            if self.corporations\n",
    "            else [],\n",
    "            \"minors\": [minor.id for minor in self.minors] if self.minors else [],\n",
    "            \"hexes\": [hex.id for hex in self.hexes] if self.hexes else [],\n",
    "        }"
   ]
  },
  {
   "cell_type": "markdown",
   "id": "da74f64d-d323-49ad-9c96-c713df175e05",
   "metadata": {},
   "source": [
    "## Discard Train"
   ]
  },
  {
   "cell_type": "code",
   "execution_count": null,
   "id": "3e751498-ddf0-47f1-9632-a87eeaf4131b",
   "metadata": {},
   "outputs": [],
   "source": [
    "# | export\n",
    "class DiscardTrain(BaseAction):\n",
    "    def __init__(self, entity, train):\n",
    "        super().__init__(entity)\n",
    "        self.train = train\n",
    "\n",
    "    @staticmethod\n",
    "    def dict_to_args(args, game):\n",
    "        return {\n",
    "            \"train\": game.train_by_id(args[\"train\"]),\n",
    "        }\n",
    "\n",
    "    def args_to_dict(self):\n",
    "        return {\n",
    "            \"train\": self.train.id,\n",
    "        }"
   ]
  },
  {
   "cell_type": "markdown",
   "id": "1912447d-0ede-4a2b-bac3-d448d16ff71b",
   "metadata": {},
   "source": [
    "## Dividend"
   ]
  },
  {
   "cell_type": "code",
   "execution_count": null,
   "id": "987f4d46-7168-48c0-9919-f55eeb2b084e",
   "metadata": {},
   "outputs": [],
   "source": [
    "# | export\n",
    "class Dividend(BaseAction):\n",
    "    def __init__(self, entity, kind, amount=None):\n",
    "        super().__init__(entity)\n",
    "        self.kind = kind\n",
    "        self.amount = amount\n",
    "\n",
    "    @staticmethod\n",
    "    def dict_to_args(args, _game):\n",
    "        return {\n",
    "            \"kind\": args[\"kind\"],\n",
    "            \"amount\": args[\"amount\"],\n",
    "        }\n",
    "\n",
    "    def args_to_dict(self):\n",
    "        return {\n",
    "            \"kind\": self.kind,\n",
    "            \"amount\": self.amount,\n",
    "        }\n",
    "        \n",
    "    def __str__(self):\n",
    "        return super().__str__() + f\", kind: [{self.kind}], amount: {self.amount}\""
   ]
  },
  {
   "cell_type": "markdown",
   "id": "1ad866f1-395d-4b14-b6fc-a34ad656a562",
   "metadata": {},
   "source": [
    "## Double Head Trains"
   ]
  },
  {
   "cell_type": "code",
   "execution_count": null,
   "id": "ccc4e044-3532-40f4-aa77-44fda131dc63",
   "metadata": {},
   "outputs": [],
   "source": [
    "# | export\n",
    "class DoubleHeadTrains(BaseAction):\n",
    "    def __init__(self, entity, trains):\n",
    "        super().__init__(entity)\n",
    "        self.trains = trains\n",
    "\n",
    "    @staticmethod\n",
    "    def dict_to_args(args, game):\n",
    "        return {\n",
    "            \"trains\": [game.train_by_id(t) for t in args.get(\"trains\", [])],\n",
    "        }\n",
    "\n",
    "    def args_to_dict(self):\n",
    "        return {\n",
    "            \"trains\": [train.id for train in self.trains],\n",
    "        }"
   ]
  },
  {
   "cell_type": "markdown",
   "id": "30f04262-3714-4096-9caf-bce16d4333a2",
   "metadata": {},
   "source": [
    "## End Game"
   ]
  },
  {
   "cell_type": "code",
   "execution_count": null,
   "id": "e3d6b358-4eed-4944-b528-47c2d395fa1d",
   "metadata": {},
   "outputs": [],
   "source": [
    "# | export\n",
    "class EndGame(BaseAction):\n",
    "    def free(self):\n",
    "        return True"
   ]
  },
  {
   "cell_type": "markdown",
   "id": "beb4a01b-bdb9-457f-90df-66b08b94f373",
   "metadata": {},
   "source": [
    "## Failed Merge"
   ]
  },
  {
   "cell_type": "code",
   "execution_count": null,
   "id": "2bae883a-9417-42a4-b84d-957fdd2f68c8",
   "metadata": {},
   "outputs": [],
   "source": [
    "# | export\n",
    "class FailedMerge(BaseAction):\n",
    "    def __init__(self, entity, corporations):\n",
    "        super().__init__(entity)\n",
    "        self.corporations = corporations\n",
    "\n",
    "    @staticmethod\n",
    "    def dict_to_args(args, game):\n",
    "        return {\n",
    "            \"corporations\": [\n",
    "                game.corporation_by_id(c_id) for c_id in args.get(\"corporations\", [])\n",
    "            ],\n",
    "        }\n",
    "\n",
    "    def args_to_dict(self):\n",
    "        return {\n",
    "            \"corporations\": [corporation.id for corporation in self.corporations],\n",
    "        }"
   ]
  },
  {
   "cell_type": "markdown",
   "id": "78934ba2-3b2a-48a2-b061-a4e19087c17c",
   "metadata": {},
   "source": [
    "## Hex Token"
   ]
  },
  {
   "cell_type": "code",
   "execution_count": null,
   "id": "5389a6a2-b65a-4cad-b7db-80acaafa045b",
   "metadata": {},
   "outputs": [],
   "source": [
    "# | export\n",
    "class HexToken(BaseAction):\n",
    "    def __init__(self, entity, hex, cost=None, token_type=None, token=None):\n",
    "        super().__init__(entity)\n",
    "        self.hex = hex\n",
    "        self.cost = cost\n",
    "        self.token = token or entity.find_token_by_type(token_type)\n",
    "\n",
    "    @staticmethod\n",
    "    def dict_to_args(args, game):\n",
    "        return {\n",
    "            \"hex\": game.hex_by_id(args[\"hex\"]),\n",
    "            \"cost\": args[\"cost\"],\n",
    "            \"token_type\": args.get(\"token_type\"),\n",
    "        }\n",
    "\n",
    "    def args_to_dict(self):\n",
    "        return {\n",
    "            \"hex\": self.hex.id,\n",
    "            \"cost\": self.cost,\n",
    "            \"token_type\": None if self.token.type == \"normal\" else self.token.type,\n",
    "        }"
   ]
  },
  {
   "cell_type": "markdown",
   "id": "9cdf801c-1cfb-4e29-b287-34c4f307f82b",
   "metadata": {},
   "source": [
    "## Lay Tile"
   ]
  },
  {
   "cell_type": "code",
   "execution_count": null,
   "id": "bc0cee55-3e37-41e7-952a-5cfabdaa8707",
   "metadata": {},
   "outputs": [],
   "source": [
    "# | export\n",
    "class LayTile(BaseAction):\n",
    "    def __init__(self, entity, tile, hex, rotation, combo_entities=None):\n",
    "        super().__init__(entity)\n",
    "        self.hex = hex\n",
    "        self.tile = tile\n",
    "        self.rotation = rotation\n",
    "        self.combo_entities = combo_entities or []\n",
    "\n",
    "    @staticmethod\n",
    "    def dict_to_args(args, game):\n",
    "        return {\n",
    "            \"tile\": game.tile_by_id(args[\"tile\"]),\n",
    "            \"hex\": game.hex_by_id(args[\"hex\"]),\n",
    "            \"rotation\": args[\"rotation\"],\n",
    "            \"combo_entities\": [\n",
    "                game.company_by_id(id) for id in args.get(\"combo_entities\", [])\n",
    "            ],\n",
    "        }\n",
    "\n",
    "    def args_to_dict(self):\n",
    "        return {\n",
    "            \"hex\": self.hex.id,\n",
    "            \"tile\": self.tile.id,\n",
    "            \"rotation\": self.rotation,\n",
    "            \"combo_entities\": [entity.id for entity in self.combo_entities]\n",
    "            if self.combo_entities\n",
    "            else None,\n",
    "        }\n",
    "\n",
    "    def __str__(self):\n",
    "        return super().__str__() + f\", hex: [{self.hex}], tile: [{self.tile}, rotation: [{self.rotation}]\""
   ]
  },
  {
   "cell_type": "markdown",
   "id": "daf08750-ee7c-4b26-bb3d-db2d5ca9773c",
   "metadata": {},
   "source": [
    "## Message"
   ]
  },
  {
   "cell_type": "code",
   "execution_count": null,
   "id": "2e5c8dd7-89d8-4f51-963d-9e5f8912d9bc",
   "metadata": {},
   "outputs": [],
   "source": [
    "# | export\n",
    "class Message(BaseAction):\n",
    "    def __init__(self, entity, message):\n",
    "        super().__init__(entity)\n",
    "        self.message = message\n",
    "\n",
    "    def free(self):\n",
    "        return True\n",
    "\n",
    "    @staticmethod\n",
    "    def dict_to_args(args, _):\n",
    "        return {\n",
    "            \"message\": args[\"message\"],\n",
    "        }\n",
    "\n",
    "    def args_to_dict(self):\n",
    "        return {\n",
    "            \"message\": self.message,\n",
    "        }"
   ]
  },
  {
   "cell_type": "markdown",
   "id": "51da8244-9748-407b-a0b9-b9a902885a68",
   "metadata": {},
   "source": [
    "## Log"
   ]
  },
  {
   "cell_type": "code",
   "execution_count": null,
   "id": "0d7ada0b-4394-43a4-9d26-2071b77b0f3c",
   "metadata": {},
   "outputs": [],
   "source": [
    "# | export\n",
    "class Log(Message):\n",
    "    pass"
   ]
  },
  {
   "cell_type": "markdown",
   "id": "0841dbe7-6f3b-4da4-98b2-269fea7d1d2a",
   "metadata": {},
   "source": [
    "## Manual Close Company"
   ]
  },
  {
   "cell_type": "code",
   "execution_count": null,
   "id": "d6f772bb-bcb9-4418-86ad-4c957a928f2a",
   "metadata": {},
   "outputs": [],
   "source": [
    "# | export\n",
    "class ManualCloseCompany(BaseAction):\n",
    "    pass"
   ]
  },
  {
   "cell_type": "markdown",
   "id": "2ab0fa11-da79-45d7-8597-530bc79fc90c",
   "metadata": {},
   "source": [
    "## Merge"
   ]
  },
  {
   "cell_type": "code",
   "execution_count": null,
   "id": "3b9ba83b-3803-4b74-a0f2-66138f42af2f",
   "metadata": {},
   "outputs": [],
   "source": [
    "# | export\n",
    "class Merge(BaseAction):\n",
    "    def __init__(self, entity, corporation=None, minor=None):\n",
    "        super().__init__(entity)\n",
    "        self.corporation = corporation\n",
    "        self.minor = minor\n",
    "\n",
    "    @staticmethod\n",
    "    def dict_to_args(args, game):\n",
    "        return {\n",
    "            \"corporation\": game.corporation_by_id(args[\"corporation\"]),\n",
    "            \"minor\": game.minor_by_id(args[\"minor\"]),\n",
    "        }\n",
    "\n",
    "    def args_to_dict(self):\n",
    "        return {\n",
    "            \"corporation\": self.corporation.id if self.corporation else None,\n",
    "            \"minor\": self.minor.id if self.minor else None,\n",
    "        }"
   ]
  },
  {
   "cell_type": "markdown",
   "id": "cb2eff9b-ea79-4938-9d1a-bf136e063a55",
   "metadata": {},
   "source": [
    "## Move Bid"
   ]
  },
  {
   "cell_type": "code",
   "execution_count": null,
   "id": "ab9382bd-ed76-4b63-9c6d-bf6ce8c82656",
   "metadata": {},
   "outputs": [],
   "source": [
    "# | export\n",
    "class MoveBid(BaseAction):\n",
    "    def __init__(\n",
    "        self, entity, price, from_company, from_price, company=None, corporation=None\n",
    "    ):\n",
    "        super().__init__(entity)\n",
    "        self.company = company\n",
    "        self.corporation = corporation\n",
    "        self.price = price\n",
    "        self.from_company = from_company\n",
    "        self.from_price = from_price\n",
    "\n",
    "    @staticmethod\n",
    "    def dict_to_args(args, game):\n",
    "        return {\n",
    "            \"company\": game.company_by_id(args[\"company\"]),\n",
    "            \"corporation\": game.corporation_by_id(args[\"corporation\"]),\n",
    "            \"from_company\": game.company_by_id(args.get(\"from_company\")),\n",
    "            \"price\": args[\"price\"],\n",
    "            \"from_price\": args.get(\"from_price\"),\n",
    "        }\n",
    "\n",
    "    def args_to_dict(self):\n",
    "        return {\n",
    "            \"company\": self.company.id if self.company else None,\n",
    "            \"corporation\": self.corporation.id if self.corporation else None,\n",
    "            \"from_company\": self.from_company.id if self.from_company else None,\n",
    "            \"price\": self.price,\n",
    "            \"from_price\": self.from_price,\n",
    "        }"
   ]
  },
  {
   "cell_type": "markdown",
   "id": "b496cad9-e8d8-48fa-909a-b5884d8d2249",
   "metadata": {},
   "source": [
    "## Offer"
   ]
  },
  {
   "cell_type": "code",
   "execution_count": null,
   "id": "a2312bba-9ece-436a-9de3-4c4f3cecb5bd",
   "metadata": {},
   "outputs": [],
   "source": [
    "# | export\n",
    "class Offer(BaseAction):\n",
    "    def __init__(self, entity, corporation=None, company=None, price=None):\n",
    "        super().__init__(entity)\n",
    "        self.corporation = corporation\n",
    "        self.company = company\n",
    "        self.price = price\n",
    "\n",
    "    @staticmethod\n",
    "    def dict_to_args(args, game):\n",
    "        return {\n",
    "            \"corporation\": game.corporation_by_id(args[\"corporation\"]),\n",
    "            \"company\": game.company_by_id(args[\"company\"]),\n",
    "            \"price\": args[\"price\"],\n",
    "        }\n",
    "\n",
    "    def args_to_dict(self):\n",
    "        return {\n",
    "            \"corporation\": self.corporation.id if self.corporation else None,\n",
    "            \"company\": self.company.id if self.company else None,\n",
    "            \"price\": self.price,\n",
    "        }"
   ]
  },
  {
   "cell_type": "markdown",
   "id": "17b00f6a-87c7-4eaa-8d3f-643c576413ca",
   "metadata": {},
   "source": [
    "## Par"
   ]
  },
  {
   "cell_type": "code",
   "execution_count": null,
   "id": "f7a48009-e447-4070-aba8-7cee5b9e3773",
   "metadata": {},
   "outputs": [],
   "source": [
    "# | export\n",
    "class Par(BaseAction):\n",
    "    def __init__(\n",
    "        self,\n",
    "        entity,\n",
    "        corporation,\n",
    "        share_price,\n",
    "        slot=None,\n",
    "        purchase_for=None,\n",
    "        borrow_from=None,\n",
    "    ):\n",
    "        super().__init__(entity)\n",
    "        self.corporation = corporation\n",
    "        self.share_price = share_price\n",
    "        self.slot = slot\n",
    "        self.purchase_for = purchase_for\n",
    "        self.borrow_from = borrow_from\n",
    "\n",
    "    @staticmethod\n",
    "    def dict_to_args(args, game):\n",
    "        return {\n",
    "            \"corporation\": game.corporation_by_id(args[\"corporation\"]),\n",
    "            \"share_price\": game.share_price_by_id(args[\"share_price\"]),\n",
    "            \"slot\": args[\"slot\"],\n",
    "            \"purchase_for\": game.get(\n",
    "                args.get(\"purchase_for_type\"), args[\"purchase_for\"]\n",
    "            )\n",
    "            if \"purchase_for\" in args\n",
    "            else None,\n",
    "            \"borrow_from\": game.get(args.get(\"borrow_from_type\"), args[\"borrow_from\"])\n",
    "            if \"borrow_from\" in args\n",
    "            else None,\n",
    "        }\n",
    "\n",
    "    def args_to_dict(self):\n",
    "        return {\n",
    "            \"corporation\": self.corporation.id,\n",
    "            \"share_price\": self.share_price.id,\n",
    "            \"slot\": self.slot,\n",
    "            \"purchase_for_type\": self.purchase_for.__class__.__name__\n",
    "            if self.purchase_for\n",
    "            else None,\n",
    "            \"purchase_for\": self.purchase_for.id if self.purchase_for else None,\n",
    "            \"borrow_from_type\": self.borrow_from.__class__.__name__\n",
    "            if self.borrow_from\n",
    "            else None,\n",
    "            \"borrow_from\": self.borrow_from.id if self.borrow_from else None,\n",
    "        }\n",
    "\n",
    "    def __str__(self):\n",
    "        return super().__str__() + f\", corporation: [{self.corporation}], par price: [{self.share_price}]\""
   ]
  },
  {
   "cell_type": "markdown",
   "id": "5afeed64-55d1-470c-8702-469ec0ba7b85",
   "metadata": {},
   "source": [
    "## Pass"
   ]
  },
  {
   "cell_type": "code",
   "execution_count": null,
   "id": "4cc94237-83fc-4c10-b34c-a42a1d6cbeb6",
   "metadata": {},
   "outputs": [],
   "source": [
    "# | export\n",
    "class Pass(BaseAction):\n",
    "    def pass_(self):\n",
    "        return True"
   ]
  },
  {
   "cell_type": "markdown",
   "id": "4f31725a-f59e-4ffa-92bf-9603e6f259fc",
   "metadata": {},
   "source": [
    "## Pay off Debt"
   ]
  },
  {
   "cell_type": "code",
   "execution_count": null,
   "id": "77f9bf48-e484-4087-972c-087f86cad4e9",
   "metadata": {},
   "outputs": [],
   "source": [
    "# | export\n",
    "class PayoffDebt(BaseAction):\n",
    "    pass"
   ]
  },
  {
   "cell_type": "markdown",
   "id": "402be8cd-ab23-4be3-86f4-965233d98bbe",
   "metadata": {},
   "source": [
    "## Take Loan"
   ]
  },
  {
   "cell_type": "code",
   "execution_count": null,
   "id": "6a23d54c-9e45-49c6-a9aa-5de1618a0f1f",
   "metadata": {},
   "outputs": [],
   "source": [
    "# | export\n",
    "class TakeLoan(BaseAction):\n",
    "    def __init__(self, entity, loan):\n",
    "        super().__init__(entity)\n",
    "        self.loan = loan\n",
    "\n",
    "    @classmethod\n",
    "    def from_dict(cls, data, game):\n",
    "        return cls(\n",
    "            entity=game.get_entity(data[\"entity_type\"], data[\"entity\"]),\n",
    "            loan=game.get_loan(data[\"loan\"]),\n",
    "        )\n",
    "\n",
    "    def to_dict(self):\n",
    "        return {\n",
    "            \"type\": \"take_loan\",\n",
    "            \"entity\": self.entity.id,\n",
    "            \"entity_type\": self.entity.type,\n",
    "            \"loan\": self.loan.id if self.loan else None,\n",
    "        }"
   ]
  },
  {
   "cell_type": "markdown",
   "id": "87e7b63f-7778-4f97-a1de-a59c12641c24",
   "metadata": {},
   "source": [
    "## Pay off Loan"
   ]
  },
  {
   "cell_type": "code",
   "execution_count": null,
   "id": "4e602bf9-827e-4ff0-a59b-b1989f1f24bf",
   "metadata": {},
   "outputs": [],
   "source": [
    "# | export\n",
    "class PayoffDebt(TakeLoan):\n",
    "    pass"
   ]
  },
  {
   "cell_type": "markdown",
   "id": "e8dd0335-6eee-49d0-9663-1d7d41a80d84",
   "metadata": {},
   "source": [
    "## Pay off Player Debt"
   ]
  },
  {
   "cell_type": "code",
   "execution_count": null,
   "id": "7f176854-1c34-4b0d-84d1-117194d1fcc6",
   "metadata": {},
   "outputs": [],
   "source": [
    "# | export\n",
    "class PayoffPlayerDebt(BaseAction):\n",
    "    pass"
   ]
  },
  {
   "cell_type": "markdown",
   "id": "3e661230-f94f-46d0-8578-29ff79371f6c",
   "metadata": {},
   "source": [
    "## Place Token"
   ]
  },
  {
   "cell_type": "code",
   "execution_count": null,
   "id": "d4deb072-06ba-4f87-8a2d-f5e0b214dbf4",
   "metadata": {},
   "outputs": [],
   "source": [
    "# | export\n",
    "class PlaceToken(BaseAction):\n",
    "    def __init__(self, entity, city, slot, cost=None, tokener=None, token_type=None):\n",
    "        super().__init__(entity)\n",
    "        self.city = city\n",
    "        self.slot = slot\n",
    "        self.cost = cost\n",
    "        self.tokener = tokener\n",
    "        token_owner = tokener or (entity.owner if entity.is_company() else entity)\n",
    "        self.token = token_owner.find_token_by_type(token_type)\n",
    "\n",
    "    @staticmethod\n",
    "    def dict_to_args(args, game):\n",
    "        return {\n",
    "            \"city\": game.city_by_id(args[\"city\"]),\n",
    "            \"slot\": args[\"slot\"],\n",
    "            \"cost\": args[\"cost\"],\n",
    "            \"tokener\": game.corporation_by_id(args.get(\"tokener\"))\n",
    "            or game.minor_by_id(args.get(\"tokener\")),\n",
    "            \"token_type\": args.get(\"token_type\"),\n",
    "        }\n",
    "\n",
    "    def args_to_dict(self):\n",
    "        return {\n",
    "            \"city\": self.city.id,\n",
    "            \"slot\": self.slot,\n",
    "            \"cost\": self.cost,\n",
    "            \"tokener\": self.tokener.id if self.tokener else None,\n",
    "            \"token_type\": self.token.type if self.token and self.token.type != \"normal\" else None,\n",
    "        }\n",
    "\n",
    "    def __str__(self):\n",
    "        return super().__str__() + f\", city: [{self.city}], slot: [{self.slot}, cost: [{self.cost}, tokener: [{self.tokener}]\""
   ]
  },
  {
   "cell_type": "markdown",
   "id": "fcb6d8d0-4f92-4158-9986-2a092a7317a5",
   "metadata": {},
   "source": [
    "## Program Enable"
   ]
  },
  {
   "cell_type": "code",
   "execution_count": null,
   "id": "f9867f37-f5a2-428a-92e4-76244196619b",
   "metadata": {},
   "outputs": [],
   "source": [
    "# | export\n",
    "class ProgramEnable(BaseAction):\n",
    "    def disable(self, game):\n",
    "        return True"
   ]
  },
  {
   "cell_type": "markdown",
   "id": "38b38372-c5b6-4d57-aaba-a16e8a5c8ddd",
   "metadata": {},
   "source": [
    "## Program Disable"
   ]
  },
  {
   "cell_type": "code",
   "execution_count": null,
   "id": "e3ab56ac-153d-400a-bc2e-a2345e7b5ba7",
   "metadata": {},
   "outputs": [],
   "source": [
    "# | export\n",
    "class ProgramDisable(BaseAction):\n",
    "    def __init__(self, entity, reason, original_type=None):\n",
    "        super().__init__(entity)\n",
    "        self.reason = reason\n",
    "        self.original_type = original_type\n",
    "\n",
    "    @staticmethod\n",
    "    def dict_to_args(args, _game):\n",
    "        return {\n",
    "            \"reason\": args[\"reason\"],\n",
    "            \"original_type\": args[\"original_type\"],\n",
    "        }\n",
    "\n",
    "    def args_to_dict(self):\n",
    "        return {\n",
    "            \"reason\": self.reason,\n",
    "            \"original_type\": self.original_type,\n",
    "        }"
   ]
  },
  {
   "cell_type": "markdown",
   "id": "ef576f4a-cbf5-4a7d-94b5-09bcc89da290",
   "metadata": {},
   "source": [
    "## Program Auction Bid"
   ]
  },
  {
   "cell_type": "code",
   "execution_count": null,
   "id": "d68f8bf4-cc2b-4696-b77d-5150ad7a0697",
   "metadata": {},
   "outputs": [],
   "source": [
    "# | export\n",
    "class ProgramAuctionBid(ProgramEnable):\n",
    "    def __init__(\n",
    "        self,\n",
    "        entity,\n",
    "        bid_target,\n",
    "        maximum_bid,\n",
    "        buy_price,\n",
    "        enable_maximum_bid=False,\n",
    "        enable_buy_price=False,\n",
    "        auto_pass_after=False,\n",
    "    ):\n",
    "        super().__init__(entity)\n",
    "        self.bid_target = bid_target\n",
    "        self.enable_maximum_bid = enable_maximum_bid\n",
    "        self.maximum_bid = maximum_bid\n",
    "        self.enable_buy_price = enable_buy_price\n",
    "        self.buy_price = buy_price\n",
    "        self.auto_pass_after = auto_pass_after\n",
    "\n",
    "    def disable(self, game):\n",
    "        return not game.round.auction\n",
    "\n",
    "    @staticmethod\n",
    "    def dict_to_args(args, game):\n",
    "        bid_target = (\n",
    "            game.corporation_by_id(args.get(\"bid_target\"))\n",
    "            or game.company_by_id(args.get(\"bid_target\"))\n",
    "            or game.minor_by_id(args.get(\"bid_target\"))\n",
    "        )\n",
    "        return {\n",
    "            \"bid_target\": bid_target,\n",
    "            \"enable_maximum_bid\": args.get(\"enable_maximum_bid\"),\n",
    "            \"maximum_bid\": args.get(\"maximum_bid\"),\n",
    "            \"enable_buy_price\": args.get(\"enable_buy_price\"),\n",
    "            \"buy_price\": args.get(\"buy_price\"),\n",
    "            \"auto_pass_after\": args.get(\"auto_pass_after\"),\n",
    "        }\n",
    "\n",
    "    def args_to_dict(self):\n",
    "        return {\n",
    "            \"bid_target\": self.bid_target.id,\n",
    "            \"enable_maximum_bid\": self.enable_maximum_bid,\n",
    "            \"maximum_bid\": self.maximum_bid,\n",
    "            \"enable_buy_price\": self.enable_buy_price,\n",
    "            \"buy_price\": self.buy_price,\n",
    "            \"auto_pass_after\": self.auto_pass_after,\n",
    "        }\n",
    "\n",
    "    def __str__(self):\n",
    "        buy = f\"Buy if price at {self.buy_price}. \" if self.enable_buy_price else \"\"\n",
    "        bid = (\n",
    "            f\"Bid on {self.bid_target.name} up to {self.maximum_bid}. \"\n",
    "            if self.enable_maximum_bid\n",
    "            else \"\"\n",
    "        )\n",
    "        suffix = \"Otherwise auto pass.\" if self.auto_pass_after else \"\"\n",
    "\n",
    "        return f\"{buy}{bid}{suffix}\""
   ]
  },
  {
   "cell_type": "markdown",
   "id": "9b9b48ae-e22d-459e-8f90-c55fe1983d0e",
   "metadata": {},
   "source": [
    "## Program Buy Shares"
   ]
  },
  {
   "cell_type": "code",
   "execution_count": null,
   "id": "14d53cde-b963-477b-91d2-179e4b658f7c",
   "metadata": {},
   "outputs": [],
   "source": [
    "# | export\n",
    "class ProgramBuyShares(ProgramEnable):\n",
    "    def __init__(\n",
    "        self,\n",
    "        entity,\n",
    "        corporation,\n",
    "        until_condition,\n",
    "        from_market=False,\n",
    "        auto_pass_after=False,\n",
    "    ):\n",
    "        super().__init__(entity)\n",
    "        self.corporation = corporation\n",
    "        self.until_condition = until_condition\n",
    "        self.from_market = from_market\n",
    "        self.auto_pass_after = auto_pass_after\n",
    "\n",
    "    @staticmethod\n",
    "    def dict_to_args(args, game):\n",
    "        return {\n",
    "            \"corporation\": game.corporation_by_id(args[\"corporation\"]),\n",
    "            \"until_condition\": args.get(\"until_condition\"),\n",
    "            \"from_market\": args.get(\"from_market\"),\n",
    "            \"auto_pass_after\": args.get(\"auto_pass_after\"),\n",
    "        }\n",
    "\n",
    "    def args_to_dict(self):\n",
    "        return {\n",
    "            \"corporation\": self.corporation.id,\n",
    "            \"until_condition\": self.until_condition,\n",
    "            \"from_market\": self.from_market,\n",
    "            \"auto_pass_after\": self.auto_pass_after,\n",
    "        }\n",
    "\n",
    "    def __str__(self):\n",
    "        source = \"market\" if self.from_market else \"IPO\"\n",
    "        condition = (\n",
    "            \"floated\"\n",
    "            if self.until_condition == \"float\"\n",
    "            else f\"{self.until_condition} shares\"\n",
    "        )\n",
    "        suffix = \", then auto pass\" if self.auto_pass_after else \"\"\n",
    "\n",
    "        return f\"Buy {self.corporation.name} from {source} until {condition}{suffix}\"\n",
    "\n",
    "    def disable(self, game):\n",
    "        return not game.round.stock"
   ]
  },
  {
   "cell_type": "markdown",
   "id": "d00948d2-0158-49f2-bf80-d69f3105a7d7",
   "metadata": {},
   "source": [
    "## Program Close Pass"
   ]
  },
  {
   "cell_type": "code",
   "execution_count": null,
   "id": "3e6bdf1b-e61f-4483-b2eb-fb50ec455b24",
   "metadata": {},
   "outputs": [],
   "source": [
    "# | export\n",
    "class ProgramClosePass(ProgramEnable):\n",
    "    def __init__(self, entity, unconditional=False):\n",
    "        super().__init__(entity)\n",
    "        self.unconditional = unconditional\n",
    "\n",
    "    @staticmethod\n",
    "    def dict_to_args(args, game):\n",
    "        return {\n",
    "            \"unconditional\": args[\"unconditional\"],\n",
    "        }\n",
    "\n",
    "    def args_to_dict(self):\n",
    "        return {\n",
    "            \"unconditional\": self.unconditional,\n",
    "        }\n",
    "\n",
    "    def __str__(self):\n",
    "        unconditionally = \", unconditionally\" if self.unconditional else \"\"\n",
    "        return f\"Pass in Closing Round{unconditionally}\"\n",
    "\n",
    "    def disable(self, _game):\n",
    "        return False"
   ]
  },
  {
   "cell_type": "markdown",
   "id": "ea72a32c-c4e0-42dc-9531-a98e784cc974",
   "metadata": {},
   "source": [
    "## Program Harzbahn Draft Pass"
   ]
  },
  {
   "cell_type": "code",
   "execution_count": null,
   "id": "9b773e72-be69-4ba2-a317-c451de188504",
   "metadata": {},
   "outputs": [],
   "source": [
    "# | export\n",
    "class ProgramHarzbahnDraftPass(ProgramEnable):\n",
    "    def __init__(self, entity, until_premium, unconditional):\n",
    "        super().__init__(entity)\n",
    "        self.until_premium = until_premium\n",
    "        self.unconditional = unconditional\n",
    "\n",
    "    @staticmethod\n",
    "    def dict_to_args(args, game):\n",
    "        return {\n",
    "            \"until_premium\": args[\"until_premium\"],\n",
    "            \"unconditional\": args[\"unconditional\"],\n",
    "        }\n",
    "\n",
    "    def args_to_dict(self):\n",
    "        return {\n",
    "            \"until_premium\": self.until_premium,\n",
    "            \"unconditional\": self.unconditional,\n",
    "        }\n",
    "\n",
    "    def __str__(self):\n",
    "        until_premium = (\n",
    "            f\", until premium {self.until_premium}\" if self.until_premium else \"\"\n",
    "        )\n",
    "        unconditionally = \", unconditionally\" if self.unconditional else \"\"\n",
    "        return f\"Pass in Draft{until_premium}{unconditionally}\"\n",
    "\n",
    "    def disable(self, game):\n",
    "        return not game.round.auction"
   ]
  },
  {
   "cell_type": "markdown",
   "id": "6f53b731-cbcf-46d6-b07d-e59412ef0a2a",
   "metadata": {},
   "source": [
    "## Program Independent Mines"
   ]
  },
  {
   "cell_type": "code",
   "execution_count": null,
   "id": "2f73ba23-1031-49f0-97d9-43549ffdf83c",
   "metadata": {},
   "outputs": [],
   "source": [
    "# | export\n",
    "class ProgramIndependentMines(ProgramEnable):\n",
    "    def __init__(self, entity, skip_track, skip_buy, skip_close, indefinite):\n",
    "        super().__init__(entity)\n",
    "        self.skip_track = skip_track\n",
    "        self.skip_buy = skip_buy\n",
    "        self.skip_close = skip_close\n",
    "        self.indefinite = indefinite\n",
    "\n",
    "    @staticmethod\n",
    "    def dict_to_args(args, game):\n",
    "        return {\n",
    "            \"skip_track\": args[\"skip_track\"],\n",
    "            \"skip_buy\": args[\"skip_buy\"],\n",
    "            \"skip_close\": args[\"skip_close\"],\n",
    "            \"indefinite\": args[\"indefinite\"],\n",
    "        }\n",
    "\n",
    "    def args_to_dict(self):\n",
    "        return {\n",
    "            \"skip_track\": self.skip_track,\n",
    "            \"skip_buy\": self.skip_buy,\n",
    "            \"skip_close\": self.skip_close,\n",
    "            \"indefinite\": self.indefinite,\n",
    "        }\n",
    "\n",
    "    def __str__(self):\n",
    "        steps = []\n",
    "        if self.skip_track:\n",
    "            steps.append(\"track\")\n",
    "        if self.skip_buy:\n",
    "            steps.append(\"buy trains\")\n",
    "        if self.skip_close:\n",
    "            steps.append(\"close\")\n",
    "        if not steps:\n",
    "            steps.append(\"nothing?!\")\n",
    "        condition = \"turned off\" if self.indefinite else \"next SR\"\n",
    "        return f\"Pass ({','.join(steps)}) for independent mines until {condition}\"\n",
    "\n",
    "    def disable(self, game):\n",
    "        return not (game.round.operating or self.indefinite)"
   ]
  },
  {
   "cell_type": "markdown",
   "id": "72ebd15b-6790-48cb-8ac5-de41db14fa3e",
   "metadata": {},
   "source": [
    "## Program Merger Pass"
   ]
  },
  {
   "cell_type": "code",
   "execution_count": null,
   "id": "88b5eff5-567c-42ae-999a-6424a735cd65",
   "metadata": {},
   "outputs": [],
   "source": [
    "# | export\n",
    "class ProgramMergerPass(ProgramEnable):\n",
    "    def __init__(self, entity, corporations_by_round, options):\n",
    "        super().__init__(entity)\n",
    "        self.corporations_by_round = corporations_by_round\n",
    "        self.options = options\n",
    "\n",
    "    @staticmethod\n",
    "    def dict_to_args(args, game):\n",
    "        corporations_by_round = args.get(\"corporations_by_round\", {})\n",
    "        transformed_corps = {}\n",
    "        for phase, corps_ids in corporations_by_round.items():\n",
    "            corps_list = [game.corporation_by_id(c_id) for c_id in corps_ids]\n",
    "            transformed_corps[phase] = corps_list\n",
    "        return {\n",
    "            \"corporations_by_round\": transformed_corps,\n",
    "            \"options\": args.get(\"options\", []),\n",
    "        }\n",
    "\n",
    "    def args_to_dict(self):\n",
    "        transformed_corps = {}\n",
    "        for phase, corps_list in self.corporations_by_round.items():\n",
    "            corps_ids = [corp.id for corp in corps_list]\n",
    "            transformed_corps[phase] = corps_ids\n",
    "        return {\n",
    "            \"corporations_by_round\": transformed_corps,\n",
    "            \"options\": self.options,\n",
    "        }\n",
    "\n",
    "    def __str__(self):\n",
    "        phases = [\n",
    "            f\"{phase} ({', '.join(corp.name for corp in corps)})\"\n",
    "            if corps\n",
    "            else f\"{phase} (none)\"\n",
    "            for phase, corps in self.corporations_by_round.items()\n",
    "        ]\n",
    "        phases_str = \" and \".join(phases)\n",
    "        suffix = (\n",
    "            \", unless someone else acts\" if \"disable_others\" in self.options else \"\"\n",
    "        )\n",
    "        return f\"Pass on mergers in {phases_str}{suffix}\"\n",
    "\n",
    "    def disable(self, game):\n",
    "        return not game.round.merger"
   ]
  },
  {
   "cell_type": "markdown",
   "id": "a571f57b-a750-46a1-8e96-1fe2e6655e4e",
   "metadata": {},
   "source": [
    "## Program Share Pass"
   ]
  },
  {
   "cell_type": "code",
   "execution_count": null,
   "id": "aeb514c4-5cc1-430a-a6cd-3bb495847fb0",
   "metadata": {},
   "outputs": [],
   "source": [
    "# | export\n",
    "class ProgramSharePass(ProgramEnable):\n",
    "    def __init__(self, entity, unconditional=False, indefinite=False):\n",
    "        super().__init__(entity)\n",
    "        self.unconditional = unconditional\n",
    "        self.indefinite = indefinite\n",
    "\n",
    "    @staticmethod\n",
    "    def dict_to_args(args, game):\n",
    "        return {\n",
    "            \"unconditional\": args.get(\"unconditional\"),\n",
    "            \"indefinite\": args.get(\"indefinite\"),\n",
    "        }\n",
    "\n",
    "    def args_to_dict(self):\n",
    "        return {\n",
    "            \"unconditional\": self.unconditional,\n",
    "            \"indefinite\": self.indefinite,\n",
    "        }\n",
    "\n",
    "    def to_s(self):\n",
    "        unconditionally = \", unconditionally\" if self.unconditional else \"\"\n",
    "        indefinitely = \", indefinitely\" if self.indefinite else \"\"\n",
    "        return f\"Pass in Stock Round{unconditionally}{indefinitely}\"\n",
    "\n",
    "    def disable(self, game):\n",
    "        return not game.round.stock and not self.indefinite"
   ]
  },
  {
   "cell_type": "markdown",
   "id": "38fd9c7b-7da7-47e5-a290-3ed3beab46c5",
   "metadata": {},
   "source": [
    "## Purchase Train"
   ]
  },
  {
   "cell_type": "code",
   "execution_count": null,
   "id": "53ba244c-d0dc-48d7-9195-5b33876d9120",
   "metadata": {},
   "outputs": [],
   "source": [
    "# | export\n",
    "class PurchaseTrain(BaseAction):\n",
    "    pass"
   ]
  },
  {
   "cell_type": "markdown",
   "id": "a19c4626-9988-4b8d-9903-3f9e907b5b0f",
   "metadata": {},
   "source": [
    "## Reassign Trains"
   ]
  },
  {
   "cell_type": "code",
   "execution_count": null,
   "id": "b90eff30-4c61-49c0-9df2-5a6a98f27d0a",
   "metadata": {},
   "outputs": [],
   "source": [
    "# | export\n",
    "class ReassignTrains(BaseAction):\n",
    "    def __init__(self, entity, assignments=None):\n",
    "        super().__init__(entity)\n",
    "        self.assignments = assignments if assignments else []\n",
    "\n",
    "    @staticmethod\n",
    "    def dict_to_args(args, game):\n",
    "        assignments = [\n",
    "            {\n",
    "                \"train\": game.train_by_id(assignment[\"train\"]),\n",
    "                \"corporation\": game.corporation_by_id(assignment[\"corporation\"]),\n",
    "            }\n",
    "            for assignment in args.get(\"assignments\", [])\n",
    "        ]\n",
    "        return {\n",
    "            \"assignments\": assignments,\n",
    "        }\n",
    "\n",
    "    def args_to_dict(self):\n",
    "        assignments = [\n",
    "            {\n",
    "                \"train\": item[\"train\"].id,\n",
    "                \"corporation\": item[\"corporation\"].id,\n",
    "            }\n",
    "            for item in self.assignments\n",
    "        ]\n",
    "\n",
    "        return {\n",
    "            \"assignments\": assignments,\n",
    "        }"
   ]
  },
  {
   "cell_type": "markdown",
   "id": "4bc05f26-c608-4b20-924e-dae8013d0771",
   "metadata": {},
   "source": [
    "## Redo"
   ]
  },
  {
   "cell_type": "code",
   "execution_count": null,
   "id": "b385cd6d-60c0-4ed1-a68b-93af2bfb1a76",
   "metadata": {},
   "outputs": [],
   "source": [
    "# | export\n",
    "class Redo(BaseAction):\n",
    "    def free(self):\n",
    "        return True"
   ]
  },
  {
   "cell_type": "markdown",
   "id": "fb637546-5b20-4123-a622-215a67b91255",
   "metadata": {},
   "source": [
    "## Remove Hex Token"
   ]
  },
  {
   "cell_type": "code",
   "execution_count": null,
   "id": "7634adbe-4c4a-48f7-8390-20ff4c7de0f4",
   "metadata": {},
   "outputs": [],
   "source": [
    "# | export\n",
    "class RemoveHexToken(BaseAction):\n",
    "    def __init__(self, entity, hex):\n",
    "        super().__init__(entity)\n",
    "        self.hex = hex\n",
    "\n",
    "    @staticmethod\n",
    "    def dict_to_args(args, game):\n",
    "        return {\n",
    "            \"hex\": game.hex_by_id(args[\"hex\"]),\n",
    "        }\n",
    "\n",
    "    def args_to_dict(self):\n",
    "        return {\n",
    "            \"hex\": self.hex.id,\n",
    "        }"
   ]
  },
  {
   "cell_type": "markdown",
   "id": "22462ac0-b99f-48d5-a765-ae467813ae97",
   "metadata": {},
   "source": [
    "## Remove Token"
   ]
  },
  {
   "cell_type": "code",
   "execution_count": null,
   "id": "b74218ff-53bd-46ab-8df8-b2bc89d04ef1",
   "metadata": {},
   "outputs": [],
   "source": [
    "# | export\n",
    "class RemoveToken(BaseAction):\n",
    "    def __init__(self, entity, city, slot):\n",
    "        super().__init__(entity)\n",
    "        self.city = city\n",
    "        self.slot = slot\n",
    "\n",
    "    @staticmethod\n",
    "    def dict_to_args(args, game):\n",
    "        return {\n",
    "            \"city\": game.city_by_id(args[\"city\"]),\n",
    "            \"slot\": args[\"slot\"],\n",
    "        }\n",
    "\n",
    "    def args_to_dict(self):\n",
    "        return {\n",
    "            \"city\": self.city.id,\n",
    "            \"slot\": self.slot,\n",
    "        }"
   ]
  },
  {
   "cell_type": "markdown",
   "id": "0216dc37-39ae-4ab0-a214-a9f589caa418",
   "metadata": {},
   "source": [
    "## Respond"
   ]
  },
  {
   "cell_type": "code",
   "execution_count": null,
   "id": "b52e97d1-3dcf-45b5-bacd-787d363ed5c8",
   "metadata": {},
   "outputs": [],
   "source": [
    "# | export\n",
    "class Respond(BaseAction):\n",
    "    def __init__(self, entity, corporation, company, accept):\n",
    "        super().__init__(entity)\n",
    "        self.corporation = corporation\n",
    "        self.company = company\n",
    "        self.accept = accept\n",
    "\n",
    "    @staticmethod\n",
    "    def dict_to_args(args, game):\n",
    "        return {\n",
    "            \"corporation\": game.corporation_by_id(args[\"corporation\"]),\n",
    "            \"company\": game.company_by_id(args[\"company\"]),\n",
    "            \"accept\": args[\"accept\"] == \"true\",\n",
    "        }\n",
    "\n",
    "    def args_to_dict(self):\n",
    "        return {\n",
    "            \"corporation\": self.corporation.id,\n",
    "            \"company\": self.company.id,\n",
    "            \"accept\": \"true\" if self.accept else \"false\",\n",
    "        }"
   ]
  },
  {
   "cell_type": "markdown",
   "id": "2ecf4c15-2525-41d7-9ffe-5b61795067d7",
   "metadata": {},
   "source": [
    "## Run Routes"
   ]
  },
  {
   "cell_type": "code",
   "execution_count": null,
   "id": "88f12066-70b4-4479-8205-e5b3e228008c",
   "metadata": {},
   "outputs": [],
   "source": [
    "# | export\n",
    "class RunRoutes(BaseAction):\n",
    "    def __init__(self, entity, routes, extra_revenue=0):\n",
    "        super().__init__(entity)\n",
    "        self.routes = routes\n",
    "        self.extra_revenue = extra_revenue\n",
    "\n",
    "    @staticmethod\n",
    "    def dict_to_args(args, game):\n",
    "        routes = []\n",
    "        for route in args.get(\"routes\", []):\n",
    "            opts = {\n",
    "                \"connection_hexes\": route[\"connections\"],\n",
    "                \"hexes\": [game.hex_by_id(id) for id in route.get(\"hexes\", []) if id],\n",
    "                \"revenue\": route[\"revenue\"],\n",
    "                \"revenue_str\": route[\"revenue_str\"],\n",
    "                \"subsidy\": route[\"subsidy\"],\n",
    "                \"halts\": route[\"halts\"],\n",
    "                \"abilities\": route[\"abilities\"],\n",
    "                \"nodes\": route[\"nodes\"],\n",
    "            }\n",
    "            # Filter out keys with None values\n",
    "            opts = {k: v for k, v in opts.items() if v is not None}\n",
    "\n",
    "            routes.append(\n",
    "                Route(\n",
    "                    game,\n",
    "                    game.phase,\n",
    "                    game.train_by_id(route[\"train\"]),\n",
    "                    routes=routes,\n",
    "                    **opts,\n",
    "                )\n",
    "            )\n",
    "\n",
    "        return {\n",
    "            \"routes\": routes,\n",
    "            \"extra_revenue\": args.get(\"extra_revenue\"),\n",
    "        }\n",
    "\n",
    "    def args_to_dict(self):\n",
    "        routes = [\n",
    "            {\n",
    "                \"train\": route.train.id,\n",
    "                \"connections\": route.connection_hexes,\n",
    "                \"hexes\": [hex.id for hex in route.hexes],\n",
    "                \"revenue\": route.revenue,\n",
    "                \"revenue_str\": route.revenue_str,\n",
    "                \"subsidy\": route.subsidy,\n",
    "                \"halts\": route.halts,\n",
    "                \"abilities\": route.abilities,\n",
    "                \"nodes\": route.node_signatures,\n",
    "            }\n",
    "            for route in self.routes if route is not None\n",
    "        ]\n",
    "\n",
    "        return {\n",
    "            \"routes\": routes,\n",
    "            \"extra_revenue\": self.extra_revenue,\n",
    "        }"
   ]
  },
  {
   "cell_type": "markdown",
   "id": "015f5fe7-1d7b-437e-a355-7a1834273a62",
   "metadata": {},
   "source": [
    "## Scrap Train"
   ]
  },
  {
   "cell_type": "code",
   "execution_count": null,
   "id": "20221ab7-3483-411e-ba6e-cfe54d06541e",
   "metadata": {},
   "outputs": [],
   "source": [
    "# | export\n",
    "class ScrapTrain(BaseAction):\n",
    "    def __init__(self, entity, train):\n",
    "        super().__init__(entity)\n",
    "        self.train = train\n",
    "\n",
    "    @staticmethod\n",
    "    def dict_to_args(args, game):\n",
    "        return {\n",
    "            \"train\": game.train_by_id(args[\"train\"]),\n",
    "        }\n",
    "\n",
    "    def args_to_dict(self):\n",
    "        return {\n",
    "            \"train\": self.train.id,\n",
    "        }"
   ]
  },
  {
   "cell_type": "markdown",
   "id": "0e19f707-8e0a-4fe3-9ad6-dd91f0ba2146",
   "metadata": {},
   "source": [
    "## Sell Company"
   ]
  },
  {
   "cell_type": "code",
   "execution_count": null,
   "id": "a821a1d8-c955-4d13-8729-5aada6700081",
   "metadata": {},
   "outputs": [],
   "source": [
    "# | export\n",
    "class SellCompany(BaseAction):\n",
    "    def __init__(self, entity, company, price):\n",
    "        super().__init__(entity)\n",
    "        self.company = company\n",
    "        self.price = price\n",
    "\n",
    "    @staticmethod\n",
    "    def dict_to_args(args, game):\n",
    "        return {\n",
    "            \"company\": game.company_by_id(args[\"company\"]),\n",
    "            \"price\": args[\"price\"],\n",
    "        }\n",
    "\n",
    "    def args_to_dict(self):\n",
    "        return {\n",
    "            \"company\": self.company.id,\n",
    "            \"price\": self.price,\n",
    "        }"
   ]
  },
  {
   "cell_type": "markdown",
   "id": "543ad2ae-3cff-4103-8333-784e9cf4cb4e",
   "metadata": {},
   "source": [
    "## Short"
   ]
  },
  {
   "cell_type": "code",
   "execution_count": null,
   "id": "2ada31f3-3265-49b2-a7e0-bc9d2e65f6a9",
   "metadata": {},
   "outputs": [],
   "source": [
    "# | export\n",
    "class Short(BaseAction):\n",
    "    def __init__(self, entity, corporation):\n",
    "        super().__init__(entity)\n",
    "        self.corporation = corporation\n",
    "\n",
    "    @staticmethod\n",
    "    def dict_to_args(args, game):\n",
    "        return {\n",
    "            \"corporation\": game.corporation_by_id(args[\"corporation\"]),\n",
    "        }\n",
    "\n",
    "    def args_to_dict(self):\n",
    "        return {\n",
    "            \"corporation\": self.corporation.id,\n",
    "        }"
   ]
  },
  {
   "cell_type": "markdown",
   "id": "a159edad-e1b0-49b2-a9ff-54d809e6deb4",
   "metadata": {},
   "source": [
    "## Special Buy"
   ]
  },
  {
   "cell_type": "code",
   "execution_count": null,
   "id": "cc4ed044-e44f-478a-a08a-e449fac6311b",
   "metadata": {},
   "outputs": [],
   "source": [
    "# | export\n",
    "class SpecialBuy(BaseAction):\n",
    "    def __init__(self, entity, item):\n",
    "        super().__init__(entity)\n",
    "        self.item = item\n",
    "\n",
    "    @staticmethod\n",
    "    def dict_to_args(args, _game):\n",
    "        return {\n",
    "            \"item\": Item(description=args[\"description\"], cost=args[\"cost\"]),\n",
    "        }\n",
    "\n",
    "    def args_to_dict(self):\n",
    "        return {\n",
    "            \"description\": self.item.description,\n",
    "            \"cost\": self.item.cost,\n",
    "        }"
   ]
  },
  {
   "cell_type": "markdown",
   "id": "47841395-7611-46a1-a9cf-e644f6684b15",
   "metadata": {},
   "source": [
    "## Split"
   ]
  },
  {
   "cell_type": "code",
   "execution_count": null,
   "id": "7f9fb61f-8cf9-4957-8bf1-be6019a232af",
   "metadata": {},
   "outputs": [],
   "source": [
    "# | export\n",
    "class Split(BaseAction):\n",
    "    def __init__(self, entity, corporation):\n",
    "        super().__init__(entity)\n",
    "        self.corporation = corporation\n",
    "\n",
    "    @staticmethod\n",
    "    def dict_to_args(args, game):\n",
    "        return {\n",
    "            \"corporation\": game.corporation_by_id(args[\"corporation\"]),\n",
    "        }\n",
    "\n",
    "    def args_to_dict(self):\n",
    "        return {\n",
    "            \"corporation\": self.corporation.id,\n",
    "        }"
   ]
  },
  {
   "cell_type": "markdown",
   "id": "1d023e6e-139d-4cab-ae83-359b9f29eeb5",
   "metadata": {},
   "source": [
    "## Swap Train"
   ]
  },
  {
   "cell_type": "code",
   "execution_count": null,
   "id": "cec89bd5-add5-41d0-a888-292ec3bda7ad",
   "metadata": {},
   "outputs": [],
   "source": [
    "# | export\n",
    "class SwapTrain(BaseAction):\n",
    "    def __init__(self, entity, train):\n",
    "        super().__init__(entity)\n",
    "        self.train = train\n",
    "\n",
    "    @staticmethod\n",
    "    def dict_to_args(args, game):\n",
    "        return {\n",
    "            \"train\": game.train_by_id(args[\"train\"]),\n",
    "        }\n",
    "\n",
    "    def args_to_dict(self):\n",
    "        return {\n",
    "            \"train\": self.train.id,\n",
    "        }"
   ]
  },
  {
   "cell_type": "markdown",
   "id": "776e4891-50b8-42ca-89de-c2a9f5e6365e",
   "metadata": {},
   "source": [
    "## Switch Trains"
   ]
  },
  {
   "cell_type": "code",
   "execution_count": null,
   "id": "ac02e58e-0ae4-4a57-bac5-3c3ea6d577a1",
   "metadata": {},
   "outputs": [],
   "source": [
    "# | export\n",
    "class SwitchTrains(BaseAction):\n",
    "    def __init__(self, entity, slots=None):\n",
    "        super().__init__(entity)\n",
    "        self.slots = slots\n",
    "\n",
    "    @staticmethod\n",
    "    def dict_to_args(args, _game):\n",
    "        return {\n",
    "            \"slots\": [int(m) for m in args.get(\"slots\", [])]\n",
    "            if \"slots\" in args\n",
    "            else None,\n",
    "        }\n",
    "\n",
    "    def args_to_dict(self):\n",
    "        return {\n",
    "            \"slots\": self.slots,\n",
    "        }"
   ]
  },
  {
   "cell_type": "markdown",
   "id": "677cd566-25a7-4ab0-93ea-cd514b827927",
   "metadata": {},
   "source": [
    "## Undo"
   ]
  },
  {
   "cell_type": "code",
   "execution_count": null,
   "id": "5b01305e-d9e5-4dfa-a10a-c457f4f7cfb0",
   "metadata": {},
   "outputs": [],
   "source": [
    "# | export\n",
    "class Undo(BaseAction):\n",
    "    def __init__(self, entity, action_id=None):\n",
    "        super().__init__(entity)\n",
    "        self.action_id = action_id\n",
    "\n",
    "    @staticmethod\n",
    "    def dict_to_args(args, _game):\n",
    "        return {\n",
    "            \"action_id\": args[\"action_id\"],\n",
    "        }\n",
    "\n",
    "    def args_to_dict(self):\n",
    "        return {\n",
    "            \"action_id\": self.action_id,\n",
    "        }"
   ]
  },
  {
   "cell_type": "markdown",
   "id": "2649ddc5-a451-4b6c-9152-e60d10f9481c",
   "metadata": {},
   "source": [
    "## Use Graph"
   ]
  },
  {
   "cell_type": "code",
   "execution_count": null,
   "id": "e8994b2a-faac-4b8b-a07c-138c29c4bab0",
   "metadata": {},
   "outputs": [],
   "source": [
    "# | export\n",
    "class UseGraph(BaseAction):\n",
    "    def __init__(self, entity, graph_id):\n",
    "        super().__init__(entity)\n",
    "        self.graph_id = graph_id\n",
    "\n",
    "    @staticmethod\n",
    "    def dict_to_args(args, _game):\n",
    "        return {\n",
    "            \"graph_id\": args[\"graph_id\"],\n",
    "        }\n",
    "\n",
    "    def args_to_dict(self):\n",
    "        return {\n",
    "            \"graph_id\": self.graph_id,\n",
    "        }"
   ]
  },
  {
   "cell_type": "markdown",
   "id": "f09aee14-4bec-41cc-8640-e2386f2c40ce",
   "metadata": {},
   "source": [
    "## View Merge Options"
   ]
  },
  {
   "cell_type": "code",
   "execution_count": null,
   "id": "2eb87eff-ead6-4038-a8ce-978951a5d84e",
   "metadata": {},
   "outputs": [],
   "source": [
    "# | export\n",
    "class ViewMergeOptions(BaseAction):\n",
    "    pass"
   ]
  },
  {
   "cell_type": "code",
   "execution_count": null,
   "id": "d85b8c41-bb0c-4967-87b1-9bbdc959af2d",
   "metadata": {},
   "outputs": [],
   "source": []
  },
  {
   "cell_type": "markdown",
   "id": "194487da-3f87-4bc5-875e-3c10026ee14d",
   "metadata": {},
   "source": [
    "## Operating Info"
   ]
  },
  {
   "cell_type": "code",
   "execution_count": null,
   "id": "0874583a-5c27-488c-9f07-65bacc8549e4",
   "metadata": {},
   "outputs": [],
   "source": [
    "# | export\n",
    "class OperatingInfo:\n",
    "    def __init__(self, runs, dividend, revenue, laid_hexes, dividend_kind=None):\n",
    "        self.routes = {run.train: run.connection_hexes for run in runs}\n",
    "        self.halts = {run.train: run.halts for run in runs}\n",
    "        self.nodes = {run.train: run.node_signatures for run in runs}\n",
    "        self.revenue = revenue\n",
    "        self.dividend = dividend\n",
    "        self.laid_hexes = laid_hexes\n",
    "        self.dividend_kind = dividend_kind or (\n",
    "            dividend.kind if isinstance(dividend, Dividend) else \"withhold\"\n",
    "        )"
   ]
  },
  {
   "cell_type": "code",
   "execution_count": null,
   "id": "a915041d-2f25-4406-bc7f-178c98a2895b",
   "metadata": {},
   "outputs": [],
   "source": []
  }
 ],
 "metadata": {
  "kernelspec": {
   "display_name": "python3",
   "language": "python",
   "name": "python3"
  }
 },
 "nbformat": 4,
 "nbformat_minor": 5
}
