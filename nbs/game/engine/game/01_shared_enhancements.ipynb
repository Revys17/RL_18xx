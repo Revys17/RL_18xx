{
 "cells": [
  {
   "cell_type": "markdown",
   "id": "72c3e69c-5e1b-4146-b275-33d34bdf5893",
   "metadata": {},
   "source": [
    "# Shared Enhancements"
   ]
  },
  {
   "cell_type": "markdown",
   "id": "2f1e443e-10cb-41fa-95bd-6e0f3d905a61",
   "metadata": {},
   "source": [
    "This notebook contains all of the python equivalents to the modules/mixins defined within `lib/engine/game/` in the Ruby repo."
   ]
  },
  {
   "cell_type": "code",
   "execution_count": null,
   "id": "e802b454-7b7f-44c4-9e98-273d929bd8c9",
   "metadata": {},
   "outputs": [],
   "source": [
    "# | default_exp game.engine.game.enhancements"
   ]
  },
  {
   "cell_type": "code",
   "execution_count": null,
   "id": "6afd2f46-2279-4048-8c26-716ec39ec838",
   "metadata": {},
   "outputs": [],
   "source": [
    "#| hide\n",
    "%load_ext lab_black"
   ]
  },
  {
   "cell_type": "code",
   "execution_count": null,
   "id": "d18717a4-5914-41d9-a51b-1e4089bf4aa6",
   "metadata": {},
   "outputs": [],
   "source": []
  }
 ],
 "metadata": {
  "kernelspec": {
   "display_name": "python3",
   "language": "python",
   "name": "python3"
  }
 },
 "nbformat": 4,
 "nbformat_minor": 5
}
