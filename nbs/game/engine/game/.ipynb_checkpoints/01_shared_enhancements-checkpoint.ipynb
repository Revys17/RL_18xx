{
 "cells": [
  {
   "cell_type": "code",
   "execution_count": null,
   "id": "e802b454-7b7f-44c4-9e98-273d929bd8c9",
   "metadata": {},
   "outputs": [],
   "source": [
    "# | default_exp game.engine.game.enhancements"
   ]
  },
  {
   "cell_type": "code",
   "execution_count": null,
   "id": "6afd2f46-2279-4048-8c26-716ec39ec838",
   "metadata": {},
   "outputs": [],
   "source": [
    "#| hide\n",
    "%load_ext lab_black"
   ]
  }
 ],
 "metadata": {
  "kernelspec": {
   "display_name": "Python 3 (ipykernel)",
   "language": "python",
   "name": "python3"
  },
  "language_info": {
   "codemirror_mode": {
    "name": "ipython",
    "version": 3
   },
   "file_extension": ".py",
   "mimetype": "text/x-python",
   "name": "python",
   "nbconvert_exporter": "python",
   "pygments_lexer": "ipython3",
   "version": "3.11.5"
  }
 },
 "nbformat": 4,
 "nbformat_minor": 5
}
