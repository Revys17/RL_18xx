{
 "cells": [
  {
   "cell_type": "code",
   "execution_count": null,
   "metadata": {},
   "outputs": [],
   "source": [
    "#| hide\n",
    "from rl18xx.core import *"
   ]
  },
  {
   "cell_type": "code",
   "execution_count": null,
   "metadata": {},
   "outputs": [],
   "source": []
  },
  {
   "cell_type": "markdown",
   "metadata": {},
   "source": [
    "# 18XX Reinforment Learning Agent (WIP)"
   ]
  },
  {
   "cell_type": "markdown",
   "metadata": {},
   "source": [
    "This repository contains the Python implementation of 1830 (converted from the original Ruby implementation in https://github.com/tobymao/18xx) and an agent for playing the game, trained by reinforment learning."
   ]
  },
  {
   "cell_type": "markdown",
   "metadata": {},
   "source": [
    "As of April 2024, this project is still under active development. The game engine implementation is complete (and is outlined below), but I am still doing research around the agent implementation."
   ]
  },
  {
   "cell_type": "markdown",
   "metadata": {},
   "source": [
    "## Install"
   ]
  },
  {
   "cell_type": "markdown",
   "metadata": {},
   "source": [
    "```sh\n",
    "pip install rl18xx\n",
    "```"
   ]
  },
  {
   "cell_type": "markdown",
   "metadata": {},
   "source": [
    "## How to use"
   ]
  },
  {
   "cell_type": "markdown",
   "metadata": {},
   "source": [
    "The Python game engine can be accessed under the rl18xx.game.engine module and currently only supports 1830. You can create an instance of your game using the following code:"
   ]
  },
  {
   "cell_type": "code",
   "execution_count": null,
   "metadata": {},
   "outputs": [],
   "source": [
    "from rl18xx.game.gamemap import GameMap\n",
    "\n",
    "game_map = GameMap()\n",
    "game = game_map.game_by_title(\"1830\")\n",
    "g = game({\"1\": \"Player 1\", \"2\": \"Player 2\", \"3\": \"Player 3\", \"4\": \"Player 4\"})"
   ]
  },
  {
   "cell_type": "markdown",
   "metadata": {},
   "source": [
    "There is also an ActionHelper class that can be used to find all valid actions at each point in the game using the following method:"
   ]
  },
  {
   "cell_type": "code",
   "execution_count": null,
   "metadata": {},
   "outputs": [
    {
     "data": {
      "text/plain": [
       "[Type: Bid, id: None, entity: Player - Player 1, company: <Company: SV>, price: 20,\n",
       " Type: Bid, id: None, entity: Player - Player 1, company: <Company: CS>, price: 45,\n",
       " Type: Bid, id: None, entity: Player - Player 1, company: <Company: CS>, price: 50,\n",
       " Type: Bid, id: None, entity: Player - Player 1, company: <Company: CS>, price: 55,\n",
       " Type: Bid, id: None, entity: Player - Player 1, company: <Company: CS>, price: 60,\n",
       " Type: Bid, id: None, entity: Player - Player 1, company: <Company: CS>, price: 65,\n",
       " Type: Bid, id: None, entity: Player - Player 1, company: <Company: CS>, price: 70,\n",
       " Type: Bid, id: None, entity: Player - Player 1, company: <Company: CS>, price: 75,\n",
       " Type: Bid, id: None, entity: Player - Player 1, company: <Company: CS>, price: 80,\n",
       " Type: Bid, id: None, entity: Player - Player 1, company: <Company: CS>, price: 85]"
      ]
     },
     "execution_count": null,
     "metadata": {},
     "output_type": "execute_result"
    }
   ],
   "source": [
    "from rl18xx.game.actionfinder import ActionHelper\n",
    "action_helper = ActionHelper(g)\n",
    "\n",
    "action_helper.get_all_choices()[:10]"
   ]
  },
  {
   "cell_type": "markdown",
   "metadata": {},
   "source": [
    "You can then perform that any action from that list by giving it to the game's `process_action` method:"
   ]
  },
  {
   "cell_type": "code",
   "execution_count": null,
   "metadata": {},
   "outputs": [
    {
     "data": {
      "text/plain": [
       "[Type: Bid, id: None, entity: Player - Player 2, company: <Company: CS>, price: 40,\n",
       " Type: Bid, id: None, entity: Player - Player 2, company: <Company: DH>, price: 75,\n",
       " Type: Bid, id: None, entity: Player - Player 2, company: <Company: DH>, price: 80,\n",
       " Type: Bid, id: None, entity: Player - Player 2, company: <Company: DH>, price: 85,\n",
       " Type: Bid, id: None, entity: Player - Player 2, company: <Company: DH>, price: 90,\n",
       " Type: Bid, id: None, entity: Player - Player 2, company: <Company: DH>, price: 95,\n",
       " Type: Bid, id: None, entity: Player - Player 2, company: <Company: DH>, price: 100,\n",
       " Type: Bid, id: None, entity: Player - Player 2, company: <Company: DH>, price: 105,\n",
       " Type: Bid, id: None, entity: Player - Player 2, company: <Company: DH>, price: 110,\n",
       " Type: Bid, id: None, entity: Player - Player 2, company: <Company: DH>, price: 115]"
      ]
     },
     "execution_count": null,
     "metadata": {},
     "output_type": "execute_result"
    }
   ],
   "source": [
    "g.process_action(action_helper.get_all_choices()[0])\n",
    "action_helper.get_all_choices()[:10]"
   ]
  },
  {
   "cell_type": "markdown",
   "metadata": {},
   "source": [
    "A full game walkthrough in this format can be seen in the 02_game_test.ipynb notebook under the `game` directory."
   ]
  },
  {
   "cell_type": "code",
   "execution_count": null,
   "metadata": {},
   "outputs": [],
   "source": []
  }
 ],
 "metadata": {
  "kernelspec": {
   "display_name": "python3",
   "language": "python",
   "name": "python3"
  }
 },
 "nbformat": 4,
 "nbformat_minor": 4
}
